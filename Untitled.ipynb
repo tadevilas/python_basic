{
 "cells": [
  {
   "cell_type": "code",
   "execution_count": 1,
   "id": "937f62f1",
   "metadata": {},
   "outputs": [],
   "source": [
    "import numpy as np"
   ]
  },
  {
   "cell_type": "code",
   "execution_count": 2,
   "id": "531606fa",
   "metadata": {},
   "outputs": [],
   "source": [
    "data = [23,24,32,45,12,43,67,745,32,56,32]"
   ]
  },
  {
   "cell_type": "code",
   "execution_count": 4,
   "id": "8c8bf395",
   "metadata": {},
   "outputs": [],
   "source": [
    "data.sort()"
   ]
  },
  {
   "cell_type": "code",
   "execution_count": 5,
   "id": "6654ea97",
   "metadata": {},
   "outputs": [
    {
     "data": {
      "text/plain": [
       "[12, 23, 24, 32, 32, 32, 43, 45, 56, 67, 745]"
      ]
     },
     "execution_count": 5,
     "metadata": {},
     "output_type": "execute_result"
    }
   ],
   "source": [
    "data"
   ]
  },
  {
   "cell_type": "code",
   "execution_count": 6,
   "id": "230f71cf",
   "metadata": {},
   "outputs": [
    {
     "data": {
      "text/plain": [
       "28.0"
      ]
     },
     "execution_count": 6,
     "metadata": {},
     "output_type": "execute_result"
    }
   ],
   "source": [
    "np.percentile(data,25)"
   ]
  },
  {
   "cell_type": "code",
   "execution_count": 7,
   "id": "1ed13165",
   "metadata": {},
   "outputs": [
    {
     "data": {
      "text/plain": [
       "array([ 28. ,  32. ,  50.5, 745. ])"
      ]
     },
     "execution_count": 7,
     "metadata": {},
     "output_type": "execute_result"
    }
   ],
   "source": [
    "np.percentile(data,[25, 50, 75, 100])"
   ]
  },
  {
   "cell_type": "code",
   "execution_count": 8,
   "id": "13dc1264",
   "metadata": {},
   "outputs": [],
   "source": [
    "iqr = 50.5 - 32\n"
   ]
  },
  {
   "cell_type": "code",
   "execution_count": 9,
   "id": "f74672d9",
   "metadata": {},
   "outputs": [],
   "source": [
    "upper_bond = 50.5 + 1.5* iqr"
   ]
  },
  {
   "cell_type": "code",
   "execution_count": 10,
   "id": "37b240fc",
   "metadata": {},
   "outputs": [
    {
     "data": {
      "text/plain": [
       "78.25"
      ]
     },
     "execution_count": 10,
     "metadata": {},
     "output_type": "execute_result"
    }
   ],
   "source": [
    "upper_bond"
   ]
  },
  {
   "cell_type": "code",
   "execution_count": 15,
   "id": "b2de6fb7",
   "metadata": {},
   "outputs": [],
   "source": [
    "class Person:\n",
    "    def __init__(self,name, age):\n",
    "        self.name = name\n",
    "        self.age = age\n",
    "        print('called itself')\n",
    "        "
   ]
  },
  {
   "cell_type": "code",
   "execution_count": 16,
   "id": "8eacaf0a",
   "metadata": {},
   "outputs": [
    {
     "name": "stdout",
     "output_type": "stream",
     "text": [
      "called itself\n"
     ]
    }
   ],
   "source": [
    "cl = Person('vilas', 28)"
   ]
  },
  {
   "cell_type": "code",
   "execution_count": 13,
   "id": "b1be0a54",
   "metadata": {},
   "outputs": [
    {
     "data": {
      "text/plain": [
       "28"
      ]
     },
     "execution_count": 13,
     "metadata": {},
     "output_type": "execute_result"
    }
   ],
   "source": [
    "cl.age"
   ]
  },
  {
   "cell_type": "code",
   "execution_count": 14,
   "id": "55c4055f",
   "metadata": {},
   "outputs": [
    {
     "data": {
      "text/plain": [
       "'vilas'"
      ]
     },
     "execution_count": 14,
     "metadata": {},
     "output_type": "execute_result"
    }
   ],
   "source": [
    "cl.name"
   ]
  },
  {
   "cell_type": "code",
   "execution_count": 17,
   "id": "bd99066f",
   "metadata": {},
   "outputs": [],
   "source": [
    "import math"
   ]
  },
  {
   "cell_type": "code",
   "execution_count": 18,
   "id": "b4717aef",
   "metadata": {},
   "outputs": [],
   "source": [
    "class Cir:\n",
    "    def __init__(self,r):\n",
    "        self.r = r\n",
    "        print(self.r)\n",
    "        \n",
    "    def cal_area(self):\n",
    "        area = math.pi * self.r **2\n",
    "        return area\n",
    "    def circum(self):\n",
    "        cir = math.pi * self.r * 2 \n",
    "        return cir\n",
    "    def disp(self):\n",
    "        print(area)\n",
    "        print(cir)"
   ]
  },
  {
   "cell_type": "code",
   "execution_count": 19,
   "id": "5a5a0fa7",
   "metadata": {},
   "outputs": [
    {
     "name": "stdout",
     "output_type": "stream",
     "text": [
      "10\n"
     ]
    }
   ],
   "source": [
    "test = Cir(10)"
   ]
  },
  {
   "cell_type": "code",
   "execution_count": 20,
   "id": "08656698",
   "metadata": {},
   "outputs": [
    {
     "data": {
      "text/plain": [
       "314.1592653589793"
      ]
     },
     "execution_count": 20,
     "metadata": {},
     "output_type": "execute_result"
    }
   ],
   "source": [
    "test.cal_area()"
   ]
  },
  {
   "cell_type": "code",
   "execution_count": 21,
   "id": "34091905",
   "metadata": {},
   "outputs": [
    {
     "data": {
      "text/plain": [
       "62.83185307179586"
      ]
     },
     "execution_count": 21,
     "metadata": {},
     "output_type": "execute_result"
    }
   ],
   "source": [
    "test.circum()"
   ]
  },
  {
   "cell_type": "code",
   "execution_count": 22,
   "id": "06dda5c8",
   "metadata": {},
   "outputs": [
    {
     "ename": "NameError",
     "evalue": "name 'area' is not defined",
     "output_type": "error",
     "traceback": [
      "\u001b[1;31m---------------------------------------------------------------------------\u001b[0m",
      "\u001b[1;31mNameError\u001b[0m                                 Traceback (most recent call last)",
      "\u001b[1;32m~\\AppData\\Local\\Temp/ipykernel_39316/1380765729.py\u001b[0m in \u001b[0;36m<module>\u001b[1;34m\u001b[0m\n\u001b[1;32m----> 1\u001b[1;33m \u001b[0mtest\u001b[0m\u001b[1;33m.\u001b[0m\u001b[0mdisp\u001b[0m\u001b[1;33m(\u001b[0m\u001b[1;33m)\u001b[0m\u001b[1;33m\u001b[0m\u001b[1;33m\u001b[0m\u001b[0m\n\u001b[0m",
      "\u001b[1;32m~\\AppData\\Local\\Temp/ipykernel_39316/1109600392.py\u001b[0m in \u001b[0;36mdisp\u001b[1;34m(self)\u001b[0m\n\u001b[0;32m     11\u001b[0m         \u001b[1;32mreturn\u001b[0m \u001b[0mcir\u001b[0m\u001b[1;33m\u001b[0m\u001b[1;33m\u001b[0m\u001b[0m\n\u001b[0;32m     12\u001b[0m     \u001b[1;32mdef\u001b[0m \u001b[0mdisp\u001b[0m\u001b[1;33m(\u001b[0m\u001b[0mself\u001b[0m\u001b[1;33m)\u001b[0m\u001b[1;33m:\u001b[0m\u001b[1;33m\u001b[0m\u001b[1;33m\u001b[0m\u001b[0m\n\u001b[1;32m---> 13\u001b[1;33m         \u001b[0mprint\u001b[0m\u001b[1;33m(\u001b[0m\u001b[0marea\u001b[0m\u001b[1;33m)\u001b[0m\u001b[1;33m\u001b[0m\u001b[1;33m\u001b[0m\u001b[0m\n\u001b[0m\u001b[0;32m     14\u001b[0m         \u001b[0mprint\u001b[0m\u001b[1;33m(\u001b[0m\u001b[0mcir\u001b[0m\u001b[1;33m)\u001b[0m\u001b[1;33m\u001b[0m\u001b[1;33m\u001b[0m\u001b[0m\n",
      "\u001b[1;31mNameError\u001b[0m: name 'area' is not defined"
     ]
    }
   ],
   "source": [
    "test.disp()"
   ]
  },
  {
   "cell_type": "code",
   "execution_count": 23,
   "id": "c57f7c25",
   "metadata": {},
   "outputs": [],
   "source": [
    "# repr function"
   ]
  },
  {
   "cell_type": "code",
   "execution_count": 29,
   "id": "6b0844d4",
   "metadata": {},
   "outputs": [],
   "source": [
    "class Emp:\n",
    "    def __init__(self):\n",
    "        print('hi')\n",
    "        \n",
    "    def __repr__(self):\n",
    "        return 'printing from repr fun'"
   ]
  },
  {
   "cell_type": "code",
   "execution_count": 30,
   "id": "d7e7884c",
   "metadata": {},
   "outputs": [
    {
     "name": "stdout",
     "output_type": "stream",
     "text": [
      "hi\n"
     ]
    }
   ],
   "source": [
    "e = Emp()"
   ]
  },
  {
   "cell_type": "code",
   "execution_count": 31,
   "id": "82034483",
   "metadata": {},
   "outputs": [
    {
     "data": {
      "text/plain": [
       "printing from repr fun"
      ]
     },
     "execution_count": 31,
     "metadata": {},
     "output_type": "execute_result"
    }
   ],
   "source": [
    "e"
   ]
  },
  {
   "cell_type": "code",
   "execution_count": 102,
   "id": "69faad2b",
   "metadata": {},
   "outputs": [
    {
     "data": {
      "text/plain": [
       "[2, 3, 5, 7, 11]"
      ]
     },
     "execution_count": 102,
     "metadata": {},
     "output_type": "execute_result"
    }
   ],
   "source": [
    "odd = []\n",
    "even = []\n",
    "prime = []\n",
    "x = [1,2,3,4,5,6,7,8,9,10,11]\n",
    "\n",
    "for i in x:\n",
    "    flag=0\n",
    "    if i % 2 == 0:\n",
    "        even.append(i)\n",
    "    else:\n",
    "        odd.append(i)\n",
    "    if i>1:\n",
    "        for j in range(2, i):\n",
    "            if i % j == 0:\n",
    "                flag=1\n",
    "                break\n",
    "        if flag==0:       \n",
    "            prime.append(i)  \n",
    "prime        "
   ]
  },
  {
   "cell_type": "code",
   "execution_count": 103,
   "id": "dfe5b74b",
   "metadata": {},
   "outputs": [
    {
     "data": {
      "text/plain": [
       "[1, 3, 5, 7, 9, 11]"
      ]
     },
     "execution_count": 103,
     "metadata": {},
     "output_type": "execute_result"
    }
   ],
   "source": [
    "odd"
   ]
  },
  {
   "cell_type": "code",
   "execution_count": 104,
   "id": "7b7bdcb0",
   "metadata": {},
   "outputs": [
    {
     "data": {
      "text/plain": [
       "[2, 4, 6, 8, 10]"
      ]
     },
     "execution_count": 104,
     "metadata": {},
     "output_type": "execute_result"
    }
   ],
   "source": [
    "even"
   ]
  },
  {
   "cell_type": "code",
   "execution_count": null,
   "id": "4cf2cc45",
   "metadata": {},
   "outputs": [],
   "source": []
  },
  {
   "cell_type": "code",
   "execution_count": 41,
   "id": "af529a0a",
   "metadata": {},
   "outputs": [
    {
     "name": "stdout",
     "output_type": "stream",
     "text": [
      "yes\n",
      "no\n",
      "3\n",
      "yes\n"
     ]
    }
   ],
   "source": [
    "for i in range(2, 4+1):\n",
    "    if 4 % i == 0:\n",
    "        print('yes')\n",
    "    else:\n",
    "        print('no')\n",
    "        print(i)"
   ]
  },
  {
   "cell_type": "code",
   "execution_count": 9,
   "id": "5059832a",
   "metadata": {},
   "outputs": [],
   "source": [
    "s = 'My name is vilas tade'"
   ]
  },
  {
   "cell_type": "code",
   "execution_count": 10,
   "id": "fd6abe29",
   "metadata": {},
   "outputs": [
    {
     "data": {
      "text/plain": [
       "'My name is vilas tade'"
      ]
     },
     "execution_count": 10,
     "metadata": {},
     "output_type": "execute_result"
    }
   ],
   "source": [
    "s"
   ]
  },
  {
   "cell_type": "code",
   "execution_count": 14,
   "id": "93f4f64c",
   "metadata": {},
   "outputs": [],
   "source": [
    "ls = s.split(\" \")"
   ]
  },
  {
   "cell_type": "code",
   "execution_count": 25,
   "id": "dd9d76ed",
   "metadata": {},
   "outputs": [],
   "source": [
    "rev = []\n",
    "for i in range(1,len(ls), -1):\n",
    "    print(i) #rev.append(ls[i])"
   ]
  },
  {
   "cell_type": "code",
   "execution_count": 22,
   "id": "77a64156",
   "metadata": {},
   "outputs": [
    {
     "data": {
      "text/plain": [
       "['My', 'name', 'is', 'vilas', 'tade']"
      ]
     },
     "execution_count": 22,
     "metadata": {},
     "output_type": "execute_result"
    }
   ],
   "source": [
    "ls"
   ]
  },
  {
   "cell_type": "code",
   "execution_count": 23,
   "id": "b7937d62",
   "metadata": {},
   "outputs": [
    {
     "data": {
      "text/plain": [
       "range(1, 5, -1)"
      ]
     },
     "execution_count": 23,
     "metadata": {},
     "output_type": "execute_result"
    }
   ],
   "source": [
    "range(1,len(ls), -1)"
   ]
  },
  {
   "cell_type": "code",
   "execution_count": 2,
   "id": "b5001483",
   "metadata": {},
   "outputs": [],
   "source": [
    "import subprocess\n",
    "import win32com.client\n",
    "\n",
    "\n",
    "def run_com_server():\n",
    "    subprocess.Popen(r'C:\\Program Files\\UniPlot\\Program\\usserv32.exe')\n",
    "    print(\"COM Server process started\")\n",
    "    \n",
    "    \n",
    "def main():\n",
    "    run_com_server()\n",
    "\n",
    "    try:\n",
    "        com_object = win32com.client.Dispatch(\"Uniplot.Application\")\n",
    "        result = com_object.SomeMethod()\n",
    "        print(\"COM Method result:\", result)\n",
    "    except Exception as e:\n",
    "        print(\"Error:\", e)\n",
    "\n",
    "if __name__ == \"__main__\":\n",
    "    main()"
   ]
  },
  {
   "cell_type": "code",
   "execution_count": 4,
   "id": "02dad788",
   "metadata": {},
   "outputs": [],
   "source": [
    "def run_com_server():\n",
    "    subprocess.Popen(r'C:\\Program Files\\UniPlot\\Program\\usserv32.exe')\n",
    "    print(\"COM Server process started\")\n",
    "\n"
   ]
  },
  {
   "cell_type": "code",
   "execution_count": 8,
   "id": "71960af8",
   "metadata": {},
   "outputs": [
    {
     "name": "stdout",
     "output_type": "stream",
     "text": [
      "COM Server process started\n",
      "Error: Uniplot.Application.SomeMethod\n"
     ]
    }
   ],
   "source": [
    "def main():\n",
    "    run_com_server()\n",
    "\n",
    "    try:\n",
    "        com_object = win32com.client.Dispatch(\"Uniplot.Application\")\n",
    "        result = com_object.SomeMethod()\n",
    "        print(\"COM Method result:\", result)\n",
    "    except Exception as e:\n",
    "        print(\"Error:\", e)\n",
    "\n",
    "if __name__ == \"__main__\":\n",
    "    main()"
   ]
  },
  {
   "cell_type": "code",
   "execution_count": 5,
   "id": "54a78918",
   "metadata": {},
   "outputs": [
    {
     "name": "stdout",
     "output_type": "stream",
     "text": [
      "COM Server process started\n"
     ]
    }
   ],
   "source": [
    "run_com_server()"
   ]
  },
  {
   "cell_type": "code",
   "execution_count": 9,
   "id": "ddb014d8",
   "metadata": {},
   "outputs": [
    {
     "ename": "AttributeError",
     "evalue": "Uniplot.Application.SomeMethod",
     "output_type": "error",
     "traceback": [
      "\u001b[1;31m---------------------------------------------------------------------------\u001b[0m",
      "\u001b[1;31mAttributeError\u001b[0m                            Traceback (most recent call last)",
      "\u001b[1;32m~\\AppData\\Local\\Temp/ipykernel_24436/3115460460.py\u001b[0m in \u001b[0;36m<module>\u001b[1;34m\u001b[0m\n\u001b[0;32m      8\u001b[0m \u001b[1;33m\u001b[0m\u001b[0m\n\u001b[0;32m      9\u001b[0m \u001b[1;32mif\u001b[0m \u001b[0m__name__\u001b[0m \u001b[1;33m==\u001b[0m \u001b[1;34m\"__main__\"\u001b[0m\u001b[1;33m:\u001b[0m\u001b[1;33m\u001b[0m\u001b[1;33m\u001b[0m\u001b[0m\n\u001b[1;32m---> 10\u001b[1;33m     \u001b[0mmain\u001b[0m\u001b[1;33m(\u001b[0m\u001b[1;33m)\u001b[0m\u001b[1;33m\u001b[0m\u001b[1;33m\u001b[0m\u001b[0m\n\u001b[0m",
      "\u001b[1;32m~\\AppData\\Local\\Temp/ipykernel_24436/3115460460.py\u001b[0m in \u001b[0;36mmain\u001b[1;34m()\u001b[0m\n\u001b[0;32m      4\u001b[0m \u001b[1;33m\u001b[0m\u001b[0m\n\u001b[0;32m      5\u001b[0m     \u001b[1;31m# Call methods or access properties on the COM server\u001b[0m\u001b[1;33m\u001b[0m\u001b[1;33m\u001b[0m\u001b[0m\n\u001b[1;32m----> 6\u001b[1;33m     \u001b[0mresult\u001b[0m \u001b[1;33m=\u001b[0m \u001b[0mcom_server\u001b[0m\u001b[1;33m.\u001b[0m\u001b[0mSomeMethod\u001b[0m\u001b[1;33m(\u001b[0m\u001b[1;33m)\u001b[0m\u001b[1;33m\u001b[0m\u001b[1;33m\u001b[0m\u001b[0m\n\u001b[0m\u001b[0;32m      7\u001b[0m     \u001b[0mprint\u001b[0m\u001b[1;33m(\u001b[0m\u001b[1;34m\"COM Method result:\"\u001b[0m\u001b[1;33m,\u001b[0m \u001b[0mresult\u001b[0m\u001b[1;33m)\u001b[0m\u001b[1;33m\u001b[0m\u001b[1;33m\u001b[0m\u001b[0m\n\u001b[0;32m      8\u001b[0m \u001b[1;33m\u001b[0m\u001b[0m\n",
      "\u001b[1;32m~\\Anaconda3\\lib\\site-packages\\win32com\\client\\dynamic.py\u001b[0m in \u001b[0;36m__getattr__\u001b[1;34m(self, attr)\u001b[0m\n\u001b[0;32m    525\u001b[0m \u001b[1;33m\u001b[0m\u001b[0m\n\u001b[0;32m    526\u001b[0m                 \u001b[1;31m# no where else to look.\u001b[0m\u001b[1;33m\u001b[0m\u001b[1;33m\u001b[0m\u001b[0m\n\u001b[1;32m--> 527\u001b[1;33m                 \u001b[1;32mraise\u001b[0m \u001b[0mAttributeError\u001b[0m\u001b[1;33m(\u001b[0m\u001b[1;34m\"%s.%s\"\u001b[0m \u001b[1;33m%\u001b[0m \u001b[1;33m(\u001b[0m\u001b[0mself\u001b[0m\u001b[1;33m.\u001b[0m\u001b[0m_username_\u001b[0m\u001b[1;33m,\u001b[0m \u001b[0mattr\u001b[0m\u001b[1;33m)\u001b[0m\u001b[1;33m)\u001b[0m\u001b[1;33m\u001b[0m\u001b[1;33m\u001b[0m\u001b[0m\n\u001b[0m\u001b[0;32m    528\u001b[0m \u001b[1;33m\u001b[0m\u001b[0m\n\u001b[0;32m    529\u001b[0m         \u001b[1;32mdef\u001b[0m \u001b[0m__setattr__\u001b[0m\u001b[1;33m(\u001b[0m\u001b[0mself\u001b[0m\u001b[1;33m,\u001b[0m \u001b[0mattr\u001b[0m\u001b[1;33m,\u001b[0m \u001b[0mvalue\u001b[0m\u001b[1;33m)\u001b[0m\u001b[1;33m:\u001b[0m\u001b[1;33m\u001b[0m\u001b[1;33m\u001b[0m\u001b[0m\n",
      "\u001b[1;31mAttributeError\u001b[0m: Uniplot.Application.SomeMethod"
     ]
    }
   ],
   "source": [
    "def main():\n",
    "    # Connect to the out-of-process COM server using DCOM\n",
    "    com_server = win32com.client.Dispatch(\"Uniplot.Application\")\n",
    "\n",
    "    # Call methods or access properties on the COM server\n",
    "    result = com_server.SomeMethod()\n",
    "    print(\"COM Method result:\", result)\n",
    "\n",
    "if __name__ == \"__main__\":\n",
    "    main()"
   ]
  },
  {
   "cell_type": "code",
   "execution_count": null,
   "id": "9d54a5d6",
   "metadata": {},
   "outputs": [],
   "source": []
  }
 ],
 "metadata": {
  "kernelspec": {
   "display_name": "Python 3 (ipykernel)",
   "language": "python",
   "name": "python3"
  },
  "language_info": {
   "codemirror_mode": {
    "name": "ipython",
    "version": 3
   },
   "file_extension": ".py",
   "mimetype": "text/x-python",
   "name": "python",
   "nbconvert_exporter": "python",
   "pygments_lexer": "ipython3",
   "version": "3.9.7"
  }
 },
 "nbformat": 4,
 "nbformat_minor": 5
}
