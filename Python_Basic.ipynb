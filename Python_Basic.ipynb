{
 "cells": [
  {
   "cell_type": "markdown",
   "id": "1cea3923",
   "metadata": {},
   "source": [
    "# Python Basic"
   ]
  },
  {
   "cell_type": "code",
   "execution_count": 1,
   "id": "db7aee2d",
   "metadata": {},
   "outputs": [
    {
     "name": "stdout",
     "output_type": "stream",
     "text": [
      "Hello Word\n"
     ]
    }
   ],
   "source": [
    "print('Hello Word')"
   ]
  },
  {
   "cell_type": "code",
   "execution_count": 2,
   "id": "61e902bf",
   "metadata": {},
   "outputs": [],
   "source": [
    "# assigning the values to variable\n",
    "a = 10\n",
    "b = 20"
   ]
  },
  {
   "cell_type": "code",
   "execution_count": 3,
   "id": "e1afecbe",
   "metadata": {},
   "outputs": [
    {
     "name": "stdout",
     "output_type": "stream",
     "text": [
      "10\n",
      "20\n"
     ]
    }
   ],
   "source": [
    "print(a)\n",
    "print(b)"
   ]
  },
  {
   "cell_type": "code",
   "execution_count": 4,
   "id": "109bfe32",
   "metadata": {},
   "outputs": [
    {
     "name": "stdout",
     "output_type": "stream",
     "text": [
      "10 20\n"
     ]
    }
   ],
   "source": [
    "print(a, end= ' ')\n",
    "print(b)"
   ]
  },
  {
   "cell_type": "code",
   "execution_count": 5,
   "id": "3f6fe24b",
   "metadata": {},
   "outputs": [],
   "source": [
    "b,a = a,b"
   ]
  },
  {
   "cell_type": "code",
   "execution_count": 6,
   "id": "4222121c",
   "metadata": {},
   "outputs": [
    {
     "name": "stdout",
     "output_type": "stream",
     "text": [
      "20 10\n"
     ]
    }
   ],
   "source": [
    "print(a, end= ' ')\n",
    "print(b)"
   ]
  },
  {
   "cell_type": "code",
   "execution_count": 7,
   "id": "e4723357",
   "metadata": {},
   "outputs": [
    {
     "name": "stdout",
     "output_type": "stream",
     "text": [
      "20 10\n"
     ]
    }
   ],
   "source": [
    "print(a,b)"
   ]
  },
  {
   "cell_type": "code",
   "execution_count": 8,
   "id": "d2a4dac5",
   "metadata": {},
   "outputs": [
    {
     "name": "stdout",
     "output_type": "stream",
     "text": [
      "20\t10\b10\n"
     ]
    }
   ],
   "source": [
    "c= 10\n",
    "print(a, end = '\\t')\n",
    "print(b, end = '\\b')\n",
    "print(c)"
   ]
  },
  {
   "cell_type": "code",
   "execution_count": 9,
   "id": "dd54b1a6",
   "metadata": {},
   "outputs": [
    {
     "name": "stdout",
     "output_type": "stream",
     "text": [
      "20,10\n"
     ]
    }
   ],
   "source": [
    "print(a, b, sep = ',')"
   ]
  },
  {
   "cell_type": "code",
   "execution_count": 10,
   "id": "083269cb",
   "metadata": {},
   "outputs": [
    {
     "data": {
      "text/plain": [
       "10"
      ]
     },
     "execution_count": 10,
     "metadata": {},
     "output_type": "execute_result"
    }
   ],
   "source": [
    "# we can assing a value to _ , a-zA-Z but not to number, if, else, fun, etc and special charecter\n",
    "# i.e. 10 = 100 gives the SyntaxError: cannot assign to literal here.\n",
    "_ = 10\n",
    "_"
   ]
  },
  {
   "cell_type": "code",
   "execution_count": 11,
   "id": "9fbce6f5",
   "metadata": {},
   "outputs": [
    {
     "data": {
      "text/plain": [
       "30"
      ]
     },
     "execution_count": 11,
     "metadata": {},
     "output_type": "execute_result"
    }
   ],
   "source": [
    "_a = 10\n",
    "_b = 20\n",
    "c = _a + _b\n",
    "c"
   ]
  },
  {
   "cell_type": "code",
   "execution_count": 12,
   "id": "517760e6",
   "metadata": {},
   "outputs": [
    {
     "ename": "SyntaxError",
     "evalue": "invalid syntax (Temp/ipykernel_28312/1191014641.py, line 2)",
     "output_type": "error",
     "traceback": [
      "\u001b[1;36m  File \u001b[1;32m\"C:\\Users\\e105301\\AppData\\Local\\Temp/ipykernel_28312/1191014641.py\"\u001b[1;36m, line \u001b[1;32m2\u001b[0m\n\u001b[1;33m    if = 1\u001b[0m\n\u001b[1;37m       ^\u001b[0m\n\u001b[1;31mSyntaxError\u001b[0m\u001b[1;31m:\u001b[0m invalid syntax\n"
     ]
    }
   ],
   "source": [
    "# can not use the pre defined char as variable\n",
    "if = 1"
   ]
  },
  {
   "cell_type": "code",
   "execution_count": 14,
   "id": "955af709",
   "metadata": {},
   "outputs": [],
   "source": [
    "# accept input from user\n",
    "# input method give the output as string"
   ]
  },
  {
   "cell_type": "code",
   "execution_count": 15,
   "id": "917da69c",
   "metadata": {},
   "outputs": [
    {
     "name": "stdout",
     "output_type": "stream",
     "text": [
      "Enter the number: 1\n",
      "1\n"
     ]
    }
   ],
   "source": [
    "a = input('Enter the number: ')\n",
    "print(a)"
   ]
  },
  {
   "cell_type": "code",
   "execution_count": 16,
   "id": "ab6a5bfb",
   "metadata": {},
   "outputs": [
    {
     "data": {
      "text/plain": [
       "'1'"
      ]
     },
     "execution_count": 16,
     "metadata": {},
     "output_type": "execute_result"
    }
   ],
   "source": [
    "a"
   ]
  },
  {
   "cell_type": "markdown",
   "id": "d029800f",
   "metadata": {},
   "source": [
    "# Python Data Type."
   ]
  },
  {
   "cell_type": "raw",
   "id": "5cf5a51a",
   "metadata": {},
   "source": [
    "1. Numeric : int, float, complex\n",
    "2. Boolen : bool\n",
    "3. Sequence : str, list, bytes, bytearray, tuple, range\n",
    "4. Set : set, froznset\n",
    "5. Mapping : Dict\n",
    "6. None: None type"
   ]
  },
  {
   "cell_type": "raw",
   "id": "e6f495b4",
   "metadata": {},
   "source": [
    "# 1 byte = 8 bit (0|1)\n",
    "# 1 kb = 1024 byte\n",
    "# 1 mb = 1024 kb\n",
    "# 1 gb = 1024 mb\n",
    "# 1 tb = 1024 bg"
   ]
  },
  {
   "cell_type": "markdown",
   "id": "8f5118aa",
   "metadata": {},
   "source": [
    "# Bool"
   ]
  },
  {
   "cell_type": "code",
   "execution_count": 17,
   "id": "76f3a961",
   "metadata": {},
   "outputs": [],
   "source": [
    "a = False"
   ]
  },
  {
   "cell_type": "code",
   "execution_count": 18,
   "id": "a028c9b9",
   "metadata": {},
   "outputs": [
    {
     "data": {
      "text/plain": [
       "bool"
      ]
     },
     "execution_count": 18,
     "metadata": {},
     "output_type": "execute_result"
    }
   ],
   "source": [
    "type(a)"
   ]
  },
  {
   "cell_type": "code",
   "execution_count": 19,
   "id": "3937fde7",
   "metadata": {},
   "outputs": [
    {
     "data": {
      "text/plain": [
       "False"
      ]
     },
     "execution_count": 19,
     "metadata": {},
     "output_type": "execute_result"
    }
   ],
   "source": [
    "3 > 4"
   ]
  },
  {
   "cell_type": "code",
   "execution_count": 20,
   "id": "a4bbc3f3",
   "metadata": {},
   "outputs": [
    {
     "data": {
      "text/plain": [
       "True"
      ]
     },
     "execution_count": 20,
     "metadata": {},
     "output_type": "execute_result"
    }
   ],
   "source": [
    "3 < 4"
   ]
  },
  {
   "cell_type": "markdown",
   "id": "5d4c1219",
   "metadata": {},
   "source": [
    "# String"
   ]
  },
  {
   "cell_type": "code",
   "execution_count": 21,
   "id": "06219a33",
   "metadata": {},
   "outputs": [
    {
     "data": {
      "text/plain": [
       "'a'"
      ]
     },
     "execution_count": 21,
     "metadata": {},
     "output_type": "execute_result"
    }
   ],
   "source": [
    "a = 'a'\n",
    "a"
   ]
  },
  {
   "cell_type": "code",
   "execution_count": 22,
   "id": "7378454f",
   "metadata": {},
   "outputs": [
    {
     "data": {
      "text/plain": [
       "str"
      ]
     },
     "execution_count": 22,
     "metadata": {},
     "output_type": "execute_result"
    }
   ],
   "source": [
    "type(a)"
   ]
  },
  {
   "cell_type": "code",
   "execution_count": 23,
   "id": "5f775509",
   "metadata": {},
   "outputs": [],
   "source": [
    "name = 'vilas'"
   ]
  },
  {
   "cell_type": "code",
   "execution_count": 24,
   "id": "a173d526",
   "metadata": {},
   "outputs": [
    {
     "data": {
      "text/plain": [
       "str"
      ]
     },
     "execution_count": 24,
     "metadata": {},
     "output_type": "execute_result"
    }
   ],
   "source": [
    "type(name)"
   ]
  },
  {
   "cell_type": "code",
   "execution_count": 25,
   "id": "fe8da1d9",
   "metadata": {},
   "outputs": [
    {
     "data": {
      "text/plain": [
       "'A'"
      ]
     },
     "execution_count": 25,
     "metadata": {},
     "output_type": "execute_result"
    }
   ],
   "source": [
    "chr(65)"
   ]
  },
  {
   "cell_type": "code",
   "execution_count": 26,
   "id": "1c95310b",
   "metadata": {},
   "outputs": [
    {
     "data": {
      "text/plain": [
       "\"that's is good code\""
      ]
     },
     "execution_count": 26,
     "metadata": {},
     "output_type": "execute_result"
    }
   ],
   "source": [
    "# print >>>>>>>>>>\"that's is good code\"\n",
    "msg = \"that's is good code\"\n",
    "msg"
   ]
  },
  {
   "cell_type": "code",
   "execution_count": 27,
   "id": "3ea16c07",
   "metadata": {},
   "outputs": [
    {
     "data": {
      "text/plain": [
       "'that\"s is good code'"
      ]
     },
     "execution_count": 27,
     "metadata": {},
     "output_type": "execute_result"
    }
   ],
   "source": [
    "msg = 'that\"s is good code'\n",
    "msg"
   ]
  },
  {
   "cell_type": "code",
   "execution_count": 28,
   "id": "b87ccecb",
   "metadata": {},
   "outputs": [
    {
     "name": "stdout",
     "output_type": "stream",
     "text": [
      "that's is \"good\" code\n"
     ]
    }
   ],
   "source": [
    "msg = '''that's is \"good\" code'''\n",
    "print(msg)"
   ]
  },
  {
   "cell_type": "code",
   "execution_count": 29,
   "id": "5697fd58",
   "metadata": {},
   "outputs": [
    {
     "name": "stdout",
     "output_type": "stream",
     "text": [
      "\n",
      "my\n",
      "name \n",
      "is \n",
      "python\n",
      "\n"
     ]
    }
   ],
   "source": [
    "# multilne strign\n",
    "msg = '''\n",
    "my\n",
    "name \n",
    "is \n",
    "python\n",
    "'''\n",
    "print(msg)"
   ]
  },
  {
   "cell_type": "code",
   "execution_count": 30,
   "id": "be838907",
   "metadata": {},
   "outputs": [
    {
     "name": "stdout",
     "output_type": "stream",
     "text": [
      "Enter the num1: 10\n",
      "Enter the num2: 2\n",
      "The subtraction is: 8\n"
     ]
    }
   ],
   "source": [
    "# q... WAP take two input from user and subtract it\n",
    "\n",
    "num1 = int(input('Enter the num1: '))\n",
    "num2 = int(input('Enter the num2: '))\n",
    "\n",
    "print('The subtraction is:',num1-num2)"
   ]
  },
  {
   "cell_type": "markdown",
   "id": "9d34d9bc",
   "metadata": {},
   "source": [
    "# Slicing and Operator"
   ]
  },
  {
   "cell_type": "code",
   "execution_count": 31,
   "id": "cdc1cdc6",
   "metadata": {},
   "outputs": [],
   "source": [
    "# in python indexing start from 0, 1, 2, .... left to right\n",
    "# -1, -2, -3, ...... right to left\n",
    "x = 'python'"
   ]
  },
  {
   "cell_type": "code",
   "execution_count": 32,
   "id": "33ca65b5",
   "metadata": {},
   "outputs": [
    {
     "data": {
      "text/plain": [
       "'nohtyp'"
      ]
     },
     "execution_count": 32,
     "metadata": {},
     "output_type": "execute_result"
    }
   ],
   "source": [
    "# print >>>>>> x in revers order\n",
    "x[::-1]"
   ]
  },
  {
   "cell_type": "code",
   "execution_count": 33,
   "id": "853b8a48",
   "metadata": {},
   "outputs": [
    {
     "data": {
      "text/plain": [
       "'on'"
      ]
     },
     "execution_count": 33,
     "metadata": {},
     "output_type": "execute_result"
    }
   ],
   "source": [
    "# print 'on'\n",
    "x[4:]"
   ]
  },
  {
   "cell_type": "code",
   "execution_count": 34,
   "id": "5d47cc22",
   "metadata": {},
   "outputs": [
    {
     "data": {
      "text/plain": [
       "'o'"
      ]
     },
     "execution_count": 34,
     "metadata": {},
     "output_type": "execute_result"
    }
   ],
   "source": [
    "# it exclude the last element\n",
    "x[4:5]"
   ]
  },
  {
   "cell_type": "code",
   "execution_count": 35,
   "id": "28f8724e",
   "metadata": {},
   "outputs": [
    {
     "data": {
      "text/plain": [
       "'on'"
      ]
     },
     "execution_count": 35,
     "metadata": {},
     "output_type": "execute_result"
    }
   ],
   "source": [
    "x[-2:]"
   ]
  },
  {
   "cell_type": "code",
   "execution_count": 36,
   "id": "8190dd3a",
   "metadata": {},
   "outputs": [
    {
     "data": {
      "text/plain": [
       "''"
      ]
     },
     "execution_count": 36,
     "metadata": {},
     "output_type": "execute_result"
    }
   ],
   "source": [
    "# \n",
    "x[6:10]"
   ]
  },
  {
   "cell_type": "code",
   "execution_count": 37,
   "id": "c44b869f",
   "metadata": {},
   "outputs": [
    {
     "data": {
      "text/plain": [
       "''"
      ]
     },
     "execution_count": 37,
     "metadata": {},
     "output_type": "execute_result"
    }
   ],
   "source": [
    "x[4:4]"
   ]
  },
  {
   "cell_type": "code",
   "execution_count": 38,
   "id": "3bf45bc8",
   "metadata": {},
   "outputs": [],
   "source": [
    "# string concatination"
   ]
  },
  {
   "cell_type": "code",
   "execution_count": 39,
   "id": "58a3f8d1",
   "metadata": {},
   "outputs": [],
   "source": [
    "name_1 = 'Python'\n",
    "name_2 = 'code'"
   ]
  },
  {
   "cell_type": "code",
   "execution_count": 40,
   "id": "fde3ba27",
   "metadata": {},
   "outputs": [
    {
     "data": {
      "text/plain": [
       "'Pythoncode'"
      ]
     },
     "execution_count": 40,
     "metadata": {},
     "output_type": "execute_result"
    }
   ],
   "source": [
    "name_1 + name_2"
   ]
  },
  {
   "cell_type": "code",
   "execution_count": 42,
   "id": "78b6f1d8",
   "metadata": {},
   "outputs": [
    {
     "data": {
      "text/plain": [
       "'Python code'"
      ]
     },
     "execution_count": 42,
     "metadata": {},
     "output_type": "execute_result"
    }
   ],
   "source": [
    "name_1 + ' ' + name_2"
   ]
  },
  {
   "cell_type": "code",
   "execution_count": 45,
   "id": "ceb1f529",
   "metadata": {},
   "outputs": [
    {
     "data": {
      "text/plain": [
       "'PythonPython'"
      ]
     },
     "execution_count": 45,
     "metadata": {},
     "output_type": "execute_result"
    }
   ],
   "source": [
    "name_1 *2"
   ]
  },
  {
   "cell_type": "code",
   "execution_count": 49,
   "id": "6ca7900b",
   "metadata": {},
   "outputs": [
    {
     "data": {
      "text/plain": [
       "'Pythoncode'"
      ]
     },
     "execution_count": 49,
     "metadata": {},
     "output_type": "execute_result"
    }
   ],
   "source": [
    "tmp_name = name_1 + name_2\n",
    "tmp_name\n"
   ]
  },
  {
   "cell_type": "code",
   "execution_count": 47,
   "id": "a90723c9",
   "metadata": {},
   "outputs": [
    {
     "data": {
      "text/plain": [
       "10"
      ]
     },
     "execution_count": 47,
     "metadata": {},
     "output_type": "execute_result"
    }
   ],
   "source": [
    "len(tmp_name)"
   ]
  },
  {
   "cell_type": "code",
   "execution_count": 48,
   "id": "0c8a50c8",
   "metadata": {},
   "outputs": [
    {
     "data": {
      "text/plain": [
       "'Ptocd'"
      ]
     },
     "execution_count": 48,
     "metadata": {},
     "output_type": "execute_result"
    }
   ],
   "source": [
    "# printing the string with steps\n",
    "tmp_name[0:10:2] # step with 2"
   ]
  },
  {
   "cell_type": "code",
   "execution_count": 50,
   "id": "6bf9ab4f",
   "metadata": {},
   "outputs": [
    {
     "data": {
      "text/plain": [
       "'Pythoncod'"
      ]
     },
     "execution_count": 50,
     "metadata": {},
     "output_type": "execute_result"
    }
   ],
   "source": [
    "tmp_name[-10:-1:1]"
   ]
  },
  {
   "cell_type": "code",
   "execution_count": 51,
   "id": "19ad7411",
   "metadata": {},
   "outputs": [
    {
     "data": {
      "text/plain": [
       "'Ptocd'"
      ]
     },
     "execution_count": 51,
     "metadata": {},
     "output_type": "execute_result"
    }
   ],
   "source": [
    "tmp_name[-10:-1:2]"
   ]
  },
  {
   "cell_type": "code",
   "execution_count": 52,
   "id": "15773106",
   "metadata": {},
   "outputs": [
    {
     "data": {
      "text/plain": [
       "'edocnohtyP'"
      ]
     },
     "execution_count": 52,
     "metadata": {},
     "output_type": "execute_result"
    }
   ],
   "source": [
    "# reversing the string\n",
    "tmp_name[::-1]"
   ]
  },
  {
   "cell_type": "code",
   "execution_count": 54,
   "id": "0a809c63",
   "metadata": {},
   "outputs": [
    {
     "data": {
      "text/plain": [
       "'edocnohtyP'"
      ]
     },
     "execution_count": 54,
     "metadata": {},
     "output_type": "execute_result"
    }
   ],
   "source": [
    "tmp_name[-1:-11:-1]"
   ]
  },
  {
   "cell_type": "code",
   "execution_count": 55,
   "id": "677ee456",
   "metadata": {},
   "outputs": [
    {
     "data": {
      "text/plain": [
       "'eonhy'"
      ]
     },
     "execution_count": 55,
     "metadata": {},
     "output_type": "execute_result"
    }
   ],
   "source": [
    "# revers string with step size 2\n",
    "tmp_name[-1:-11:-2]"
   ]
  },
  {
   "cell_type": "markdown",
   "id": "1aafc820",
   "metadata": {},
   "source": [
    "# Operators"
   ]
  },
  {
   "cell_type": "raw",
   "id": "c41ef9dd",
   "metadata": {},
   "source": [
    "Arithmetic operators\n",
    "Assignment operators\n",
    "Comparison operators\n",
    "Logical operators\n",
    "Identity operators\n",
    "Membership operators\n",
    "Bitwise operators"
   ]
  },
  {
   "cell_type": "markdown",
   "id": "bd4aebb0",
   "metadata": {},
   "source": [
    "# Arithmetic operators"
   ]
  },
  {
   "cell_type": "raw",
   "id": "d21e3b80",
   "metadata": {},
   "source": [
    "## Arithmetic operators are used with numeric values to perform common          mathematical operations:\n",
    "+\tAddition\tx + y\n",
    "-\tSubtraction\tx - y\n",
    "*\tMultiplication\tx * y\n",
    "/\tDivision\tx / y\n",
    "%\tModulus x % y\n",
    "**\tExponentiation\tx ** y\n",
    "//\tFloor division\tx // y"
   ]
  },
  {
   "cell_type": "code",
   "execution_count": 66,
   "id": "be782e58",
   "metadata": {},
   "outputs": [],
   "source": [
    "a = 10\n",
    "b = 5"
   ]
  },
  {
   "cell_type": "code",
   "execution_count": 77,
   "id": "735f0978",
   "metadata": {},
   "outputs": [
    {
     "data": {
      "text/plain": [
       "15"
      ]
     },
     "execution_count": 77,
     "metadata": {},
     "output_type": "execute_result"
    },
    {
     "name": "stderr",
     "output_type": "stream",
     "text": [
      "Backing off send_request(...) for 8.0s (requests.exceptions.ConnectTimeout: HTTPSConnectionPool(host='api.segment.io', port=443): Max retries exceeded with url: /v1/batch (Caused by ConnectTimeoutError(<urllib3.connection.HTTPSConnection object at 0x00000158CF9C6BB0>, 'Connection to api.segment.io timed out. (connect timeout=15)')))\n"
     ]
    }
   ],
   "source": [
    "# Addition\tx + y\n",
    "a+b"
   ]
  },
  {
   "cell_type": "code",
   "execution_count": 68,
   "id": "92254716",
   "metadata": {},
   "outputs": [
    {
     "data": {
      "text/plain": [
       "5"
      ]
     },
     "execution_count": 68,
     "metadata": {},
     "output_type": "execute_result"
    }
   ],
   "source": [
    "# Subtraction\tx - y\n",
    "a-b"
   ]
  },
  {
   "cell_type": "code",
   "execution_count": 69,
   "id": "5c9f9269",
   "metadata": {},
   "outputs": [
    {
     "data": {
      "text/plain": [
       "50"
      ]
     },
     "execution_count": 69,
     "metadata": {},
     "output_type": "execute_result"
    }
   ],
   "source": [
    "# Multiplication\tx * y\n",
    "a*b"
   ]
  },
  {
   "cell_type": "code",
   "execution_count": 70,
   "id": "c5956984",
   "metadata": {},
   "outputs": [
    {
     "data": {
      "text/plain": [
       "2.0"
      ]
     },
     "execution_count": 70,
     "metadata": {},
     "output_type": "execute_result"
    }
   ],
   "source": [
    "# Division\tx / y\n",
    "a/b"
   ]
  },
  {
   "cell_type": "code",
   "execution_count": 71,
   "id": "0e99c46d",
   "metadata": {},
   "outputs": [
    {
     "data": {
      "text/plain": [
       "0"
      ]
     },
     "execution_count": 71,
     "metadata": {},
     "output_type": "execute_result"
    }
   ],
   "source": [
    "# Modulus x % y\n",
    "a%b"
   ]
  },
  {
   "cell_type": "code",
   "execution_count": 72,
   "id": "87c66f80",
   "metadata": {},
   "outputs": [
    {
     "data": {
      "text/plain": [
       "100000"
      ]
     },
     "execution_count": 72,
     "metadata": {},
     "output_type": "execute_result"
    }
   ],
   "source": [
    "# Exponentiation\tx ** y\n",
    "a**b"
   ]
  },
  {
   "cell_type": "code",
   "execution_count": 76,
   "id": "9c9aa46d",
   "metadata": {},
   "outputs": [
    {
     "data": {
      "text/plain": [
       "2"
      ]
     },
     "execution_count": 76,
     "metadata": {},
     "output_type": "execute_result"
    }
   ],
   "source": [
    "# Floor division\tx // y\n",
    "a//b"
   ]
  },
  {
   "cell_type": "markdown",
   "id": "b8e38622",
   "metadata": {},
   "source": [
    "# Assignment operators"
   ]
  },
  {
   "cell_type": "raw",
   "id": "dfc56d41",
   "metadata": {},
   "source": [
    "## Assignment operators are used to assign values to variables:\n",
    "=\tx = 5\tx = 5\n",
    "+=\tx += 3\tx = x + 3\n",
    "-=\tx -= 3\tx = x - 3\n",
    "*=\tx *= 3\tx = x * 3\n",
    "/=\tx /= 3\tx = x / 3\n",
    "%=\tx %= 3\tx = x % 3\n",
    "//=\tx //= 3\tx = x // 3\n",
    "**=\tx **= 3\tx = x ** 3\n",
    "&=\tx &= 3\tx = x & 3\n",
    "|=\tx |= 3\tx = x | 3\n",
    "^=\tx ^= 3\tx = x ^ 3\n",
    ">>=\tx >>= 3\tx = x >> 3\n",
    "<<=\tx <<= 3\tx = x << 3"
   ]
  },
  {
   "cell_type": "code",
   "execution_count": 83,
   "id": "8a93ebe9",
   "metadata": {},
   "outputs": [
    {
     "data": {
      "text/plain": [
       "1"
      ]
     },
     "execution_count": 83,
     "metadata": {},
     "output_type": "execute_result"
    },
    {
     "name": "stderr",
     "output_type": "stream",
     "text": [
      "Backing off send_request(...) for 0.5s (requests.exceptions.ConnectTimeout: HTTPSConnectionPool(host='api.segment.io', port=443): Max retries exceeded with url: /v1/batch (Caused by ConnectTimeoutError(<urllib3.connection.HTTPSConnection object at 0x00000158CF9B2040>, 'Connection to api.segment.io timed out. (connect timeout=15)')))\n"
     ]
    }
   ],
   "source": [
    "x = 10\n",
    "x %= 3\n",
    "x"
   ]
  },
  {
   "cell_type": "code",
   "execution_count": 89,
   "id": "d7af0cc3",
   "metadata": {},
   "outputs": [
    {
     "data": {
      "text/plain": [
       "0"
      ]
     },
     "execution_count": 89,
     "metadata": {},
     "output_type": "execute_result"
    }
   ],
   "source": [
    "x = 6\n",
    "x >> 3\n"
   ]
  },
  {
   "cell_type": "code",
   "execution_count": 90,
   "id": "10aabdcf",
   "metadata": {},
   "outputs": [
    {
     "data": {
      "text/plain": [
       "48"
      ]
     },
     "execution_count": 90,
     "metadata": {},
     "output_type": "execute_result"
    },
    {
     "name": "stderr",
     "output_type": "stream",
     "text": [
      "Backing off send_request(...) for 63.7s (requests.exceptions.ConnectTimeout: HTTPSConnectionPool(host='api.segment.io', port=443): Max retries exceeded with url: /v1/batch (Caused by ConnectTimeoutError(<urllib3.connection.HTTPSConnection object at 0x00000158CFA287F0>, 'Connection to api.segment.io timed out. (connect timeout=15)')))\n"
     ]
    }
   ],
   "source": [
    "x = 6\n",
    "x << 3"
   ]
  },
  {
   "cell_type": "code",
   "execution_count": null,
   "id": "c26446ee",
   "metadata": {},
   "outputs": [],
   "source": []
  },
  {
   "cell_type": "markdown",
   "id": "72f8b982",
   "metadata": {},
   "source": [
    "# Comparison operators"
   ]
  },
  {
   "cell_type": "raw",
   "id": "da0a4a9c",
   "metadata": {},
   "source": [
    "### Comparison operators are used to compare two values:\n",
    "==\tEqual\tx == y\t\n",
    "!=\tNot equal\tx != y\t\n",
    ">\tGreater than\tx > y\t\n",
    "<\tLess than\tx < y\t\n",
    ">=\tGreater than or equal to\tx >= y\t\n",
    "<=\tLess than or equal to\tx <= y"
   ]
  },
  {
   "cell_type": "markdown",
   "id": "06f70405",
   "metadata": {},
   "source": [
    "# Logical operators"
   ]
  },
  {
   "cell_type": "raw",
   "id": "802334cc",
   "metadata": {},
   "source": [
    "## Logical operators are used to combine conditional statements:\n",
    "and \tReturns True if both statements are true\tx < 5 and  x < 10\t\n",
    "or\tReturns True if one of the statements is true\tx < 5 or x < 4\t\n",
    "not\tReverse the result, returns False if the result is true not(x < 5 and x < 10)"
   ]
  },
  {
   "cell_type": "code",
   "execution_count": 91,
   "id": "576b2d7b",
   "metadata": {},
   "outputs": [],
   "source": [
    "x = 10\n",
    "y= 15"
   ]
  },
  {
   "cell_type": "code",
   "execution_count": 93,
   "id": "d19daa0c",
   "metadata": {},
   "outputs": [
    {
     "data": {
      "text/plain": [
       "True"
      ]
     },
     "execution_count": 93,
     "metadata": {},
     "output_type": "execute_result"
    }
   ],
   "source": [
    "x > 9 and y < 20"
   ]
  },
  {
   "cell_type": "code",
   "execution_count": 94,
   "id": "8ea66609",
   "metadata": {},
   "outputs": [
    {
     "data": {
      "text/plain": [
       "False"
      ]
     },
     "execution_count": 94,
     "metadata": {},
     "output_type": "execute_result"
    }
   ],
   "source": [
    "x < 9 and y < 20"
   ]
  },
  {
   "cell_type": "code",
   "execution_count": 95,
   "id": "4af1798d",
   "metadata": {},
   "outputs": [
    {
     "data": {
      "text/plain": [
       "False"
      ]
     },
     "execution_count": 95,
     "metadata": {},
     "output_type": "execute_result"
    }
   ],
   "source": [
    "x < 9 and y > 20"
   ]
  },
  {
   "cell_type": "code",
   "execution_count": 96,
   "id": "5e7f7612",
   "metadata": {},
   "outputs": [
    {
     "data": {
      "text/plain": [
       "True"
      ]
     },
     "execution_count": 96,
     "metadata": {},
     "output_type": "execute_result"
    }
   ],
   "source": [
    "x < 9 or y < 20"
   ]
  },
  {
   "cell_type": "code",
   "execution_count": 97,
   "id": "1992e1ea",
   "metadata": {},
   "outputs": [
    {
     "data": {
      "text/plain": [
       "False"
      ]
     },
     "execution_count": 97,
     "metadata": {},
     "output_type": "execute_result"
    }
   ],
   "source": [
    "x < 9 and y > 20"
   ]
  },
  {
   "cell_type": "code",
   "execution_count": 105,
   "id": "4b64f364",
   "metadata": {},
   "outputs": [
    {
     "data": {
      "text/plain": [
       "False"
      ]
     },
     "execution_count": 105,
     "metadata": {},
     "output_type": "execute_result"
    },
    {
     "name": "stderr",
     "output_type": "stream",
     "text": [
      "Backing off send_request(...) for 203.4s (requests.exceptions.ConnectTimeout: HTTPSConnectionPool(host='api.segment.io', port=443): Max retries exceeded with url: /v1/batch (Caused by ConnectTimeoutError(<urllib3.connection.HTTPSConnection object at 0x00000158CFA28940>, 'Connection to api.segment.io timed out. (connect timeout=15)')))\n"
     ]
    }
   ],
   "source": [
    "not(x > 5 and x < 15)"
   ]
  },
  {
   "cell_type": "markdown",
   "id": "799f2803",
   "metadata": {},
   "source": [
    "# Identity Operators"
   ]
  },
  {
   "cell_type": "raw",
   "id": "2132f00d",
   "metadata": {},
   "source": [
    "## Identity operators are used to compare the objects, not if they are equal,    but if they are actually the same object, with the same memory location:\n",
    "is \tReturns True if both variables are the same object\tx is y\t\n",
    "is not\tReturns True if both variables are not the same object\tx is not y"
   ]
  },
  {
   "cell_type": "code",
   "execution_count": 106,
   "id": "4db36d0c",
   "metadata": {},
   "outputs": [
    {
     "data": {
      "text/plain": [
       "False"
      ]
     },
     "execution_count": 106,
     "metadata": {},
     "output_type": "execute_result"
    }
   ],
   "source": [
    "x is y"
   ]
  },
  {
   "cell_type": "code",
   "execution_count": 99,
   "id": "b478d834",
   "metadata": {},
   "outputs": [
    {
     "data": {
      "text/plain": [
       "True"
      ]
     },
     "execution_count": 99,
     "metadata": {},
     "output_type": "execute_result"
    }
   ],
   "source": [
    "x is not y"
   ]
  },
  {
   "cell_type": "markdown",
   "id": "f2fcacd7",
   "metadata": {},
   "source": [
    "# Membership Operators"
   ]
  },
  {
   "cell_type": "raw",
   "id": "99d36092",
   "metadata": {},
   "source": [
    "## Membership operators are used to test if a sequence is presented in an object:\n",
    "in \tReturns True if a sequence with the specified value is present in the object\tx in y\t\n",
    "not in\tReturns True if a sequence with the specified value is not present in the object\tx not in y"
   ]
  },
  {
   "cell_type": "code",
   "execution_count": 111,
   "id": "8761555d",
   "metadata": {},
   "outputs": [
    {
     "data": {
      "text/plain": [
       "(10, 15)"
      ]
     },
     "execution_count": 111,
     "metadata": {},
     "output_type": "execute_result"
    },
    {
     "name": "stderr",
     "output_type": "stream",
     "text": [
      "Backing off send_request(...) for 447.3s (requests.exceptions.ConnectTimeout: HTTPSConnectionPool(host='api.segment.io', port=443): Max retries exceeded with url: /v1/batch (Caused by ConnectTimeoutError(<urllib3.connection.HTTPSConnection object at 0x00000158CFA38040>, 'Connection to api.segment.io timed out. (connect timeout=15)')))\n"
     ]
    }
   ],
   "source": [
    "x, y"
   ]
  },
  {
   "cell_type": "code",
   "execution_count": 107,
   "id": "50b4184d",
   "metadata": {},
   "outputs": [],
   "source": [
    "ls = [10, 5]"
   ]
  },
  {
   "cell_type": "code",
   "execution_count": 108,
   "id": "150c5e18",
   "metadata": {},
   "outputs": [
    {
     "data": {
      "text/plain": [
       "True"
      ]
     },
     "execution_count": 108,
     "metadata": {},
     "output_type": "execute_result"
    }
   ],
   "source": [
    "x in ls"
   ]
  },
  {
   "cell_type": "code",
   "execution_count": 109,
   "id": "8aff6b41",
   "metadata": {},
   "outputs": [
    {
     "data": {
      "text/plain": [
       "False"
      ]
     },
     "execution_count": 109,
     "metadata": {},
     "output_type": "execute_result"
    }
   ],
   "source": [
    "y in ls"
   ]
  },
  {
   "cell_type": "code",
   "execution_count": 110,
   "id": "639ec694",
   "metadata": {},
   "outputs": [
    {
     "data": {
      "text/plain": [
       "True"
      ]
     },
     "execution_count": 110,
     "metadata": {},
     "output_type": "execute_result"
    }
   ],
   "source": [
    "y not in ls"
   ]
  },
  {
   "cell_type": "markdown",
   "id": "001a6704",
   "metadata": {},
   "source": [
    "# Bitwise Operators"
   ]
  },
  {
   "cell_type": "raw",
   "id": "ba9c80d5",
   "metadata": {},
   "source": [
    "## Bitwise operators are used to compare (binary) numbers:\n",
    "Operator\tName\tDescription:\n",
    "& \tAND\tSets each bit to 1 if both bits are 1\n",
    "|\tOR\tSets each bit to 1 if one of two bits is 1\n",
    "^\tXOR\tSets each bit to 1 if only one of two bits is 1\n",
    "~\tNOT\tInverts all the bits\n",
    "<<\tZero fill left shift\tShift left by pushing zeros in from the right and let the leftmost bits fall off\n",
    ">>\tSigned right shift\tShift right by pushing copies of the leftmost bit in from the left, and let the rightmost bits fall off"
   ]
  },
  {
   "cell_type": "code",
   "execution_count": 112,
   "id": "86f76be8",
   "metadata": {},
   "outputs": [
    {
     "data": {
      "text/plain": [
       "10"
      ]
     },
     "execution_count": 112,
     "metadata": {},
     "output_type": "execute_result"
    }
   ],
   "source": [
    "x & y"
   ]
  },
  {
   "cell_type": "code",
   "execution_count": 113,
   "id": "6e3da0ee",
   "metadata": {},
   "outputs": [
    {
     "data": {
      "text/plain": [
       "15"
      ]
     },
     "execution_count": 113,
     "metadata": {},
     "output_type": "execute_result"
    }
   ],
   "source": [
    "x | y"
   ]
  },
  {
   "cell_type": "markdown",
   "id": "3815eaa5",
   "metadata": {},
   "source": [
    "# Function : Join(), copy(), deepcopy(), shallowcopy(), print()"
   ]
  },
  {
   "cell_type": "code",
   "execution_count": 163,
   "id": "fa6d99cb",
   "metadata": {},
   "outputs": [],
   "source": [
    "# join()"
   ]
  },
  {
   "cell_type": "raw",
   "id": "88d26351",
   "metadata": {},
   "source": [
    "\n",
    "The join() method takes all items in an iterable and joins them into one string.\n",
    "A string must be specified as the separator.\n",
    "\n",
    "Syntax:\n",
    "string.join(iterable)\n",
    "\n"
   ]
  },
  {
   "cell_type": "code",
   "execution_count": 117,
   "id": "78809747",
   "metadata": {},
   "outputs": [
    {
     "data": {
      "text/plain": [
       "['abc', 'def', 'ghi']"
      ]
     },
     "execution_count": 117,
     "metadata": {},
     "output_type": "execute_result"
    }
   ],
   "source": [
    "# with list\n",
    "names = ['abc', 'def', 'ghi']\n",
    "names"
   ]
  },
  {
   "cell_type": "code",
   "execution_count": 119,
   "id": "004d2938",
   "metadata": {},
   "outputs": [
    {
     "data": {
      "text/plain": [
       "'abc def ghi'"
      ]
     },
     "execution_count": 119,
     "metadata": {},
     "output_type": "execute_result"
    }
   ],
   "source": [
    "\" \".join(names)"
   ]
  },
  {
   "cell_type": "code",
   "execution_count": 120,
   "id": "85bc2086",
   "metadata": {},
   "outputs": [
    {
     "data": {
      "text/plain": [
       "'abc#def#ghi'"
      ]
     },
     "execution_count": 120,
     "metadata": {},
     "output_type": "execute_result"
    }
   ],
   "source": [
    "\"#\".join(names)"
   ]
  },
  {
   "cell_type": "code",
   "execution_count": 121,
   "id": "95cd05ce",
   "metadata": {},
   "outputs": [],
   "source": [
    "# With Tuple"
   ]
  },
  {
   "cell_type": "code",
   "execution_count": 122,
   "id": "6d6e3bd1",
   "metadata": {},
   "outputs": [
    {
     "data": {
      "text/plain": [
       "('abc', 'def', 'ghi')"
      ]
     },
     "execution_count": 122,
     "metadata": {},
     "output_type": "execute_result"
    }
   ],
   "source": [
    "names_tup = ('abc', 'def', 'ghi')\n",
    "names_tup"
   ]
  },
  {
   "cell_type": "code",
   "execution_count": 123,
   "id": "1e8e8b5b",
   "metadata": {},
   "outputs": [
    {
     "data": {
      "text/plain": [
       "'abc def ghi'"
      ]
     },
     "execution_count": 123,
     "metadata": {},
     "output_type": "execute_result"
    },
    {
     "name": "stderr",
     "output_type": "stream",
     "text": [
      "Giving up send_request(...) after 11 tries (requests.exceptions.ConnectTimeout: HTTPSConnectionPool(host='api.segment.io', port=443): Max retries exceeded with url: /v1/batch (Caused by ConnectTimeoutError(<urllib3.connection.HTTPSConnection object at 0x00000158CFA28CA0>, 'Connection to api.segment.io timed out. (connect timeout=15)')))\n",
      "error uploading: HTTPSConnectionPool(host='api.segment.io', port=443): Max retries exceeded with url: /v1/batch (Caused by ConnectTimeoutError(<urllib3.connection.HTTPSConnection object at 0x00000158CFA28CA0>, 'Connection to api.segment.io timed out. (connect timeout=15)'))\n"
     ]
    }
   ],
   "source": [
    "\" \".join(names_tup)"
   ]
  },
  {
   "cell_type": "code",
   "execution_count": 124,
   "id": "df9fe10d",
   "metadata": {},
   "outputs": [],
   "source": [
    "# With Dict"
   ]
  },
  {
   "cell_type": "code",
   "execution_count": 126,
   "id": "97e9bf76",
   "metadata": {},
   "outputs": [
    {
     "data": {
      "text/plain": [
       "'nameTESTcountry'"
      ]
     },
     "execution_count": 126,
     "metadata": {},
     "output_type": "execute_result"
    },
    {
     "name": "stderr",
     "output_type": "stream",
     "text": [
      "Backing off send_request(...) for 0.9s (requests.exceptions.ConnectTimeout: HTTPSConnectionPool(host='api.segment.io', port=443): Max retries exceeded with url: /v1/batch (Caused by ConnectTimeoutError(<urllib3.connection.HTTPSConnection object at 0x00000158D0448610>, 'Connection to api.segment.io timed out. (connect timeout=15)')))\n"
     ]
    }
   ],
   "source": [
    "myDict = {\"name\": \"John\", \"country\": \"Norway\"}\n",
    "mySeparator = \"TEST\"\n",
    "\n",
    "\n",
    "mySeparator.join(myDict)"
   ]
  },
  {
   "cell_type": "code",
   "execution_count": 164,
   "id": "20474aed",
   "metadata": {},
   "outputs": [],
   "source": [
    "# Copy()"
   ]
  },
  {
   "cell_type": "raw",
   "id": "26b85cad",
   "metadata": {},
   "source": [
    "\n",
    "\n",
    "What is Shallow copy in Python?\n",
    "\n",
    ">> any changes made to a copy of an object do reflect in the original object. In python, this is implemented using the “copy()” function. "
   ]
  },
  {
   "cell_type": "code",
   "execution_count": 152,
   "id": "85034e13",
   "metadata": {},
   "outputs": [
    {
     "data": {
      "text/plain": [
       "['abc', 'def', 'ghi', [1, 2, 3]]"
      ]
     },
     "execution_count": 152,
     "metadata": {},
     "output_type": "execute_result"
    }
   ],
   "source": [
    "import copy\n",
    "names= ['abc', 'def', 'ghi',[1,2,3]]\n",
    "names"
   ]
  },
  {
   "cell_type": "code",
   "execution_count": 153,
   "id": "901aa42c",
   "metadata": {},
   "outputs": [
    {
     "data": {
      "text/plain": [
       "['abc', 'def', 'ghi', [1, 2, 3]]"
      ]
     },
     "execution_count": 153,
     "metadata": {},
     "output_type": "execute_result"
    }
   ],
   "source": [
    "names_copy = copy.copy(names)\n",
    "names_copy\n"
   ]
  },
  {
   "cell_type": "code",
   "execution_count": 156,
   "id": "5dddbc66",
   "metadata": {},
   "outputs": [],
   "source": [
    "names_copy[3][0] = 10"
   ]
  },
  {
   "cell_type": "code",
   "execution_count": 157,
   "id": "c973ddae",
   "metadata": {},
   "outputs": [
    {
     "data": {
      "text/plain": [
       "['abc', 'def', 'ghi', [10, 2, 3]]"
      ]
     },
     "execution_count": 157,
     "metadata": {},
     "output_type": "execute_result"
    }
   ],
   "source": [
    "names"
   ]
  },
  {
   "cell_type": "raw",
   "id": "a0ee4abe",
   "metadata": {},
   "source": [
    "# With shallow copy: it will change the element in side list of list both original and copied"
   ]
  },
  {
   "cell_type": "code",
   "execution_count": 165,
   "id": "fd408197",
   "metadata": {},
   "outputs": [],
   "source": [
    "# Deep copy()"
   ]
  },
  {
   "cell_type": "raw",
   "id": "ea2a8ceb",
   "metadata": {},
   "source": [
    "\n",
    "What is Deep copy in Python?\n",
    "It means that any changes made to a copy of the object do not reflect in the original object. "
   ]
  },
  {
   "cell_type": "code",
   "execution_count": 158,
   "id": "f864e0ab",
   "metadata": {},
   "outputs": [
    {
     "data": {
      "text/plain": [
       "['abc', 'def', 'ghi', [10, 2, 3]]"
      ]
     },
     "execution_count": 158,
     "metadata": {},
     "output_type": "execute_result"
    }
   ],
   "source": [
    "names_deepcopy = copy.deepcopy(names)\n",
    "names_deepcopy"
   ]
  },
  {
   "cell_type": "code",
   "execution_count": 159,
   "id": "d3aecf8e",
   "metadata": {},
   "outputs": [],
   "source": [
    "names_deepcopy[3][0] = 100"
   ]
  },
  {
   "cell_type": "code",
   "execution_count": 160,
   "id": "0669d69c",
   "metadata": {},
   "outputs": [
    {
     "data": {
      "text/plain": [
       "['abc', 'def', 'ghi', [100, 2, 3]]"
      ]
     },
     "execution_count": 160,
     "metadata": {},
     "output_type": "execute_result"
    }
   ],
   "source": [
    "names_deepcopy"
   ]
  },
  {
   "cell_type": "code",
   "execution_count": 161,
   "id": "1a2141fe",
   "metadata": {},
   "outputs": [
    {
     "data": {
      "text/plain": [
       "['abc', 'def', 'ghi', [10, 2, 3]]"
      ]
     },
     "execution_count": 161,
     "metadata": {},
     "output_type": "execute_result"
    }
   ],
   "source": [
    "names"
   ]
  },
  {
   "cell_type": "raw",
   "id": "54a1a9a6",
   "metadata": {},
   "source": [
    "# With Deep copy: it will change the element in side list of list only in copied but not in orginal "
   ]
  },
  {
   "cell_type": "code",
   "execution_count": 166,
   "id": "8923afe2",
   "metadata": {},
   "outputs": [],
   "source": [
    "# print()"
   ]
  },
  {
   "cell_type": "code",
   "execution_count": 167,
   "id": "c164ea91",
   "metadata": {},
   "outputs": [],
   "source": [
    "name = 'Python'"
   ]
  },
  {
   "cell_type": "code",
   "execution_count": 169,
   "id": "a78c9eb5",
   "metadata": {},
   "outputs": [
    {
     "name": "stdout",
     "output_type": "stream",
     "text": [
      "Python\n"
     ]
    }
   ],
   "source": [
    "print( name)"
   ]
  },
  {
   "cell_type": "code",
   "execution_count": 168,
   "id": "7c21b529",
   "metadata": {},
   "outputs": [
    {
     "name": "stdout",
     "output_type": "stream",
     "text": [
      "hello  Python\n"
     ]
    }
   ],
   "source": [
    "# Normal printing\n",
    "print('hello ', name)"
   ]
  },
  {
   "cell_type": "code",
   "execution_count": 171,
   "id": "31d6817f",
   "metadata": {},
   "outputs": [
    {
     "name": "stdout",
     "output_type": "stream",
     "text": [
      "Hello Python, how are you\n"
     ]
    }
   ],
   "source": [
    "# Formate Specifier\n",
    "print('Hello %s, how are you'%(name))"
   ]
  },
  {
   "cell_type": "code",
   "execution_count": 172,
   "id": "65a48c59",
   "metadata": {},
   "outputs": [],
   "source": [
    "sirname = 'Code'"
   ]
  },
  {
   "cell_type": "code",
   "execution_count": 173,
   "id": "e09bdfc9",
   "metadata": {},
   "outputs": [
    {
     "name": "stdout",
     "output_type": "stream",
     "text": [
      "Hello Python Code, how are you\n"
     ]
    }
   ],
   "source": [
    "print('Hello %s %s, how are you'%(name, sirname))"
   ]
  },
  {
   "cell_type": "code",
   "execution_count": 174,
   "id": "f9117349",
   "metadata": {},
   "outputs": [
    {
     "name": "stdout",
     "output_type": "stream",
     "text": [
      "value of a is 10\n"
     ]
    }
   ],
   "source": [
    "a = 10\n",
    "print('value of a is %d' %(a))"
   ]
  },
  {
   "cell_type": "code",
   "execution_count": 177,
   "id": "73e40b30",
   "metadata": {},
   "outputs": [
    {
     "name": "stdout",
     "output_type": "stream",
     "text": [
      "value of b is 20.90\n"
     ]
    }
   ],
   "source": [
    "b = 20.9\n",
    "print('value of b is %0.2f' %(b))"
   ]
  },
  {
   "cell_type": "code",
   "execution_count": 179,
   "id": "57424dd3",
   "metadata": {},
   "outputs": [
    {
     "name": "stdout",
     "output_type": "stream",
     "text": [
      "value of a is 10, name is Python, value is b 20.9\n"
     ]
    }
   ],
   "source": [
    "# with Format specifier\n",
    "print('value of a is %d, name is %s, value is b %0.1f' %(a,name, b))"
   ]
  },
  {
   "cell_type": "code",
   "execution_count": 180,
   "id": "a5e19af1",
   "metadata": {},
   "outputs": [],
   "source": [
    "# with format function"
   ]
  },
  {
   "cell_type": "code",
   "execution_count": 181,
   "id": "5d19c30b",
   "metadata": {},
   "outputs": [
    {
     "name": "stdout",
     "output_type": "stream",
     "text": [
      "value of a is 10\n"
     ]
    }
   ],
   "source": [
    "print('value of a is {}'.format(a))"
   ]
  },
  {
   "cell_type": "code",
   "execution_count": 182,
   "id": "45006a77",
   "metadata": {},
   "outputs": [
    {
     "name": "stdout",
     "output_type": "stream",
     "text": [
      "value of a is 10 and name is Python\n"
     ]
    }
   ],
   "source": [
    "print('value of a is {} and name is {}'.format(a,name))"
   ]
  },
  {
   "cell_type": "code",
   "execution_count": 183,
   "id": "2bca7325",
   "metadata": {},
   "outputs": [],
   "source": [
    "age = 20"
   ]
  },
  {
   "cell_type": "code",
   "execution_count": 184,
   "id": "553887b0",
   "metadata": {},
   "outputs": [
    {
     "name": "stdout",
     "output_type": "stream",
     "text": [
      "name is Python and age is 20\n"
     ]
    }
   ],
   "source": [
    "print('name is {} and age is {}'.format(name,age))"
   ]
  },
  {
   "cell_type": "code",
   "execution_count": 185,
   "id": "3a70b5b0",
   "metadata": {},
   "outputs": [
    {
     "name": "stdout",
     "output_type": "stream",
     "text": [
      "name is 20 and age is Python\n"
     ]
    }
   ],
   "source": [
    "# wrong input\n",
    "print('name is {} and age is {}'.format(age,name))"
   ]
  },
  {
   "cell_type": "code",
   "execution_count": 186,
   "id": "559fa9a0",
   "metadata": {},
   "outputs": [
    {
     "name": "stdout",
     "output_type": "stream",
     "text": [
      "name is Python and age is 20\n"
     ]
    }
   ],
   "source": [
    "# by defualt value we can give 0 , 1 / 1 ,0\n",
    "print('name is {0} and age is {1}'.format(name,age))"
   ]
  },
  {
   "cell_type": "code",
   "execution_count": 187,
   "id": "d8c2f974",
   "metadata": {},
   "outputs": [
    {
     "name": "stdout",
     "output_type": "stream",
     "text": [
      "name is 20 and age is Python\n"
     ]
    }
   ],
   "source": [
    "# by defualt value we can give 0 , 1, 2, 3....\n",
    "print('name is {1} and age is {0}'.format(name,age))"
   ]
  },
  {
   "cell_type": "code",
   "execution_count": 190,
   "id": "3984756a",
   "metadata": {},
   "outputs": [
    {
     "name": "stdout",
     "output_type": "stream",
     "text": [
      "name is Python Code and age is 20\n"
     ]
    }
   ],
   "source": [
    "# \n",
    "print('name is {0} {2} and age is {1}'.format(name,age,sirname))"
   ]
  },
  {
   "cell_type": "code",
   "execution_count": 191,
   "id": "8ca27c76",
   "metadata": {},
   "outputs": [],
   "source": [
    "# F string"
   ]
  },
  {
   "cell_type": "code",
   "execution_count": 192,
   "id": "aaed857c",
   "metadata": {},
   "outputs": [
    {
     "name": "stdout",
     "output_type": "stream",
     "text": [
      "my name is Python and age is 20\n"
     ]
    }
   ],
   "source": [
    "print(f'my name is {name} and age is {age}')"
   ]
  },
  {
   "cell_type": "code",
   "execution_count": 193,
   "id": "344947ce",
   "metadata": {},
   "outputs": [
    {
     "name": "stdout",
     "output_type": "stream",
     "text": [
      "max from 10 and 20 is 20\n"
     ]
    }
   ],
   "source": [
    "a = 10\n",
    "b = 20\n",
    "print(f'max from {a} and {b} is {max(a,b)}')"
   ]
  },
  {
   "cell_type": "markdown",
   "id": "abc77b51",
   "metadata": {},
   "source": [
    "# Conditional Statement"
   ]
  },
  {
   "cell_type": "code",
   "execution_count": 194,
   "id": "fea943f3",
   "metadata": {},
   "outputs": [],
   "source": [
    "x = 50"
   ]
  },
  {
   "cell_type": "code",
   "execution_count": 195,
   "id": "e1ee5c4d",
   "metadata": {},
   "outputs": [
    {
     "name": "stdout",
     "output_type": "stream",
     "text": [
      "thrid if\n"
     ]
    }
   ],
   "source": [
    "if x> 50:\n",
    "    print('first if')\n",
    "if x<50:\n",
    "    print('second if')\n",
    "if x == 50:\n",
    "    print('thrid if')"
   ]
  },
  {
   "cell_type": "code",
   "execution_count": 196,
   "id": "e9653115",
   "metadata": {},
   "outputs": [
    {
     "name": "stdout",
     "output_type": "stream",
     "text": [
      "not printing 50\n"
     ]
    }
   ],
   "source": [
    "if x> 50:\n",
    "    print('printing 50')\n",
    "else:\n",
    "    print('not printing 50')"
   ]
  },
  {
   "cell_type": "code",
   "execution_count": 197,
   "id": "085a073d",
   "metadata": {},
   "outputs": [
    {
     "name": "stdout",
     "output_type": "stream",
     "text": [
      "printing 50\n"
     ]
    }
   ],
   "source": [
    "if x>= 50:\n",
    "    print('printing 50')\n",
    "else:\n",
    "    print('not printing 50')"
   ]
  },
  {
   "cell_type": "code",
   "execution_count": 198,
   "id": "100cfe0c",
   "metadata": {},
   "outputs": [
    {
     "name": "stdout",
     "output_type": "stream",
     "text": [
      "Enter the number : 15\n",
      "Number 15 is Odd\n"
     ]
    }
   ],
   "source": [
    "num = int(input('Enter the number : '))\n",
    "if num % 2 == 0:\n",
    "    print('Number %d is Even'%(num))\n",
    "else:\n",
    "    print('Number %d is Odd'%(num))"
   ]
  },
  {
   "cell_type": "code",
   "execution_count": 199,
   "id": "7f3fcc4b",
   "metadata": {},
   "outputs": [
    {
     "name": "stdout",
     "output_type": "stream",
     "text": [
      "Enter the name : PYTHON\n",
      "Name is in capital \n"
     ]
    }
   ],
   "source": [
    "name = input('Enter the name : ')\n",
    "if name == name.upper():\n",
    "    print('Name is in capital ')\n",
    "else:\n",
    "    print('Name is in smalll')"
   ]
  },
  {
   "cell_type": "code",
   "execution_count": 200,
   "id": "dea156ad",
   "metadata": {},
   "outputs": [],
   "source": [
    "# Nested statment"
   ]
  },
  {
   "cell_type": "code",
   "execution_count": 201,
   "id": "618eb4eb",
   "metadata": {},
   "outputs": [],
   "source": [
    "a = 100\n",
    "b = 200"
   ]
  },
  {
   "cell_type": "code",
   "execution_count": 202,
   "id": "b56b4edf",
   "metadata": {},
   "outputs": [
    {
     "name": "stdout",
     "output_type": "stream",
     "text": [
      "ok\n"
     ]
    }
   ],
   "source": [
    "if a< 150:\n",
    "    if b > 150:\n",
    "        print('ok')\n",
    "else:\n",
    "    print('Not Ok')"
   ]
  },
  {
   "cell_type": "code",
   "execution_count": 204,
   "id": "dd76a569",
   "metadata": {},
   "outputs": [
    {
     "name": "stdout",
     "output_type": "stream",
     "text": [
      "Enter the 1st num.10\n",
      "Enter the 2nd num.9\n",
      "Enter the 3rd num.20\n",
      "20\n"
     ]
    }
   ],
   "source": [
    "# find the no. is grether than or not\n",
    "num1  = int(input('Enter the 1st num.'))\n",
    "num2  = int(input('Enter the 2nd num.'))\n",
    "num3  = int(input('Enter the 3rd num.'))\n",
    "\n",
    "if num1 > num2:\n",
    "    if num1 > num3:\n",
    "        print(num1)\n",
    "if num2 > num1:\n",
    "    if num2 > num3:\n",
    "        print(num2)\n",
    "else:\n",
    "    print(num3)\n"
   ]
  },
  {
   "cell_type": "markdown",
   "id": "55bba80d",
   "metadata": {},
   "source": [
    "# loop: while loop and for loop"
   ]
  },
  {
   "cell_type": "raw",
   "id": "7a8b1d84",
   "metadata": {},
   "source": [
    "In a for loop, the set of declarations, including iterations and conditions, sits at the top of the body.\n",
    "In a while loop, initialization is always outside the loop. Before or after the execution of the statement(s), update can be performed.\n",
    "A for loop is a control flow statement that executes code repeatedly for a particular number of iterations.\n",
    "A loop that executes a single statement or a group of statements for the given true condition. The keyword used to represent this loop is while.\n",
    "When no condition is given in the for loop, the loop will iterate infinite times, while in the case of the while loop, it will give an error (compile time error)."
   ]
  },
  {
   "cell_type": "markdown",
   "id": "b7cf8bc2",
   "metadata": {},
   "source": [
    "# Split(), pass, break, continue......................"
   ]
  },
  {
   "cell_type": "markdown",
   "id": "df0b89b5",
   "metadata": {},
   "source": [
    "# while loop"
   ]
  },
  {
   "cell_type": "code",
   "execution_count": 206,
   "id": "ade98ba1",
   "metadata": {},
   "outputs": [
    {
     "name": "stdout",
     "output_type": "stream",
     "text": [
      "1\n",
      "Python\n",
      "2\n",
      "Python\n",
      "3\n",
      "Python\n",
      "4\n",
      "Python\n",
      "5\n",
      "Python\n",
      "6\n",
      "Python\n",
      "7\n",
      "Python\n",
      "8\n",
      "Python\n",
      "9\n",
      "Python\n"
     ]
    }
   ],
   "source": [
    "x =10\n",
    "i= 1\n",
    "while i< x:\n",
    "    print(i)\n",
    "    print('Python')\n",
    "    i = i+1"
   ]
  },
  {
   "cell_type": "code",
   "execution_count": 207,
   "id": "e48fea9d",
   "metadata": {},
   "outputs": [
    {
     "name": "stdout",
     "output_type": "stream",
     "text": [
      "1\n",
      "2\n",
      "3\n",
      "4\n",
      "5\n",
      "6\n",
      "7\n",
      "8\n",
      "9\n",
      "10\n",
      "11\n",
      "12\n",
      "13\n",
      "14\n",
      "15\n",
      "16\n",
      "17\n",
      "18\n",
      "19\n",
      "20\n",
      "21\n",
      "22\n",
      "23\n",
      "24\n",
      "25\n",
      "26\n",
      "27\n",
      "28\n",
      "29\n",
      "30\n",
      "31\n",
      "32\n",
      "33\n",
      "34\n",
      "35\n",
      "36\n",
      "37\n",
      "38\n",
      "39\n",
      "40\n",
      "41\n",
      "42\n",
      "43\n",
      "44\n",
      "45\n",
      "46\n",
      "47\n",
      "48\n",
      "49\n",
      "50\n"
     ]
    }
   ],
   "source": [
    "# print 50 natural no.\n",
    "x = 50\n",
    "y = 1\n",
    "while y <= x:\n",
    "    print(y)\n",
    "    y = y+1"
   ]
  },
  {
   "cell_type": "code",
   "execution_count": 208,
   "id": "c878892d",
   "metadata": {},
   "outputs": [
    {
     "name": "stdout",
     "output_type": "stream",
     "text": [
      " enter string : Python code\n",
      "P\n",
      "y\n",
      "t\n",
      "h\n",
      "n\n",
      " \n",
      "c\n",
      "d\n"
     ]
    }
   ],
   "source": [
    "string = input(' enter string : ')\n",
    "str_length = len(string)\n",
    "str_length\n",
    "temp_len = 0\n",
    "while temp_len < str_length:\n",
    "    if string[temp_len].lower() not in 'aioue':\n",
    "        print(string[temp_len])\n",
    "    temp_len = temp_len +1"
   ]
  },
  {
   "cell_type": "code",
   "execution_count": 210,
   "id": "ef719b37",
   "metadata": {},
   "outputs": [
    {
     "name": "stdout",
     "output_type": "stream",
     "text": [
      "1\n",
      "2\n",
      "3\n",
      "4\n",
      "5\n"
     ]
    }
   ],
   "source": [
    "# while loop with else statment\n",
    "x = 10\n",
    "y = 1\n",
    "while y <= x:\n",
    "    print(y)\n",
    "    if y == 5:\n",
    "        break\n",
    "    y = y+1\n",
    "else:\n",
    "    print('Loop completed')"
   ]
  },
  {
   "cell_type": "code",
   "execution_count": 211,
   "id": "f5da0732",
   "metadata": {},
   "outputs": [
    {
     "name": "stdout",
     "output_type": "stream",
     "text": [
      "1\n",
      "2\n",
      "3\n",
      "4\n",
      "5\n",
      "6\n",
      "7\n",
      "8\n",
      "9\n",
      "10\n",
      "Loop completed\n"
     ]
    }
   ],
   "source": [
    "# if loop break then it will not execute ELSE statement\n",
    "x = 10\n",
    "y = 1\n",
    "while y <= x:\n",
    "    print(y)\n",
    "    #if y == 40:\n",
    "    #    break\n",
    "    y = y+1\n",
    "else:\n",
    "    print('Loop completed')"
   ]
  },
  {
   "cell_type": "code",
   "execution_count": 212,
   "id": "8f66c25c",
   "metadata": {},
   "outputs": [
    {
     "name": "stdout",
     "output_type": "stream",
     "text": [
      "1\n",
      "2\n",
      "3\n",
      "4\n",
      "5\n",
      "6\n",
      "7\n",
      "8\n",
      "9\n",
      "10\n",
      "Loop completed\n"
     ]
    }
   ],
   "source": [
    "# without else statement not adding any importance here\n",
    "x = 10\n",
    "y = 1\n",
    "while y <= x:\n",
    "    print(y)\n",
    "    #if y == 40:\n",
    "    #    break\n",
    "    y = y+1\n",
    "\n",
    "print('Loop completed')"
   ]
  },
  {
   "cell_type": "code",
   "execution_count": 213,
   "id": "6d3d1c8a",
   "metadata": {},
   "outputs": [],
   "source": [
    "# Split()"
   ]
  },
  {
   "cell_type": "code",
   "execution_count": 214,
   "id": "84754a09",
   "metadata": {},
   "outputs": [],
   "source": [
    "text  = 'I write code'"
   ]
  },
  {
   "cell_type": "code",
   "execution_count": 215,
   "id": "8f9bbd0c",
   "metadata": {},
   "outputs": [
    {
     "data": {
      "text/plain": [
       "['I', 'write', 'code']"
      ]
     },
     "execution_count": 215,
     "metadata": {},
     "output_type": "execute_result"
    }
   ],
   "source": [
    "text.split()"
   ]
  },
  {
   "cell_type": "code",
   "execution_count": 217,
   "id": "bc2a5414",
   "metadata": {},
   "outputs": [],
   "source": [
    "# unpacking\n",
    "w1, w2, w3 =text.split()"
   ]
  },
  {
   "cell_type": "code",
   "execution_count": 218,
   "id": "5ee0084f",
   "metadata": {},
   "outputs": [
    {
     "data": {
      "text/plain": [
       "'I'"
      ]
     },
     "execution_count": 218,
     "metadata": {},
     "output_type": "execute_result"
    }
   ],
   "source": [
    "w1"
   ]
  },
  {
   "cell_type": "code",
   "execution_count": 219,
   "id": "7a4bf64a",
   "metadata": {},
   "outputs": [
    {
     "data": {
      "text/plain": [
       "'write'"
      ]
     },
     "execution_count": 219,
     "metadata": {},
     "output_type": "execute_result"
    }
   ],
   "source": [
    "w2"
   ]
  },
  {
   "cell_type": "code",
   "execution_count": 220,
   "id": "8b28aa63",
   "metadata": {},
   "outputs": [
    {
     "data": {
      "text/plain": [
       "'code'"
      ]
     },
     "execution_count": 220,
     "metadata": {},
     "output_type": "execute_result"
    }
   ],
   "source": [
    "w3"
   ]
  },
  {
   "cell_type": "code",
   "execution_count": 223,
   "id": "db797b7b",
   "metadata": {},
   "outputs": [
    {
     "name": "stdout",
     "output_type": "stream",
     "text": [
      "Write 2 numbers:10 20\n",
      "the sum of 10 20 is 30\n"
     ]
    }
   ],
   "source": [
    "nums = input('Write 2 numbers:')\n",
    "num1, num2 = nums.split()\n",
    "print(f'the sum of {nums} is {int(num1)+int(num2)}')"
   ]
  },
  {
   "cell_type": "code",
   "execution_count": 224,
   "id": "8637407f",
   "metadata": {},
   "outputs": [
    {
     "name": "stdout",
     "output_type": "stream",
     "text": [
      "['A', 'B', 'C', 'D E F']\n"
     ]
    }
   ],
   "source": [
    "s1 = 'A B C D E F'\n",
    "print(s1.split(' ', maxsplit=3))"
   ]
  },
  {
   "cell_type": "code",
   "execution_count": 225,
   "id": "b9ce86b4",
   "metadata": {},
   "outputs": [
    {
     "name": "stdout",
     "output_type": "stream",
     "text": [
      "['A', 'B C D E F']\n"
     ]
    }
   ],
   "source": [
    "s1 = 'A B C D E F'\n",
    "print(s1.split(' ', maxsplit=1))"
   ]
  },
  {
   "cell_type": "code",
   "execution_count": 226,
   "id": "3251ceef",
   "metadata": {},
   "outputs": [
    {
     "name": "stdout",
     "output_type": "stream",
     "text": [
      "['A', 'B', 'C', 'D', 'E F']\n"
     ]
    }
   ],
   "source": [
    "s1 = 'A B C D E F'\n",
    "print(s1.split(' ', maxsplit=4))"
   ]
  },
  {
   "cell_type": "code",
   "execution_count": 227,
   "id": "9a74dd19",
   "metadata": {},
   "outputs": [],
   "source": [
    "# continue while loop.............................\n",
    "    \n",
    "# Break = terminate the loop\n",
    "# continue = skip the curent interation"
   ]
  },
  {
   "cell_type": "code",
   "execution_count": 228,
   "id": "4bf11b06",
   "metadata": {},
   "outputs": [
    {
     "name": "stdout",
     "output_type": "stream",
     "text": [
      "1\n",
      "3\n",
      "5\n",
      "7\n",
      "9\n"
     ]
    }
   ],
   "source": [
    "i =1 \n",
    "while i<= 10:\n",
    "    if i % 2 != 0:\n",
    "        print(i)\n",
    "    i = i+ 1"
   ]
  },
  {
   "cell_type": "code",
   "execution_count": 229,
   "id": "9a6330da",
   "metadata": {},
   "outputs": [
    {
     "name": "stdout",
     "output_type": "stream",
     "text": [
      "1\n",
      "3\n",
      "5\n",
      "7\n",
      "9\n",
      "11\n"
     ]
    }
   ],
   "source": [
    "i =0 \n",
    "while i<= 10:\n",
    "    i = i+ 1\n",
    "    if i % 2 == 0:\n",
    "        continue\n",
    "    print(i)"
   ]
  },
  {
   "cell_type": "code",
   "execution_count": 230,
   "id": "cc0e41af",
   "metadata": {},
   "outputs": [
    {
     "name": "stdout",
     "output_type": "stream",
     "text": [
      "1\n",
      "2\n",
      "3\n",
      "4\n",
      "6\n",
      "7\n",
      "8\n",
      "9\n",
      "10\n",
      "11\n"
     ]
    }
   ],
   "source": [
    "# skip 5\n",
    "i =0 \n",
    "while i<= 10:\n",
    "    i = i+ 1\n",
    "    if i == 5:\n",
    "        continue\n",
    "    print(i)"
   ]
  },
  {
   "cell_type": "code",
   "execution_count": 231,
   "id": "e98ff419",
   "metadata": {},
   "outputs": [],
   "source": [
    "# pass = no operatin taken"
   ]
  },
  {
   "cell_type": "code",
   "execution_count": 232,
   "id": "441c45dd",
   "metadata": {},
   "outputs": [],
   "source": [
    "if i < 10:\n",
    "    pass"
   ]
  },
  {
   "cell_type": "code",
   "execution_count": 234,
   "id": "f41f0305",
   "metadata": {},
   "outputs": [
    {
     "name": "stdout",
     "output_type": "stream",
     "text": [
      "1\n",
      "2\n",
      "3\n",
      "4\n",
      "6\n",
      "7\n",
      "8\n",
      "9\n",
      "10\n",
      "11\n"
     ]
    }
   ],
   "source": [
    "i =0 \n",
    "while i<= 10:\n",
    "    i = i+ 1\n",
    "    if i == 5:\n",
    "        pass\n",
    "        #print(i)\n",
    "    else:\n",
    "        print(i)"
   ]
  },
  {
   "cell_type": "code",
   "execution_count": 235,
   "id": "c0c706a6",
   "metadata": {},
   "outputs": [
    {
     "name": "stdout",
     "output_type": "stream",
     "text": [
      "1\n",
      "2\n",
      "3\n",
      "4\n"
     ]
    }
   ],
   "source": [
    "i =0 \n",
    "while i<= 10:\n",
    "    i = i+ 1\n",
    "    if i == 5:\n",
    "        break\n",
    "        print(i)\n",
    "    else:\n",
    "        print(i)"
   ]
  },
  {
   "cell_type": "code",
   "execution_count": 236,
   "id": "43859277",
   "metadata": {},
   "outputs": [
    {
     "name": "stdout",
     "output_type": "stream",
     "text": [
      " b is not found\n"
     ]
    }
   ],
   "source": [
    "ls = ['a', 'e', 'c', 'd']\n",
    "i = 0\n",
    "while i < len(ls):\n",
    "    if ls[i] == 'b':\n",
    "        print('b found')\n",
    "        break\n",
    "    i = i + 1\n",
    "else:\n",
    "    print(' b is not found')"
   ]
  },
  {
   "cell_type": "code",
   "execution_count": 237,
   "id": "0a3156c6",
   "metadata": {},
   "outputs": [
    {
     "name": "stdout",
     "output_type": "stream",
     "text": [
      "hi 2 hi 4 "
     ]
    }
   ],
   "source": [
    "i =0 \n",
    "while i < 4:\n",
    "    i = i+ 1\n",
    "    if i % 2 != 0:\n",
    "        pass\n",
    "        print('hi',end=' ')\n",
    "        \n",
    "    else:\n",
    "        print(i, end= ' ')"
   ]
  },
  {
   "cell_type": "code",
   "execution_count": 238,
   "id": "6fe9f994",
   "metadata": {},
   "outputs": [],
   "source": [
    "i =0 \n",
    "while i < 4:\n",
    "    i = i+ 1\n",
    "    if i % 2 != 0:\n",
    "        break\n",
    "        print('hi',end=' ')\n",
    "        \n",
    "    else:\n",
    "        print(i, end= ' ')"
   ]
  },
  {
   "cell_type": "code",
   "execution_count": 239,
   "id": "09bde4db",
   "metadata": {},
   "outputs": [
    {
     "name": "stdout",
     "output_type": "stream",
     "text": [
      "2 4 "
     ]
    }
   ],
   "source": [
    "i =0 \n",
    "while i < 4:\n",
    "    i = i+ 1\n",
    "    if i % 2 != 0:\n",
    "        continue\n",
    "        print('hi',end=' ')\n",
    "        \n",
    "    else:\n",
    "        print(i, end= ' ')"
   ]
  },
  {
   "cell_type": "markdown",
   "id": "55f517e0",
   "metadata": {},
   "source": [
    "# For Loop........ Range()"
   ]
  },
  {
   "cell_type": "code",
   "execution_count": 240,
   "id": "faa95f22",
   "metadata": {},
   "outputs": [
    {
     "data": {
      "text/plain": [
       "'PYTHON'"
      ]
     },
     "execution_count": 240,
     "metadata": {},
     "output_type": "execute_result"
    }
   ],
   "source": [
    "name"
   ]
  },
  {
   "cell_type": "code",
   "execution_count": 241,
   "id": "3c8b802c",
   "metadata": {},
   "outputs": [
    {
     "name": "stdout",
     "output_type": "stream",
     "text": [
      "P\n",
      "Y\n",
      "T\n",
      "H\n",
      "O\n",
      "N\n"
     ]
    }
   ],
   "source": [
    "for i in name:\n",
    "    print(i)"
   ]
  },
  {
   "cell_type": "code",
   "execution_count": 242,
   "id": "bebd1ea7",
   "metadata": {},
   "outputs": [
    {
     "name": "stdout",
     "output_type": "stream",
     "text": [
      "Grapes found\n"
     ]
    }
   ],
   "source": [
    "fruits = ['apple', 'org','grapes', 'mango', 'papaya']\n",
    "\n",
    "is_grapes = False\n",
    "\n",
    "for i in fruits:\n",
    "    if i == 'grapes':\n",
    "        is_grapes = True\n",
    "        print('Grapes found')\n",
    "        break\n",
    "if is_grapes == False:\n",
    "    print('Not found')"
   ]
  },
  {
   "cell_type": "code",
   "execution_count": 244,
   "id": "f46b8af6",
   "metadata": {},
   "outputs": [
    {
     "name": "stdout",
     "output_type": "stream",
     "text": [
      "All elements are in limit\n"
     ]
    }
   ],
   "source": [
    "my_list = [14,10,12,17,19, -50]\n",
    "\n",
    "low_bound = 10\n",
    "upper_bond = 20\n",
    "for i in my_list:\n",
    "    if i < low_bound & i > upper_bond:\n",
    "        print(' All elements are not in limit')\n",
    "        break\n",
    "else:\n",
    "    print('All elements are in limit')"
   ]
  },
  {
   "cell_type": "raw",
   "id": "c9f68222",
   "metadata": {},
   "source": [
    "# Range()\n",
    "range(stop) -> range object\n",
    "range(start, stop[, step]) -> range object\n",
    "\n",
    "Return an object that produces a sequence of integers from start (inclusive)\n",
    "# IMP\n",
    "# range alway start from 0 to ...\n",
    "# not from -ve to ..\n",
    "# move left to right\n",
    "# 'float' object cannot be interpreted as an integer"
   ]
  },
  {
   "cell_type": "code",
   "execution_count": 246,
   "id": "b93149b4",
   "metadata": {},
   "outputs": [
    {
     "data": {
      "text/plain": [
       "[1, 3, 5, 7, 9]"
      ]
     },
     "execution_count": 246,
     "metadata": {},
     "output_type": "execute_result"
    }
   ],
   "source": [
    "list(range(1,11,2))"
   ]
  },
  {
   "cell_type": "code",
   "execution_count": 247,
   "id": "8214a627",
   "metadata": {},
   "outputs": [
    {
     "data": {
      "text/plain": [
       "[-10, -9, -8, -7, -6, -5, -4, -3, -2, -1, 0]"
      ]
     },
     "execution_count": 247,
     "metadata": {},
     "output_type": "execute_result"
    }
   ],
   "source": [
    "# alway move from left to rigth\n",
    "list(range(-10,1))"
   ]
  },
  {
   "cell_type": "code",
   "execution_count": 248,
   "id": "b54c3f67",
   "metadata": {},
   "outputs": [
    {
     "data": {
      "text/plain": [
       "[]"
      ]
     },
     "execution_count": 248,
     "metadata": {},
     "output_type": "execute_result"
    }
   ],
   "source": [
    "# Defult start from 0\n",
    "list(range(-10))"
   ]
  },
  {
   "cell_type": "code",
   "execution_count": 250,
   "id": "e39335fd",
   "metadata": {},
   "outputs": [
    {
     "data": {
      "text/plain": [
       "[0, 1, 2, 3, 4, 5, 6, 7, 8, 9]"
      ]
     },
     "execution_count": 250,
     "metadata": {},
     "output_type": "execute_result"
    }
   ],
   "source": [
    "# Defult start from 0\n",
    "list(range(10))"
   ]
  },
  {
   "cell_type": "code",
   "execution_count": 249,
   "id": "a94c2b03",
   "metadata": {},
   "outputs": [
    {
     "data": {
      "text/plain": [
       "[10, 9, 8, 7, 6, 5, 4, 3, 2, 1]"
      ]
     },
     "execution_count": 249,
     "metadata": {},
     "output_type": "execute_result"
    }
   ],
   "source": [
    "# right to left by adding -ve step\n",
    "list(range(10,0,-1))"
   ]
  },
  {
   "cell_type": "code",
   "execution_count": 252,
   "id": "729c9500",
   "metadata": {},
   "outputs": [
    {
     "name": "stdout",
     "output_type": "stream",
     "text": [
      "Enter the number : 10\n",
      "The sum of number for 1 to 10 is 55\n"
     ]
    }
   ],
   "source": [
    "num = int(input('Enter the number : '))\n",
    "\n",
    "total = 0\n",
    "\n",
    "for i in range(1, num + 1):\n",
    "    total = total +i\n",
    "    \n",
    "print(f'The sum of number for 1 to {num} is {total}')"
   ]
  },
  {
   "cell_type": "code",
   "execution_count": 253,
   "id": "ffc3d764",
   "metadata": {},
   "outputs": [
    {
     "name": "stdout",
     "output_type": "stream",
     "text": [
      "0\n",
      "1\n",
      "2\n",
      "3\n",
      "4\n",
      "5\n",
      "6\n",
      "7\n",
      "8\n",
      "9\n",
      "loop complted\n"
     ]
    }
   ],
   "source": [
    "# same as while and else\n",
    "\n",
    "for i in range(10):\n",
    "    print(i)\n",
    "else:\n",
    "    print('loop complted')"
   ]
  },
  {
   "cell_type": "code",
   "execution_count": 254,
   "id": "f6af8bed",
   "metadata": {},
   "outputs": [
    {
     "name": "stdout",
     "output_type": "stream",
     "text": [
      "0\n",
      "1\n",
      "2\n",
      "3\n",
      "4\n",
      "5\n"
     ]
    }
   ],
   "source": [
    "for i in range(10):\n",
    "    \n",
    "    print(i)\n",
    "    \n",
    "    if i == 5:\n",
    "        break\n",
    "else:\n",
    "    print('loop complted')"
   ]
  },
  {
   "cell_type": "code",
   "execution_count": 255,
   "id": "83bb90de",
   "metadata": {},
   "outputs": [
    {
     "name": "stdout",
     "output_type": "stream",
     "text": [
      "1\n",
      "a\n",
      "b\n",
      "c\n",
      "2\n",
      "a\n",
      "b\n",
      "c\n",
      "3\n",
      "a\n",
      "b\n",
      "c\n"
     ]
    }
   ],
   "source": [
    "num = [1,2,3]\n",
    "alph = ['a', 'b', 'c']\n",
    "\n",
    "for i in num:\n",
    "    print(i)\n",
    "    for j in alph:\n",
    "        print(j)"
   ]
  },
  {
   "cell_type": "code",
   "execution_count": 256,
   "id": "72712e09",
   "metadata": {},
   "outputs": [
    {
     "name": "stdout",
     "output_type": "stream",
     "text": [
      "* * * \n",
      "* * * \n",
      "* * * \n"
     ]
    }
   ],
   "source": [
    "for i in range(3):\n",
    "    for j in range(3):\n",
    "        print('*', end= ' ')\n",
    "    print()"
   ]
  },
  {
   "cell_type": "code",
   "execution_count": 257,
   "id": "cd3eaa96",
   "metadata": {},
   "outputs": [
    {
     "name": "stdout",
     "output_type": "stream",
     "text": [
      "* * * \n",
      "* * * \n",
      "* * * \n"
     ]
    }
   ],
   "source": [
    "for i in range(3):\n",
    "    print('* ' *3)"
   ]
  },
  {
   "cell_type": "code",
   "execution_count": 259,
   "id": "300943f2",
   "metadata": {},
   "outputs": [
    {
     "name": "stdout",
     "output_type": "stream",
     "text": [
      "\n",
      "* \n",
      "* * \n",
      "* * * \n",
      "* * * * \n",
      "* * * * * \n"
     ]
    }
   ],
   "source": [
    "for i in range(6):\n",
    "    for j in range(0, i):\n",
    "        print('*', end = ' ')\n",
    "    print()"
   ]
  },
  {
   "cell_type": "code",
   "execution_count": 260,
   "id": "37754e87",
   "metadata": {},
   "outputs": [],
   "source": [
    "# questions "
   ]
  },
  {
   "cell_type": "code",
   "execution_count": 261,
   "id": "263788f8",
   "metadata": {},
   "outputs": [
    {
     "name": "stdout",
     "output_type": "stream",
     "text": [
      "Enter the num:10\n",
      "[1, 2, 3, 4, 5, 6, 7, 8, 9, 10]\n",
      "Enter the num:5\n",
      "[1, 2, 3, 4, 5]\n",
      "Enter the num:6\n",
      "[1, 2, 3, 4, 5, 6]\n",
      "Enter the num:0\n"
     ]
    }
   ],
   "source": [
    "# print the numbers till the num  until the zero is entered\n",
    "while True:\n",
    "    num = int(input('Enter the num:'))\n",
    "    if num == 0:\n",
    "        break\n",
    "    else:\n",
    "        print(list(range(1, num+1)))"
   ]
  },
  {
   "cell_type": "code",
   "execution_count": 262,
   "id": "7d2ca444",
   "metadata": {},
   "outputs": [
    {
     "name": "stdout",
     "output_type": "stream",
     "text": [
      "Enter the num:10\n",
      "[1, 2, 3, 4, 5, 6, 7, 8, 9, 10]\n",
      "Enter the num:5\n",
      "[1, 2, 3, 4, 5]\n",
      "Enter the num:0\n"
     ]
    }
   ],
   "source": [
    "num = int(input('Enter the num:'))\n",
    "while(num):\n",
    "    print(list(range(1, num+1)))\n",
    "    num = int(input('Enter the num:'))"
   ]
  },
  {
   "cell_type": "code",
   "execution_count": 263,
   "id": "275d0fbf",
   "metadata": {},
   "outputs": [],
   "source": [
    "# break automaticaly if zeor entered [ 0 is False]\n",
    "while(0):\n",
    "    print('j')"
   ]
  },
  {
   "cell_type": "code",
   "execution_count": 265,
   "id": "7351d1bd",
   "metadata": {},
   "outputs": [],
   "source": [
    "# goes into infinet loop\n",
    "#while(1):\n",
    "#    print('j')"
   ]
  },
  {
   "cell_type": "markdown",
   "id": "d8585e00",
   "metadata": {},
   "source": [
    "# Data Structure"
   ]
  },
  {
   "cell_type": "markdown",
   "id": "45eb27e3",
   "metadata": {},
   "source": [
    "## 1. List[]"
   ]
  },
  {
   "cell_type": "code",
   "execution_count": 266,
   "id": "2fba1821",
   "metadata": {},
   "outputs": [
    {
     "data": {
      "text/plain": [
       "[]"
      ]
     },
     "execution_count": 266,
     "metadata": {},
     "output_type": "execute_result"
    }
   ],
   "source": [
    "mylist = []\n",
    "mylist"
   ]
  },
  {
   "cell_type": "code",
   "execution_count": 267,
   "id": "cb5554b2",
   "metadata": {},
   "outputs": [
    {
     "data": {
      "text/plain": [
       "[1, 2, 3, 4, 5]"
      ]
     },
     "execution_count": 267,
     "metadata": {},
     "output_type": "execute_result"
    }
   ],
   "source": [
    "# list of integer\n",
    "mylist = [1,2,3,4,5]\n",
    "mylist"
   ]
  },
  {
   "cell_type": "code",
   "execution_count": 268,
   "id": "c42b1701",
   "metadata": {},
   "outputs": [
    {
     "data": {
      "text/plain": [
       "[1, 'vilas', 3.0]"
      ]
     },
     "execution_count": 268,
     "metadata": {},
     "output_type": "execute_result"
    }
   ],
   "source": [
    "# list with mixed elements\n",
    "my_list = [1, 'vilas', 3.]\n",
    "my_list"
   ]
  },
  {
   "cell_type": "code",
   "execution_count": 269,
   "id": "bb1b2e9a",
   "metadata": {},
   "outputs": [
    {
     "data": {
      "text/plain": [
       "['p', 'y', 't', 'h', 'o', 'n']"
      ]
     },
     "execution_count": 269,
     "metadata": {},
     "output_type": "execute_result"
    }
   ],
   "source": [
    "# inbuild function called 'list()'\n",
    "# for interable\n",
    "list('python')"
   ]
  },
  {
   "cell_type": "code",
   "execution_count": 270,
   "id": "b721079f",
   "metadata": {},
   "outputs": [
    {
     "ename": "TypeError",
     "evalue": "'int' object is not iterable",
     "output_type": "error",
     "traceback": [
      "\u001b[1;31m---------------------------------------------------------------------------\u001b[0m",
      "\u001b[1;31mTypeError\u001b[0m                                 Traceback (most recent call last)",
      "\u001b[1;32m~\\AppData\\Local\\Temp/ipykernel_28312/3444349456.py\u001b[0m in \u001b[0;36m<module>\u001b[1;34m\u001b[0m\n\u001b[0;32m      1\u001b[0m \u001b[1;31m# 10 (int) is not iterable\u001b[0m\u001b[1;33m\u001b[0m\u001b[1;33m\u001b[0m\u001b[0m\n\u001b[1;32m----> 2\u001b[1;33m \u001b[0mlist\u001b[0m\u001b[1;33m(\u001b[0m\u001b[1;36m10\u001b[0m\u001b[1;33m)\u001b[0m\u001b[1;33m\u001b[0m\u001b[1;33m\u001b[0m\u001b[0m\n\u001b[0m",
      "\u001b[1;31mTypeError\u001b[0m: 'int' object is not iterable"
     ]
    }
   ],
   "source": [
    "# 10 (int) is not iterable\n",
    "list(10)"
   ]
  },
  {
   "cell_type": "code",
   "execution_count": 271,
   "id": "e101dd4e",
   "metadata": {},
   "outputs": [
    {
     "data": {
      "text/plain": [
       "[1, 2, 3]"
      ]
     },
     "execution_count": 271,
     "metadata": {},
     "output_type": "execute_result"
    }
   ],
   "source": [
    "# list with tuple\n",
    "list((1,2,3))"
   ]
  },
  {
   "cell_type": "code",
   "execution_count": 272,
   "id": "1f2c9d35",
   "metadata": {},
   "outputs": [],
   "source": [
    "# accessing the elements\n",
    "# forward indexing(0,1,2,....) and Backward indexing(-1,-2,-3,..)\n",
    "mylist = [1,2,3,4,45,5,6,7]"
   ]
  },
  {
   "cell_type": "code",
   "execution_count": 273,
   "id": "42b3902e",
   "metadata": {},
   "outputs": [
    {
     "data": {
      "text/plain": [
       "3"
      ]
     },
     "execution_count": 273,
     "metadata": {},
     "output_type": "execute_result"
    }
   ],
   "source": [
    "# access 3\n",
    "mylist[2]"
   ]
  },
  {
   "cell_type": "code",
   "execution_count": 274,
   "id": "c5029138",
   "metadata": {},
   "outputs": [
    {
     "data": {
      "text/plain": [
       "[2, 3, 4, 45]"
      ]
     },
     "execution_count": 274,
     "metadata": {},
     "output_type": "execute_result"
    }
   ],
   "source": [
    "# slicing 2 to 45\n",
    "mylist[1:5] # excluded last element"
   ]
  },
  {
   "cell_type": "code",
   "execution_count": 275,
   "id": "5b845e8e",
   "metadata": {},
   "outputs": [
    {
     "data": {
      "text/plain": [
       "7"
      ]
     },
     "execution_count": 275,
     "metadata": {},
     "output_type": "execute_result"
    }
   ],
   "source": [
    "mylist[-1]"
   ]
  },
  {
   "cell_type": "code",
   "execution_count": 277,
   "id": "c5edeb55",
   "metadata": {},
   "outputs": [
    {
     "data": {
      "text/plain": [
       "[7, 6, 5, 45, 4, 3, 2, 1]"
      ]
     },
     "execution_count": 277,
     "metadata": {},
     "output_type": "execute_result"
    }
   ],
   "source": [
    "mylist[-1::-1]"
   ]
  },
  {
   "cell_type": "code",
   "execution_count": 278,
   "id": "ffced926",
   "metadata": {},
   "outputs": [
    {
     "data": {
      "text/plain": [
       "5"
      ]
     },
     "execution_count": 278,
     "metadata": {},
     "output_type": "execute_result"
    }
   ],
   "source": [
    "mylist[-3]"
   ]
  },
  {
   "cell_type": "code",
   "execution_count": 279,
   "id": "f86dfb07",
   "metadata": {},
   "outputs": [],
   "source": [
    "mynum = [10,20,30,40,50]"
   ]
  },
  {
   "cell_type": "code",
   "execution_count": 280,
   "id": "281b15f2",
   "metadata": {},
   "outputs": [
    {
     "data": {
      "text/plain": [
       "[20, 30, 40, 50]"
      ]
     },
     "execution_count": 280,
     "metadata": {},
     "output_type": "execute_result"
    }
   ],
   "source": [
    "mynum[1:6]"
   ]
  },
  {
   "cell_type": "code",
   "execution_count": 281,
   "id": "85d092f2",
   "metadata": {},
   "outputs": [
    {
     "data": {
      "text/plain": [
       "([], [30], [20, 30, 40, 50])"
      ]
     },
     "execution_count": 281,
     "metadata": {},
     "output_type": "execute_result"
    }
   ],
   "source": [
    "mynum[2:2], mynum[2:3], mynum[1:]"
   ]
  },
  {
   "cell_type": "code",
   "execution_count": 286,
   "id": "b5ac7c2a",
   "metadata": {},
   "outputs": [
    {
     "data": {
      "text/plain": [
       "[10, 20, 50, 4, 50]"
      ]
     },
     "execution_count": 286,
     "metadata": {},
     "output_type": "execute_result"
    }
   ],
   "source": [
    "mynum[2:4] = 50,4  \n",
    "mynum"
   ]
  },
  {
   "cell_type": "code",
   "execution_count": 288,
   "id": "d14afc42",
   "metadata": {},
   "outputs": [
    {
     "data": {
      "text/plain": [
       "['cri', 'hokey', 'footb']"
      ]
     },
     "execution_count": 288,
     "metadata": {},
     "output_type": "execute_result"
    }
   ],
   "source": [
    "sports = ['cri', 'hokey', 'footb']\n",
    "sports"
   ]
  },
  {
   "cell_type": "code",
   "execution_count": 289,
   "id": "910e9fc8",
   "metadata": {},
   "outputs": [
    {
     "data": {
      "text/plain": [
       "['cri', 'bat', 'footb']"
      ]
     },
     "execution_count": 289,
     "metadata": {},
     "output_type": "execute_result"
    }
   ],
   "source": [
    "# change the 2nd element\n",
    "sports[1] = 'bat'\n",
    "sports"
   ]
  },
  {
   "cell_type": "code",
   "execution_count": 290,
   "id": "e24448ae",
   "metadata": {},
   "outputs": [
    {
     "data": {
      "text/plain": [
       "['cri', 'a', 'b']"
      ]
     },
     "execution_count": 290,
     "metadata": {},
     "output_type": "execute_result"
    }
   ],
   "source": [
    "sports[1:3] = ['a','b']\n",
    "sports"
   ]
  },
  {
   "cell_type": "code",
   "execution_count": 291,
   "id": "7ab53a66",
   "metadata": {},
   "outputs": [],
   "source": [
    "# lsit concatination"
   ]
  },
  {
   "cell_type": "code",
   "execution_count": 292,
   "id": "f8f6309e",
   "metadata": {},
   "outputs": [],
   "source": [
    "cap = ['A','B','C']\n",
    "small = ['a','b','C']"
   ]
  },
  {
   "cell_type": "code",
   "execution_count": 293,
   "id": "faae3c12",
   "metadata": {},
   "outputs": [
    {
     "data": {
      "text/plain": [
       "['A', 'B', 'C', 'a', 'b', 'C']"
      ]
     },
     "execution_count": 293,
     "metadata": {},
     "output_type": "execute_result"
    }
   ],
   "source": [
    "cap + small"
   ]
  },
  {
   "cell_type": "code",
   "execution_count": 294,
   "id": "6bb95b2a",
   "metadata": {},
   "outputs": [
    {
     "data": {
      "text/plain": [
       "['A', 'B', 'C', 'D']"
      ]
     },
     "execution_count": 294,
     "metadata": {},
     "output_type": "execute_result"
    }
   ],
   "source": [
    "cap + ['D']"
   ]
  },
  {
   "cell_type": "code",
   "execution_count": 295,
   "id": "4360e536",
   "metadata": {},
   "outputs": [
    {
     "data": {
      "text/plain": [
       "['A', 'B', 'C', 'E']"
      ]
     },
     "execution_count": 295,
     "metadata": {},
     "output_type": "execute_result"
    }
   ],
   "source": [
    "cap + list('E')"
   ]
  },
  {
   "cell_type": "code",
   "execution_count": 296,
   "id": "4e93f519",
   "metadata": {},
   "outputs": [
    {
     "data": {
      "text/plain": [
       "['A', 'B', 'C', 'E']"
      ]
     },
     "execution_count": 296,
     "metadata": {},
     "output_type": "execute_result"
    }
   ],
   "source": [
    "cap + list(['E'])"
   ]
  },
  {
   "cell_type": "code",
   "execution_count": 297,
   "id": "2283eff8",
   "metadata": {},
   "outputs": [
    {
     "data": {
      "text/plain": [
       "['A', 'B', 'C', 'A', 'B', 'C', 'A', 'B', 'C']"
      ]
     },
     "execution_count": 297,
     "metadata": {},
     "output_type": "execute_result"
    }
   ],
   "source": [
    "cap*3"
   ]
  },
  {
   "cell_type": "code",
   "execution_count": 298,
   "id": "b39c76ba",
   "metadata": {},
   "outputs": [],
   "source": [
    "# not allowed\n",
    "#cap + 3"
   ]
  },
  {
   "cell_type": "code",
   "execution_count": 299,
   "id": "57a299c6",
   "metadata": {},
   "outputs": [
    {
     "data": {
      "text/plain": [
       "True"
      ]
     },
     "execution_count": 299,
     "metadata": {},
     "output_type": "execute_result"
    }
   ],
   "source": [
    "'A' in cap"
   ]
  },
  {
   "cell_type": "code",
   "execution_count": 300,
   "id": "7bb53cfa",
   "metadata": {},
   "outputs": [
    {
     "data": {
      "text/plain": [
       "False"
      ]
     },
     "execution_count": 300,
     "metadata": {},
     "output_type": "execute_result"
    }
   ],
   "source": [
    "'A' not in cap"
   ]
  },
  {
   "cell_type": "markdown",
   "id": "9f6c48fb",
   "metadata": {},
   "source": [
    "### list function"
   ]
  },
  {
   "cell_type": "code",
   "execution_count": null,
   "id": "717c47bd",
   "metadata": {},
   "outputs": [],
   "source": [
    "# Change the Heading font by adding # "
   ]
  },
  {
   "cell_type": "markdown",
   "id": "5a467263",
   "metadata": {},
   "source": [
    "# A"
   ]
  },
  {
   "cell_type": "markdown",
   "id": "b6c02c22",
   "metadata": {},
   "source": [
    "## A"
   ]
  },
  {
   "cell_type": "markdown",
   "id": "f006d924",
   "metadata": {},
   "source": [
    "### A"
   ]
  },
  {
   "cell_type": "markdown",
   "id": "a561b9ab",
   "metadata": {},
   "source": [
    "#### A"
   ]
  },
  {
   "cell_type": "raw",
   "id": "44fadd6e",
   "metadata": {},
   "source": [
    "1 len()\n",
    "2 max()\n",
    "3 min()\n",
    "4 sum()\n",
    "5 sorted()\n",
    "6 any()\n",
    "7 all()\n",
    "8 list()"
   ]
  },
  {
   "cell_type": "code",
   "execution_count": 301,
   "id": "f6eb88ff",
   "metadata": {},
   "outputs": [],
   "source": [
    "ls = [1,2,3,4,5]"
   ]
  },
  {
   "cell_type": "code",
   "execution_count": 302,
   "id": "c9b2bedd",
   "metadata": {},
   "outputs": [
    {
     "data": {
      "text/plain": [
       "5"
      ]
     },
     "execution_count": 302,
     "metadata": {},
     "output_type": "execute_result"
    }
   ],
   "source": [
    "# 1 len()\n",
    "len(ls)"
   ]
  },
  {
   "cell_type": "code",
   "execution_count": 303,
   "id": "235b23db",
   "metadata": {},
   "outputs": [
    {
     "data": {
      "text/plain": [
       "5"
      ]
     },
     "execution_count": 303,
     "metadata": {},
     "output_type": "execute_result"
    }
   ],
   "source": [
    "# 2 max()\n",
    "max(ls)"
   ]
  },
  {
   "cell_type": "code",
   "execution_count": 304,
   "id": "87cf34b4",
   "metadata": {},
   "outputs": [
    {
     "data": {
      "text/plain": [
       "1"
      ]
     },
     "execution_count": 304,
     "metadata": {},
     "output_type": "execute_result"
    }
   ],
   "source": [
    "# 3 min()\n",
    "min(ls)"
   ]
  },
  {
   "cell_type": "code",
   "execution_count": 306,
   "id": "27779164",
   "metadata": {},
   "outputs": [
    {
     "data": {
      "text/plain": [
       "15"
      ]
     },
     "execution_count": 306,
     "metadata": {},
     "output_type": "execute_result"
    }
   ],
   "source": [
    "# 4 sum()\n",
    "sum(ls)"
   ]
  },
  {
   "cell_type": "code",
   "execution_count": 305,
   "id": "0ec1f995",
   "metadata": {},
   "outputs": [
    {
     "data": {
      "text/plain": [
       "[1, 2, 3, 4, 5]"
      ]
     },
     "execution_count": 305,
     "metadata": {},
     "output_type": "execute_result"
    }
   ],
   "source": [
    "# 5 sorted() # accending order\n",
    "sorted(ls)"
   ]
  },
  {
   "cell_type": "code",
   "execution_count": 307,
   "id": "a6cfbc0e",
   "metadata": {},
   "outputs": [
    {
     "data": {
      "text/plain": [
       "[5, 4, 3, 2, 1]"
      ]
     },
     "execution_count": 307,
     "metadata": {},
     "output_type": "execute_result"
    }
   ],
   "source": [
    "# decending order\n",
    "sorted(ls,reverse= True)"
   ]
  },
  {
   "cell_type": "code",
   "execution_count": 310,
   "id": "7a99c076",
   "metadata": {},
   "outputs": [
    {
     "data": {
      "text/plain": [
       "True"
      ]
     },
     "execution_count": 310,
     "metadata": {},
     "output_type": "execute_result"
    }
   ],
   "source": [
    "# 6 any()\n",
    "ls1 = [0,1,2,3,4,5]\n",
    "any(ls1)  # or"
   ]
  },
  {
   "cell_type": "code",
   "execution_count": 311,
   "id": "957dcb26",
   "metadata": {},
   "outputs": [
    {
     "data": {
      "text/plain": [
       "False"
      ]
     },
     "execution_count": 311,
     "metadata": {},
     "output_type": "execute_result"
    }
   ],
   "source": [
    "any([0,0])"
   ]
  },
  {
   "cell_type": "code",
   "execution_count": 312,
   "id": "ddb5613d",
   "metadata": {},
   "outputs": [
    {
     "data": {
      "text/plain": [
       "True"
      ]
     },
     "execution_count": 312,
     "metadata": {},
     "output_type": "execute_result"
    }
   ],
   "source": [
    "any([0,1])"
   ]
  },
  {
   "cell_type": "code",
   "execution_count": 308,
   "id": "48b894b2",
   "metadata": {},
   "outputs": [
    {
     "data": {
      "text/plain": [
       "True"
      ]
     },
     "execution_count": 308,
     "metadata": {},
     "output_type": "execute_result"
    }
   ],
   "source": [
    "# 7 all()\n",
    "# if all element in list true then it will give True else give False\n",
    "all(ls)"
   ]
  },
  {
   "cell_type": "code",
   "execution_count": 309,
   "id": "e9490ad6",
   "metadata": {},
   "outputs": [
    {
     "data": {
      "text/plain": [
       "False"
      ]
     },
     "execution_count": 309,
     "metadata": {},
     "output_type": "execute_result"
    }
   ],
   "source": [
    "ls1 = [0,1,2,3,4,5]\n",
    "all(ls1)  # and"
   ]
  },
  {
   "cell_type": "code",
   "execution_count": 313,
   "id": "14679865",
   "metadata": {},
   "outputs": [
    {
     "data": {
      "text/plain": [
       "False"
      ]
     },
     "execution_count": 313,
     "metadata": {},
     "output_type": "execute_result"
    }
   ],
   "source": [
    "all([0,0])\n"
   ]
  },
  {
   "cell_type": "code",
   "execution_count": 314,
   "id": "06c7c6ec",
   "metadata": {},
   "outputs": [
    {
     "data": {
      "text/plain": [
       "False"
      ]
     },
     "execution_count": 314,
     "metadata": {},
     "output_type": "execute_result"
    }
   ],
   "source": [
    "all([1,0])"
   ]
  },
  {
   "cell_type": "markdown",
   "id": "6dc749c5",
   "metadata": {},
   "source": [
    "### list method"
   ]
  },
  {
   "cell_type": "raw",
   "id": "223b2a43",
   "metadata": {},
   "source": [
    "1 append()\n",
    "2 extend()\n",
    "3 insert(),  index()\n",
    "4 count()\n",
    "5 remove()\n",
    "6 pop()\n",
    "7 clear()\n",
    "8 reversed()\n",
    "9 sort()"
   ]
  },
  {
   "cell_type": "code",
   "execution_count": 315,
   "id": "a8b76e9e",
   "metadata": {},
   "outputs": [
    {
     "data": {
      "text/plain": [
       "[1, 2, 3, 4, 5]"
      ]
     },
     "execution_count": 315,
     "metadata": {},
     "output_type": "execute_result"
    }
   ],
   "source": [
    "ls = [1,2,3,4,5]\n",
    "ls"
   ]
  },
  {
   "cell_type": "code",
   "execution_count": 316,
   "id": "987175bf",
   "metadata": {},
   "outputs": [
    {
     "data": {
      "text/plain": [
       "[1, 2, 3, 4, 5, 100]"
      ]
     },
     "execution_count": 316,
     "metadata": {},
     "output_type": "execute_result"
    }
   ],
   "source": [
    "# to add one element at time\n",
    "ls.append(100)\n",
    "ls"
   ]
  },
  {
   "cell_type": "code",
   "execution_count": 317,
   "id": "67718106",
   "metadata": {},
   "outputs": [
    {
     "data": {
      "text/plain": [
       "[1, 2, 3, 4, 5, 100, 150, 500]"
      ]
     },
     "execution_count": 317,
     "metadata": {},
     "output_type": "execute_result"
    }
   ],
   "source": [
    "# to add multiple element at time ........1st way\n",
    "ls.extend([150, 500])\n",
    "ls"
   ]
  },
  {
   "cell_type": "code",
   "execution_count": 318,
   "id": "1d4b6d19",
   "metadata": {},
   "outputs": [
    {
     "data": {
      "text/plain": [
       "[1, 2, 3, 4, 5, 100, 150, 500, 150, 500]"
      ]
     },
     "execution_count": 318,
     "metadata": {},
     "output_type": "execute_result"
    }
   ],
   "source": [
    "# to add multiple element at time  ............ 2nd way\n",
    "ls + [150, 500] "
   ]
  },
  {
   "cell_type": "code",
   "execution_count": 319,
   "id": "b64ee0e4",
   "metadata": {},
   "outputs": [
    {
     "data": {
      "text/plain": [
       "[1, 2, 3, 4, 5, 100, 150, 500, [150, 500]]"
      ]
     },
     "execution_count": 319,
     "metadata": {},
     "output_type": "execute_result"
    }
   ],
   "source": [
    "# append add one at time\n",
    "ls.append([150, 500])\n",
    "ls"
   ]
  },
  {
   "cell_type": "code",
   "execution_count": 321,
   "id": "d30468a6",
   "metadata": {},
   "outputs": [
    {
     "data": {
      "text/plain": [
       "[1, 2, 3, 4, 50, 50, 5, 100, 150, 500, [150, 500]]"
      ]
     },
     "execution_count": 321,
     "metadata": {},
     "output_type": "execute_result"
    }
   ],
   "source": [
    "# ls[3] = 50 is overwrite but insert add the new element at given position\n",
    "# insert extra element at  perticular position\n",
    "# to insert element at perticular position\n",
    "ls.insert(4, 50)\n",
    "ls"
   ]
  },
  {
   "cell_type": "code",
   "execution_count": 322,
   "id": "0a625bff",
   "metadata": {},
   "outputs": [
    {
     "data": {
      "text/plain": [
       "[1, 2, 3, 4, 50, 50, 50, 5, 100, 150, 500, [150, 500]]"
      ]
     },
     "execution_count": 322,
     "metadata": {},
     "output_type": "execute_result"
    }
   ],
   "source": [
    "# again insert at 4th position\n",
    "ls.insert(4, 50)\n",
    "ls"
   ]
  },
  {
   "cell_type": "code",
   "execution_count": 323,
   "id": "07a3edcb",
   "metadata": {},
   "outputs": [
    {
     "data": {
      "text/plain": [
       "500"
      ]
     },
     "execution_count": 323,
     "metadata": {},
     "output_type": "execute_result"
    }
   ],
   "source": [
    "ls[-1][1]"
   ]
  },
  {
   "cell_type": "code",
   "execution_count": 324,
   "id": "06819695",
   "metadata": {},
   "outputs": [
    {
     "data": {
      "text/plain": [
       "3"
      ]
     },
     "execution_count": 324,
     "metadata": {},
     "output_type": "execute_result"
    }
   ],
   "source": [
    "# count\n",
    "ls.count(50)"
   ]
  },
  {
   "cell_type": "code",
   "execution_count": 325,
   "id": "e0c1ac80",
   "metadata": {},
   "outputs": [
    {
     "data": {
      "text/plain": [
       "1"
      ]
     },
     "execution_count": 325,
     "metadata": {},
     "output_type": "execute_result"
    }
   ],
   "source": [
    "ls.count(500)"
   ]
  },
  {
   "cell_type": "code",
   "execution_count": 326,
   "id": "04f522d6",
   "metadata": {},
   "outputs": [
    {
     "data": {
      "text/plain": [
       "0"
      ]
     },
     "execution_count": 326,
     "metadata": {},
     "output_type": "execute_result"
    }
   ],
   "source": [
    "# to get index of perticular element\n",
    "ls.index(1)"
   ]
  },
  {
   "cell_type": "code",
   "execution_count": 327,
   "id": "f791cae5",
   "metadata": {},
   "outputs": [
    {
     "data": {
      "text/plain": [
       "4"
      ]
     },
     "execution_count": 327,
     "metadata": {},
     "output_type": "execute_result"
    }
   ],
   "source": [
    "ls.index(50)"
   ]
  },
  {
   "cell_type": "code",
   "execution_count": 328,
   "id": "663c5117",
   "metadata": {},
   "outputs": [
    {
     "data": {
      "text/plain": [
       "10"
      ]
     },
     "execution_count": 328,
     "metadata": {},
     "output_type": "execute_result"
    }
   ],
   "source": [
    "#ls.index(4,start = 1,stop =6) index if between start and stop\n",
    "ls.index(500,1,-1)"
   ]
  },
  {
   "cell_type": "code",
   "execution_count": 329,
   "id": "93539582",
   "metadata": {},
   "outputs": [
    {
     "data": {
      "text/plain": [
       "[1, 2, 3, 4, 50, 50, 50, 5, 100, 150, 500]"
      ]
     },
     "execution_count": 329,
     "metadata": {},
     "output_type": "execute_result"
    }
   ],
   "source": [
    "# remove\n",
    "# to remove the single element directly \n",
    "# single element\n",
    "# ls.remove(value, /)\n",
    "ls.remove([150,500])\n",
    "ls"
   ]
  },
  {
   "cell_type": "code",
   "execution_count": 330,
   "id": "43675e2b",
   "metadata": {},
   "outputs": [
    {
     "data": {
      "text/plain": [
       "[1, 2, 3, 50, 50, 50, 5, 100, 150, 500]"
      ]
     },
     "execution_count": 330,
     "metadata": {},
     "output_type": "execute_result"
    }
   ],
   "source": [
    "ls.remove(4)\n",
    "ls"
   ]
  },
  {
   "cell_type": "code",
   "execution_count": 331,
   "id": "289725d3",
   "metadata": {},
   "outputs": [
    {
     "data": {
      "text/plain": [
       "500"
      ]
     },
     "execution_count": 331,
     "metadata": {},
     "output_type": "execute_result"
    }
   ],
   "source": [
    "# pop\n",
    "# remove and return thr element at the given index and return the removed element\n",
    "#index\n",
    "#  ls.pop(index=-1, /)  default\n",
    "ls.pop()"
   ]
  },
  {
   "cell_type": "code",
   "execution_count": 332,
   "id": "285cc85c",
   "metadata": {},
   "outputs": [
    {
     "data": {
      "text/plain": [
       "[1, 2, 3, 50, 50, 50, 5, 100, 150]"
      ]
     },
     "execution_count": 332,
     "metadata": {},
     "output_type": "execute_result"
    }
   ],
   "source": [
    "ls"
   ]
  },
  {
   "cell_type": "code",
   "execution_count": 333,
   "id": "629ca607",
   "metadata": {},
   "outputs": [],
   "source": [
    "# clear ---------- Remove all items from list.\n",
    "ls.clear()"
   ]
  },
  {
   "cell_type": "code",
   "execution_count": 334,
   "id": "b657890c",
   "metadata": {},
   "outputs": [
    {
     "data": {
      "text/plain": [
       "[]"
      ]
     },
     "execution_count": 334,
     "metadata": {},
     "output_type": "execute_result"
    }
   ],
   "source": [
    "ls"
   ]
  },
  {
   "cell_type": "code",
   "execution_count": 335,
   "id": "beb4966d",
   "metadata": {},
   "outputs": [],
   "source": [
    "ls = ['a','d', 'c', 'b']"
   ]
  },
  {
   "cell_type": "code",
   "execution_count": 336,
   "id": "108c7781",
   "metadata": {},
   "outputs": [
    {
     "data": {
      "text/plain": [
       "['a', 'b', 'c', 'd']"
      ]
     },
     "execution_count": 336,
     "metadata": {},
     "output_type": "execute_result"
    }
   ],
   "source": [
    "# sort in accending and deceniding order\n",
    "ls.sort()\n",
    "ls"
   ]
  },
  {
   "cell_type": "code",
   "execution_count": 337,
   "id": "ae01a20a",
   "metadata": {},
   "outputs": [
    {
     "data": {
      "text/plain": [
       "['d', 'c', 'b', 'a']"
      ]
     },
     "execution_count": 337,
     "metadata": {},
     "output_type": "execute_result"
    }
   ],
   "source": [
    "# revers thr list\n",
    "ls.reverse()\n",
    "ls"
   ]
  },
  {
   "cell_type": "code",
   "execution_count": 338,
   "id": "76863674",
   "metadata": {},
   "outputs": [
    {
     "data": {
      "text/plain": [
       "[4, 3, 2, 1]"
      ]
     },
     "execution_count": 338,
     "metadata": {},
     "output_type": "execute_result"
    }
   ],
   "source": [
    "ls1 = [1,2,3,4]\n",
    "ls1.reverse()\n",
    "ls1"
   ]
  },
  {
   "cell_type": "code",
   "execution_count": 348,
   "id": "0b34b40d",
   "metadata": {},
   "outputs": [
    {
     "name": "stdout",
     "output_type": "stream",
     "text": [
      "4\n",
      "3\n",
      "2\n",
      "1\n"
     ]
    }
   ],
   "source": [
    "# With while loop\n",
    "ls1 = [1,2,3,4]\n",
    "i = 1\n",
    "while i <= len(ls1):\n",
    "    print(ls1[-i])\n",
    "    #print(i)\n",
    "    i = i+1"
   ]
  },
  {
   "cell_type": "code",
   "execution_count": 354,
   "id": "cd63536a",
   "metadata": {},
   "outputs": [
    {
     "name": "stdout",
     "output_type": "stream",
     "text": [
      "4\n",
      "3\n",
      "2\n",
      "1\n"
     ]
    }
   ],
   "source": [
    "for i in range(len(ls1),0, -1):\n",
    "    print(i)"
   ]
  },
  {
   "cell_type": "raw",
   "id": "920e7bea",
   "metadata": {},
   "source": [
    "Q 1 : Write a program to accept five integer from user, and store them in a list \n",
    "Display these integers and sum integers"
   ]
  },
  {
   "cell_type": "code",
   "execution_count": 357,
   "id": "b532fdf2",
   "metadata": {},
   "outputs": [
    {
     "name": "stdout",
     "output_type": "stream",
     "text": [
      "Enter Five numbers (seprated by comma:10,20,50,40,50,60,60\n",
      "List of number entered are :  [10, 20, 50, 40, 50, 60, 60]\n",
      "Sum of Final_ls is:  290\n"
     ]
    }
   ],
   "source": [
    "ls = input('Enter Five numbers (seprated by comma:')\n",
    "temp= ls.split(',')\n",
    "Final_ls = []\n",
    "for i in temp:\n",
    "    Final_ls.append(int(i))\n",
    "print('List of number entered are : ', Final_ls)\n",
    "print('Sum of Final_ls is: ', sum(Final_ls))"
   ]
  },
  {
   "cell_type": "code",
   "execution_count": 360,
   "id": "dd4e7492",
   "metadata": {},
   "outputs": [
    {
     "data": {
      "text/plain": [
       "[10, 20, 30, 40, 50]"
      ]
     },
     "execution_count": 360,
     "metadata": {},
     "output_type": "execute_result"
    }
   ],
   "source": [
    "# print unique numbers from list without using in-build fun\n",
    "Final_ls = [10, 20, 30, 40, 50, 20 , 50]\n",
    "\n",
    "\n",
    "lt = []\n",
    "for i in Final_ls:\n",
    "    if i not in lt:\n",
    "        lt.append(i)\n",
    "        \n",
    "lt"
   ]
  },
  {
   "cell_type": "markdown",
   "id": "d1f7bee4",
   "metadata": {},
   "source": [
    "### List comprehension"
   ]
  },
  {
   "cell_type": "code",
   "execution_count": 361,
   "id": "4159848e",
   "metadata": {},
   "outputs": [],
   "source": [
    "my_list = 'Python'"
   ]
  },
  {
   "cell_type": "code",
   "execution_count": 362,
   "id": "bfd40f3f",
   "metadata": {},
   "outputs": [],
   "source": [
    "new_ls = []\n",
    "for i in my_list:\n",
    "    new_ls.append(i)\n",
    "    "
   ]
  },
  {
   "cell_type": "code",
   "execution_count": 363,
   "id": "25759a3c",
   "metadata": {},
   "outputs": [
    {
     "data": {
      "text/plain": [
       "['P', 'y', 't', 'h', 'o', 'n']"
      ]
     },
     "execution_count": 363,
     "metadata": {},
     "output_type": "execute_result"
    }
   ],
   "source": [
    "new_ls"
   ]
  },
  {
   "cell_type": "code",
   "execution_count": 364,
   "id": "b2caf0fa",
   "metadata": {},
   "outputs": [
    {
     "data": {
      "text/plain": [
       "['P', 'y', 't', 'h', 'o', 'n']"
      ]
     },
     "execution_count": 364,
     "metadata": {},
     "output_type": "execute_result"
    }
   ],
   "source": [
    "# with list comprehension\n",
    "[i for i in my_list]"
   ]
  },
  {
   "cell_type": "code",
   "execution_count": 365,
   "id": "b2ed11a6",
   "metadata": {},
   "outputs": [
    {
     "data": {
      "text/plain": [
       "[1, 4, 9, 16, 25]"
      ]
     },
     "execution_count": 365,
     "metadata": {},
     "output_type": "execute_result"
    }
   ],
   "source": [
    "# WAP to produce squre of no. from 1 to 5 , store them into a list and print them\n",
    "[i**2 for i in range(1,6)]"
   ]
  },
  {
   "cell_type": "code",
   "execution_count": 366,
   "id": "bd4897de",
   "metadata": {},
   "outputs": [
    {
     "data": {
      "text/plain": [
       "[1, 4, 9, 16, 25]"
      ]
     },
     "execution_count": 366,
     "metadata": {},
     "output_type": "execute_result"
    }
   ],
   "source": [
    "# old approach\n",
    "sq = []\n",
    "for i in range(1,6):\n",
    "    sq.append(i**2)\n",
    "sq"
   ]
  },
  {
   "cell_type": "code",
   "execution_count": 367,
   "id": "74bbe17a",
   "metadata": {},
   "outputs": [
    {
     "name": "stdout",
     "output_type": "stream",
     "text": [
      "Enter your name:python\n"
     ]
    },
    {
     "data": {
      "text/plain": [
       "['P', 'Y', 'T', 'H', 'O', 'N']"
      ]
     },
     "execution_count": 367,
     "metadata": {},
     "output_type": "execute_result"
    }
   ],
   "source": [
    "# wap to accept string from user and convert each char into upper case\n",
    "user_in = input('Enter your name:')\n",
    "\n",
    "[i.upper() for i in user_in]"
   ]
  },
  {
   "cell_type": "code",
   "execution_count": 368,
   "id": "a8382717",
   "metadata": {},
   "outputs": [
    {
     "name": "stdout",
     "output_type": "stream",
     "text": [
      "Enter your name:python\n"
     ]
    },
    {
     "data": {
      "text/plain": [
       "['P', 'Y', 'T', 'H', 'O', 'N']"
      ]
     },
     "execution_count": 368,
     "metadata": {},
     "output_type": "execute_result"
    }
   ],
   "source": [
    "user_in = input('Enter your name:')\n",
    "ls_str = []\n",
    "for i in user_in:\n",
    "    ls_str.append(i.upper())\n",
    "    \n",
    "ls_str"
   ]
  },
  {
   "cell_type": "code",
   "execution_count": 369,
   "id": "ee5828a4",
   "metadata": {},
   "outputs": [
    {
     "name": "stdout",
     "output_type": "stream",
     "text": [
      "Enter your name:python code\n"
     ]
    },
    {
     "data": {
      "text/plain": [
       "['PYTHON', 'CODE']"
      ]
     },
     "execution_count": 369,
     "metadata": {},
     "output_type": "execute_result"
    }
   ],
   "source": [
    "user_in = input('Enter your name:')\n",
    "\n",
    "ls_str = []\n",
    "for i in user_in.split():\n",
    "    ls_str.append(i.upper())\n",
    "    \n",
    "ls_str\n"
   ]
  },
  {
   "cell_type": "code",
   "execution_count": 370,
   "id": "99b7173a",
   "metadata": {},
   "outputs": [
    {
     "data": {
      "text/plain": [
       "['PYTHON', 'CODE']"
      ]
     },
     "execution_count": 370,
     "metadata": {},
     "output_type": "execute_result"
    }
   ],
   "source": [
    "[i.upper() for i in user_in.split()]"
   ]
  },
  {
   "cell_type": "code",
   "execution_count": 371,
   "id": "21df91f0",
   "metadata": {},
   "outputs": [
    {
     "name": "stdout",
     "output_type": "stream",
     "text": [
      "Enter the num: 10\n",
      "Enter the num: 10\n",
      "Enter the num: 20\n",
      "Enter the num: 40\n",
      "Enter the num: 50\n"
     ]
    }
   ],
   "source": [
    "# wap to accept 5 int form user and store it into list and display of list\n",
    "\n",
    "num = []\n",
    "for i in range(1,6):\n",
    "    num_input = input('Enter the num: ')\n",
    "    num.append(int(num_input))"
   ]
  },
  {
   "cell_type": "code",
   "execution_count": 372,
   "id": "0721dd8b",
   "metadata": {},
   "outputs": [
    {
     "data": {
      "text/plain": [
       "[10, 10, 20, 40, 50]"
      ]
     },
     "execution_count": 372,
     "metadata": {},
     "output_type": "execute_result"
    }
   ],
   "source": [
    "num"
   ]
  },
  {
   "cell_type": "code",
   "execution_count": 373,
   "id": "278df1d3",
   "metadata": {},
   "outputs": [
    {
     "name": "stdout",
     "output_type": "stream",
     "text": [
      "Enter the number by , seperated:10,20,30\n",
      "Sum of list is :  60\n"
     ]
    },
    {
     "data": {
      "text/plain": [
       "[10, 20, 30]"
      ]
     },
     "execution_count": 373,
     "metadata": {},
     "output_type": "execute_result"
    }
   ],
   "source": [
    "user_int = input('Enter the number by , seperated:')\n",
    "ls_num = (user_int.split(','))\n",
    "newls = []\n",
    "for i in ls_num:\n",
    "    newls.append(int(i))\n",
    "print('Sum of list is : ',sum(newls))        \n",
    "newls"
   ]
  },
  {
   "cell_type": "code",
   "execution_count": 374,
   "id": "c68e02a5",
   "metadata": {},
   "outputs": [
    {
     "name": "stdout",
     "output_type": "stream",
     "text": [
      "Enter the number by , seperated:10,20,30\n",
      "Sum of list is :  60\n"
     ]
    },
    {
     "data": {
      "text/plain": [
       "[10, 20, 30]"
      ]
     },
     "execution_count": 374,
     "metadata": {},
     "output_type": "execute_result"
    }
   ],
   "source": [
    "# with list comp\n",
    "user_int = input('Enter the number by , seperated:')\n",
    "\n",
    "ls_1 = [int(i) for i in user_int.split(',')]\n",
    "print('Sum of list is : ',sum(ls_1)) \n",
    "ls_1"
   ]
  },
  {
   "cell_type": "code",
   "execution_count": 377,
   "id": "0bd5d41f",
   "metadata": {},
   "outputs": [
    {
     "data": {
      "text/plain": [
       "[1, 9, 25, 49, 81, 121, 169, 225, 289, 361]"
      ]
     },
     "execution_count": 377,
     "metadata": {},
     "output_type": "execute_result"
    }
   ],
   "source": [
    "# sq of odd num only and store it inot list 20\n",
    "\n",
    "[i **2  for i in range(20) if (i % 2 != 0)]"
   ]
  },
  {
   "cell_type": "code",
   "execution_count": 378,
   "id": "edd24ae0",
   "metadata": {},
   "outputs": [
    {
     "data": {
      "text/plain": [
       "[1, 9, 25, 49, 81, 121, 169, 225, 289, 361]"
      ]
     },
     "execution_count": 378,
     "metadata": {},
     "output_type": "execute_result"
    }
   ],
   "source": [
    "odd_sq =[]\n",
    "for i in range(1,21):\n",
    "    if i%2 != 0:\n",
    "        odd_sq.append(i**2)\n",
    "odd_sq"
   ]
  },
  {
   "cell_type": "code",
   "execution_count": null,
   "id": "0ef38dcb",
   "metadata": {},
   "outputs": [],
   "source": [
    "# wap create fun called remove vovels which accept string as argument and written with all the vovel removed from lsit"
   ]
  },
  {
   "cell_type": "code",
   "execution_count": 380,
   "id": "851c478f",
   "metadata": {},
   "outputs": [
    {
     "name": "stdout",
     "output_type": "stream",
     "text": [
      "Enter the name: python\n"
     ]
    },
    {
     "data": {
      "text/plain": [
       "['p', 'y', 't', 'h', 'n']"
      ]
     },
     "execution_count": 380,
     "metadata": {},
     "output_type": "execute_result"
    }
   ],
   "source": [
    "str_inp = input('Enter the name: ')\n",
    "\n",
    "ls = []\n",
    "for i in str_inp:\n",
    "    if i.lower() not in 'aeiou':\n",
    "        ls.append(i)\n",
    "ls"
   ]
  },
  {
   "cell_type": "code",
   "execution_count": null,
   "id": "878e84ee",
   "metadata": {},
   "outputs": [],
   "source": []
  },
  {
   "cell_type": "markdown",
   "id": "62b4fa64",
   "metadata": {},
   "source": [
    "# Tuple"
   ]
  },
  {
   "cell_type": "code",
   "execution_count": 381,
   "id": "594a0897",
   "metadata": {},
   "outputs": [],
   "source": [
    "# hedrogenius elements : (1, 'vilas', 10.5)\n",
    "# ()\n",
    "# immutable\n",
    "# Fast\n",
    "# take less memory\n",
    "# use when data is fix\n"
   ]
  },
  {
   "cell_type": "code",
   "execution_count": 382,
   "id": "3b84fe86",
   "metadata": {},
   "outputs": [
    {
     "data": {
      "text/plain": [
       "()"
      ]
     },
     "execution_count": 382,
     "metadata": {},
     "output_type": "execute_result"
    }
   ],
   "source": [
    "my_tuple = ()\n",
    "my_tuple"
   ]
  },
  {
   "cell_type": "code",
   "execution_count": 383,
   "id": "fe2dd2e5",
   "metadata": {},
   "outputs": [
    {
     "data": {
      "text/plain": [
       "1"
      ]
     },
     "execution_count": 383,
     "metadata": {},
     "output_type": "execute_result"
    }
   ],
   "source": [
    "my_tuple = (1)\n",
    "my_tuple"
   ]
  },
  {
   "cell_type": "code",
   "execution_count": 384,
   "id": "a38ff182",
   "metadata": {},
   "outputs": [
    {
     "data": {
      "text/plain": [
       "int"
      ]
     },
     "execution_count": 384,
     "metadata": {},
     "output_type": "execute_result"
    }
   ],
   "source": [
    "type(my_tuple)"
   ]
  },
  {
   "cell_type": "code",
   "execution_count": 385,
   "id": "766e7337",
   "metadata": {},
   "outputs": [
    {
     "data": {
      "text/plain": [
       "(1,)"
      ]
     },
     "execution_count": 385,
     "metadata": {},
     "output_type": "execute_result"
    }
   ],
   "source": [
    "# need a , to creat tuple with one element\n",
    "my_tuple = (1,)\n",
    "my_tuple"
   ]
  },
  {
   "cell_type": "code",
   "execution_count": 386,
   "id": "c70f8ea6",
   "metadata": {},
   "outputs": [
    {
     "data": {
      "text/plain": [
       "tuple"
      ]
     },
     "execution_count": 386,
     "metadata": {},
     "output_type": "execute_result"
    }
   ],
   "source": [
    "type(my_tuple)"
   ]
  },
  {
   "cell_type": "code",
   "execution_count": 387,
   "id": "2a157922",
   "metadata": {},
   "outputs": [
    {
     "data": {
      "text/plain": [
       "(1, 2, 3, 4)"
      ]
     },
     "execution_count": 387,
     "metadata": {},
     "output_type": "execute_result"
    }
   ],
   "source": [
    "tup_homo = (1,2,3,4)\n",
    "tup_homo"
   ]
  },
  {
   "cell_type": "code",
   "execution_count": 388,
   "id": "e0dfe61a",
   "metadata": {},
   "outputs": [
    {
     "data": {
      "text/plain": [
       "(1, 'vilas', 102.5, True)"
      ]
     },
     "execution_count": 388,
     "metadata": {},
     "output_type": "execute_result"
    }
   ],
   "source": [
    "tup_htro = (1, 'vilas', 102.5, True)\n",
    "tup_htro"
   ]
  },
  {
   "cell_type": "code",
   "execution_count": 389,
   "id": "82d3354e",
   "metadata": {},
   "outputs": [
    {
     "data": {
      "text/plain": [
       "'i'"
      ]
     },
     "execution_count": 389,
     "metadata": {},
     "output_type": "execute_result"
    }
   ],
   "source": [
    "tup_htro[1][1]"
   ]
  },
  {
   "cell_type": "code",
   "execution_count": 391,
   "id": "15920903",
   "metadata": {},
   "outputs": [
    {
     "data": {
      "text/plain": [
       "tuple"
      ]
     },
     "execution_count": 391,
     "metadata": {},
     "output_type": "execute_result"
    }
   ],
   "source": [
    "# tuple without ()\n",
    "my_tuple = 1,2,3\n",
    "type(my_tuple)"
   ]
  },
  {
   "cell_type": "code",
   "execution_count": null,
   "id": "77377f1e",
   "metadata": {},
   "outputs": [],
   "source": []
  },
  {
   "cell_type": "code",
   "execution_count": null,
   "id": "d4738ab8",
   "metadata": {},
   "outputs": [],
   "source": []
  },
  {
   "cell_type": "code",
   "execution_count": null,
   "id": "02936005",
   "metadata": {},
   "outputs": [],
   "source": [
    "# concept of packing and unpacking"
   ]
  },
  {
   "cell_type": "code",
   "execution_count": 392,
   "id": "f44ed490",
   "metadata": {},
   "outputs": [
    {
     "data": {
      "text/plain": [
       "(1, 2, 3)"
      ]
     },
     "execution_count": 392,
     "metadata": {},
     "output_type": "execute_result"
    }
   ],
   "source": [
    "# packing\n",
    "a = 1,2,3\n",
    "a"
   ]
  },
  {
   "cell_type": "code",
   "execution_count": 393,
   "id": "d54f5929",
   "metadata": {},
   "outputs": [],
   "source": [
    "# unpacking\n",
    "x,y,z = a"
   ]
  },
  {
   "cell_type": "code",
   "execution_count": 394,
   "id": "3a317ae0",
   "metadata": {},
   "outputs": [
    {
     "data": {
      "text/plain": [
       "1"
      ]
     },
     "execution_count": 394,
     "metadata": {},
     "output_type": "execute_result"
    }
   ],
   "source": [
    "x"
   ]
  },
  {
   "cell_type": "code",
   "execution_count": 395,
   "id": "429c4c21",
   "metadata": {},
   "outputs": [
    {
     "data": {
      "text/plain": [
       "2"
      ]
     },
     "execution_count": 395,
     "metadata": {},
     "output_type": "execute_result"
    }
   ],
   "source": [
    "y"
   ]
  },
  {
   "cell_type": "code",
   "execution_count": 396,
   "id": "bde80c1b",
   "metadata": {},
   "outputs": [
    {
     "data": {
      "text/plain": [
       "3"
      ]
     },
     "execution_count": 396,
     "metadata": {},
     "output_type": "execute_result"
    }
   ],
   "source": [
    "z"
   ]
  },
  {
   "cell_type": "code",
   "execution_count": 398,
   "id": "6925ef81",
   "metadata": {},
   "outputs": [],
   "source": [
    "ls = [1,2,3,4]\n"
   ]
  },
  {
   "cell_type": "code",
   "execution_count": 399,
   "id": "43bce6c4",
   "metadata": {},
   "outputs": [],
   "source": [
    "aa,bb,cc,dd = ls"
   ]
  },
  {
   "cell_type": "code",
   "execution_count": 400,
   "id": "8a54315b",
   "metadata": {},
   "outputs": [
    {
     "data": {
      "text/plain": [
       "2"
      ]
     },
     "execution_count": 400,
     "metadata": {},
     "output_type": "execute_result"
    }
   ],
   "source": [
    "bb"
   ]
  },
  {
   "cell_type": "code",
   "execution_count": 401,
   "id": "0096e33a",
   "metadata": {},
   "outputs": [],
   "source": [
    "# accessing tuple variable"
   ]
  },
  {
   "cell_type": "code",
   "execution_count": 402,
   "id": "92a28fc8",
   "metadata": {},
   "outputs": [
    {
     "data": {
      "text/plain": [
       "(1, 2, 3, 4, 5, 6, 7, 8, 9)"
      ]
     },
     "execution_count": 402,
     "metadata": {},
     "output_type": "execute_result"
    }
   ],
   "source": [
    "my_tuple = (1,2,3,4,5,6,7,8,9)\n",
    "my_tuple"
   ]
  },
  {
   "cell_type": "code",
   "execution_count": 403,
   "id": "710ec2c7",
   "metadata": {},
   "outputs": [
    {
     "data": {
      "text/plain": [
       "(2, 3, 4, 5)"
      ]
     },
     "execution_count": 403,
     "metadata": {},
     "output_type": "execute_result"
    }
   ],
   "source": [
    "my_tuple[1:5]"
   ]
  },
  {
   "cell_type": "code",
   "execution_count": 404,
   "id": "eab189d5",
   "metadata": {},
   "outputs": [
    {
     "data": {
      "text/plain": [
       "(1, 2, 3, 4, 5, 6)"
      ]
     },
     "execution_count": 404,
     "metadata": {},
     "output_type": "execute_result"
    }
   ],
   "source": [
    "my_tuple[0:6]"
   ]
  },
  {
   "cell_type": "code",
   "execution_count": 405,
   "id": "ea85bdec",
   "metadata": {},
   "outputs": [
    {
     "data": {
      "text/plain": [
       "(9, 8, 7, 6, 5, 4, 3, 2, 1)"
      ]
     },
     "execution_count": 405,
     "metadata": {},
     "output_type": "execute_result"
    }
   ],
   "source": [
    "my_tuple[::-1]"
   ]
  },
  {
   "cell_type": "code",
   "execution_count": 406,
   "id": "0d5b6064",
   "metadata": {},
   "outputs": [
    {
     "data": {
      "text/plain": [
       "(3,)"
      ]
     },
     "execution_count": 406,
     "metadata": {},
     "output_type": "execute_result"
    }
   ],
   "source": [
    "my_tuple[2:3]"
   ]
  },
  {
   "cell_type": "code",
   "execution_count": 407,
   "id": "f269349a",
   "metadata": {},
   "outputs": [
    {
     "data": {
      "text/plain": [
       "(1, 2, 3, 4, 5, 6, 7, 8, 9)"
      ]
     },
     "execution_count": 407,
     "metadata": {},
     "output_type": "execute_result"
    }
   ],
   "source": [
    "my_tuple[0:110]"
   ]
  },
  {
   "cell_type": "code",
   "execution_count": 408,
   "id": "7ccf4326",
   "metadata": {},
   "outputs": [
    {
     "data": {
      "text/plain": [
       "(1, 2, 3, 4, 5, 6, 7)"
      ]
     },
     "execution_count": 408,
     "metadata": {},
     "output_type": "execute_result"
    }
   ],
   "source": [
    "my_tuple[:-2]"
   ]
  },
  {
   "cell_type": "code",
   "execution_count": 409,
   "id": "5bc32c3e",
   "metadata": {},
   "outputs": [
    {
     "data": {
      "text/plain": [
       "(9, 8, 7)"
      ]
     },
     "execution_count": 409,
     "metadata": {},
     "output_type": "execute_result"
    }
   ],
   "source": [
    "my_tuple[9:5:-1]"
   ]
  },
  {
   "cell_type": "code",
   "execution_count": 410,
   "id": "4525cac5",
   "metadata": {},
   "outputs": [
    {
     "ename": "TypeError",
     "evalue": "'tuple' object does not support item assignment",
     "output_type": "error",
     "traceback": [
      "\u001b[1;31m---------------------------------------------------------------------------\u001b[0m",
      "\u001b[1;31mTypeError\u001b[0m                                 Traceback (most recent call last)",
      "\u001b[1;32m~\\AppData\\Local\\Temp/ipykernel_28312/1607828421.py\u001b[0m in \u001b[0;36m<module>\u001b[1;34m\u001b[0m\n\u001b[0;32m      1\u001b[0m \u001b[1;31m# tuple is immutable\u001b[0m\u001b[1;33m\u001b[0m\u001b[1;33m\u001b[0m\u001b[0m\n\u001b[1;32m----> 2\u001b[1;33m \u001b[0mmy_tuple\u001b[0m\u001b[1;33m[\u001b[0m\u001b[1;36m5\u001b[0m\u001b[1;33m]\u001b[0m \u001b[1;33m=\u001b[0m\u001b[1;36m5\u001b[0m\u001b[1;33m\u001b[0m\u001b[1;33m\u001b[0m\u001b[0m\n\u001b[0m",
      "\u001b[1;31mTypeError\u001b[0m: 'tuple' object does not support item assignment"
     ]
    }
   ],
   "source": [
    "# tuple is immutable\n",
    "my_tuple[5] =5"
   ]
  },
  {
   "cell_type": "code",
   "execution_count": 411,
   "id": "d29865b4",
   "metadata": {},
   "outputs": [],
   "source": [
    "mstp = ([1,2],3,4,5)"
   ]
  },
  {
   "cell_type": "code",
   "execution_count": 412,
   "id": "46cc3533",
   "metadata": {},
   "outputs": [
    {
     "data": {
      "text/plain": [
       "2"
      ]
     },
     "execution_count": 412,
     "metadata": {},
     "output_type": "execute_result"
    }
   ],
   "source": [
    "mstp[0][1]"
   ]
  },
  {
   "cell_type": "code",
   "execution_count": 413,
   "id": "9bcbd900",
   "metadata": {},
   "outputs": [],
   "source": [
    "# we can modify list inside tuple\n",
    "mstp[0][1] = 10"
   ]
  },
  {
   "cell_type": "code",
   "execution_count": 414,
   "id": "58beef54",
   "metadata": {},
   "outputs": [
    {
     "data": {
      "text/plain": [
       "([1, 10], 3, 4, 5)"
      ]
     },
     "execution_count": 414,
     "metadata": {},
     "output_type": "execute_result"
    }
   ],
   "source": [
    "mstp"
   ]
  },
  {
   "cell_type": "code",
   "execution_count": 415,
   "id": "44f79caf",
   "metadata": {},
   "outputs": [],
   "source": [
    "mytuple = (100,200,300,400)"
   ]
  },
  {
   "cell_type": "code",
   "execution_count": 416,
   "id": "f4d9618f",
   "metadata": {},
   "outputs": [],
   "source": [
    "# we can change complete tuple \n",
    "mytuple = (1,2,3,4)"
   ]
  },
  {
   "cell_type": "code",
   "execution_count": 417,
   "id": "dc5faeeb",
   "metadata": {},
   "outputs": [],
   "source": [
    "# here we changing the entire element , memory location is also change \n",
    "mytuple = (1,2,3)"
   ]
  },
  {
   "cell_type": "code",
   "execution_count": 418,
   "id": "3829c6c2",
   "metadata": {},
   "outputs": [
    {
     "ename": "TypeError",
     "evalue": "'tuple' object doesn't support item deletion",
     "output_type": "error",
     "traceback": [
      "\u001b[1;31m---------------------------------------------------------------------------\u001b[0m",
      "\u001b[1;31mTypeError\u001b[0m                                 Traceback (most recent call last)",
      "\u001b[1;32m~\\AppData\\Local\\Temp/ipykernel_28312/3019607715.py\u001b[0m in \u001b[0;36m<module>\u001b[1;34m\u001b[0m\n\u001b[0;32m      1\u001b[0m \u001b[1;31m# individual operation not allow\u001b[0m\u001b[1;33m\u001b[0m\u001b[1;33m\u001b[0m\u001b[0m\n\u001b[1;32m----> 2\u001b[1;33m \u001b[1;32mdel\u001b[0m \u001b[1;33m(\u001b[0m\u001b[0mmytuple\u001b[0m\u001b[1;33m[\u001b[0m\u001b[1;36m1\u001b[0m\u001b[1;33m]\u001b[0m\u001b[1;33m)\u001b[0m\u001b[1;33m\u001b[0m\u001b[1;33m\u001b[0m\u001b[0m\n\u001b[0m",
      "\u001b[1;31mTypeError\u001b[0m: 'tuple' object doesn't support item deletion"
     ]
    }
   ],
   "source": [
    "# individual operation not allow\n",
    "del (mytuple[1])"
   ]
  },
  {
   "cell_type": "code",
   "execution_count": 419,
   "id": "73f79964",
   "metadata": {},
   "outputs": [],
   "source": [
    "# we can delete whole tuple\n",
    "del (mytuple)"
   ]
  },
  {
   "cell_type": "markdown",
   "id": "06b51442",
   "metadata": {},
   "source": [
    "### tuple function"
   ]
  },
  {
   "cell_type": "raw",
   "id": "32e8e936",
   "metadata": {},
   "source": [
    "len\n",
    "max\n",
    "min\n",
    "sorted\n",
    "any\n",
    "all\n",
    "tuple"
   ]
  },
  {
   "cell_type": "code",
   "execution_count": 420,
   "id": "ca79f400",
   "metadata": {},
   "outputs": [
    {
     "data": {
      "text/plain": [
       "(1, 2, 3, 4, 5, 6, 7, 8, 9)"
      ]
     },
     "execution_count": 420,
     "metadata": {},
     "output_type": "execute_result"
    }
   ],
   "source": [
    "my_tuple"
   ]
  },
  {
   "cell_type": "code",
   "execution_count": 421,
   "id": "b43550e4",
   "metadata": {},
   "outputs": [
    {
     "data": {
      "text/plain": [
       "9"
      ]
     },
     "execution_count": 421,
     "metadata": {},
     "output_type": "execute_result"
    }
   ],
   "source": [
    "len(my_tuple)"
   ]
  },
  {
   "cell_type": "code",
   "execution_count": 422,
   "id": "d71d9966",
   "metadata": {},
   "outputs": [
    {
     "data": {
      "text/plain": [
       "9"
      ]
     },
     "execution_count": 422,
     "metadata": {},
     "output_type": "execute_result"
    }
   ],
   "source": [
    "max(my_tuple)"
   ]
  },
  {
   "cell_type": "code",
   "execution_count": 423,
   "id": "cfeecd46",
   "metadata": {},
   "outputs": [
    {
     "data": {
      "text/plain": [
       "1"
      ]
     },
     "execution_count": 423,
     "metadata": {},
     "output_type": "execute_result"
    }
   ],
   "source": [
    "min(my_tuple)"
   ]
  },
  {
   "cell_type": "code",
   "execution_count": 424,
   "id": "375372e9",
   "metadata": {},
   "outputs": [
    {
     "data": {
      "text/plain": [
       "[1, 2, 3, 4, 5, 6, 7, 8, 9]"
      ]
     },
     "execution_count": 424,
     "metadata": {},
     "output_type": "execute_result"
    }
   ],
   "source": [
    "sorted(my_tuple)"
   ]
  },
  {
   "cell_type": "code",
   "execution_count": 427,
   "id": "e85eed47",
   "metadata": {},
   "outputs": [
    {
     "data": {
      "text/plain": [
       "[9, 8, 7, 6, 5, 4, 3, 2, 1]"
      ]
     },
     "execution_count": 427,
     "metadata": {},
     "output_type": "execute_result"
    }
   ],
   "source": [
    "sorted(my_tuple,reverse= True)"
   ]
  },
  {
   "cell_type": "code",
   "execution_count": 425,
   "id": "a1512bd6",
   "metadata": {},
   "outputs": [
    {
     "data": {
      "text/plain": [
       "True"
      ]
     },
     "execution_count": 425,
     "metadata": {},
     "output_type": "execute_result"
    }
   ],
   "source": [
    "# atleast one element should be true\n",
    "any(my_tuple)"
   ]
  },
  {
   "cell_type": "code",
   "execution_count": 426,
   "id": "6299caeb",
   "metadata": {},
   "outputs": [
    {
     "data": {
      "text/plain": [
       "True"
      ]
     },
     "execution_count": 426,
     "metadata": {},
     "output_type": "execute_result"
    }
   ],
   "source": [
    "# all element should be true\n",
    "all(my_tuple)"
   ]
  },
  {
   "cell_type": "code",
   "execution_count": 428,
   "id": "d3e8e8dc",
   "metadata": {},
   "outputs": [
    {
     "data": {
      "text/plain": [
       "45"
      ]
     },
     "execution_count": 428,
     "metadata": {},
     "output_type": "execute_result"
    }
   ],
   "source": [
    "sum(my_tuple)"
   ]
  },
  {
   "cell_type": "code",
   "execution_count": 429,
   "id": "31541137",
   "metadata": {},
   "outputs": [
    {
     "data": {
      "text/plain": [
       "(1, 2, 3, 4, 5, 6, 7, 8, 9, 10)"
      ]
     },
     "execution_count": 429,
     "metadata": {},
     "output_type": "execute_result"
    }
   ],
   "source": [
    "tuple(range(1,11))"
   ]
  },
  {
   "cell_type": "markdown",
   "id": "80fd729e",
   "metadata": {},
   "source": [
    "### tuple method"
   ]
  },
  {
   "cell_type": "raw",
   "id": "2042ca5f",
   "metadata": {},
   "source": [
    "#method for tuple\n",
    "append() *\n",
    "extend() *\n",
    "instert() *\n",
    "count()\n",
    "index()\n",
    "clear() *\n",
    "pop() *\n",
    "sort() *\n",
    "reverse() *"
   ]
  },
  {
   "cell_type": "raw",
   "id": "f4f56190",
   "metadata": {},
   "source": [
    "Python has two built-in methods that you can use on tuples.\n",
    "\n",
    "Method\tDescription\n",
    "count()\tReturns the number of times a specified value occurs in a tuple\n",
    "index()\tSearches the tuple for a specified value and returns the position of where it was found"
   ]
  },
  {
   "cell_type": "code",
   "execution_count": 430,
   "id": "2051ab94",
   "metadata": {},
   "outputs": [
    {
     "data": {
      "text/plain": [
       "(1, 2, 3, 4, 5, 6, 7, 8, 9)"
      ]
     },
     "execution_count": 430,
     "metadata": {},
     "output_type": "execute_result"
    }
   ],
   "source": [
    "my_tuple"
   ]
  },
  {
   "cell_type": "code",
   "execution_count": 431,
   "id": "821355b2",
   "metadata": {},
   "outputs": [
    {
     "data": {
      "text/plain": [
       "1"
      ]
     },
     "execution_count": 431,
     "metadata": {},
     "output_type": "execute_result"
    }
   ],
   "source": [
    "my_tuple.count(5)"
   ]
  },
  {
   "cell_type": "code",
   "execution_count": 432,
   "id": "85fccbe9",
   "metadata": {},
   "outputs": [
    {
     "data": {
      "text/plain": [
       "4"
      ]
     },
     "execution_count": 432,
     "metadata": {},
     "output_type": "execute_result"
    }
   ],
   "source": [
    "# returns the position of element where it was found\n",
    "my_tuple.index(5)"
   ]
  },
  {
   "cell_type": "code",
   "execution_count": 433,
   "id": "eff74f85",
   "metadata": {},
   "outputs": [],
   "source": [
    "# concatenation is possible\n",
    "odd = (1,3,5)\n",
    "even = (2,4,6)"
   ]
  },
  {
   "cell_type": "code",
   "execution_count": 434,
   "id": "6cb1cde3",
   "metadata": {},
   "outputs": [
    {
     "data": {
      "text/plain": [
       "(1, 3, 5, 2, 4, 6)"
      ]
     },
     "execution_count": 434,
     "metadata": {},
     "output_type": "execute_result"
    }
   ],
   "source": [
    "# creating new obj thats why we can add tuple\n",
    "odd + even"
   ]
  },
  {
   "cell_type": "code",
   "execution_count": 436,
   "id": "aee62622",
   "metadata": {},
   "outputs": [
    {
     "data": {
      "text/plain": [
       "(1, 3, 5, 5)"
      ]
     },
     "execution_count": 436,
     "metadata": {},
     "output_type": "execute_result"
    }
   ],
   "source": [
    "odd + (5,)"
   ]
  },
  {
   "cell_type": "code",
   "execution_count": 435,
   "id": "2b6fd87e",
   "metadata": {},
   "outputs": [
    {
     "data": {
      "text/plain": [
       "(1, 3, 5, 1, 3, 5)"
      ]
     },
     "execution_count": 435,
     "metadata": {},
     "output_type": "execute_result"
    }
   ],
   "source": [
    "odd * 2"
   ]
  },
  {
   "cell_type": "code",
   "execution_count": 437,
   "id": "27df3273",
   "metadata": {},
   "outputs": [
    {
     "data": {
      "text/plain": [
       "False"
      ]
     },
     "execution_count": 437,
     "metadata": {},
     "output_type": "execute_result"
    }
   ],
   "source": [
    "# relational operator\n",
    "odd > even"
   ]
  },
  {
   "cell_type": "code",
   "execution_count": 438,
   "id": "f582cbf5",
   "metadata": {},
   "outputs": [],
   "source": [
    "a = (4,5,6)\n",
    "b = (4,5,7)"
   ]
  },
  {
   "cell_type": "code",
   "execution_count": 439,
   "id": "41dc29ea",
   "metadata": {},
   "outputs": [
    {
     "data": {
      "text/plain": [
       "False"
      ]
     },
     "execution_count": 439,
     "metadata": {},
     "output_type": "execute_result"
    }
   ],
   "source": [
    "a> b"
   ]
  },
  {
   "cell_type": "code",
   "execution_count": 440,
   "id": "862b4597",
   "metadata": {},
   "outputs": [
    {
     "data": {
      "text/plain": [
       "True"
      ]
     },
     "execution_count": 440,
     "metadata": {},
     "output_type": "execute_result"
    }
   ],
   "source": [
    "a < b"
   ]
  },
  {
   "cell_type": "markdown",
   "id": "be718722",
   "metadata": {},
   "source": [
    "## Set"
   ]
  },
  {
   "cell_type": "code",
   "execution_count": 441,
   "id": "7ac2ce62",
   "metadata": {},
   "outputs": [],
   "source": [
    "# can not keep dublicate values\n",
    "# set is un orderd collection"
   ]
  },
  {
   "cell_type": "code",
   "execution_count": 442,
   "id": "15ad096c",
   "metadata": {},
   "outputs": [
    {
     "data": {
      "text/plain": [
       "{1, 2, 3, 5}"
      ]
     },
     "execution_count": 442,
     "metadata": {},
     "output_type": "execute_result"
    }
   ],
   "source": [
    "myset = {1,1,1,2,3,5}\n",
    "myset"
   ]
  },
  {
   "cell_type": "code",
   "execution_count": 444,
   "id": "b67c683b",
   "metadata": {},
   "outputs": [
    {
     "ename": "TypeError",
     "evalue": "'set' object is not subscriptable",
     "output_type": "error",
     "traceback": [
      "\u001b[1;31m---------------------------------------------------------------------------\u001b[0m",
      "\u001b[1;31mTypeError\u001b[0m                                 Traceback (most recent call last)",
      "\u001b[1;32m~\\AppData\\Local\\Temp/ipykernel_28312/693098935.py\u001b[0m in \u001b[0;36m<module>\u001b[1;34m\u001b[0m\n\u001b[0;32m      1\u001b[0m \u001b[1;31m# can not access elemenets\u001b[0m\u001b[1;33m\u001b[0m\u001b[1;33m\u001b[0m\u001b[0m\n\u001b[1;32m----> 2\u001b[1;33m \u001b[0mmyset\u001b[0m\u001b[1;33m[\u001b[0m\u001b[1;36m1\u001b[0m\u001b[1;33m]\u001b[0m\u001b[1;33m\u001b[0m\u001b[1;33m\u001b[0m\u001b[0m\n\u001b[0m",
      "\u001b[1;31mTypeError\u001b[0m: 'set' object is not subscriptable"
     ]
    }
   ],
   "source": [
    "# can not access elemenets\n",
    "myset[1]"
   ]
  },
  {
   "cell_type": "code",
   "execution_count": 445,
   "id": "be799e51",
   "metadata": {},
   "outputs": [
    {
     "ename": "TypeError",
     "evalue": "'set' object is not subscriptable",
     "output_type": "error",
     "traceback": [
      "\u001b[1;31m---------------------------------------------------------------------------\u001b[0m",
      "\u001b[1;31mTypeError\u001b[0m                                 Traceback (most recent call last)",
      "\u001b[1;32m~\\AppData\\Local\\Temp/ipykernel_28312/1655429858.py\u001b[0m in \u001b[0;36m<module>\u001b[1;34m\u001b[0m\n\u001b[0;32m      1\u001b[0m \u001b[1;31m# can not perform slicing operation\u001b[0m\u001b[1;33m\u001b[0m\u001b[1;33m\u001b[0m\u001b[0m\n\u001b[1;32m----> 2\u001b[1;33m \u001b[0mmyset\u001b[0m\u001b[1;33m[\u001b[0m\u001b[1;36m1\u001b[0m\u001b[1;33m:\u001b[0m\u001b[1;36m3\u001b[0m\u001b[1;33m]\u001b[0m\u001b[1;33m\u001b[0m\u001b[1;33m\u001b[0m\u001b[0m\n\u001b[0m",
      "\u001b[1;31mTypeError\u001b[0m: 'set' object is not subscriptable"
     ]
    }
   ],
   "source": [
    "# can not perform slicing operation\n",
    "myset[1:3]"
   ]
  },
  {
   "cell_type": "code",
   "execution_count": 448,
   "id": "64b70240",
   "metadata": {},
   "outputs": [
    {
     "data": {
      "text/plain": [
       "[1, 2, 3, 4, 5, 6, 7, 8, 9, 10]"
      ]
     },
     "execution_count": 448,
     "metadata": {},
     "output_type": "execute_result"
    }
   ],
   "source": [
    "list(range(1,11))"
   ]
  },
  {
   "cell_type": "code",
   "execution_count": 449,
   "id": "878a2ce9",
   "metadata": {},
   "outputs": [
    {
     "data": {
      "text/plain": [
       "{1, 2, 3, 5}"
      ]
     },
     "execution_count": 449,
     "metadata": {},
     "output_type": "execute_result"
    }
   ],
   "source": [
    "myset"
   ]
  },
  {
   "cell_type": "code",
   "execution_count": 450,
   "id": "dad182ab",
   "metadata": {},
   "outputs": [
    {
     "data": {
      "text/plain": [
       "{1, 2, 3, 5, 100000}"
      ]
     },
     "execution_count": 450,
     "metadata": {},
     "output_type": "execute_result"
    }
   ],
   "source": [
    "myset.add(100000)\n",
    "myset"
   ]
  },
  {
   "cell_type": "code",
   "execution_count": 451,
   "id": "8eb6943b",
   "metadata": {},
   "outputs": [
    {
     "data": {
      "text/plain": [
       "{1, 2, 3, 5}"
      ]
     },
     "execution_count": 451,
     "metadata": {},
     "output_type": "execute_result"
    }
   ],
   "source": [
    "myset.pop()\n",
    "myset"
   ]
  },
  {
   "cell_type": "code",
   "execution_count": 452,
   "id": "e28f529d",
   "metadata": {},
   "outputs": [
    {
     "data": {
      "text/plain": [
       "set()"
      ]
     },
     "execution_count": 452,
     "metadata": {},
     "output_type": "execute_result"
    }
   ],
   "source": [
    "myset.clear()\n",
    "myset"
   ]
  },
  {
   "cell_type": "code",
   "execution_count": 453,
   "id": "be4b2a94",
   "metadata": {},
   "outputs": [],
   "source": [
    "myset = {1,1,1,2,3,5}\n",
    "myset2 = {2,3,6}"
   ]
  },
  {
   "cell_type": "code",
   "execution_count": 454,
   "id": "e1761904",
   "metadata": {},
   "outputs": [
    {
     "data": {
      "text/plain": [
       "{2, 3}"
      ]
     },
     "execution_count": 454,
     "metadata": {},
     "output_type": "execute_result"
    }
   ],
   "source": [
    "myset.intersection(myset2)"
   ]
  },
  {
   "cell_type": "code",
   "execution_count": 455,
   "id": "29628bb1",
   "metadata": {},
   "outputs": [
    {
     "data": {
      "text/plain": [
       "{1, 5}"
      ]
     },
     "execution_count": 455,
     "metadata": {},
     "output_type": "execute_result"
    }
   ],
   "source": [
    "myset.difference(myset2)"
   ]
  },
  {
   "cell_type": "code",
   "execution_count": null,
   "id": "524b53c1",
   "metadata": {},
   "outputs": [],
   "source": []
  },
  {
   "cell_type": "markdown",
   "id": "1a2a394a",
   "metadata": {},
   "source": [
    "## String"
   ]
  },
  {
   "cell_type": "code",
   "execution_count": 456,
   "id": "3a478cdb",
   "metadata": {},
   "outputs": [],
   "source": [
    "# string ' ' or \" \" string  is a collection of one or more than one char"
   ]
  },
  {
   "cell_type": "raw",
   "id": "ada2a32b",
   "metadata": {},
   "source": [
    "'v'  # string with single char\n",
    "'vilas' # string with multiple char\n",
    "' ' # empty string"
   ]
  },
  {
   "cell_type": "code",
   "execution_count": 457,
   "id": "f00387bd",
   "metadata": {},
   "outputs": [
    {
     "data": {
      "text/plain": [
       "'vilas'"
      ]
     },
     "execution_count": 457,
     "metadata": {},
     "output_type": "execute_result"
    }
   ],
   "source": [
    "mystr = \"vilas\"\n",
    "mystr"
   ]
  },
  {
   "cell_type": "code",
   "execution_count": 465,
   "id": "979127e6",
   "metadata": {},
   "outputs": [
    {
     "name": "stdout",
     "output_type": "stream",
     "text": [
      "Python\n",
      "is \n",
      "coding \n",
      "language\n"
     ]
    }
   ],
   "source": [
    "# multi line string\n",
    "my_str = '''Python\n",
    "is \n",
    "coding \n",
    "language'''\n",
    "print(my_str)"
   ]
  },
  {
   "cell_type": "code",
   "execution_count": 466,
   "id": "3cf56a80",
   "metadata": {},
   "outputs": [
    {
     "data": {
      "text/plain": [
       "'i love coding'"
      ]
     },
     "execution_count": 466,
     "metadata": {},
     "output_type": "execute_result"
    }
   ],
   "source": [
    "mystr1 = 'i love coding'\n",
    "mystr1"
   ]
  },
  {
   "cell_type": "code",
   "execution_count": 467,
   "id": "c24af3ee",
   "metadata": {},
   "outputs": [
    {
     "data": {
      "text/plain": [
       "13"
      ]
     },
     "execution_count": 467,
     "metadata": {},
     "output_type": "execute_result"
    }
   ],
   "source": [
    "len(mystr1)"
   ]
  },
  {
   "cell_type": "code",
   "execution_count": 468,
   "id": "14dbeb21",
   "metadata": {},
   "outputs": [
    {
     "data": {
      "text/plain": [
       "'v'"
      ]
     },
     "execution_count": 468,
     "metadata": {},
     "output_type": "execute_result"
    }
   ],
   "source": [
    "mystr1[4]"
   ]
  },
  {
   "cell_type": "code",
   "execution_count": 469,
   "id": "ba839e56",
   "metadata": {},
   "outputs": [
    {
     "data": {
      "text/plain": [
       "'love'"
      ]
     },
     "execution_count": 469,
     "metadata": {},
     "output_type": "execute_result"
    }
   ],
   "source": [
    "# extract 'love'\n",
    "mystr1[2:6]"
   ]
  },
  {
   "cell_type": "code",
   "execution_count": 470,
   "id": "7b8d22a3",
   "metadata": {},
   "outputs": [
    {
     "name": "stdout",
     "output_type": "stream",
     "text": [
      "Enter the name:Python\n",
      "nohtyP"
     ]
    }
   ],
   "source": [
    "# to take input from user ans print it in revers order\n",
    "strinp = input('Enter the name:')\n",
    "for i in range(1,len(strinp)+1):\n",
    "    print(strinp[-i], end = '') "
   ]
  },
  {
   "cell_type": "code",
   "execution_count": 472,
   "id": "fca56fd6",
   "metadata": {},
   "outputs": [
    {
     "name": "stdout",
     "output_type": "stream",
     "text": [
      "Enter the name:python\n",
      "nohtyp"
     ]
    }
   ],
   "source": [
    "strinp = input('Enter the name:')\n",
    "for i in range(len(strinp)-1, -1, -1):\n",
    "    print(strinp[i], end = '') "
   ]
  },
  {
   "cell_type": "code",
   "execution_count": 473,
   "id": "c8040d86",
   "metadata": {},
   "outputs": [],
   "source": [
    "# concatination"
   ]
  },
  {
   "cell_type": "code",
   "execution_count": 474,
   "id": "7a2b8902",
   "metadata": {},
   "outputs": [
    {
     "data": {
      "text/plain": [
       "'vilas tade'"
      ]
     },
     "execution_count": 474,
     "metadata": {},
     "output_type": "execute_result"
    }
   ],
   "source": [
    "# +\n",
    "'vilas' + ' ' + 'tade'"
   ]
  },
  {
   "cell_type": "code",
   "execution_count": 475,
   "id": "45c310d0",
   "metadata": {},
   "outputs": [
    {
     "data": {
      "text/plain": [
       "'vilasvilas'"
      ]
     },
     "execution_count": 475,
     "metadata": {},
     "output_type": "execute_result"
    }
   ],
   "source": [
    "# * \n",
    "'vilas' * 2"
   ]
  },
  {
   "cell_type": "code",
   "execution_count": 476,
   "id": "b15eed05",
   "metadata": {},
   "outputs": [
    {
     "data": {
      "text/plain": [
       "'banana'"
      ]
     },
     "execution_count": 476,
     "metadata": {},
     "output_type": "execute_result"
    }
   ],
   "source": [
    "'ba'+'na'*2"
   ]
  },
  {
   "cell_type": "code",
   "execution_count": 477,
   "id": "78d4bd06",
   "metadata": {},
   "outputs": [],
   "source": [
    "# memnership operator"
   ]
  },
  {
   "cell_type": "code",
   "execution_count": 478,
   "id": "f118c84a",
   "metadata": {},
   "outputs": [
    {
     "data": {
      "text/plain": [
       "True"
      ]
     },
     "execution_count": 478,
     "metadata": {},
     "output_type": "execute_result"
    }
   ],
   "source": [
    "mystr = 'vilas'\n",
    "'i' in mystr"
   ]
  },
  {
   "cell_type": "code",
   "execution_count": 479,
   "id": "19ba7b8d",
   "metadata": {},
   "outputs": [
    {
     "data": {
      "text/plain": [
       "False"
      ]
     },
     "execution_count": 479,
     "metadata": {},
     "output_type": "execute_result"
    }
   ],
   "source": [
    "'A' in mystr"
   ]
  },
  {
   "cell_type": "code",
   "execution_count": 480,
   "id": "81328700",
   "metadata": {},
   "outputs": [],
   "source": [
    "# relational operator"
   ]
  },
  {
   "cell_type": "code",
   "execution_count": 481,
   "id": "c4dc45f0",
   "metadata": {},
   "outputs": [
    {
     "data": {
      "text/plain": [
       "False"
      ]
     },
     "execution_count": 481,
     "metadata": {},
     "output_type": "execute_result"
    }
   ],
   "source": [
    "'tim' == 'tie'"
   ]
  },
  {
   "cell_type": "code",
   "execution_count": 482,
   "id": "13701d6a",
   "metadata": {},
   "outputs": [
    {
     "data": {
      "text/plain": [
       "True"
      ]
     },
     "execution_count": 482,
     "metadata": {},
     "output_type": "execute_result"
    }
   ],
   "source": [
    "'free' != 'fredon'"
   ]
  },
  {
   "cell_type": "code",
   "execution_count": 483,
   "id": "f059b36c",
   "metadata": {},
   "outputs": [
    {
     "data": {
      "text/plain": [
       "True"
      ]
     },
     "execution_count": 483,
     "metadata": {},
     "output_type": "execute_result"
    }
   ],
   "source": [
    "'arrow' > 'aron'"
   ]
  },
  {
   "cell_type": "code",
   "execution_count": 484,
   "id": "5cd598ea",
   "metadata": {},
   "outputs": [
    {
     "data": {
      "text/plain": [
       "False"
      ]
     },
     "execution_count": 484,
     "metadata": {},
     "output_type": "execute_result"
    }
   ],
   "source": [
    "'a' > 'b'"
   ]
  },
  {
   "cell_type": "code",
   "execution_count": 485,
   "id": "a530dd56",
   "metadata": {},
   "outputs": [
    {
     "data": {
      "text/plain": [
       "True"
      ]
     },
     "execution_count": 485,
     "metadata": {},
     "output_type": "execute_result"
    }
   ],
   "source": [
    "# check unicode value for eaxample a is come 1st then b  chr(65) ='A'\n",
    "'a' < 'b'"
   ]
  },
  {
   "cell_type": "code",
   "execution_count": 486,
   "id": "ce0f6da5",
   "metadata": {},
   "outputs": [
    {
     "data": {
      "text/plain": [
       "97"
      ]
     },
     "execution_count": 486,
     "metadata": {},
     "output_type": "execute_result"
    }
   ],
   "source": [
    "ord('a')"
   ]
  },
  {
   "cell_type": "code",
   "execution_count": 487,
   "id": "58c978e6",
   "metadata": {},
   "outputs": [
    {
     "data": {
      "text/plain": [
       "98"
      ]
     },
     "execution_count": 487,
     "metadata": {},
     "output_type": "execute_result"
    }
   ],
   "source": [
    "ord('b')"
   ]
  },
  {
   "cell_type": "code",
   "execution_count": 488,
   "id": "3cb19307",
   "metadata": {},
   "outputs": [],
   "source": [
    "# is and is not"
   ]
  },
  {
   "cell_type": "code",
   "execution_count": 490,
   "id": "84ad23f5",
   "metadata": {},
   "outputs": [],
   "source": [
    "a = 'python'\n",
    "b = 'python'"
   ]
  },
  {
   "cell_type": "code",
   "execution_count": 491,
   "id": "aa7c8fc4",
   "metadata": {},
   "outputs": [
    {
     "data": {
      "text/plain": [
       "True"
      ]
     },
     "execution_count": 491,
     "metadata": {},
     "output_type": "execute_result"
    }
   ],
   "source": [
    "a is b"
   ]
  },
  {
   "cell_type": "code",
   "execution_count": 492,
   "id": "d7decb21",
   "metadata": {},
   "outputs": [
    {
     "data": {
      "text/plain": [
       "False"
      ]
     },
     "execution_count": 492,
     "metadata": {},
     "output_type": "execute_result"
    }
   ],
   "source": [
    "a is not b"
   ]
  },
  {
   "cell_type": "raw",
   "id": "c81902fe",
   "metadata": {},
   "source": [
    "# function in string\n",
    "len()\n",
    "max()\n",
    "min()\n",
    "chr()\n",
    "ord()"
   ]
  },
  {
   "cell_type": "code",
   "execution_count": 493,
   "id": "8316010f",
   "metadata": {},
   "outputs": [
    {
     "data": {
      "text/plain": [
       "'A'"
      ]
     },
     "execution_count": 493,
     "metadata": {},
     "output_type": "execute_result"
    }
   ],
   "source": [
    "chr(65)"
   ]
  },
  {
   "cell_type": "code",
   "execution_count": 494,
   "id": "2dd27af9",
   "metadata": {},
   "outputs": [
    {
     "data": {
      "text/plain": [
       "'2'"
      ]
     },
     "execution_count": 494,
     "metadata": {},
     "output_type": "execute_result"
    }
   ],
   "source": [
    "# it will give the charecter at perticular unicode value\n",
    "chr(50)"
   ]
  },
  {
   "cell_type": "code",
   "execution_count": 495,
   "id": "b186d771",
   "metadata": {},
   "outputs": [],
   "source": [
    "# methos of strings\n",
    "#capitalize() only 1st chr is capitalize"
   ]
  },
  {
   "cell_type": "code",
   "execution_count": 496,
   "id": "f86fd65f",
   "metadata": {},
   "outputs": [
    {
     "data": {
      "text/plain": [
       "'Python code'"
      ]
     },
     "execution_count": 496,
     "metadata": {},
     "output_type": "execute_result"
    }
   ],
   "source": [
    "'python code'.capitalize()"
   ]
  },
  {
   "cell_type": "code",
   "execution_count": 497,
   "id": "47cc8cbc",
   "metadata": {},
   "outputs": [],
   "source": [
    "# lower()\n",
    "# upeer()"
   ]
  },
  {
   "cell_type": "code",
   "execution_count": 498,
   "id": "4d9f9269",
   "metadata": {},
   "outputs": [
    {
     "data": {
      "text/plain": [
       "'PYTHON CODE'"
      ]
     },
     "execution_count": 498,
     "metadata": {},
     "output_type": "execute_result"
    }
   ],
   "source": [
    "'python code'.upper()"
   ]
  },
  {
   "cell_type": "code",
   "execution_count": 499,
   "id": "752c4dd1",
   "metadata": {},
   "outputs": [
    {
     "data": {
      "text/plain": [
       "'python code'"
      ]
     },
     "execution_count": 499,
     "metadata": {},
     "output_type": "execute_result"
    }
   ],
   "source": [
    "'PYTHON CODE'.lower()"
   ]
  },
  {
   "cell_type": "code",
   "execution_count": 500,
   "id": "51aa9143",
   "metadata": {},
   "outputs": [
    {
     "data": {
      "text/plain": [
       "'python code'"
      ]
     },
     "execution_count": 500,
     "metadata": {},
     "output_type": "execute_result"
    }
   ],
   "source": [
    "'python code'.upper().lower()"
   ]
  },
  {
   "cell_type": "code",
   "execution_count": 501,
   "id": "5c6ac776",
   "metadata": {},
   "outputs": [],
   "source": [
    "# swapcase()  lower change to upper and upper changes to lower"
   ]
  },
  {
   "cell_type": "code",
   "execution_count": 502,
   "id": "17b085c3",
   "metadata": {},
   "outputs": [
    {
     "data": {
      "text/plain": [
       "'python code'"
      ]
     },
     "execution_count": 502,
     "metadata": {},
     "output_type": "execute_result"
    }
   ],
   "source": [
    "'PYTHON CODE'.swapcase()"
   ]
  },
  {
   "cell_type": "code",
   "execution_count": 503,
   "id": "aa0f20fe",
   "metadata": {},
   "outputs": [
    {
     "data": {
      "text/plain": [
       "'pYTHON cODE'"
      ]
     },
     "execution_count": 503,
     "metadata": {},
     "output_type": "execute_result"
    }
   ],
   "source": [
    "'Python Code'.swapcase()"
   ]
  },
  {
   "cell_type": "code",
   "execution_count": 504,
   "id": "4b31f989",
   "metadata": {},
   "outputs": [],
   "source": [
    "# title() return as title . 1st will be cap in other will be in lower"
   ]
  },
  {
   "cell_type": "code",
   "execution_count": 505,
   "id": "ba530352",
   "metadata": {},
   "outputs": [
    {
     "data": {
      "text/plain": [
       "'I Love Python'"
      ]
     },
     "execution_count": 505,
     "metadata": {},
     "output_type": "execute_result"
    }
   ],
   "source": [
    "'i LOVe pYTHON'.title()"
   ]
  },
  {
   "cell_type": "code",
   "execution_count": 506,
   "id": "0d3c8d59",
   "metadata": {},
   "outputs": [],
   "source": [
    "# islower()  check whehtet str is in lower or upper case\n",
    "# isupeer()"
   ]
  },
  {
   "cell_type": "code",
   "execution_count": 507,
   "id": "f4722475",
   "metadata": {},
   "outputs": [
    {
     "data": {
      "text/plain": [
       "False"
      ]
     },
     "execution_count": 507,
     "metadata": {},
     "output_type": "execute_result"
    }
   ],
   "source": [
    "'Python'.islower()"
   ]
  },
  {
   "cell_type": "code",
   "execution_count": 508,
   "id": "1beefbcd",
   "metadata": {},
   "outputs": [
    {
     "data": {
      "text/plain": [
       "False"
      ]
     },
     "execution_count": 508,
     "metadata": {},
     "output_type": "execute_result"
    }
   ],
   "source": [
    "'Python'.isupper()"
   ]
  },
  {
   "cell_type": "code",
   "execution_count": 509,
   "id": "b61a6a58",
   "metadata": {},
   "outputs": [
    {
     "data": {
      "text/plain": [
       "True"
      ]
     },
     "execution_count": 509,
     "metadata": {},
     "output_type": "execute_result"
    }
   ],
   "source": [
    "'PYTHON'.isupper()  # all should be cap "
   ]
  },
  {
   "cell_type": "code",
   "execution_count": 510,
   "id": "6d698b51",
   "metadata": {},
   "outputs": [
    {
     "data": {
      "text/plain": [
       "True"
      ]
     },
     "execution_count": 510,
     "metadata": {},
     "output_type": "execute_result"
    }
   ],
   "source": [
    "'VILAS'.isalpha()"
   ]
  },
  {
   "cell_type": "code",
   "execution_count": 511,
   "id": "fa7fb274",
   "metadata": {},
   "outputs": [
    {
     "data": {
      "text/plain": [
       "False"
      ]
     },
     "execution_count": 511,
     "metadata": {},
     "output_type": "execute_result"
    }
   ],
   "source": [
    "'VILAS '.isalpha()"
   ]
  },
  {
   "cell_type": "code",
   "execution_count": 512,
   "id": "4db32135",
   "metadata": {},
   "outputs": [
    {
     "data": {
      "text/plain": [
       "True"
      ]
     },
     "execution_count": 512,
     "metadata": {},
     "output_type": "execute_result"
    }
   ],
   "source": [
    "'123'.isdigit()"
   ]
  },
  {
   "cell_type": "code",
   "execution_count": 513,
   "id": "bfbb2bf6",
   "metadata": {},
   "outputs": [
    {
     "data": {
      "text/plain": [
       "False"
      ]
     },
     "execution_count": 513,
     "metadata": {},
     "output_type": "execute_result"
    }
   ],
   "source": [
    "'v1'.isdigit()"
   ]
  },
  {
   "cell_type": "code",
   "execution_count": 514,
   "id": "c59c4748",
   "metadata": {},
   "outputs": [
    {
     "data": {
      "text/plain": [
       "False"
      ]
     },
     "execution_count": 514,
     "metadata": {},
     "output_type": "execute_result"
    }
   ],
   "source": [
    "'c'.isdigit()"
   ]
  },
  {
   "cell_type": "code",
   "execution_count": 515,
   "id": "1a14dadf",
   "metadata": {},
   "outputs": [],
   "source": [
    "# isalnum() false for space and specital char"
   ]
  },
  {
   "cell_type": "code",
   "execution_count": 516,
   "id": "eea3bd30",
   "metadata": {},
   "outputs": [
    {
     "data": {
      "text/plain": [
       "True"
      ]
     },
     "execution_count": 516,
     "metadata": {},
     "output_type": "execute_result"
    }
   ],
   "source": [
    "'v1'.isalnum()"
   ]
  },
  {
   "cell_type": "code",
   "execution_count": 517,
   "id": "6614fbdb",
   "metadata": {},
   "outputs": [
    {
     "data": {
      "text/plain": [
       "False"
      ]
     },
     "execution_count": 517,
     "metadata": {},
     "output_type": "execute_result"
    }
   ],
   "source": [
    "'v1 '.isalnum()"
   ]
  },
  {
   "cell_type": "code",
   "execution_count": 518,
   "id": "c6cb809b",
   "metadata": {},
   "outputs": [],
   "source": [
    "# strip()  .. Return a copy of the string with leading and trailing whitespace removed."
   ]
  },
  {
   "cell_type": "code",
   "execution_count": 519,
   "id": "7dbe4487",
   "metadata": {},
   "outputs": [
    {
     "data": {
      "text/plain": [
       "'python'"
      ]
     },
     "execution_count": 519,
     "metadata": {},
     "output_type": "execute_result"
    }
   ],
   "source": [
    "'python '.strip()"
   ]
  },
  {
   "cell_type": "code",
   "execution_count": 520,
   "id": "e53b071d",
   "metadata": {},
   "outputs": [
    {
     "data": {
      "text/plain": [
       "'python'"
      ]
     },
     "execution_count": 520,
     "metadata": {},
     "output_type": "execute_result"
    }
   ],
   "source": [
    "' python '.strip()"
   ]
  },
  {
   "cell_type": "code",
   "execution_count": 521,
   "id": "a0e10d00",
   "metadata": {},
   "outputs": [],
   "source": [
    "# index()"
   ]
  },
  {
   "cell_type": "code",
   "execution_count": 522,
   "id": "9eaf0133",
   "metadata": {},
   "outputs": [
    {
     "data": {
      "text/plain": [
       "2"
      ]
     },
     "execution_count": 522,
     "metadata": {},
     "output_type": "execute_result"
    }
   ],
   "source": [
    "'i love python'.index('love') # start index of love"
   ]
  },
  {
   "cell_type": "code",
   "execution_count": 529,
   "id": "758ac481",
   "metadata": {},
   "outputs": [
    {
     "data": {
      "text/plain": [
       "'small'"
      ]
     },
     "execution_count": 529,
     "metadata": {},
     "output_type": "execute_result"
    }
   ],
   "source": [
    "'small'.translate('German')"
   ]
  },
  {
   "cell_type": "code",
   "execution_count": null,
   "id": "1d4044da",
   "metadata": {},
   "outputs": [],
   "source": []
  },
  {
   "cell_type": "markdown",
   "id": "524ab575",
   "metadata": {},
   "source": [
    "# Doctionary"
   ]
  },
  {
   "cell_type": "code",
   "execution_count": 530,
   "id": "4eb6832a",
   "metadata": {},
   "outputs": [],
   "source": [
    "# key and value pair"
   ]
  },
  {
   "cell_type": "code",
   "execution_count": 532,
   "id": "0867b25c",
   "metadata": {},
   "outputs": [
    {
     "data": {
      "text/plain": [
       "dict"
      ]
     },
     "execution_count": 532,
     "metadata": {},
     "output_type": "execute_result"
    }
   ],
   "source": [
    "mydict ={}\n",
    "type(mydict)"
   ]
  },
  {
   "cell_type": "code",
   "execution_count": 531,
   "id": "4316b22a",
   "metadata": {},
   "outputs": [
    {
     "data": {
      "text/plain": [
       "{1: 'vilas', 2: 'amit', 3: 'sagar'}"
      ]
     },
     "execution_count": 531,
     "metadata": {},
     "output_type": "execute_result"
    }
   ],
   "source": [
    "# dict with int key\n",
    "mydict1 = {1: 'vilas', 2 : 'amit', 3 : 'sagar'}\n",
    "mydict1"
   ]
  },
  {
   "cell_type": "code",
   "execution_count": 533,
   "id": "181f295a",
   "metadata": {},
   "outputs": [],
   "source": [
    "mydict2 = dict()"
   ]
  },
  {
   "cell_type": "code",
   "execution_count": 534,
   "id": "d69a97e5",
   "metadata": {},
   "outputs": [],
   "source": [
    "mydict2['vilas'] = ['python', 'matlab']\n",
    "mydict2['amit'] = ['python', 'matlab', 'java']"
   ]
  },
  {
   "cell_type": "code",
   "execution_count": 535,
   "id": "fc0e2331",
   "metadata": {},
   "outputs": [
    {
     "data": {
      "text/plain": [
       "{'vilas': ['python', 'matlab'], 'amit': ['python', 'matlab', 'java']}"
      ]
     },
     "execution_count": 535,
     "metadata": {},
     "output_type": "execute_result"
    }
   ],
   "source": [
    "mydict2"
   ]
  },
  {
   "cell_type": "code",
   "execution_count": 536,
   "id": "59ff2da9",
   "metadata": {},
   "outputs": [
    {
     "data": {
      "text/plain": [
       "dict_values([['python', 'matlab'], ['python', 'matlab', 'java']])"
      ]
     },
     "execution_count": 536,
     "metadata": {},
     "output_type": "execute_result"
    }
   ],
   "source": [
    "mydict2.values()"
   ]
  },
  {
   "cell_type": "code",
   "execution_count": 537,
   "id": "4bd4ee7c",
   "metadata": {},
   "outputs": [
    {
     "data": {
      "text/plain": [
       "dict_keys(['vilas', 'amit'])"
      ]
     },
     "execution_count": 537,
     "metadata": {},
     "output_type": "execute_result"
    }
   ],
   "source": [
    "mydict2.keys()"
   ]
  },
  {
   "cell_type": "code",
   "execution_count": 538,
   "id": "22d7efba",
   "metadata": {},
   "outputs": [
    {
     "name": "stdout",
     "output_type": "stream",
     "text": [
      "vilas\n",
      "amit\n"
     ]
    }
   ],
   "source": [
    "for i in mydict2:\n",
    "    print(i)"
   ]
  },
  {
   "cell_type": "code",
   "execution_count": 539,
   "id": "371a991a",
   "metadata": {},
   "outputs": [
    {
     "name": "stdout",
     "output_type": "stream",
     "text": [
      "vilas\n",
      "amit\n"
     ]
    }
   ],
   "source": [
    "for i in mydict2.keys():\n",
    "    print(i)"
   ]
  },
  {
   "cell_type": "code",
   "execution_count": 540,
   "id": "b5bda401",
   "metadata": {},
   "outputs": [
    {
     "name": "stdout",
     "output_type": "stream",
     "text": [
      "['python', 'matlab']\n",
      "['python', 'matlab', 'java']\n"
     ]
    }
   ],
   "source": [
    "for i in mydict2.values():\n",
    "    print(i)"
   ]
  },
  {
   "cell_type": "code",
   "execution_count": 541,
   "id": "d4214300",
   "metadata": {},
   "outputs": [
    {
     "name": "stdout",
     "output_type": "stream",
     "text": [
      "('vilas', ['python', 'matlab'])\n",
      "('amit', ['python', 'matlab', 'java'])\n"
     ]
    }
   ],
   "source": [
    "for i in mydict2.items():\n",
    "    print(i)"
   ]
  },
  {
   "cell_type": "code",
   "execution_count": 542,
   "id": "56924236",
   "metadata": {},
   "outputs": [
    {
     "name": "stdout",
     "output_type": "stream",
     "text": [
      "My name is vilas and i know ['python', 'matlab']\n",
      "My name is amit and i know ['python', 'matlab', 'java']\n"
     ]
    }
   ],
   "source": [
    "for i, j in mydict2.items():\n",
    "    print(f'My name is {i} and i know {j}')"
   ]
  },
  {
   "cell_type": "code",
   "execution_count": 543,
   "id": "5e16a9df",
   "metadata": {},
   "outputs": [],
   "source": [
    "# add new key and value\n",
    "mydict2['sagar'] = ['python', 'AWS', 'GWS']"
   ]
  },
  {
   "cell_type": "code",
   "execution_count": 544,
   "id": "c31a17d1",
   "metadata": {},
   "outputs": [
    {
     "data": {
      "text/plain": [
       "{'vilas': ['python', 'matlab'],\n",
       " 'amit': ['python', 'matlab', 'java'],\n",
       " 'sagar': ['python', 'AWS', 'GWS']}"
      ]
     },
     "execution_count": 544,
     "metadata": {},
     "output_type": "execute_result"
    }
   ],
   "source": [
    "mydict2"
   ]
  },
  {
   "cell_type": "code",
   "execution_count": 545,
   "id": "19f06ce0",
   "metadata": {},
   "outputs": [
    {
     "name": "stdout",
     "output_type": "stream",
     "text": [
      "Present\n"
     ]
    }
   ],
   "source": [
    "if 'vilas' in mydict2:\n",
    "    print('Present')"
   ]
  },
  {
   "cell_type": "code",
   "execution_count": 546,
   "id": "a8ab9f6b",
   "metadata": {},
   "outputs": [],
   "source": [
    "# overwite \n",
    "mydict2['vilas'] = ['java']"
   ]
  },
  {
   "cell_type": "code",
   "execution_count": 547,
   "id": "daa2e289",
   "metadata": {},
   "outputs": [
    {
     "data": {
      "text/plain": [
       "{'vilas': ['java'],\n",
       " 'amit': ['python', 'matlab', 'java'],\n",
       " 'sagar': ['python', 'AWS', 'GWS']}"
      ]
     },
     "execution_count": 547,
     "metadata": {},
     "output_type": "execute_result"
    }
   ],
   "source": [
    "mydict2"
   ]
  },
  {
   "cell_type": "code",
   "execution_count": 548,
   "id": "c1867787",
   "metadata": {},
   "outputs": [],
   "source": [
    "mydict2['vilas'] = mydict2['vilas'] + ['python']"
   ]
  },
  {
   "cell_type": "code",
   "execution_count": 549,
   "id": "b752d98c",
   "metadata": {},
   "outputs": [
    {
     "data": {
      "text/plain": [
       "{'vilas': ['java', 'python'],\n",
       " 'amit': ['python', 'matlab', 'java'],\n",
       " 'sagar': ['python', 'AWS', 'GWS']}"
      ]
     },
     "execution_count": 549,
     "metadata": {},
     "output_type": "execute_result"
    }
   ],
   "source": [
    "mydict2"
   ]
  },
  {
   "cell_type": "code",
   "execution_count": 550,
   "id": "3aca9efa",
   "metadata": {},
   "outputs": [],
   "source": [
    "mydict2['vilas'] = mydict2['vilas'] + ['cc','cc+']"
   ]
  },
  {
   "cell_type": "code",
   "execution_count": 551,
   "id": "30ae25a9",
   "metadata": {},
   "outputs": [
    {
     "data": {
      "text/plain": [
       "{'vilas': ['java', 'python', 'cc', 'cc+'],\n",
       " 'amit': ['python', 'matlab', 'java'],\n",
       " 'sagar': ['python', 'AWS', 'GWS']}"
      ]
     },
     "execution_count": 551,
     "metadata": {},
     "output_type": "execute_result"
    }
   ],
   "source": [
    "mydict2"
   ]
  },
  {
   "cell_type": "markdown",
   "id": "04803306",
   "metadata": {},
   "source": [
    "### Dict Functions"
   ]
  },
  {
   "cell_type": "code",
   "execution_count": 552,
   "id": "74ce79e1",
   "metadata": {},
   "outputs": [
    {
     "data": {
      "text/plain": [
       "3"
      ]
     },
     "execution_count": 552,
     "metadata": {},
     "output_type": "execute_result"
    }
   ],
   "source": [
    "len(mydict2)"
   ]
  },
  {
   "cell_type": "code",
   "execution_count": 553,
   "id": "68f696c8",
   "metadata": {},
   "outputs": [
    {
     "data": {
      "text/plain": [
       "'vilas'"
      ]
     },
     "execution_count": 553,
     "metadata": {},
     "output_type": "execute_result"
    }
   ],
   "source": [
    "max(mydict2)"
   ]
  },
  {
   "cell_type": "code",
   "execution_count": 554,
   "id": "b18f92f5",
   "metadata": {},
   "outputs": [
    {
     "data": {
      "text/plain": [
       "'amit'"
      ]
     },
     "execution_count": 554,
     "metadata": {},
     "output_type": "execute_result"
    }
   ],
   "source": [
    "min(mydict2)"
   ]
  },
  {
   "cell_type": "code",
   "execution_count": 555,
   "id": "7cf9ff49",
   "metadata": {},
   "outputs": [
    {
     "data": {
      "text/plain": [
       "['amit', 'sagar', 'vilas']"
      ]
     },
     "execution_count": 555,
     "metadata": {},
     "output_type": "execute_result"
    }
   ],
   "source": [
    "sorted(mydict2) # accending order"
   ]
  },
  {
   "cell_type": "code",
   "execution_count": 556,
   "id": "287c7a8a",
   "metadata": {},
   "outputs": [
    {
     "data": {
      "text/plain": [
       "True"
      ]
     },
     "execution_count": 556,
     "metadata": {},
     "output_type": "execute_result"
    }
   ],
   "source": [
    "any(mydict2)"
   ]
  },
  {
   "cell_type": "code",
   "execution_count": 557,
   "id": "48eeccc6",
   "metadata": {},
   "outputs": [
    {
     "data": {
      "text/plain": [
       "True"
      ]
     },
     "execution_count": 557,
     "metadata": {},
     "output_type": "execute_result"
    }
   ],
   "source": [
    "all(mydict2)\n"
   ]
  },
  {
   "cell_type": "markdown",
   "id": "2b7dbb0f",
   "metadata": {},
   "source": [
    "### mathod"
   ]
  },
  {
   "cell_type": "raw",
   "id": "31651944",
   "metadata": {},
   "source": [
    "\n",
    "clear()\n",
    "copy()\n",
    "setdefualt()\n",
    "get()\n",
    "keys()\n",
    "vslues()\n",
    "items()\n",
    "update()\n",
    "pop()\n",
    "popitems()"
   ]
  },
  {
   "cell_type": "code",
   "execution_count": 558,
   "id": "e8f9028d",
   "metadata": {},
   "outputs": [
    {
     "data": {
      "text/plain": [
       "{'vilas': ['java', 'python', 'cc', 'cc+'],\n",
       " 'amit': ['python', 'matlab', 'java'],\n",
       " 'sagar': ['python', 'AWS', 'GWS']}"
      ]
     },
     "execution_count": 558,
     "metadata": {},
     "output_type": "execute_result"
    }
   ],
   "source": [
    "mydict2"
   ]
  },
  {
   "cell_type": "code",
   "execution_count": 559,
   "id": "8431dcbe",
   "metadata": {},
   "outputs": [
    {
     "data": {
      "text/plain": [
       "['python', 'AWS', 'GWS']"
      ]
     },
     "execution_count": 559,
     "metadata": {},
     "output_type": "execute_result"
    }
   ],
   "source": [
    "mydict2.pop('sagar')"
   ]
  },
  {
   "cell_type": "code",
   "execution_count": 560,
   "id": "b49a9d68",
   "metadata": {},
   "outputs": [
    {
     "data": {
      "text/plain": [
       "{'vilas': ['java', 'python', 'cc', 'cc+'],\n",
       " 'amit': ['python', 'matlab', 'java']}"
      ]
     },
     "execution_count": 560,
     "metadata": {},
     "output_type": "execute_result"
    }
   ],
   "source": [
    "mydict2"
   ]
  },
  {
   "cell_type": "code",
   "execution_count": 561,
   "id": "93bdff04",
   "metadata": {},
   "outputs": [
    {
     "data": {
      "text/plain": [
       "('amit', ['python', 'matlab', 'java'])"
      ]
     },
     "execution_count": 561,
     "metadata": {},
     "output_type": "execute_result"
    }
   ],
   "source": [
    "mydict2.popitem()"
   ]
  },
  {
   "cell_type": "code",
   "execution_count": 562,
   "id": "327a0fe2",
   "metadata": {},
   "outputs": [
    {
     "data": {
      "text/plain": [
       "{'vilas': ['java', 'python', 'cc', 'cc+']}"
      ]
     },
     "execution_count": 562,
     "metadata": {},
     "output_type": "execute_result"
    }
   ],
   "source": [
    "mydict2"
   ]
  },
  {
   "cell_type": "code",
   "execution_count": 563,
   "id": "0619b23f",
   "metadata": {},
   "outputs": [
    {
     "data": {
      "text/plain": [
       "'not found'"
      ]
     },
     "execution_count": 563,
     "metadata": {},
     "output_type": "execute_result"
    }
   ],
   "source": [
    "mydict2.pop('sagar', 'not found')"
   ]
  },
  {
   "cell_type": "code",
   "execution_count": 564,
   "id": "ee8b5eb2",
   "metadata": {},
   "outputs": [],
   "source": [
    "mydict2.clear()"
   ]
  },
  {
   "cell_type": "code",
   "execution_count": 565,
   "id": "bfcf62dc",
   "metadata": {},
   "outputs": [
    {
     "data": {
      "text/plain": [
       "{}"
      ]
     },
     "execution_count": 565,
     "metadata": {},
     "output_type": "execute_result"
    }
   ],
   "source": [
    "mydict2"
   ]
  },
  {
   "cell_type": "code",
   "execution_count": 566,
   "id": "0dfcc684",
   "metadata": {},
   "outputs": [],
   "source": [
    "mydict3 ={'vilas': ['java', 'python', 'cc', 'cc+'],\n",
    " 'amit': ['python', 'matlab', 'java'],\n",
    " 'sagar': ['python', 'AWS', 'GWS']}"
   ]
  },
  {
   "cell_type": "code",
   "execution_count": 567,
   "id": "b7cdce41",
   "metadata": {},
   "outputs": [],
   "source": [
    "mydict4 = mydict3.copy()"
   ]
  },
  {
   "cell_type": "code",
   "execution_count": 568,
   "id": "99a84819",
   "metadata": {},
   "outputs": [
    {
     "data": {
      "text/plain": [
       "{'vilas': ['java', 'python', 'cc', 'cc+'],\n",
       " 'amit': ['python', 'matlab', 'java'],\n",
       " 'sagar': ['python', 'AWS', 'GWS']}"
      ]
     },
     "execution_count": 568,
     "metadata": {},
     "output_type": "execute_result"
    }
   ],
   "source": [
    "mydict4"
   ]
  },
  {
   "cell_type": "code",
   "execution_count": 569,
   "id": "cc61be4c",
   "metadata": {},
   "outputs": [],
   "source": [
    "mydict4['kishor'] = ['java', 'c','cc+']"
   ]
  },
  {
   "cell_type": "code",
   "execution_count": 570,
   "id": "c35be1de",
   "metadata": {},
   "outputs": [
    {
     "data": {
      "text/plain": [
       "{'vilas': ['java', 'python', 'cc', 'cc+'],\n",
       " 'amit': ['python', 'matlab', 'java'],\n",
       " 'sagar': ['python', 'AWS', 'GWS']}"
      ]
     },
     "execution_count": 570,
     "metadata": {},
     "output_type": "execute_result"
    }
   ],
   "source": [
    "mydict3"
   ]
  },
  {
   "cell_type": "code",
   "execution_count": 571,
   "id": "9345e1a0",
   "metadata": {},
   "outputs": [
    {
     "data": {
      "text/plain": [
       "{'vilas': ['java', 'python', 'cc', 'cc+'],\n",
       " 'amit': ['python', 'matlab', 'java'],\n",
       " 'sagar': ['python', 'AWS', 'GWS'],\n",
       " 'kishor': ['java', 'c', 'cc+']}"
      ]
     },
     "execution_count": 571,
     "metadata": {},
     "output_type": "execute_result"
    }
   ],
   "source": [
    "mydict4"
   ]
  },
  {
   "cell_type": "markdown",
   "id": "fce25a63",
   "metadata": {},
   "source": [
    "## Dict Comprehenstion"
   ]
  },
  {
   "cell_type": "code",
   "execution_count": 572,
   "id": "48ed4c98",
   "metadata": {},
   "outputs": [],
   "source": [
    "even_odd = {i : 'Even' if i % 2 == 0 else 'odd' for i in range(11)}"
   ]
  },
  {
   "cell_type": "code",
   "execution_count": 573,
   "id": "3f0fbe6f",
   "metadata": {},
   "outputs": [
    {
     "data": {
      "text/plain": [
       "{0: 'Even',\n",
       " 1: 'odd',\n",
       " 2: 'Even',\n",
       " 3: 'odd',\n",
       " 4: 'Even',\n",
       " 5: 'odd',\n",
       " 6: 'Even',\n",
       " 7: 'odd',\n",
       " 8: 'Even',\n",
       " 9: 'odd',\n",
       " 10: 'Even'}"
      ]
     },
     "execution_count": 573,
     "metadata": {},
     "output_type": "execute_result"
    }
   ],
   "source": [
    "even_odd"
   ]
  },
  {
   "cell_type": "markdown",
   "id": "5fc5ba1d",
   "metadata": {},
   "source": [
    "# Function"
   ]
  },
  {
   "cell_type": "code",
   "execution_count": 575,
   "id": "97ee2897",
   "metadata": {},
   "outputs": [
    {
     "data": {
      "text/plain": [
       "15"
      ]
     },
     "execution_count": 575,
     "metadata": {},
     "output_type": "execute_result"
    }
   ],
   "source": [
    "sum((10,5))"
   ]
  },
  {
   "cell_type": "code",
   "execution_count": 576,
   "id": "7734be50",
   "metadata": {},
   "outputs": [],
   "source": [
    "def addtowno():\n",
    "    a = 10\n",
    "    b = 15\n",
    "    c = a+b\n",
    "    print(c)"
   ]
  },
  {
   "cell_type": "code",
   "execution_count": 577,
   "id": "3e99f8ee",
   "metadata": {},
   "outputs": [
    {
     "name": "stdout",
     "output_type": "stream",
     "text": [
      "25\n"
     ]
    }
   ],
   "source": [
    "addtowno()"
   ]
  },
  {
   "cell_type": "code",
   "execution_count": 578,
   "id": "9365541e",
   "metadata": {},
   "outputs": [],
   "source": [
    "def addtownum():\n",
    "    a = input('Enter 1st no: ')\n",
    "    b = input('Enter 2nd no: ')\n",
    "    c = int(a) + int(b)\n",
    "    print(c)"
   ]
  },
  {
   "cell_type": "code",
   "execution_count": 579,
   "id": "b21be654",
   "metadata": {},
   "outputs": [
    {
     "name": "stdout",
     "output_type": "stream",
     "text": [
      "Enter 1st no: 10\n",
      "Enter 2nd no: 5\n",
      "15\n"
     ]
    }
   ],
   "source": [
    "addtownum()"
   ]
  },
  {
   "cell_type": "code",
   "execution_count": 580,
   "id": "96a522d2",
   "metadata": {},
   "outputs": [],
   "source": [
    "def absolute(x):\n",
    "    return abs(x)"
   ]
  },
  {
   "cell_type": "code",
   "execution_count": 581,
   "id": "55d51efb",
   "metadata": {},
   "outputs": [
    {
     "data": {
      "text/plain": [
       "5"
      ]
     },
     "execution_count": 581,
     "metadata": {},
     "output_type": "execute_result"
    }
   ],
   "source": [
    "absolute(-5)"
   ]
  },
  {
   "cell_type": "code",
   "execution_count": 582,
   "id": "62081689",
   "metadata": {},
   "outputs": [],
   "source": [
    "def absolute(x):\n",
    "    if x < 0:\n",
    "        print(x * (-1))\n",
    "    else:\n",
    "        print(x)"
   ]
  },
  {
   "cell_type": "code",
   "execution_count": 583,
   "id": "958680a9",
   "metadata": {},
   "outputs": [
    {
     "name": "stdout",
     "output_type": "stream",
     "text": [
      "5\n"
     ]
    }
   ],
   "source": [
    "absolute(-5)"
   ]
  },
  {
   "cell_type": "code",
   "execution_count": 584,
   "id": "54bb878b",
   "metadata": {},
   "outputs": [
    {
     "name": "stdout",
     "output_type": "stream",
     "text": [
      "enter a number: -6000\n",
      "6000\n"
     ]
    }
   ],
   "source": [
    "a = int(input('enter a number: '))\n",
    "x =absolute(a)"
   ]
  },
  {
   "cell_type": "code",
   "execution_count": 585,
   "id": "c6cb0977",
   "metadata": {},
   "outputs": [],
   "source": [
    "# with return\n",
    "def addtownum():\n",
    "    a = input('Enter 1st no: ')\n",
    "    b = input('Enter 2nd no: ')\n",
    "    c = int(a) + int(b)\n",
    "    return int(a),int(b),c"
   ]
  },
  {
   "cell_type": "code",
   "execution_count": 586,
   "id": "13ee8a3e",
   "metadata": {},
   "outputs": [
    {
     "name": "stdout",
     "output_type": "stream",
     "text": [
      "Enter 1st no: 10\n",
      "Enter 2nd no: 5\n"
     ]
    },
    {
     "data": {
      "text/plain": [
       "(10, 5, 15)"
      ]
     },
     "execution_count": 586,
     "metadata": {},
     "output_type": "execute_result"
    }
   ],
   "source": [
    "addtownum()"
   ]
  },
  {
   "cell_type": "code",
   "execution_count": 587,
   "id": "805a9658",
   "metadata": {},
   "outputs": [
    {
     "name": "stdout",
     "output_type": "stream",
     "text": [
      "Enter 1st no: 10\n",
      "Enter 2nd no: 5\n"
     ]
    }
   ],
   "source": [
    "a_value, b_value , opt = addtownum()"
   ]
  },
  {
   "cell_type": "code",
   "execution_count": 588,
   "id": "36531630",
   "metadata": {},
   "outputs": [
    {
     "data": {
      "text/plain": [
       "(10, 5, 15)"
      ]
     },
     "execution_count": 588,
     "metadata": {},
     "output_type": "execute_result"
    }
   ],
   "source": [
    "a_value, b_value , opt"
   ]
  },
  {
   "cell_type": "code",
   "execution_count": 599,
   "id": "b9cb80e9",
   "metadata": {},
   "outputs": [],
   "source": [
    "# factorial\n",
    "\n",
    "def fact():\n",
    "    num = input('Enter the num: ')\n",
    "    num = int(num)\n",
    "    total = 1\n",
    "    for i in range(1,num+1):\n",
    "        total = total * i\n",
    "    return total"
   ]
  },
  {
   "cell_type": "code",
   "execution_count": 601,
   "id": "58a5c6f2",
   "metadata": {},
   "outputs": [
    {
     "name": "stdout",
     "output_type": "stream",
     "text": [
      "Enter the num: 0\n"
     ]
    },
    {
     "data": {
      "text/plain": [
       "1"
      ]
     },
     "execution_count": 601,
     "metadata": {},
     "output_type": "execute_result"
    }
   ],
   "source": [
    "fact()"
   ]
  },
  {
   "cell_type": "code",
   "execution_count": 602,
   "id": "ecf3483d",
   "metadata": {},
   "outputs": [],
   "source": [
    "def recur_factorial(n):  \n",
    "   if n == 1:  \n",
    "       return n  \n",
    "   else:  \n",
    "       return n*recur_factorial(n-1) "
   ]
  },
  {
   "cell_type": "code",
   "execution_count": 603,
   "id": "23e73e02",
   "metadata": {},
   "outputs": [
    {
     "data": {
      "text/plain": [
       "6"
      ]
     },
     "execution_count": 603,
     "metadata": {},
     "output_type": "execute_result"
    }
   ],
   "source": [
    "recur_factorial(3)"
   ]
  },
  {
   "cell_type": "code",
   "execution_count": 604,
   "id": "e6e6b476",
   "metadata": {},
   "outputs": [],
   "source": [
    "# positional argument"
   ]
  },
  {
   "cell_type": "code",
   "execution_count": 605,
   "id": "1e569417",
   "metadata": {},
   "outputs": [],
   "source": [
    "def nos(a,b,c,d):\n",
    "    return a*b*c*d"
   ]
  },
  {
   "cell_type": "code",
   "execution_count": 606,
   "id": "3c99ca7d",
   "metadata": {},
   "outputs": [
    {
     "data": {
      "text/plain": [
       "75"
      ]
     },
     "execution_count": 606,
     "metadata": {},
     "output_type": "execute_result"
    }
   ],
   "source": [
    "nos(1,3,5,5)"
   ]
  },
  {
   "cell_type": "code",
   "execution_count": 607,
   "id": "a59b47c1",
   "metadata": {},
   "outputs": [
    {
     "ename": "TypeError",
     "evalue": "nos() missing 3 required positional arguments: 'b', 'c', and 'd'",
     "output_type": "error",
     "traceback": [
      "\u001b[1;31m---------------------------------------------------------------------------\u001b[0m",
      "\u001b[1;31mTypeError\u001b[0m                                 Traceback (most recent call last)",
      "\u001b[1;32m~\\AppData\\Local\\Temp/ipykernel_28312/4013196278.py\u001b[0m in \u001b[0;36m<module>\u001b[1;34m\u001b[0m\n\u001b[1;32m----> 1\u001b[1;33m \u001b[0mnos\u001b[0m\u001b[1;33m(\u001b[0m\u001b[1;36m1\u001b[0m\u001b[1;33m)\u001b[0m\u001b[1;33m\u001b[0m\u001b[1;33m\u001b[0m\u001b[0m\n\u001b[0m",
      "\u001b[1;31mTypeError\u001b[0m: nos() missing 3 required positional arguments: 'b', 'c', and 'd'"
     ]
    }
   ],
   "source": [
    "nos(1)"
   ]
  },
  {
   "cell_type": "code",
   "execution_count": 608,
   "id": "ffc3ddd7",
   "metadata": {},
   "outputs": [],
   "source": [
    "# keyword argument"
   ]
  },
  {
   "cell_type": "code",
   "execution_count": 609,
   "id": "104a44f3",
   "metadata": {},
   "outputs": [
    {
     "data": {
      "text/plain": [
       "75"
      ]
     },
     "execution_count": 609,
     "metadata": {},
     "output_type": "execute_result"
    }
   ],
   "source": [
    "nos(a= 1,b= 3,c = 5,d= 5)"
   ]
  },
  {
   "cell_type": "code",
   "execution_count": 610,
   "id": "2df2b1a4",
   "metadata": {},
   "outputs": [
    {
     "data": {
      "text/plain": [
       "75"
      ]
     },
     "execution_count": 610,
     "metadata": {},
     "output_type": "execute_result"
    }
   ],
   "source": [
    "nos(c = 5,d= 5,a= 1,b= 3)"
   ]
  },
  {
   "cell_type": "code",
   "execution_count": 611,
   "id": "5f0f3e30",
   "metadata": {},
   "outputs": [],
   "source": [
    "# default arg\n",
    "def nos(a,b,c,d = 1):\n",
    "    return a*b*c*d"
   ]
  },
  {
   "cell_type": "code",
   "execution_count": 612,
   "id": "c4479615",
   "metadata": {},
   "outputs": [
    {
     "data": {
      "text/plain": [
       "15"
      ]
     },
     "execution_count": 612,
     "metadata": {},
     "output_type": "execute_result"
    }
   ],
   "source": [
    "nos(c = 5,a= 1,b= 3)"
   ]
  },
  {
   "cell_type": "code",
   "execution_count": 613,
   "id": "2db712b0",
   "metadata": {},
   "outputs": [],
   "source": [
    "# *arg"
   ]
  },
  {
   "cell_type": "code",
   "execution_count": 614,
   "id": "08437d73",
   "metadata": {},
   "outputs": [],
   "source": [
    "def nos(*a):\n",
    "    num = 1\n",
    "    for i in a:\n",
    "        num = num * i\n",
    "    return num"
   ]
  },
  {
   "cell_type": "code",
   "execution_count": 617,
   "id": "4143d031",
   "metadata": {},
   "outputs": [],
   "source": [
    "def total(*arg):\n",
    "    sum1 = 0\n",
    "    for i in arg:\n",
    "        sum1 = sum1+ i\n",
    "    return sum1"
   ]
  },
  {
   "cell_type": "code",
   "execution_count": 619,
   "id": "0ee81b59",
   "metadata": {},
   "outputs": [
    {
     "data": {
      "text/plain": [
       "25"
      ]
     },
     "execution_count": 619,
     "metadata": {},
     "output_type": "execute_result"
    }
   ],
   "source": [
    "total(10,10,5)"
   ]
  },
  {
   "cell_type": "code",
   "execution_count": 620,
   "id": "5d4424f0",
   "metadata": {},
   "outputs": [],
   "source": [
    "def nos(*a):\n",
    "    num = 1\n",
    "    for i in a:\n",
    "        num = num * i\n",
    "    return num"
   ]
  },
  {
   "cell_type": "code",
   "execution_count": 621,
   "id": "9dce1d93",
   "metadata": {},
   "outputs": [
    {
     "data": {
      "text/plain": [
       "6"
      ]
     },
     "execution_count": 621,
     "metadata": {},
     "output_type": "execute_result"
    }
   ],
   "source": [
    "nos(1,2,3)"
   ]
  },
  {
   "cell_type": "code",
   "execution_count": 622,
   "id": "c065e012",
   "metadata": {},
   "outputs": [],
   "source": [
    "def gro(name, price):\n",
    "    print('Item is', name, 'Its price is', price)"
   ]
  },
  {
   "cell_type": "code",
   "execution_count": 623,
   "id": "c86383f2",
   "metadata": {},
   "outputs": [
    {
     "name": "stdout",
     "output_type": "stream",
     "text": [
      "Item is 150 Its price is butter\n"
     ]
    }
   ],
   "source": [
    "gro(150, 'butter')"
   ]
  },
  {
   "cell_type": "code",
   "execution_count": 624,
   "id": "00534ac5",
   "metadata": {},
   "outputs": [
    {
     "name": "stdout",
     "output_type": "stream",
     "text": [
      "Item is butter Its price is 150\n"
     ]
    }
   ],
   "source": [
    "gro(price = 150,name = 'butter')"
   ]
  },
  {
   "cell_type": "code",
   "execution_count": 625,
   "id": "9a3cbad2",
   "metadata": {},
   "outputs": [],
   "source": [
    "def area(radius ,pi = 3.14):\n",
    "    return radius **2 * pi "
   ]
  },
  {
   "cell_type": "code",
   "execution_count": 626,
   "id": "01fb77d8",
   "metadata": {},
   "outputs": [
    {
     "data": {
      "text/plain": [
       "314.0"
      ]
     },
     "execution_count": 626,
     "metadata": {},
     "output_type": "execute_result"
    }
   ],
   "source": [
    "area(10)"
   ]
  },
  {
   "cell_type": "code",
   "execution_count": 627,
   "id": "b576c782",
   "metadata": {},
   "outputs": [
    {
     "data": {
      "text/plain": [
       "314.1592653589793"
      ]
     },
     "execution_count": 627,
     "metadata": {},
     "output_type": "execute_result"
    }
   ],
   "source": [
    "import math\n",
    "area(10, math.pi)"
   ]
  },
  {
   "cell_type": "code",
   "execution_count": 628,
   "id": "18562e22",
   "metadata": {},
   "outputs": [],
   "source": [
    "def find_len(x):\n",
    "    ls = []\n",
    "    for i in x.split():\n",
    "        ls.append(len(i))\n",
    "    return max(ls)"
   ]
  },
  {
   "cell_type": "code",
   "execution_count": 629,
   "id": "72a73c91",
   "metadata": {},
   "outputs": [
    {
     "data": {
      "text/plain": [
       "6"
      ]
     },
     "execution_count": 629,
     "metadata": {},
     "output_type": "execute_result"
    }
   ],
   "source": [
    "find_len('Python code')"
   ]
  },
  {
   "cell_type": "code",
   "execution_count": 630,
   "id": "19d6e825",
   "metadata": {},
   "outputs": [],
   "source": [
    "def find_len1(*args):\n",
    "    larg = ''\n",
    "    for i in args:\n",
    "        if len(i) > len(larg):\n",
    "            larg = i\n",
    "        #print(i)\n",
    "    return len(larg)"
   ]
  },
  {
   "cell_type": "code",
   "execution_count": 631,
   "id": "178f0d8d",
   "metadata": {},
   "outputs": [
    {
     "data": {
      "text/plain": [
       "4"
      ]
     },
     "execution_count": 631,
     "metadata": {},
     "output_type": "execute_result"
    }
   ],
   "source": [
    "find_len1('vi', 'tade', 'a')"
   ]
  },
  {
   "cell_type": "code",
   "execution_count": 632,
   "id": "7e7bdad5",
   "metadata": {},
   "outputs": [
    {
     "ename": "NameError",
     "evalue": "name 'm' is not defined",
     "output_type": "error",
     "traceback": [
      "\u001b[1;31m---------------------------------------------------------------------------\u001b[0m",
      "\u001b[1;31mNameError\u001b[0m                                 Traceback (most recent call last)",
      "\u001b[1;32m~\\AppData\\Local\\Temp/ipykernel_28312/4108300024.py\u001b[0m in \u001b[0;36m<module>\u001b[1;34m\u001b[0m\n\u001b[0;32m      1\u001b[0m \u001b[1;32mdef\u001b[0m \u001b[0mf\u001b[0m\u001b[1;33m(\u001b[0m\u001b[1;33m)\u001b[0m\u001b[1;33m:\u001b[0m\u001b[1;33m\u001b[0m\u001b[1;33m\u001b[0m\u001b[0m\n\u001b[0;32m      2\u001b[0m     \u001b[0mprint\u001b[0m\u001b[1;33m(\u001b[0m\u001b[0mm\u001b[0m\u001b[1;33m)\u001b[0m\u001b[1;33m\u001b[0m\u001b[1;33m\u001b[0m\u001b[0m\n\u001b[1;32m----> 3\u001b[1;33m \u001b[0mf\u001b[0m\u001b[1;33m(\u001b[0m\u001b[1;33m)\u001b[0m\u001b[1;33m\u001b[0m\u001b[1;33m\u001b[0m\u001b[0m\n\u001b[0m\u001b[0;32m      4\u001b[0m \u001b[0mm\u001b[0m \u001b[1;33m=\u001b[0m \u001b[1;34m'I love python'\u001b[0m\u001b[1;33m\u001b[0m\u001b[1;33m\u001b[0m\u001b[0m\n",
      "\u001b[1;32m~\\AppData\\Local\\Temp/ipykernel_28312/4108300024.py\u001b[0m in \u001b[0;36mf\u001b[1;34m()\u001b[0m\n\u001b[0;32m      1\u001b[0m \u001b[1;32mdef\u001b[0m \u001b[0mf\u001b[0m\u001b[1;33m(\u001b[0m\u001b[1;33m)\u001b[0m\u001b[1;33m:\u001b[0m\u001b[1;33m\u001b[0m\u001b[1;33m\u001b[0m\u001b[0m\n\u001b[1;32m----> 2\u001b[1;33m     \u001b[0mprint\u001b[0m\u001b[1;33m(\u001b[0m\u001b[0mm\u001b[0m\u001b[1;33m)\u001b[0m\u001b[1;33m\u001b[0m\u001b[1;33m\u001b[0m\u001b[0m\n\u001b[0m\u001b[0;32m      3\u001b[0m \u001b[0mf\u001b[0m\u001b[1;33m(\u001b[0m\u001b[1;33m)\u001b[0m\u001b[1;33m\u001b[0m\u001b[1;33m\u001b[0m\u001b[0m\n\u001b[0;32m      4\u001b[0m \u001b[0mm\u001b[0m \u001b[1;33m=\u001b[0m \u001b[1;34m'I love python'\u001b[0m\u001b[1;33m\u001b[0m\u001b[1;33m\u001b[0m\u001b[0m\n",
      "\u001b[1;31mNameError\u001b[0m: name 'm' is not defined"
     ]
    }
   ],
   "source": [
    "def f():\n",
    "    print(m)\n",
    "f()\n",
    "m = 'I love python'"
   ]
  },
  {
   "cell_type": "code",
   "execution_count": 635,
   "id": "5488c00e",
   "metadata": {},
   "outputs": [
    {
     "name": "stdout",
     "output_type": "stream",
     "text": [
      "I love python\n"
     ]
    }
   ],
   "source": [
    "# global variable\n",
    "def f():\n",
    "    print(m)\n",
    "m = 'I love python'\n",
    "f()\n"
   ]
  },
  {
   "cell_type": "code",
   "execution_count": 636,
   "id": "77a3dc3a",
   "metadata": {},
   "outputs": [
    {
     "name": "stdout",
     "output_type": "stream",
     "text": [
      "vilas\n",
      "PYTHON\n"
     ]
    }
   ],
   "source": [
    "# local variable\n",
    "def test():\n",
    "    name = 'vilas'\n",
    "    print(name)\n",
    "test()\n",
    "print(name)"
   ]
  },
  {
   "cell_type": "code",
   "execution_count": null,
   "id": "b5f4475e",
   "metadata": {},
   "outputs": [],
   "source": [
    "#local var is variable which we defining in the fun and the scope is limited to fun only\n",
    "# opposite to global var"
   ]
  },
  {
   "cell_type": "code",
   "execution_count": 637,
   "id": "2aec5d33",
   "metadata": {},
   "outputs": [
    {
     "name": "stdout",
     "output_type": "stream",
     "text": [
      "I love python\n",
      "I love java\n"
     ]
    }
   ],
   "source": [
    "a = 'I love java'\n",
    "def test1():\n",
    "    a = 'I love python'\n",
    "    print(a)\n",
    "test1()\n",
    "print(a)"
   ]
  },
  {
   "cell_type": "code",
   "execution_count": 638,
   "id": "5a9c2c61",
   "metadata": {},
   "outputs": [
    {
     "name": "stdout",
     "output_type": "stream",
     "text": [
      "I love python\n",
      "I love python\n"
     ]
    }
   ],
   "source": [
    "# making local var to globalvar\n",
    "#a = 'I love java'\n",
    "def test1():\n",
    "    global b\n",
    "    b = 'I love python'\n",
    "    print(b)\n",
    "test1()\n",
    "print(b)"
   ]
  },
  {
   "cell_type": "code",
   "execution_count": 639,
   "id": "e6976dfc",
   "metadata": {},
   "outputs": [
    {
     "name": "stdout",
     "output_type": "stream",
     "text": [
      "I love python\n",
      "I love python\n"
     ]
    }
   ],
   "source": [
    "b = 'I love java'\n",
    "def test1():\n",
    "    global b\n",
    "    b = 'I love python'\n",
    "    print(b)\n",
    "test1()\n",
    "print(b)"
   ]
  },
  {
   "cell_type": "code",
   "execution_count": 640,
   "id": "c951b633",
   "metadata": {},
   "outputs": [
    {
     "name": "stdout",
     "output_type": "stream",
     "text": [
      "I love java\n",
      "I love python\n"
     ]
    }
   ],
   "source": [
    "a = 'I love java'\n",
    "def test1():\n",
    "    global b\n",
    "    b = 'I love python'\n",
    "    print(a)\n",
    "test1()\n",
    "print(b)"
   ]
  },
  {
   "cell_type": "code",
   "execution_count": 641,
   "id": "cddd814f",
   "metadata": {},
   "outputs": [
    {
     "name": "stdout",
     "output_type": "stream",
     "text": [
      "I love java\n",
      "I love python\n",
      "I love c\n"
     ]
    }
   ],
   "source": [
    "a = 'I love java'\n",
    "def test1():\n",
    "    global b , c\n",
    "    b = 'I love python'\n",
    "    c = 'I love c'\n",
    "    print(a)\n",
    "test1()\n",
    "print(b)\n",
    "print(c)"
   ]
  },
  {
   "cell_type": "code",
   "execution_count": 644,
   "id": "4d22b910",
   "metadata": {},
   "outputs": [
    {
     "ename": "UnboundLocalError",
     "evalue": "local variable 'a' referenced before assignment",
     "output_type": "error",
     "traceback": [
      "\u001b[1;31m---------------------------------------------------------------------------\u001b[0m",
      "\u001b[1;31mUnboundLocalError\u001b[0m                         Traceback (most recent call last)",
      "\u001b[1;32m~\\AppData\\Local\\Temp/ipykernel_28312/3818311031.py\u001b[0m in \u001b[0;36m<module>\u001b[1;34m\u001b[0m\n\u001b[0;32m      5\u001b[0m     \u001b[0mprint\u001b[0m\u001b[1;33m(\u001b[0m\u001b[0ma\u001b[0m\u001b[1;33m)\u001b[0m\u001b[1;33m\u001b[0m\u001b[1;33m\u001b[0m\u001b[0m\n\u001b[0;32m      6\u001b[0m \u001b[1;33m\u001b[0m\u001b[0m\n\u001b[1;32m----> 7\u001b[1;33m \u001b[0mtest1\u001b[0m\u001b[1;33m(\u001b[0m\u001b[1;33m)\u001b[0m\u001b[1;33m\u001b[0m\u001b[1;33m\u001b[0m\u001b[0m\n\u001b[0m",
      "\u001b[1;32m~\\AppData\\Local\\Temp/ipykernel_28312/3818311031.py\u001b[0m in \u001b[0;36mtest1\u001b[1;34m()\u001b[0m\n\u001b[0;32m      1\u001b[0m \u001b[0ma\u001b[0m \u001b[1;33m=\u001b[0m \u001b[1;34m'I love java'\u001b[0m\u001b[1;33m\u001b[0m\u001b[1;33m\u001b[0m\u001b[0m\n\u001b[0;32m      2\u001b[0m \u001b[1;32mdef\u001b[0m \u001b[0mtest1\u001b[0m\u001b[1;33m(\u001b[0m\u001b[1;33m)\u001b[0m\u001b[1;33m:\u001b[0m\u001b[1;33m\u001b[0m\u001b[1;33m\u001b[0m\u001b[0m\n\u001b[1;32m----> 3\u001b[1;33m     \u001b[0mprint\u001b[0m\u001b[1;33m(\u001b[0m\u001b[0ma\u001b[0m\u001b[1;33m)\u001b[0m\u001b[1;33m\u001b[0m\u001b[1;33m\u001b[0m\u001b[0m\n\u001b[0m\u001b[0;32m      4\u001b[0m     \u001b[0ma\u001b[0m \u001b[1;33m=\u001b[0m \u001b[1;34m'I love python'\u001b[0m\u001b[1;33m\u001b[0m\u001b[1;33m\u001b[0m\u001b[0m\n\u001b[0;32m      5\u001b[0m     \u001b[0mprint\u001b[0m\u001b[1;33m(\u001b[0m\u001b[0ma\u001b[0m\u001b[1;33m)\u001b[0m\u001b[1;33m\u001b[0m\u001b[1;33m\u001b[0m\u001b[0m\n",
      "\u001b[1;31mUnboundLocalError\u001b[0m: local variable 'a' referenced before assignment"
     ]
    }
   ],
   "source": [
    "a = 'I love java'\n",
    "def test1():\n",
    "    print(a)\n",
    "    a = 'I love python'\n",
    "    print(a)\n",
    "    \n",
    "test1()"
   ]
  },
  {
   "cell_type": "markdown",
   "id": "4335f514",
   "metadata": {},
   "source": [
    "# lambda"
   ]
  },
  {
   "cell_type": "code",
   "execution_count": 645,
   "id": "42d6eb11",
   "metadata": {},
   "outputs": [],
   "source": [
    "def ad(x,y):\n",
    "    return x+y"
   ]
  },
  {
   "cell_type": "code",
   "execution_count": 646,
   "id": "091d5b59",
   "metadata": {},
   "outputs": [
    {
     "data": {
      "text/plain": [
       "25"
      ]
     },
     "execution_count": 646,
     "metadata": {},
     "output_type": "execute_result"
    }
   ],
   "source": [
    "ad(10,15)"
   ]
  },
  {
   "cell_type": "code",
   "execution_count": 647,
   "id": "bb28ce8e",
   "metadata": {},
   "outputs": [],
   "source": [
    "add = lambda x,y : x+y"
   ]
  },
  {
   "cell_type": "code",
   "execution_count": 648,
   "id": "82b868e6",
   "metadata": {},
   "outputs": [
    {
     "data": {
      "text/plain": [
       "11"
      ]
     },
     "execution_count": 648,
     "metadata": {},
     "output_type": "execute_result"
    }
   ],
   "source": [
    "add(5,6)"
   ]
  },
  {
   "cell_type": "code",
   "execution_count": 649,
   "id": "084dec56",
   "metadata": {},
   "outputs": [
    {
     "data": {
      "text/plain": [
       "function"
      ]
     },
     "execution_count": 649,
     "metadata": {},
     "output_type": "execute_result"
    }
   ],
   "source": [
    "type(add)"
   ]
  },
  {
   "cell_type": "code",
   "execution_count": 650,
   "id": "a120faf7",
   "metadata": {},
   "outputs": [
    {
     "name": "stdout",
     "output_type": "stream",
     "text": [
      "11\n"
     ]
    }
   ],
   "source": [
    "print(( lambda x,y : x+y)(5,6))"
   ]
  },
  {
   "cell_type": "code",
   "execution_count": 651,
   "id": "58de698a",
   "metadata": {},
   "outputs": [
    {
     "name": "stdout",
     "output_type": "stream",
     "text": [
      "enter num110\n",
      "enter num22\n",
      "Sq of num1 100\n",
      "Sq of num2 4\n",
      "(100, 4)\n"
     ]
    }
   ],
   "source": [
    "#take 2 values and fine sq of these var\n",
    "\n",
    "num1 = int(input('enter num1'))\n",
    "num2 = int(input('enter num2'))\n",
    "squre = lambda x : x**2\n",
    "print('Sq of num1',squre(num1))\n",
    "print('Sq of num2',squre(num2))\n",
    "squre1 = lambda x,y : (x**2, y**2)\n",
    "print(squre1(num1,num2))"
   ]
  },
  {
   "cell_type": "code",
   "execution_count": 652,
   "id": "d576d70a",
   "metadata": {},
   "outputs": [
    {
     "data": {
      "text/plain": [
       "('v', 's')"
      ]
     },
     "execution_count": 652,
     "metadata": {},
     "output_type": "execute_result"
    }
   ],
   "source": [
    "char = lambda x : (x[0], x[-1])\n",
    "char('vilas')"
   ]
  },
  {
   "cell_type": "code",
   "execution_count": 653,
   "id": "176fa622",
   "metadata": {},
   "outputs": [
    {
     "data": {
      "text/plain": [
       "[False, True, False, True]"
      ]
     },
     "execution_count": 653,
     "metadata": {},
     "output_type": "execute_result"
    }
   ],
   "source": [
    "# return true or false if num is even or false if num odd\n",
    "num = [1,2,3,4]\n",
    "evnodd = lambda x : x % 2 ==0\n",
    "ls = list(map(evnodd, num))\n",
    "ls"
   ]
  },
  {
   "cell_type": "code",
   "execution_count": 654,
   "id": "eec89690",
   "metadata": {},
   "outputs": [
    {
     "data": {
      "text/plain": [
       "False"
      ]
     },
     "execution_count": 654,
     "metadata": {},
     "output_type": "execute_result"
    }
   ],
   "source": [
    "evnodd(3)"
   ]
  },
  {
   "cell_type": "code",
   "execution_count": 655,
   "id": "4d68f022",
   "metadata": {},
   "outputs": [],
   "source": [
    "evenodd = lambda x : \"True\" if x % 2 ==0 else \"False\""
   ]
  },
  {
   "cell_type": "code",
   "execution_count": 656,
   "id": "ce3c2da6",
   "metadata": {},
   "outputs": [
    {
     "data": {
      "text/plain": [
       "'True'"
      ]
     },
     "execution_count": 656,
     "metadata": {},
     "output_type": "execute_result"
    }
   ],
   "source": [
    "evenodd(2)"
   ]
  },
  {
   "cell_type": "code",
   "execution_count": 657,
   "id": "17120015",
   "metadata": {},
   "outputs": [],
   "source": [
    "# WAp to take 2 arg and find out gretest amount them\n",
    "\n",
    "bigger = lambda a,b : \"1st num is bigger\" if a> b else \"2nd num is bigger\""
   ]
  },
  {
   "cell_type": "code",
   "execution_count": 658,
   "id": "849d5dc9",
   "metadata": {},
   "outputs": [
    {
     "data": {
      "text/plain": [
       "'1st num is bigger'"
      ]
     },
     "execution_count": 658,
     "metadata": {},
     "output_type": "execute_result"
    }
   ],
   "source": [
    "bigger(6,5)"
   ]
  },
  {
   "cell_type": "code",
   "execution_count": 659,
   "id": "c77a168c",
   "metadata": {},
   "outputs": [
    {
     "data": {
      "text/plain": [
       "'2nd num is bigger'"
      ]
     },
     "execution_count": 659,
     "metadata": {},
     "output_type": "execute_result"
    }
   ],
   "source": [
    "bigger(5,6)"
   ]
  },
  {
   "cell_type": "code",
   "execution_count": null,
   "id": "b7a92f7e",
   "metadata": {},
   "outputs": [],
   "source": []
  },
  {
   "cell_type": "markdown",
   "id": "1c62c6ac",
   "metadata": {},
   "source": [
    "# map(func, *iterables) "
   ]
  },
  {
   "cell_type": "code",
   "execution_count": 660,
   "id": "d6929109",
   "metadata": {},
   "outputs": [],
   "source": [
    "ls = [1,2,3,4,5,6,7,8,9,10]\n",
    "def sq(x):\n",
    "    return x **2\n",
    "    "
   ]
  },
  {
   "cell_type": "code",
   "execution_count": 661,
   "id": "2d676fea",
   "metadata": {},
   "outputs": [
    {
     "name": "stdout",
     "output_type": "stream",
     "text": [
      "1, 4, 9, 16, 25, 36, 49, 64, 81, 100, "
     ]
    }
   ],
   "source": [
    "for i in ls:\n",
    "    print(sq(i), end = ', ')"
   ]
  },
  {
   "cell_type": "code",
   "execution_count": 662,
   "id": "f996946f",
   "metadata": {},
   "outputs": [
    {
     "data": {
      "text/plain": [
       "[1, 4, 9, 16, 25, 36, 49, 64, 81, 100]"
      ]
     },
     "execution_count": 662,
     "metadata": {},
     "output_type": "execute_result"
    }
   ],
   "source": [
    "list(map(sq,ls))"
   ]
  },
  {
   "cell_type": "code",
   "execution_count": 663,
   "id": "eb7c3ec9",
   "metadata": {},
   "outputs": [
    {
     "data": {
      "text/plain": [
       "[1, 4, 9, 16, 25, 36, 49, 64, 81, 100]"
      ]
     },
     "execution_count": 663,
     "metadata": {},
     "output_type": "execute_result"
    }
   ],
   "source": [
    "list(map(lambda x : x**2, ls))"
   ]
  },
  {
   "cell_type": "code",
   "execution_count": 664,
   "id": "cfcbe439",
   "metadata": {},
   "outputs": [],
   "source": [
    "def inspect(s):\n",
    "    if len(s) % 2 ==0:\n",
    "        return 'Even'\n",
    "    else:\n",
    "        return s[0]\n",
    "    "
   ]
  },
  {
   "cell_type": "code",
   "execution_count": 665,
   "id": "ac6e5318",
   "metadata": {},
   "outputs": [
    {
     "data": {
      "text/plain": [
       "'v'"
      ]
     },
     "execution_count": 665,
     "metadata": {},
     "output_type": "execute_result"
    }
   ],
   "source": [
    "inspect('vilas')"
   ]
  },
  {
   "cell_type": "code",
   "execution_count": 666,
   "id": "62cccadb",
   "metadata": {},
   "outputs": [
    {
     "data": {
      "text/plain": [
       "'Even'"
      ]
     },
     "execution_count": 666,
     "metadata": {},
     "output_type": "execute_result"
    }
   ],
   "source": [
    "inspect('tade')"
   ]
  },
  {
   "cell_type": "code",
   "execution_count": 667,
   "id": "81c85639",
   "metadata": {},
   "outputs": [
    {
     "name": "stdout",
     "output_type": "stream",
     "text": [
      "j\n",
      "f\n",
      "m\n"
     ]
    }
   ],
   "source": [
    "month = ['jan','feb','march']\n",
    "for i in month:\n",
    "    print(inspect(i))"
   ]
  },
  {
   "cell_type": "code",
   "execution_count": 668,
   "id": "81c1a2ed",
   "metadata": {},
   "outputs": [
    {
     "name": "stdout",
     "output_type": "stream",
     "text": [
      "['j', 'f', 'm']\n"
     ]
    }
   ],
   "source": [
    "month = ['jan','feb','march']\n",
    "print(list(map(inspect, month)))"
   ]
  },
  {
   "cell_type": "markdown",
   "id": "84c6d758",
   "metadata": {},
   "source": [
    "# filter(function or None, iterable)"
   ]
  },
  {
   "cell_type": "code",
   "execution_count": 669,
   "id": "db1205c7",
   "metadata": {},
   "outputs": [],
   "source": [
    "ls = [1,2,3,4,5,6,7,8,9,10]"
   ]
  },
  {
   "cell_type": "code",
   "execution_count": 670,
   "id": "a529381b",
   "metadata": {},
   "outputs": [
    {
     "data": {
      "text/plain": [
       "[2, 4, 6, 8, 10]"
      ]
     },
     "execution_count": 670,
     "metadata": {},
     "output_type": "execute_result"
    }
   ],
   "source": [
    "list(filter(lambda x : x % 2 ==0 ,ls))"
   ]
  },
  {
   "cell_type": "code",
   "execution_count": 671,
   "id": "d6d92d6b",
   "metadata": {},
   "outputs": [
    {
     "data": {
      "text/plain": [
       "([2, 4, 6, 8, 10], [4, 16, 36, 64, 100])"
      ]
     },
     "execution_count": 671,
     "metadata": {},
     "output_type": "execute_result"
    }
   ],
   "source": [
    "ls_even =list(filter(lambda x : x % 2 ==0 ,ls))\n",
    "ls_even,[i **2 for i in ls_even]"
   ]
  },
  {
   "cell_type": "code",
   "execution_count": 672,
   "id": "23c3bbcb",
   "metadata": {},
   "outputs": [],
   "source": [
    "def checkeven(x):\n",
    "    return x % 2 ==0"
   ]
  },
  {
   "cell_type": "code",
   "execution_count": 673,
   "id": "2571fcb0",
   "metadata": {},
   "outputs": [
    {
     "name": "stdout",
     "output_type": "stream",
     "text": [
      "False\n",
      "True\n",
      "False\n",
      "True\n",
      "False\n",
      "True\n",
      "False\n",
      "True\n",
      "False\n",
      "True\n"
     ]
    }
   ],
   "source": [
    "for i in ls:\n",
    "    print(checkeven(i))"
   ]
  },
  {
   "cell_type": "code",
   "execution_count": 674,
   "id": "94a68fad",
   "metadata": {},
   "outputs": [
    {
     "name": "stdout",
     "output_type": "stream",
     "text": [
      "2\n",
      "4\n",
      "6\n",
      "8\n",
      "10\n"
     ]
    }
   ],
   "source": [
    "# filtering true values\n",
    "for i in ls:\n",
    "    if checkeven(i):\n",
    "        print(i)"
   ]
  },
  {
   "cell_type": "code",
   "execution_count": 675,
   "id": "e60d77f8",
   "metadata": {},
   "outputs": [
    {
     "data": {
      "text/plain": [
       "[1, 2, 3, 4, 5, 6, 7, 8, 9, 10]"
      ]
     },
     "execution_count": 675,
     "metadata": {},
     "output_type": "execute_result"
    }
   ],
   "source": [
    "list(filter(lambda x : x**2 , ls))"
   ]
  },
  {
   "cell_type": "code",
   "execution_count": 676,
   "id": "7fe6fd45",
   "metadata": {},
   "outputs": [
    {
     "name": "stdout",
     "output_type": "stream",
     "text": [
      "True\n"
     ]
    }
   ],
   "source": [
    "# check char whether vowel or not\n",
    "char = 'a'\n",
    "print((lambda x : True if x in 'aioue' else False)(char))"
   ]
  },
  {
   "cell_type": "code",
   "execution_count": 677,
   "id": "eba20871",
   "metadata": {},
   "outputs": [
    {
     "data": {
      "text/plain": [
       "['i', 'a']"
      ]
     },
     "execution_count": 677,
     "metadata": {},
     "output_type": "execute_result"
    }
   ],
   "source": [
    "list(filter(lambda x : x in 'aioue', 'vilas'))"
   ]
  },
  {
   "cell_type": "code",
   "execution_count": null,
   "id": "ef4f2f1c",
   "metadata": {},
   "outputs": [],
   "source": []
  },
  {
   "cell_type": "code",
   "execution_count": 678,
   "id": "ba6af8e0",
   "metadata": {},
   "outputs": [],
   "source": [
    "# display only vowel from string\n",
    "name = 'vilas'\n",
    "\n",
    "def vowel_check(x):\n",
    "    vowel_ls = []\n",
    "    for i in x:\n",
    "        if i in 'aiour':\n",
    "            vowel_ls.append(i)\n",
    "    if len(vowel_ls)> 0:\n",
    "        return vowel_ls\n",
    "    else:\n",
    "        return 'No vowel'\n",
    "        "
   ]
  },
  {
   "cell_type": "code",
   "execution_count": 679,
   "id": "8e8d212b",
   "metadata": {},
   "outputs": [
    {
     "data": {
      "text/plain": [
       "['No vowel', ['i'], 'No vowel', ['a'], 'No vowel']"
      ]
     },
     "execution_count": 679,
     "metadata": {},
     "output_type": "execute_result"
    }
   ],
   "source": [
    "list(map(vowel_check, 'vilas'))"
   ]
  },
  {
   "cell_type": "code",
   "execution_count": 680,
   "id": "b6a8ade9",
   "metadata": {},
   "outputs": [
    {
     "data": {
      "text/plain": [
       "['i', 'a']"
      ]
     },
     "execution_count": 680,
     "metadata": {},
     "output_type": "execute_result"
    }
   ],
   "source": [
    "vowel_check('vilas')"
   ]
  },
  {
   "cell_type": "code",
   "execution_count": 681,
   "id": "ee72c998",
   "metadata": {},
   "outputs": [
    {
     "data": {
      "text/plain": [
       "'No vowel'"
      ]
     },
     "execution_count": 681,
     "metadata": {},
     "output_type": "execute_result"
    }
   ],
   "source": [
    "vowel_check('xys')"
   ]
  },
  {
   "cell_type": "code",
   "execution_count": 682,
   "id": "80d79294",
   "metadata": {},
   "outputs": [
    {
     "name": "stdout",
     "output_type": "stream",
     "text": [
      "['i', 'a', 'a']\n"
     ]
    }
   ],
   "source": [
    "name = 'vilaas'\n",
    "templs = list(filter(lambda x : x in 'aioue', name))\n",
    "if len(templs) == 0:\n",
    "    print('No vowel')\n",
    "else:\n",
    "    print(templs)"
   ]
  },
  {
   "cell_type": "code",
   "execution_count": 683,
   "id": "723f8f4d",
   "metadata": {},
   "outputs": [
    {
     "name": "stdout",
     "output_type": "stream",
     "text": [
      "['a']\n"
     ]
    }
   ],
   "source": [
    "name = 'snpatdsf'\n",
    "lst =[]\n",
    "for j in name:\n",
    "    if j in 'aeiouAEIOU':\n",
    "        lst.append(j)\n",
    "if len(lst)>0:\n",
    "    print(lst)\n",
    "else:\n",
    "    print(\"No Vowels\")\n",
    "\n",
    "\n",
    "\n",
    "#templs = list(filter('No vowel' if len(templs) == 0 else \"Vovel\" lambda x : x in name))\n"
   ]
  },
  {
   "cell_type": "markdown",
   "id": "9d68aae6",
   "metadata": {},
   "source": [
    "# enumurate() >>> enumerate(iterable, start=0)"
   ]
  },
  {
   "cell_type": "code",
   "execution_count": 686,
   "id": "75732d7e",
   "metadata": {},
   "outputs": [
    {
     "data": {
      "text/plain": [
       "{'vilas': ['java', 'python', 'cc', 'cc+'],\n",
       " 'amit': ['python', 'matlab', 'java'],\n",
       " 'sagar': ['python', 'AWS', 'GWS'],\n",
       " 'kishor': ['java', 'c', 'cc+']}"
      ]
     },
     "execution_count": 686,
     "metadata": {},
     "output_type": "execute_result"
    }
   ],
   "source": [
    "mydict4"
   ]
  },
  {
   "cell_type": "code",
   "execution_count": 690,
   "id": "c0352fda",
   "metadata": {},
   "outputs": [
    {
     "name": "stdout",
     "output_type": "stream",
     "text": [
      "0 vilas\n",
      "1 amit\n",
      "2 sagar\n",
      "3 kishor\n"
     ]
    }
   ],
   "source": [
    "for i, j in enumerate(mydict4):\n",
    "    print(i,j)"
   ]
  },
  {
   "cell_type": "markdown",
   "id": "1ac2f101",
   "metadata": {},
   "source": [
    "# Zip()"
   ]
  },
  {
   "cell_type": "code",
   "execution_count": 691,
   "id": "864bbbef",
   "metadata": {},
   "outputs": [],
   "source": [
    "ls1 = [1,2,3,4,5]\n",
    "ls2 = ['a','b','c','d','e']"
   ]
  },
  {
   "cell_type": "code",
   "execution_count": 693,
   "id": "8189c8f7",
   "metadata": {},
   "outputs": [
    {
     "data": {
      "text/plain": [
       "[(1, 'a'), (2, 'b'), (3, 'c'), (4, 'd'), (5, 'e')]"
      ]
     },
     "execution_count": 693,
     "metadata": {},
     "output_type": "execute_result"
    }
   ],
   "source": [
    "list(zip(ls1,ls2))"
   ]
  },
  {
   "cell_type": "code",
   "execution_count": 694,
   "id": "bfe8b1bb",
   "metadata": {},
   "outputs": [],
   "source": [
    "ls1 = [1,2,3,4]\n",
    "ls2 = ['a','b','c','d','e']"
   ]
  },
  {
   "cell_type": "code",
   "execution_count": 695,
   "id": "ddb565a4",
   "metadata": {},
   "outputs": [
    {
     "data": {
      "text/plain": [
       "[(1, 'a'), (2, 'b'), (3, 'c'), (4, 'd')]"
      ]
     },
     "execution_count": 695,
     "metadata": {},
     "output_type": "execute_result"
    }
   ],
   "source": [
    "list(zip(ls1,ls2))"
   ]
  },
  {
   "cell_type": "code",
   "execution_count": null,
   "id": "e9974d5b",
   "metadata": {},
   "outputs": [],
   "source": []
  },
  {
   "cell_type": "code",
   "execution_count": 696,
   "id": "9a3628da",
   "metadata": {},
   "outputs": [],
   "source": [
    "ls1 = [1,2,3,4]\n",
    "ls2 = ['a','b','e']"
   ]
  },
  {
   "cell_type": "code",
   "execution_count": 697,
   "id": "ccc402e8",
   "metadata": {},
   "outputs": [
    {
     "data": {
      "text/plain": [
       "[(1, 'a'), (2, 'b'), (3, 'e')]"
      ]
     },
     "execution_count": 697,
     "metadata": {},
     "output_type": "execute_result"
    }
   ],
   "source": [
    "list(zip(ls1,ls2))"
   ]
  },
  {
   "cell_type": "code",
   "execution_count": 718,
   "id": "7c31f7f9",
   "metadata": {},
   "outputs": [],
   "source": [
    "ls1 = ['Harshit', 'Ram', 'Mohan']\n",
    "ls2 = [24, 35, 23]\n",
    "\n",
    "# THe output should be\n",
    "#0 Harshit 24\n",
    "#1 Ram 35\n",
    "#2 Mohan 23"
   ]
  },
  {
   "cell_type": "code",
   "execution_count": 712,
   "id": "ad21d1e4",
   "metadata": {},
   "outputs": [
    {
     "name": "stdout",
     "output_type": "stream",
     "text": [
      "0 ('Harshit', 24)\n",
      "1 ('Ram', 35)\n",
      "2 ('Mohan', 23)\n"
     ]
    }
   ],
   "source": [
    "for i, j in enumerate(zip(ls1,ls2)):\n",
    "    print( i,j)"
   ]
  },
  {
   "cell_type": "code",
   "execution_count": 713,
   "id": "37dd4f6a",
   "metadata": {},
   "outputs": [
    {
     "name": "stdout",
     "output_type": "stream",
     "text": [
      "0 Harshit 24\n",
      "1 Ram 35\n",
      "2 Mohan 23\n"
     ]
    }
   ],
   "source": [
    "for i,(ls1,ls2) in enumerate(zip(ls1,ls2)):\n",
    "    print( i,ls1,ls2)"
   ]
  },
  {
   "cell_type": "code",
   "execution_count": 725,
   "id": "3b435541",
   "metadata": {},
   "outputs": [
    {
     "name": "stdout",
     "output_type": "stream",
     "text": [
      "0 Harshit 24\n",
      "1 Ram 35\n",
      "2 Mohan 23\n"
     ]
    }
   ],
   "source": [
    "x =list(enumerate(zip(ls1,ls2)))\n",
    "for i, j in x:\n",
    "    print(i,j[0],j[1])"
   ]
  },
  {
   "cell_type": "code",
   "execution_count": 719,
   "id": "439f50c0",
   "metadata": {},
   "outputs": [
    {
     "data": {
      "text/plain": [
       "[('Harshit', 24), ('Ram', 35), ('Mohan', 23)]"
      ]
     },
     "execution_count": 719,
     "metadata": {},
     "output_type": "execute_result"
    }
   ],
   "source": [
    "list(zip(ls1,ls2))"
   ]
  },
  {
   "cell_type": "code",
   "execution_count": null,
   "id": "5130c6db",
   "metadata": {},
   "outputs": [],
   "source": []
  }
 ],
 "metadata": {
  "kernelspec": {
   "display_name": "Python 3 (ipykernel)",
   "language": "python",
   "name": "python3"
  },
  "language_info": {
   "codemirror_mode": {
    "name": "ipython",
    "version": 3
   },
   "file_extension": ".py",
   "mimetype": "text/x-python",
   "name": "python",
   "nbconvert_exporter": "python",
   "pygments_lexer": "ipython3",
   "version": "3.9.7"
  }
 },
 "nbformat": 4,
 "nbformat_minor": 5
}
