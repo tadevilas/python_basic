{
 "cells": [
  {
   "cell_type": "markdown",
   "id": "d90d1ebe",
   "metadata": {},
   "source": [
    "# Classification metrics"
   ]
  },
  {
   "cell_type": "markdown",
   "id": "65471635",
   "metadata": {},
   "source": [
    "## accuracy score"
   ]
  },
  {
   "cell_type": "code",
   "execution_count": 2,
   "id": "9dde96a4",
   "metadata": {},
   "outputs": [
    {
     "data": {
      "text/plain": [
       "0.5"
      ]
     },
     "execution_count": 2,
     "metadata": {},
     "output_type": "execute_result"
    }
   ],
   "source": [
    "\n",
    "\n",
    "import numpy as np\n",
    "from sklearn.metrics import accuracy_score\n",
    "\n",
    "y_pred = [0,2,1,3]\n",
    "y_true = [0,1,2,3]\n",
    "\n",
    "accuracy_score(y_true, y_pred)"
   ]
  },
  {
   "cell_type": "code",
   "execution_count": 9,
   "id": "3997e49e",
   "metadata": {},
   "outputs": [
    {
     "data": {
      "text/plain": [
       "2"
      ]
     },
     "execution_count": 9,
     "metadata": {},
     "output_type": "execute_result"
    }
   ],
   "source": [
    "# normalize gives the number of 'correctly' classified sample \n",
    "accuracy_score(y_true, y_pred, normalize =False)"
   ]
  },
  {
   "cell_type": "code",
   "execution_count": 3,
   "id": "d1c80265",
   "metadata": {},
   "outputs": [
    {
     "data": {
      "text/plain": [
       "array([[1., 1.],\n",
       "       [1., 1.]])"
      ]
     },
     "execution_count": 3,
     "metadata": {},
     "output_type": "execute_result"
    }
   ],
   "source": [
    "# multilabel case\n",
    "\n",
    "np.ones((2,2,)) # Predicted"
   ]
  },
  {
   "cell_type": "code",
   "execution_count": 6,
   "id": "f1243502",
   "metadata": {},
   "outputs": [
    {
     "data": {
      "text/plain": [
       "array([[0, 1],\n",
       "       [1, 1]])"
      ]
     },
     "execution_count": 6,
     "metadata": {},
     "output_type": "execute_result"
    }
   ],
   "source": [
    "np.array(([0,1],[1,1]))  # true"
   ]
  },
  {
   "cell_type": "code",
   "execution_count": 7,
   "id": "b1c856ed",
   "metadata": {},
   "outputs": [
    {
     "data": {
      "text/plain": [
       "0.5"
      ]
     },
     "execution_count": 7,
     "metadata": {},
     "output_type": "execute_result"
    }
   ],
   "source": [
    "# accuracy_score(y_true, y_pred, *, normalize=True, sample_weight=None)\n",
    "accuracy_score(np.array(([0,1],[1,1])),np.ones((2,2,)))"
   ]
  },
  {
   "cell_type": "markdown",
   "id": "6b24ab95",
   "metadata": {},
   "source": [
    "## Confusion matrix"
   ]
  },
  {
   "cell_type": "code",
   "execution_count": 12,
   "id": "3aeb0e7f",
   "metadata": {},
   "outputs": [],
   "source": [
    "from sklearn.metrics import confusion_matrix"
   ]
  },
  {
   "cell_type": "code",
   "execution_count": 15,
   "id": "6bb8e46d",
   "metadata": {},
   "outputs": [
    {
     "data": {
      "text/plain": [
       "array([[2, 0, 0],\n",
       "       [0, 0, 1],\n",
       "       [1, 0, 2]], dtype=int64)"
      ]
     },
     "execution_count": 15,
     "metadata": {},
     "output_type": "execute_result"
    }
   ],
   "source": [
    "y_true = [2, 0, 2, 2, 0, 1]\n",
    "y_pred = [0, 0, 2, 2, 0, 2]\n",
    "\n",
    "'''confusion_matrix(\n",
    "    y_true,\n",
    "    y_pred,\n",
    "    *,\n",
    "    labels=None,\n",
    "    sample_weight=None,\n",
    "    normalize=None,\n",
    ")'''\n",
    "\n",
    "\n",
    "confusion_matrix(y_true, y_pred)\n"
   ]
  },
  {
   "cell_type": "code",
   "execution_count": 16,
   "id": "fbf38d4c",
   "metadata": {},
   "outputs": [
    {
     "data": {
      "text/plain": [
       "array([[0.33333333, 0.        , 0.        ],\n",
       "       [0.        , 0.        , 0.16666667],\n",
       "       [0.16666667, 0.        , 0.33333333]])"
      ]
     },
     "execution_count": 16,
     "metadata": {},
     "output_type": "execute_result"
    }
   ],
   "source": [
    "# parameter normalize allow you to report ration instead of counts\n",
    "confusion_matrix(y_true, y_pred, normalize= 'all')"
   ]
  },
  {
   "cell_type": "code",
   "execution_count": 17,
   "id": "ed881055",
   "metadata": {},
   "outputs": [
    {
     "data": {
      "text/plain": [
       "0.6666666666666666"
      ]
     },
     "execution_count": 17,
     "metadata": {},
     "output_type": "execute_result"
    }
   ],
   "source": [
    "4/6"
   ]
  },
  {
   "cell_type": "markdown",
   "id": "95d39ef5",
   "metadata": {},
   "source": [
    "## classification report"
   ]
  },
  {
   "cell_type": "code",
   "execution_count": 20,
   "id": "59404cdb",
   "metadata": {},
   "outputs": [
    {
     "name": "stdout",
     "output_type": "stream",
     "text": [
      "              precision    recall  f1-score   support\n",
      "\n",
      "     class 0       0.67      1.00      0.80         2\n",
      "     class 1       0.00      0.00      0.00         1\n",
      "     class 2       1.00      0.50      0.67         2\n",
      "\n",
      "    accuracy                           0.60         5\n",
      "   macro avg       0.56      0.50      0.49         5\n",
      "weighted avg       0.67      0.60      0.59         5\n",
      "\n",
      "Accuracy score from accuracy matrix 0.6\n"
     ]
    }
   ],
   "source": [
    "# builds a text report\n",
    "from sklearn.metrics import classification_report\n",
    "\n",
    "y_true = [0,1,2,2,0]\n",
    "y_pred = [0,0,2,1,0] \n",
    "\n",
    "target_names = ['class 0', 'class 1', 'class 2']\n",
    "print(classification_report(y_true, y_pred, target_names= target_names))\n",
    "print(f'Accuracy score from accuracy matrix {accuracy_score(y_true, y_pred)}')"
   ]
  },
  {
   "cell_type": "code",
   "execution_count": 21,
   "id": "d515608c",
   "metadata": {},
   "outputs": [],
   "source": [
    "# Precision:\n",
    "# is the ability of the classifier not to label as +ve a sample that is -ve\n",
    "\n",
    "# recall:\n",
    "# is the ability of the classifier to fine all the +ve sample"
   ]
  },
  {
   "cell_type": "raw",
   "id": "79204091",
   "metadata": {},
   "source": [
    "# Binary classification\n",
    "\n",
    "                  |Actual class\n",
    "--------------------------------- \n",
    "Predicted class   | TP   |  FP  |\n",
    "                  | FN   |  TN  |\n",
    "    \n",
    "Precision = TP / TP + FP\n",
    "recall(Sensitivity) = TP / TP + FN\n",
    "\n",
    "Fb = (1 + B)*  Precision * recall\n",
    "              --------------------\n",
    "              B^2 * Precision + recall\n",
    "        \n",
    "Value of B =1 \n",
    "when both FP and FN are important\n",
    "\n",
    "B = 0.5 When FP is imp\n",
    "B = 2 when FN is imp "
   ]
  },
  {
   "cell_type": "code",
   "execution_count": 24,
   "id": "61ed8237",
   "metadata": {},
   "outputs": [
    {
     "name": "stdout",
     "output_type": "stream",
     "text": [
      "              precision    recall  f1-score   support\n",
      "\n",
      "           0       0.67      1.00      0.80         2\n",
      "           1       1.00      0.50      0.67         2\n",
      "\n",
      "    accuracy                           0.75         4\n",
      "   macro avg       0.83      0.75      0.73         4\n",
      "weighted avg       0.83      0.75      0.73         4\n",
      "\n"
     ]
    }
   ],
   "source": [
    "from sklearn import metrics\n",
    "\n",
    "y_pred = [0, 1, 0, 0]\n",
    "y_true = [0, 1, 0, 1]\n",
    "\n",
    "\n",
    "print(classification_report(y_true, y_pred))"
   ]
  },
  {
   "cell_type": "code",
   "execution_count": 25,
   "id": "b96a8e2e",
   "metadata": {},
   "outputs": [
    {
     "data": {
      "text/plain": [
       "array([[2, 0],\n",
       "       [1, 1]], dtype=int64)"
      ]
     },
     "execution_count": 25,
     "metadata": {},
     "output_type": "execute_result"
    }
   ],
   "source": [
    "confusion_matrix(y_true, y_pred)\n"
   ]
  },
  {
   "cell_type": "raw",
   "id": "331789fa",
   "metadata": {},
   "source": [
    "In confusion matrix\n",
    "------------------------------\n",
    "       Predicted\n",
    "          0   |  1\n",
    "------------------------------\n",
    "Actual| 0 TN  | FP \n",
    "\n",
    "      | 1 FN  | TP\n",
    "-----------------------------\n"
   ]
  },
  {
   "cell_type": "code",
   "execution_count": 27,
   "id": "931501ad",
   "metadata": {},
   "outputs": [
    {
     "data": {
      "text/plain": [
       "1.0"
      ]
     },
     "execution_count": 27,
     "metadata": {},
     "output_type": "execute_result"
    }
   ],
   "source": [
    "metrics.precision_score(y_true, y_pred)\n",
    "# Precision = TP / TP + FP\n"
   ]
  },
  {
   "cell_type": "code",
   "execution_count": 28,
   "id": "91c233a2",
   "metadata": {},
   "outputs": [
    {
     "data": {
      "text/plain": [
       "0.5"
      ]
     },
     "execution_count": 28,
     "metadata": {},
     "output_type": "execute_result"
    }
   ],
   "source": [
    "metrics.recall_score(y_true, y_pred)\n",
    "# recall = TP / TP + FN"
   ]
  },
  {
   "cell_type": "raw",
   "id": "7040d8c7",
   "metadata": {},
   "source": [
    "Fb = (1 + B)*  Precision * recall\n",
    "              --------------------\n",
    "              B^2 * Precision + recall"
   ]
  },
  {
   "cell_type": "code",
   "execution_count": 29,
   "id": "2bf92efb",
   "metadata": {},
   "outputs": [
    {
     "data": {
      "text/plain": [
       "0.6666666666666666"
      ]
     },
     "execution_count": 29,
     "metadata": {},
     "output_type": "execute_result"
    }
   ],
   "source": [
    "metrics.f1_score(y_true, y_pred)"
   ]
  },
  {
   "cell_type": "code",
   "execution_count": 31,
   "id": "920e3a8c",
   "metadata": {},
   "outputs": [
    {
     "data": {
      "text/plain": [
       "0.8333333333333334"
      ]
     },
     "execution_count": 31,
     "metadata": {},
     "output_type": "execute_result"
    }
   ],
   "source": [
    "# beta = 0.5\n",
    "metrics.fbeta_score(y_true, y_pred, beta = 0.5)"
   ]
  },
  {
   "cell_type": "code",
   "execution_count": 32,
   "id": "3db260ee",
   "metadata": {},
   "outputs": [
    {
     "data": {
      "text/plain": [
       "0.6666666666666666"
      ]
     },
     "execution_count": 32,
     "metadata": {},
     "output_type": "execute_result"
    }
   ],
   "source": [
    "# beta = 1\n",
    "metrics.fbeta_score(y_true, y_pred, beta = 1)"
   ]
  },
  {
   "cell_type": "code",
   "execution_count": 33,
   "id": "4c9f40a6",
   "metadata": {},
   "outputs": [
    {
     "data": {
      "text/plain": [
       "0.5555555555555556"
      ]
     },
     "execution_count": 33,
     "metadata": {},
     "output_type": "execute_result"
    }
   ],
   "source": [
    "# beta = 2\n",
    "metrics.fbeta_score(y_true, y_pred, beta = 2)"
   ]
  },
  {
   "cell_type": "markdown",
   "id": "e187f13b",
   "metadata": {},
   "source": [
    "## Receiver operating characteristic (ROC)\n",
    "## Area under curve (AUC)"
   ]
  },
  {
   "cell_type": "raw",
   "id": "bee11067",
   "metadata": {},
   "source": [
    "TPR vs FPR\n",
    "TPR (Sensitivity): \n",
    "       TP \n",
    "    -------\n",
    "    TP + FN\n",
    "\n",
    "FPR (specificity): \n",
    "       FP \n",
    "    -------\n",
    "    FP + FN"
   ]
  },
  {
   "cell_type": "code",
   "execution_count": null,
   "id": "69200f57",
   "metadata": {},
   "outputs": [],
   "source": []
  }
 ],
 "metadata": {
  "kernelspec": {
   "display_name": "Python 3 (ipykernel)",
   "language": "python",
   "name": "python3"
  },
  "language_info": {
   "codemirror_mode": {
    "name": "ipython",
    "version": 3
   },
   "file_extension": ".py",
   "mimetype": "text/x-python",
   "name": "python",
   "nbconvert_exporter": "python",
   "pygments_lexer": "ipython3",
   "version": "3.9.7"
  }
 },
 "nbformat": 4,
 "nbformat_minor": 5
}
