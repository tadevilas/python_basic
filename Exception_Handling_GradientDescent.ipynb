{
 "cells": [
  {
   "cell_type": "markdown",
   "id": "7ae13508",
   "metadata": {},
   "source": [
    "# Exception Handling"
   ]
  },
  {
   "cell_type": "markdown",
   "id": "c0e50ecd",
   "metadata": {},
   "source": [
    "# Type of Error:\n",
    "    1. Static Error / Compile time error/ syntex error\n",
    "    2. run time error / exceptional"
   ]
  },
  {
   "cell_type": "code",
   "execution_count": 1,
   "id": "bde85b1b",
   "metadata": {},
   "outputs": [
    {
     "name": "stdout",
     "output_type": "stream",
     "text": [
      "Enter num 1:10\n",
      "Enter num 2:5\n",
      "Division is : 2.0\n"
     ]
    }
   ],
   "source": [
    "a = int(input('Enter num 1:'))\n",
    "b = int(input('Enter num 2:'))\n",
    "\n",
    "c = a/b\n",
    "\n",
    "print(f'Division is : {c}')"
   ]
  },
  {
   "cell_type": "code",
   "execution_count": 2,
   "id": "1340d4cb",
   "metadata": {},
   "outputs": [
    {
     "ename": "SyntaxError",
     "evalue": "invalid syntax (Temp/ipykernel_17436/2556146737.py, line 5)",
     "output_type": "error",
     "traceback": [
      "\u001b[1;36m  File \u001b[1;32m\"C:\\Users\\e105301\\AppData\\Local\\Temp/ipykernel_17436/2556146737.py\"\u001b[1;36m, line \u001b[1;32m5\u001b[0m\n\u001b[1;33m    c = a/\u001b[0m\n\u001b[1;37m          ^\u001b[0m\n\u001b[1;31mSyntaxError\u001b[0m\u001b[1;31m:\u001b[0m invalid syntax\n"
     ]
    }
   ],
   "source": [
    "# Error Occured while Compilation\n",
    "a = int(input('Enter num 1:'))\n",
    "b = int(input('Enter num 2:'))\n",
    "\n",
    "c = a/\n",
    "\n",
    "print(f'Division is : {c}')"
   ]
  },
  {
   "cell_type": "code",
   "execution_count": 4,
   "id": "150e791f",
   "metadata": {},
   "outputs": [
    {
     "name": "stdout",
     "output_type": "stream",
     "text": [
      "enter num 1:   10 \n",
      "enter num 2:   2\n"
     ]
    },
    {
     "ename": "NameError",
     "evalue": "name 'ab' is not defined",
     "output_type": "error",
     "traceback": [
      "\u001b[1;31m---------------------------------------------------------------------------\u001b[0m",
      "\u001b[1;31mNameError\u001b[0m                                 Traceback (most recent call last)",
      "\u001b[1;32m~\\AppData\\Local\\Temp/ipykernel_17436/1633777489.py\u001b[0m in \u001b[0;36m<module>\u001b[1;34m\u001b[0m\n\u001b[0;32m      3\u001b[0m \u001b[0mb\u001b[0m \u001b[1;33m=\u001b[0m \u001b[0mint\u001b[0m\u001b[1;33m(\u001b[0m\u001b[0minput\u001b[0m\u001b[1;33m(\u001b[0m\u001b[1;34m'enter num 2:   '\u001b[0m\u001b[1;33m)\u001b[0m\u001b[1;33m)\u001b[0m\u001b[1;33m\u001b[0m\u001b[1;33m\u001b[0m\u001b[0m\n\u001b[0;32m      4\u001b[0m \u001b[1;33m\u001b[0m\u001b[0m\n\u001b[1;32m----> 5\u001b[1;33m \u001b[0mc\u001b[0m \u001b[1;33m=\u001b[0m \u001b[0mab\u001b[0m\u001b[1;33m\u001b[0m\u001b[1;33m\u001b[0m\u001b[0m\n\u001b[0m\u001b[0;32m      6\u001b[0m \u001b[1;33m\u001b[0m\u001b[0m\n\u001b[0;32m      7\u001b[0m \u001b[0mprint\u001b[0m\u001b[1;33m(\u001b[0m\u001b[1;34mf'division is {c}'\u001b[0m\u001b[1;33m)\u001b[0m\u001b[1;33m\u001b[0m\u001b[1;33m\u001b[0m\u001b[0m\n",
      "\u001b[1;31mNameError\u001b[0m: name 'ab' is not defined"
     ]
    }
   ],
   "source": [
    "# Run time Error\n",
    "a = int(input('enter num 1:   '))\n",
    "b = int(input('enter num 2:   '))\n",
    "\n",
    "c = ab\n",
    "\n",
    "print(f'division is {c}')\n"
   ]
  },
  {
   "cell_type": "code",
   "execution_count": 5,
   "id": "b1457e1d",
   "metadata": {},
   "outputs": [
    {
     "name": "stdout",
     "output_type": "stream",
     "text": [
      "enter num 110\n",
      "enter num 20\n"
     ]
    },
    {
     "ename": "ZeroDivisionError",
     "evalue": "division by zero",
     "output_type": "error",
     "traceback": [
      "\u001b[1;31m---------------------------------------------------------------------------\u001b[0m",
      "\u001b[1;31mZeroDivisionError\u001b[0m                         Traceback (most recent call last)",
      "\u001b[1;32m~\\AppData\\Local\\Temp/ipykernel_17436/2491903370.py\u001b[0m in \u001b[0;36m<module>\u001b[1;34m\u001b[0m\n\u001b[0;32m      3\u001b[0m \u001b[0mb\u001b[0m \u001b[1;33m=\u001b[0m \u001b[0mint\u001b[0m\u001b[1;33m(\u001b[0m\u001b[0minput\u001b[0m\u001b[1;33m(\u001b[0m\u001b[1;34m'enter num 2'\u001b[0m\u001b[1;33m)\u001b[0m\u001b[1;33m)\u001b[0m\u001b[1;33m\u001b[0m\u001b[1;33m\u001b[0m\u001b[0m\n\u001b[0;32m      4\u001b[0m \u001b[1;33m\u001b[0m\u001b[0m\n\u001b[1;32m----> 5\u001b[1;33m \u001b[0mc\u001b[0m \u001b[1;33m=\u001b[0m \u001b[0ma\u001b[0m\u001b[1;33m/\u001b[0m\u001b[0mb\u001b[0m\u001b[1;33m\u001b[0m\u001b[1;33m\u001b[0m\u001b[0m\n\u001b[0m\u001b[0;32m      6\u001b[0m \u001b[1;33m\u001b[0m\u001b[0m\n\u001b[0;32m      7\u001b[0m \u001b[0mprint\u001b[0m\u001b[1;33m(\u001b[0m\u001b[1;34mf'division is {c}'\u001b[0m\u001b[1;33m)\u001b[0m\u001b[1;33m\u001b[0m\u001b[1;33m\u001b[0m\u001b[0m\n",
      "\u001b[1;31mZeroDivisionError\u001b[0m: division by zero"
     ]
    }
   ],
   "source": [
    "# b==0\n",
    "a = int(input('enter num 1:   '))\n",
    "b = int(input('enter num 2:   '))\n",
    "\n",
    "c = a/b\n",
    "\n",
    "print(f'division is {c}')"
   ]
  },
  {
   "cell_type": "code",
   "execution_count": 6,
   "id": "385b7813",
   "metadata": {},
   "outputs": [
    {
     "name": "stdout",
     "output_type": "stream",
     "text": [
      "enter num 1:   10\n",
      "enter num 2:   c\n"
     ]
    },
    {
     "ename": "ValueError",
     "evalue": "invalid literal for int() with base 10: 'c'",
     "output_type": "error",
     "traceback": [
      "\u001b[1;31m---------------------------------------------------------------------------\u001b[0m",
      "\u001b[1;31mValueError\u001b[0m                                Traceback (most recent call last)",
      "\u001b[1;32m~\\AppData\\Local\\Temp/ipykernel_17436/2601970765.py\u001b[0m in \u001b[0;36m<module>\u001b[1;34m\u001b[0m\n\u001b[0;32m      1\u001b[0m \u001b[1;31m#  b= 'a'\u001b[0m\u001b[1;33m\u001b[0m\u001b[1;33m\u001b[0m\u001b[0m\n\u001b[0;32m      2\u001b[0m \u001b[0ma\u001b[0m \u001b[1;33m=\u001b[0m \u001b[0mint\u001b[0m\u001b[1;33m(\u001b[0m\u001b[0minput\u001b[0m\u001b[1;33m(\u001b[0m\u001b[1;34m'enter num 1:   '\u001b[0m\u001b[1;33m)\u001b[0m\u001b[1;33m)\u001b[0m\u001b[1;33m\u001b[0m\u001b[1;33m\u001b[0m\u001b[0m\n\u001b[1;32m----> 3\u001b[1;33m \u001b[0mb\u001b[0m \u001b[1;33m=\u001b[0m \u001b[0mint\u001b[0m\u001b[1;33m(\u001b[0m\u001b[0minput\u001b[0m\u001b[1;33m(\u001b[0m\u001b[1;34m'enter num 2:   '\u001b[0m\u001b[1;33m)\u001b[0m\u001b[1;33m)\u001b[0m\u001b[1;33m\u001b[0m\u001b[1;33m\u001b[0m\u001b[0m\n\u001b[0m\u001b[0;32m      4\u001b[0m \u001b[1;33m\u001b[0m\u001b[0m\n\u001b[0;32m      5\u001b[0m \u001b[0mc\u001b[0m \u001b[1;33m=\u001b[0m \u001b[0ma\u001b[0m\u001b[1;33m/\u001b[0m\u001b[0mb\u001b[0m\u001b[1;33m\u001b[0m\u001b[1;33m\u001b[0m\u001b[0m\n",
      "\u001b[1;31mValueError\u001b[0m: invalid literal for int() with base 10: 'c'"
     ]
    }
   ],
   "source": [
    "#  b= 'a'\n",
    "a = int(input('enter num 1:   '))\n",
    "b = int(input('enter num 2:   '))\n",
    "\n",
    "c = a/b\n",
    "\n",
    "print(f'division is {c}')"
   ]
  },
  {
   "cell_type": "code",
   "execution_count": 7,
   "id": "5c85e79a",
   "metadata": {},
   "outputs": [
    {
     "ename": "NameError",
     "evalue": "name 'a1' is not defined",
     "output_type": "error",
     "traceback": [
      "\u001b[1;31m---------------------------------------------------------------------------\u001b[0m",
      "\u001b[1;31mNameError\u001b[0m                                 Traceback (most recent call last)",
      "\u001b[1;32m~\\AppData\\Local\\Temp/ipykernel_17436/3714371973.py\u001b[0m in \u001b[0;36m<module>\u001b[1;34m\u001b[0m\n\u001b[0;32m      1\u001b[0m \u001b[1;31m# few more error\u001b[0m\u001b[1;33m\u001b[0m\u001b[1;33m\u001b[0m\u001b[0m\n\u001b[0;32m      2\u001b[0m \u001b[0ma\u001b[0m \u001b[1;33m=\u001b[0m \u001b[1;36m10\u001b[0m\u001b[1;33m\u001b[0m\u001b[1;33m\u001b[0m\u001b[0m\n\u001b[1;32m----> 3\u001b[1;33m \u001b[0mb\u001b[0m \u001b[1;33m=\u001b[0m \u001b[0ma1\u001b[0m\u001b[1;33m\u001b[0m\u001b[1;33m\u001b[0m\u001b[0m\n\u001b[0m",
      "\u001b[1;31mNameError\u001b[0m: name 'a1' is not defined"
     ]
    }
   ],
   "source": [
    "# few more error\n",
    "a = 10\n",
    "b = a1"
   ]
  },
  {
   "cell_type": "code",
   "execution_count": 8,
   "id": "5af24757",
   "metadata": {},
   "outputs": [
    {
     "ename": "SyntaxError",
     "evalue": "invalid syntax (Temp/ipykernel_17436/1164126260.py, line 2)",
     "output_type": "error",
     "traceback": [
      "\u001b[1;36m  File \u001b[1;32m\"C:\\Users\\e105301\\AppData\\Local\\Temp/ipykernel_17436/1164126260.py\"\u001b[1;36m, line \u001b[1;32m2\u001b[0m\n\u001b[1;33m    b = 2a\u001b[0m\n\u001b[1;37m         ^\u001b[0m\n\u001b[1;31mSyntaxError\u001b[0m\u001b[1;31m:\u001b[0m invalid syntax\n"
     ]
    }
   ],
   "source": [
    "a = 10\n",
    "b = 2a"
   ]
  },
  {
   "cell_type": "code",
   "execution_count": 9,
   "id": "b1a78527",
   "metadata": {},
   "outputs": [],
   "source": [
    "a = 10\n",
    "b = 'a1'"
   ]
  },
  {
   "cell_type": "code",
   "execution_count": 10,
   "id": "26bac614",
   "metadata": {},
   "outputs": [
    {
     "ename": "TypeError",
     "evalue": "unsupported operand type(s) for /: 'int' and 'str'",
     "output_type": "error",
     "traceback": [
      "\u001b[1;31m---------------------------------------------------------------------------\u001b[0m",
      "\u001b[1;31mTypeError\u001b[0m                                 Traceback (most recent call last)",
      "\u001b[1;32m~\\AppData\\Local\\Temp/ipykernel_17436/2851675628.py\u001b[0m in \u001b[0;36m<module>\u001b[1;34m\u001b[0m\n\u001b[1;32m----> 1\u001b[1;33m \u001b[0mc\u001b[0m \u001b[1;33m=\u001b[0m \u001b[0ma\u001b[0m\u001b[1;33m/\u001b[0m\u001b[0mb\u001b[0m\u001b[1;33m\u001b[0m\u001b[1;33m\u001b[0m\u001b[0m\n\u001b[0m\u001b[0;32m      2\u001b[0m \u001b[1;33m\u001b[0m\u001b[0m\n\u001b[0;32m      3\u001b[0m \u001b[0mprint\u001b[0m\u001b[1;33m(\u001b[0m\u001b[1;34mf'division is {c}'\u001b[0m\u001b[1;33m)\u001b[0m\u001b[1;33m\u001b[0m\u001b[1;33m\u001b[0m\u001b[0m\n",
      "\u001b[1;31mTypeError\u001b[0m: unsupported operand type(s) for /: 'int' and 'str'"
     ]
    }
   ],
   "source": [
    "c = a/b\n",
    "\n",
    "print(f'division is {c}')"
   ]
  },
  {
   "cell_type": "raw",
   "id": "b61af796",
   "metadata": {},
   "source": [
    "###\n",
    "\n",
    "try:\n",
    "    pass\n",
    "except:\n",
    "    pass\n",
    "else:\n",
    "    pass\n",
    "raise:\n",
    "    pass\n",
    "finally:\n",
    "    pass\n",
    "\n",
    "###"
   ]
  },
  {
   "cell_type": "code",
   "execution_count": 11,
   "id": "bff80577",
   "metadata": {},
   "outputs": [
    {
     "name": "stdout",
     "output_type": "stream",
     "text": [
      "enter num 1:   10\n",
      "enter num 2:   0\n",
      "b should not be Zero\n"
     ]
    }
   ],
   "source": [
    "try:\n",
    "    a = int(input('enter num 1:   '))\n",
    "    b = int(input('enter num 2:   '))\n",
    "    \n",
    "    c = a/b\n",
    "    print(f'division is {c}')\n",
    "    \n",
    "    d = a + b\n",
    "    print(f'division is {d}')    \n",
    "except:\n",
    "    print('b should not be Zero')"
   ]
  },
  {
   "cell_type": "code",
   "execution_count": 13,
   "id": "3984ccf6",
   "metadata": {},
   "outputs": [
    {
     "name": "stdout",
     "output_type": "stream",
     "text": [
      "enter num 1:   10\n",
      "enter num 2:   5\n",
      "division is 2.0\n",
      "addition is 15\n"
     ]
    }
   ],
   "source": [
    "try:\n",
    "    a = int(input('enter num 1:   '))\n",
    "    b = int(input('enter num 2:   '))\n",
    "    \n",
    "    c = a/b\n",
    "    print(f'division is {c}')\n",
    "    \n",
    "    d = a + b\n",
    "    print(f'addition is {d}')    \n",
    "except ZeroDivisionError:\n",
    "    print('b should not be Zero')"
   ]
  },
  {
   "cell_type": "code",
   "execution_count": 14,
   "id": "8f983356",
   "metadata": {},
   "outputs": [
    {
     "name": "stdout",
     "output_type": "stream",
     "text": [
      "enter num 1:   10\n",
      "enter num 2:   0\n",
      "b should not be Zero\n"
     ]
    }
   ],
   "source": [
    "try:\n",
    "    a = int(input('enter num 1:   '))\n",
    "    b = int(input('enter num 2:   '))\n",
    "    \n",
    "    c = a/b\n",
    "    print(f'division is {c}')\n",
    "    \n",
    "    d = a + b\n",
    "    print(f'addition is {d}')    \n",
    "except ZeroDivisionError:\n",
    "    print('b should not be Zero')"
   ]
  },
  {
   "cell_type": "code",
   "execution_count": 15,
   "id": "d0a076e6",
   "metadata": {},
   "outputs": [
    {
     "name": "stdout",
     "output_type": "stream",
     "text": [
      "enter num 1:   10\n",
      "enter num 2:   a\n"
     ]
    },
    {
     "ename": "ValueError",
     "evalue": "invalid literal for int() with base 10: 'a'",
     "output_type": "error",
     "traceback": [
      "\u001b[1;31m---------------------------------------------------------------------------\u001b[0m",
      "\u001b[1;31mValueError\u001b[0m                                Traceback (most recent call last)",
      "\u001b[1;32m~\\AppData\\Local\\Temp/ipykernel_17436/3080211311.py\u001b[0m in \u001b[0;36m<module>\u001b[1;34m\u001b[0m\n\u001b[0;32m      1\u001b[0m \u001b[1;32mtry\u001b[0m\u001b[1;33m:\u001b[0m\u001b[1;33m\u001b[0m\u001b[1;33m\u001b[0m\u001b[0m\n\u001b[0;32m      2\u001b[0m     \u001b[0ma\u001b[0m \u001b[1;33m=\u001b[0m \u001b[0mint\u001b[0m\u001b[1;33m(\u001b[0m\u001b[0minput\u001b[0m\u001b[1;33m(\u001b[0m\u001b[1;34m'enter num 1:   '\u001b[0m\u001b[1;33m)\u001b[0m\u001b[1;33m)\u001b[0m\u001b[1;33m\u001b[0m\u001b[1;33m\u001b[0m\u001b[0m\n\u001b[1;32m----> 3\u001b[1;33m     \u001b[0mb\u001b[0m \u001b[1;33m=\u001b[0m \u001b[0mint\u001b[0m\u001b[1;33m(\u001b[0m\u001b[0minput\u001b[0m\u001b[1;33m(\u001b[0m\u001b[1;34m'enter num 2:   '\u001b[0m\u001b[1;33m)\u001b[0m\u001b[1;33m)\u001b[0m\u001b[1;33m\u001b[0m\u001b[1;33m\u001b[0m\u001b[0m\n\u001b[0m\u001b[0;32m      4\u001b[0m \u001b[1;33m\u001b[0m\u001b[0m\n\u001b[0;32m      5\u001b[0m     \u001b[0mc\u001b[0m \u001b[1;33m=\u001b[0m \u001b[0ma\u001b[0m\u001b[1;33m/\u001b[0m\u001b[0mb\u001b[0m\u001b[1;33m\u001b[0m\u001b[1;33m\u001b[0m\u001b[0m\n",
      "\u001b[1;31mValueError\u001b[0m: invalid literal for int() with base 10: 'a'"
     ]
    }
   ],
   "source": [
    "try:\n",
    "    a = int(input('enter num 1:   '))\n",
    "    b = int(input('enter num 2:   '))\n",
    "    \n",
    "    c = a/b\n",
    "    print(f'division is {c}')\n",
    "    \n",
    "    d = a + b\n",
    "    print(f'addition is {d}')    \n",
    "except ZeroDivisionError:\n",
    "    print('b should not be Zero')"
   ]
  },
  {
   "cell_type": "code",
   "execution_count": 16,
   "id": "d846656d",
   "metadata": {},
   "outputs": [
    {
     "name": "stdout",
     "output_type": "stream",
     "text": [
      "enter num 1:   10\n",
      "enter num 2:   v\n",
      "b should int\n"
     ]
    }
   ],
   "source": [
    "try:\n",
    "    a = int(input('enter num 1:   '))\n",
    "    b = int(input('enter num 2:   '))\n",
    "    \n",
    "    c = a/b\n",
    "    print(f'division is {c}')\n",
    "    \n",
    "    d = a + b\n",
    "    print(f'addition is {d}')    \n",
    "except :\n",
    "    print('b should be int')"
   ]
  },
  {
   "cell_type": "code",
   "execution_count": 18,
   "id": "ef03e0d5",
   "metadata": {},
   "outputs": [
    {
     "name": "stdout",
     "output_type": "stream",
     "text": [
      "enter num 1:   10\n",
      "enter num 2:   0\n",
      "b should be int\n"
     ]
    }
   ],
   "source": [
    "# it will give same error with any condition \n",
    "# bacause the Exception is the Parent class:\n",
    "try:\n",
    "    a = int(input('enter num 1:   '))\n",
    "    b = int(input('enter num 2:   '))\n",
    "    \n",
    "    c = a/b\n",
    "    print(f'division is {c}')\n",
    "    \n",
    "    d = a + b\n",
    "    print(f'addition is {d}')    \n",
    "except Exception:\n",
    "    print('b should be int')"
   ]
  },
  {
   "cell_type": "code",
   "execution_count": 20,
   "id": "8705c28f",
   "metadata": {},
   "outputs": [
    {
     "name": "stdout",
     "output_type": "stream",
     "text": [
      "enter num 110\n",
      "enter num 2v\n",
      "b should be int\n"
     ]
    }
   ],
   "source": [
    "try:\n",
    "    a = int(input('enter num 1'))\n",
    "    b = int(input('enter num 2'))\n",
    "\n",
    "    c = a/b\n",
    "\n",
    "    print(f'division is {c}')\n",
    "    d = a + b\n",
    "\n",
    "    print(f'division is {d}')\n",
    "    \n",
    "except ValueError:\n",
    "    print('b should be int')\n",
    "except ZeroDivisionError:\n",
    "    print('b should not be  zero')"
   ]
  },
  {
   "cell_type": "code",
   "execution_count": 21,
   "id": "b6f530d8",
   "metadata": {},
   "outputs": [
    {
     "name": "stdout",
     "output_type": "stream",
     "text": [
      "10.0\n",
      "Arithmatic error\n"
     ]
    }
   ],
   "source": [
    "import math\n",
    "\n",
    "try:\n",
    "    x = 10/1\n",
    "    print(x)\n",
    "except ZeroDivisionError:\n",
    "    print('Zero div error')\n",
    "try:       \n",
    "    ans = math.exp(20000)\n",
    "    print(ans)\n",
    "    \n",
    "except ArithmeticError:\n",
    "    print('Arithmatic error')"
   ]
  },
  {
   "cell_type": "code",
   "execution_count": 22,
   "id": "23e40437",
   "metadata": {},
   "outputs": [
    {
     "ename": "OverflowError",
     "evalue": "math range error",
     "output_type": "error",
     "traceback": [
      "\u001b[1;31m---------------------------------------------------------------------------\u001b[0m",
      "\u001b[1;31mOverflowError\u001b[0m                             Traceback (most recent call last)",
      "\u001b[1;32m~\\AppData\\Local\\Temp/ipykernel_17436/292638125.py\u001b[0m in \u001b[0;36m<module>\u001b[1;34m\u001b[0m\n\u001b[1;32m----> 1\u001b[1;33m \u001b[0mans\u001b[0m \u001b[1;33m=\u001b[0m \u001b[0mmath\u001b[0m\u001b[1;33m.\u001b[0m\u001b[0mexp\u001b[0m\u001b[1;33m(\u001b[0m\u001b[1;36m20000\u001b[0m\u001b[1;33m)\u001b[0m\u001b[1;33m\u001b[0m\u001b[1;33m\u001b[0m\u001b[0m\n\u001b[0m\u001b[0;32m      2\u001b[0m \u001b[0mprint\u001b[0m\u001b[1;33m(\u001b[0m\u001b[0mans\u001b[0m\u001b[1;33m)\u001b[0m\u001b[1;33m\u001b[0m\u001b[1;33m\u001b[0m\u001b[0m\n",
      "\u001b[1;31mOverflowError\u001b[0m: math range error"
     ]
    }
   ],
   "source": [
    "ans = math.exp(20000)\n",
    "print(ans)"
   ]
  },
  {
   "cell_type": "code",
   "execution_count": 24,
   "id": "3c245433",
   "metadata": {},
   "outputs": [
    {
     "name": "stdout",
     "output_type": "stream",
     "text": [
      "enter num 1:10\n",
      "enter num 2:20\n",
      "division is 0.5\n"
     ]
    }
   ],
   "source": [
    "try:\n",
    "    a = int(input('enter num 1:'))\n",
    "    b = int(input('enter num 2:'))\n",
    "    c = a/b\n",
    "    print(f'division is {c}')\n",
    "except ValueError:\n",
    "    print('b should be int')\n",
    "except ZeroDivisionError:\n",
    "    print('b should not be zero')"
   ]
  },
  {
   "cell_type": "code",
   "execution_count": 25,
   "id": "a5be68e3",
   "metadata": {},
   "outputs": [
    {
     "name": "stdout",
     "output_type": "stream",
     "text": [
      "enter num 1:10\n",
      "enter num 2:0\n",
      "b should not be zero\n",
      "enter num 1:10\n",
      "enter num 2:v\n",
      "b should be int\n",
      "enter num 1:10\n",
      "enter num 2:5\n",
      "division is 2.0\n"
     ]
    }
   ],
   "source": [
    "while True:\n",
    "    try:\n",
    "        a = int(input('enter num 1:'))\n",
    "        b = int(input('enter num 2:'))\n",
    "        c = a/b\n",
    "        print(f'division is {c}')\n",
    "        break\n",
    "    except ValueError:\n",
    "        print('b should be int')\n",
    "    except ZeroDivisionError:\n",
    "        print('b should not be zero')"
   ]
  },
  {
   "cell_type": "code",
   "execution_count": 26,
   "id": "88c92a89",
   "metadata": {},
   "outputs": [
    {
     "name": "stdout",
     "output_type": "stream",
     "text": [
      "enter num 110\n",
      "enter num 2v\n",
      "invalid literal for int() with base 10: 'v'\n",
      "enter num 110\n",
      "enter num 20\n",
      "division by zero\n",
      "enter num 110\n",
      "enter num 25\n",
      "division is 2.0\n"
     ]
    }
   ],
   "source": [
    "while True:\n",
    "    try:\n",
    "        a = int(input('enter num 1:'))\n",
    "        b = int(input('enter num 2:'))\n",
    "        c = a/b\n",
    "        print(f'division is {c}')\n",
    "        break\n",
    "    except (ValueError, ZeroDivisionError) as e:\n",
    "        print(e)\n",
    "   "
   ]
  },
  {
   "cell_type": "code",
   "execution_count": 27,
   "id": "a36260e9",
   "metadata": {},
   "outputs": [],
   "source": [
    "import sys"
   ]
  },
  {
   "cell_type": "code",
   "execution_count": 28,
   "id": "558d4911",
   "metadata": {},
   "outputs": [
    {
     "name": "stdout",
     "output_type": "stream",
     "text": [
      "enter num 1:10\n",
      "enter num 2:0\n",
      "<class 'ZeroDivisionError'>\n",
      "division by zero\n",
      "5\n",
      "enter num 1:10\n",
      "enter num 2:5\n",
      "division is 2.0\n"
     ]
    }
   ],
   "source": [
    "\n",
    "while True:\n",
    "    try:\n",
    "        a = int(input('enter num 1:'))\n",
    "        b = int(input('enter num 2:'))\n",
    "        c = a/b\n",
    "        print(f'division is {c}')\n",
    "        break\n",
    "    except:\n",
    "        a,b,c = sys.exc_info()\n",
    "        print(a)\n",
    "        print(b)\n",
    "        print(c.tb_lineno)"
   ]
  },
  {
   "cell_type": "raw",
   "id": "7a80fd72",
   "metadata": {},
   "source": [
    "try:\n",
    "    pass\n",
    "except:\n",
    "    pass\n",
    "finally:\n",
    "    pass"
   ]
  },
  {
   "cell_type": "code",
   "execution_count": 30,
   "id": "848cd33e",
   "metadata": {},
   "outputs": [
    {
     "name": "stdout",
     "output_type": "stream",
     "text": [
      "enter num 1:10\n",
      "enter num 2:5\n",
      "division is 2.0\n",
      "Finally\n"
     ]
    }
   ],
   "source": [
    "try:\n",
    "    a = int(input('enter num 1:'))\n",
    "    b = int(input('enter num 2:'))\n",
    "    c = a/b\n",
    "    print(f'division is {c}')\n",
    "except ValueError:\n",
    "    print('b should be int')\n",
    "except ZeroDivisionError:\n",
    "    print('b should not be zero')\n",
    "    \n",
    "finally:\n",
    "    print('Finally')"
   ]
  },
  {
   "cell_type": "code",
   "execution_count": 31,
   "id": "39ecd2b5",
   "metadata": {},
   "outputs": [
    {
     "name": "stdout",
     "output_type": "stream",
     "text": [
      "enter num 1:1\n",
      "enter num 2:v\n",
      "b should be int\n",
      "Finally\n"
     ]
    }
   ],
   "source": [
    "try:\n",
    "    a = int(input('enter num 1:'))\n",
    "    b = int(input('enter num 2:'))\n",
    "    c = a/b\n",
    "    print(f'division is {c}')\n",
    "except ValueError:\n",
    "    print('b should be int')\n",
    "except ZeroDivisionError:\n",
    "    print('b should not be zero')\n",
    "    \n",
    "finally:\n",
    "    print('Finally')"
   ]
  },
  {
   "cell_type": "code",
   "execution_count": 32,
   "id": "1d76c491",
   "metadata": {},
   "outputs": [
    {
     "name": "stdout",
     "output_type": "stream",
     "text": [
      "enter num 1:10\n",
      "enter num 2:m\n",
      "invalid literal for int() with base 10: 'm'\n",
      "enter num 1:10\n",
      "enter num 2:-1\n",
      "put correct value\n",
      "enter num 1:10\n",
      "enter num 2:5\n",
      "division is 2.0\n"
     ]
    }
   ],
   "source": [
    "# Raise\n",
    "\n",
    "while True:\n",
    "    try:\n",
    "        a = int(input('enter num 1:'))\n",
    "        b = int(input('enter num 2:'))\n",
    "        if a< 0 or b <0:\n",
    "            raise Exception('put correct value')\n",
    "        c = a/b\n",
    "        print(f'division is {c}')\n",
    "        break\n",
    "    except (ValueError, ZeroDivisionError,Exception) as e:\n",
    "        print(e)"
   ]
  },
  {
   "cell_type": "code",
   "execution_count": 33,
   "id": "f205ea57",
   "metadata": {},
   "outputs": [
    {
     "name": "stdout",
     "output_type": "stream",
     "text": [
      "enter num 1:10\n",
      "enter num 2:v\n",
      "b should be int\n",
      "enter num 1:10\n",
      "enter num 2:-1\n",
      "put correct value\n",
      "enter num 1:10\n",
      "enter num 2:0\n",
      "b should not be zero\n",
      "enter num 1:10\n",
      "enter num 2:5\n",
      "division is 2.0\n"
     ]
    }
   ],
   "source": [
    "while True:\n",
    "    try:\n",
    "        a = int(input('enter num 1:'))\n",
    "        b = int(input('enter num 2:'))\n",
    "        if a< 0 or b <0:\n",
    "            raise Exception('put correct value')\n",
    "        c = a/b\n",
    "        print(f'division is {c}')\n",
    "        break\n",
    "    except ValueError:\n",
    "        print('b should be int')\n",
    "    except ZeroDivisionError:\n",
    "        print('b should not be zero')\n",
    "    except Exception as e:\n",
    "        print(e)"
   ]
  },
  {
   "cell_type": "code",
   "execution_count": 50,
   "id": "0da785e2",
   "metadata": {},
   "outputs": [
    {
     "ename": "Exception",
     "evalue": "x is less than 10",
     "output_type": "error",
     "traceback": [
      "\u001b[1;31m---------------------------------------------------------------------------\u001b[0m",
      "\u001b[1;31mException\u001b[0m                                 Traceback (most recent call last)",
      "\u001b[1;32m~\\AppData\\Local\\Temp/ipykernel_17436/2872386622.py\u001b[0m in \u001b[0;36m<module>\u001b[1;34m\u001b[0m\n\u001b[0;32m      1\u001b[0m \u001b[0mx\u001b[0m\u001b[1;33m=\u001b[0m \u001b[1;36m5\u001b[0m\u001b[1;33m\u001b[0m\u001b[1;33m\u001b[0m\u001b[0m\n\u001b[0;32m      2\u001b[0m \u001b[1;32mif\u001b[0m \u001b[0mx\u001b[0m \u001b[1;33m<\u001b[0m \u001b[1;36m10\u001b[0m\u001b[1;33m:\u001b[0m\u001b[1;33m\u001b[0m\u001b[1;33m\u001b[0m\u001b[0m\n\u001b[1;32m----> 3\u001b[1;33m     \u001b[1;32mraise\u001b[0m \u001b[0mException\u001b[0m\u001b[1;33m(\u001b[0m\u001b[1;34m\"x is less than 10\"\u001b[0m\u001b[1;33m)\u001b[0m\u001b[1;33m\u001b[0m\u001b[1;33m\u001b[0m\u001b[0m\n\u001b[0m",
      "\u001b[1;31mException\u001b[0m: x is less than 10"
     ]
    }
   ],
   "source": [
    "x= 5\n",
    "if x < 10:\n",
    "    raise Exception(\"x is less than 10\")"
   ]
  },
  {
   "cell_type": "code",
   "execution_count": 48,
   "id": "6e3aa845",
   "metadata": {},
   "outputs": [
    {
     "data": {
      "text/plain": [
       "True"
      ]
     },
     "execution_count": 48,
     "metadata": {},
     "output_type": "execute_result"
    }
   ],
   "source": [
    "x < 10"
   ]
  },
  {
   "cell_type": "code",
   "execution_count": 36,
   "id": "b69d7da1",
   "metadata": {},
   "outputs": [
    {
     "name": "stdout",
     "output_type": "stream",
     "text": [
      "enter num 110\n",
      "enter num 20\n",
      "b should not be zero\n",
      "enter num 110\n",
      "enter num 2v\n",
      "b should be int\n",
      "enter num 110\n",
      "enter num 25\n",
      "division is 2.0\n"
     ]
    }
   ],
   "source": [
    "class CustomExp(Exception):\n",
    "    pass\n",
    "\n",
    "\n",
    "while True:\n",
    "    try:\n",
    "        a = int(input('enter num 1'))\n",
    "        b = int(input('enter num 2'))\n",
    "        if a< 0 or b <0:\n",
    "            raise CustomExp('put correct value')\n",
    "        c = a/b\n",
    "        print(f'division is {c}')\n",
    "        break\n",
    "    except ValueError:\n",
    "        print('b should be int')\n",
    "    except ZeroDivisionError:\n",
    "        print('b should not be zero')\n",
    "    except CustomExp as e:\n",
    "        print(e)"
   ]
  },
  {
   "cell_type": "code",
   "execution_count": 37,
   "id": "e0601099",
   "metadata": {},
   "outputs": [],
   "source": [
    "class Custome_Error(Exception):\n",
    "    'Raise when the input value is less than 18'\n",
    "    pass"
   ]
  },
  {
   "cell_type": "code",
   "execution_count": 42,
   "id": "2d77dd7e",
   "metadata": {},
   "outputs": [
    {
     "name": "stdout",
     "output_type": "stream",
     "text": [
      "Enter the No.:10\n",
      "Invalid age\n"
     ]
    }
   ],
   "source": [
    "try:\n",
    "    in_num = int(input('Enter the No.:'))\n",
    "    if in_num < 18:\n",
    "        raise Custome_Error\n",
    "    else:\n",
    "        print('Eligible for Vote')\n",
    "except Custome_Error:\n",
    "    print('Invalid age')"
   ]
  },
  {
   "cell_type": "code",
   "execution_count": 43,
   "id": "c1780883",
   "metadata": {},
   "outputs": [
    {
     "ename": "Exception",
     "evalue": "Sorry, no numbers below zero",
     "output_type": "error",
     "traceback": [
      "\u001b[1;31m---------------------------------------------------------------------------\u001b[0m",
      "\u001b[1;31mException\u001b[0m                                 Traceback (most recent call last)",
      "\u001b[1;32m~\\AppData\\Local\\Temp/ipykernel_17436/3386925827.py\u001b[0m in \u001b[0;36m<module>\u001b[1;34m\u001b[0m\n\u001b[0;32m      2\u001b[0m \u001b[1;33m\u001b[0m\u001b[0m\n\u001b[0;32m      3\u001b[0m \u001b[1;32mif\u001b[0m \u001b[0mx\u001b[0m \u001b[1;33m<\u001b[0m \u001b[1;36m0\u001b[0m\u001b[1;33m:\u001b[0m\u001b[1;33m\u001b[0m\u001b[1;33m\u001b[0m\u001b[0m\n\u001b[1;32m----> 4\u001b[1;33m   \u001b[1;32mraise\u001b[0m \u001b[0mException\u001b[0m\u001b[1;33m(\u001b[0m\u001b[1;34m\"Sorry, no numbers below zero\"\u001b[0m\u001b[1;33m)\u001b[0m\u001b[1;33m\u001b[0m\u001b[1;33m\u001b[0m\u001b[0m\n\u001b[0m",
      "\u001b[1;31mException\u001b[0m: Sorry, no numbers below zero"
     ]
    }
   ],
   "source": [
    "x = -1\n",
    "\n",
    "if x < 0:\n",
    "  raise Exception(\"Sorry, no numbers below zero\")"
   ]
  },
  {
   "cell_type": "code",
   "execution_count": 51,
   "id": "aa0309a2",
   "metadata": {},
   "outputs": [
    {
     "ename": "TypeError",
     "evalue": "Only integers are allowed",
     "output_type": "error",
     "traceback": [
      "\u001b[1;31m---------------------------------------------------------------------------\u001b[0m",
      "\u001b[1;31mTypeError\u001b[0m                                 Traceback (most recent call last)",
      "\u001b[1;32m~\\AppData\\Local\\Temp/ipykernel_17436/2407302476.py\u001b[0m in \u001b[0;36m<module>\u001b[1;34m\u001b[0m\n\u001b[0;32m      2\u001b[0m \u001b[1;33m\u001b[0m\u001b[0m\n\u001b[0;32m      3\u001b[0m \u001b[1;32mif\u001b[0m \u001b[1;32mnot\u001b[0m \u001b[0mtype\u001b[0m\u001b[1;33m(\u001b[0m\u001b[0mx\u001b[0m\u001b[1;33m)\u001b[0m \u001b[1;32mis\u001b[0m \u001b[0mint\u001b[0m\u001b[1;33m:\u001b[0m\u001b[1;33m\u001b[0m\u001b[1;33m\u001b[0m\u001b[0m\n\u001b[1;32m----> 4\u001b[1;33m   \u001b[1;32mraise\u001b[0m \u001b[0mTypeError\u001b[0m\u001b[1;33m(\u001b[0m\u001b[1;34m\"Only integers are allowed\"\u001b[0m\u001b[1;33m)\u001b[0m\u001b[1;33m\u001b[0m\u001b[1;33m\u001b[0m\u001b[0m\n\u001b[0m",
      "\u001b[1;31mTypeError\u001b[0m: Only integers are allowed"
     ]
    }
   ],
   "source": [
    "x = \"hello\"\n",
    "\n",
    "if not type(x) is int:\n",
    "  raise TypeError(\"Only integers are allowed\")"
   ]
  },
  {
   "cell_type": "code",
   "execution_count": 52,
   "id": "9d6cb850",
   "metadata": {},
   "outputs": [
    {
     "name": "stdout",
     "output_type": "stream",
     "text": [
      "Index Out of Bound.\n"
     ]
    }
   ],
   "source": [
    "try:\n",
    "    \n",
    "    even_numbers = [2,4,6,8]\n",
    "    print(even_numbers[5])\n",
    "\n",
    "except ZeroDivisionError:\n",
    "    print(\"Denominator cannot be 0.\")\n",
    "    \n",
    "except IndexError:\n",
    "    print(\"Index Out of Bound.\")"
   ]
  },
  {
   "cell_type": "code",
   "execution_count": 54,
   "id": "3087951a",
   "metadata": {},
   "outputs": [
    {
     "name": "stdout",
     "output_type": "stream",
     "text": [
      "Enter a number: 1\n",
      "Not an even number!\n"
     ]
    }
   ],
   "source": [
    "# program to print the reciprocal of even numbers\n",
    "\n",
    "try:\n",
    "    num = int(input(\"Enter a number: \"))\n",
    "    assert num % 2 == 0\n",
    "except:\n",
    "    print(\"Not an even number!\")\n",
    "else:\n",
    "    reciprocal = 1/num\n",
    "    print(reciprocal)"
   ]
  },
  {
   "cell_type": "code",
   "execution_count": 2,
   "id": "a8987bdf",
   "metadata": {},
   "outputs": [
    {
     "ename": "AssertionError",
     "evalue": "x should be 'hello'",
     "output_type": "error",
     "traceback": [
      "\u001b[1;31m---------------------------------------------------------------------------\u001b[0m",
      "\u001b[1;31mAssertionError\u001b[0m                            Traceback (most recent call last)",
      "\u001b[1;32m~\\AppData\\Local\\Temp/ipykernel_23496/252869123.py\u001b[0m in \u001b[0;36m<module>\u001b[1;34m\u001b[0m\n\u001b[0;32m      3\u001b[0m \u001b[1;33m\u001b[0m\u001b[0m\n\u001b[0;32m      4\u001b[0m \u001b[1;31m#if condition returns False, AssertionError is raised:\u001b[0m\u001b[1;33m\u001b[0m\u001b[1;33m\u001b[0m\u001b[0m\n\u001b[1;32m----> 5\u001b[1;33m \u001b[1;32massert\u001b[0m \u001b[0mx\u001b[0m \u001b[1;33m==\u001b[0m \u001b[1;34m\"goodbye\"\u001b[0m\u001b[1;33m,\u001b[0m \u001b[1;34m\"x should be 'hello'\"\u001b[0m\u001b[1;33m\u001b[0m\u001b[1;33m\u001b[0m\u001b[0m\n\u001b[0m",
      "\u001b[1;31mAssertionError\u001b[0m: x should be 'hello'"
     ]
    }
   ],
   "source": [
    "#assertion Error\n",
    "x = \"hello\"\n",
    "\n",
    "#if condition returns False, AssertionError is raised:\n",
    "assert x == \"goodbye\", \"x should be 'hello'\""
   ]
  },
  {
   "cell_type": "code",
   "execution_count": 1,
   "id": "4e1d3f98",
   "metadata": {},
   "outputs": [],
   "source": [
    "x = \"hello\"\n",
    "\n",
    "#if condition returns False, AssertionError is raised:\n",
    "assert x == \"hello\", \"x should be 'hello'\""
   ]
  },
  {
   "cell_type": "code",
   "execution_count": 3,
   "id": "a1cb60a2",
   "metadata": {},
   "outputs": [],
   "source": [
    "import numpy as np\n",
    "import matplotlib.pyplot as plt"
   ]
  },
  {
   "cell_type": "code",
   "execution_count": 4,
   "id": "b5dde938",
   "metadata": {},
   "outputs": [],
   "source": [
    "X = np.array([[1,1,],[1,2],[1,3],[1,4]])"
   ]
  },
  {
   "cell_type": "code",
   "execution_count": 5,
   "id": "5d34de0a",
   "metadata": {},
   "outputs": [
    {
     "data": {
      "text/plain": [
       "array([[1, 1],\n",
       "       [1, 2],\n",
       "       [1, 3],\n",
       "       [1, 4]])"
      ]
     },
     "execution_count": 5,
     "metadata": {},
     "output_type": "execute_result"
    }
   ],
   "source": [
    "X"
   ]
  },
  {
   "cell_type": "code",
   "execution_count": 6,
   "id": "df92028b",
   "metadata": {},
   "outputs": [],
   "source": [
    "y = np.array([2,3,4,5])"
   ]
  },
  {
   "cell_type": "code",
   "execution_count": 7,
   "id": "08e03b29",
   "metadata": {},
   "outputs": [
    {
     "data": {
      "text/plain": [
       "[<matplotlib.lines.Line2D at 0x232939361c0>,\n",
       " <matplotlib.lines.Line2D at 0x232939361f0>]"
      ]
     },
     "execution_count": 7,
     "metadata": {},
     "output_type": "execute_result"
    },
    {
     "data": {
      "image/png": "[encoded data removed]",
      "text/plain": [
       "<Figure size 432x288 with 1 Axes>"
      ]
     },
     "metadata": {
      "needs_background": "light"
     },
     "output_type": "display_data"
    }
   ],
   "source": [
    "plt.plot(X,y)"
   ]
  },
  {
   "cell_type": "code",
   "execution_count": 10,
   "id": "4e0654e7",
   "metadata": {},
   "outputs": [
    {
     "data": {
      "text/plain": [
       "array([-2., -3., -4., -5.])"
      ]
     },
     "execution_count": 10,
     "metadata": {},
     "output_type": "execute_result"
    }
   ],
   "source": [
    "theta = np.zeros(2)\n",
    "X @ theta - y"
   ]
  },
  {
   "cell_type": "code",
   "execution_count": 24,
   "id": "711f89db",
   "metadata": {},
   "outputs": [
    {
     "data": {
      "text/plain": [
       "array([[1, 1],\n",
       "       [1, 2],\n",
       "       [1, 3],\n",
       "       [1, 4]])"
      ]
     },
     "execution_count": 24,
     "metadata": {},
     "output_type": "execute_result"
    }
   ],
   "source": [
    "X"
   ]
  },
  {
   "cell_type": "code",
   "execution_count": 23,
   "id": "3dfe4e49",
   "metadata": {},
   "outputs": [
    {
     "data": {
      "text/plain": [
       "array([0., 0.])"
      ]
     },
     "execution_count": 23,
     "metadata": {},
     "output_type": "execute_result"
    }
   ],
   "source": [
    "np.zeros(2)"
   ]
  },
  {
   "cell_type": "code",
   "execution_count": 13,
   "id": "8ddad899",
   "metadata": {},
   "outputs": [
    {
     "data": {
      "text/plain": [
       "array([[0., 0.],\n",
       "       [0., 0.],\n",
       "       [0., 0.],\n",
       "       [0., 0.]])"
      ]
     },
     "execution_count": 13,
     "metadata": {},
     "output_type": "execute_result"
    }
   ],
   "source": [
    "X @ theta"
   ]
  },
  {
   "cell_type": "code",
   "execution_count": 14,
   "id": "249626b6",
   "metadata": {},
   "outputs": [
    {
     "data": {
      "text/plain": [
       "array([[1, 1, 1, 1],\n",
       "       [1, 2, 3, 4]])"
      ]
     },
     "execution_count": 14,
     "metadata": {},
     "output_type": "execute_result"
    }
   ],
   "source": [
    "X.T"
   ]
  },
  {
   "cell_type": "code",
   "execution_count": 22,
   "id": "6ac8a098",
   "metadata": {},
   "outputs": [
    {
     "data": {
      "text/plain": [
       "array([-14., -40.])"
      ]
     },
     "execution_count": 22,
     "metadata": {},
     "output_type": "execute_result"
    }
   ],
   "source": [
    " X.T  @(X @ theta - y)"
   ]
  },
  {
   "cell_type": "code",
   "execution_count": 35,
   "id": "90e4bba5",
   "metadata": {},
   "outputs": [],
   "source": [
    "def descent(X,y, alpha, epoch):\n",
    "    num_sample, num_features = X.shape\n",
    "    theta = np.zeros(num_features)\n",
    "    cost_hist = []\n",
    "    for i in range(epoch):\n",
    "        print(f'==============={i}')\n",
    "        print('theta',theta)\n",
    "        error = X @ theta - y\n",
    "        print('error', error)\n",
    "        # error = array([-2., -3., -4., -5.]) at theta =0\n",
    "        gradient = (1/num_sample) * X.T @ error\n",
    "        print('gradient',gradient)\n",
    "        theta -= alpha * gradient\n",
    "        print('theta',theta)\n",
    "        cost  = np.sum(error ** 2) / (2 * num_sample)\n",
    "        print('cost',cost)\n",
    "        cost_hist.append(cost)\n",
    "        \n",
    "    #return theta, cost_hist\n",
    "        \n",
    "        "
   ]
  },
  {
   "cell_type": "code",
   "execution_count": 37,
   "id": "a3334088",
   "metadata": {},
   "outputs": [
    {
     "name": "stdout",
     "output_type": "stream",
     "text": [
      "===============0\n",
      "theta [0. 0.]\n",
      "error [-2. -3. -4. -5.]\n",
      "gradient [ -3.5 -10. ]\n",
      "theta [0.35 1.  ]\n",
      "cost 6.75\n",
      "===============1\n",
      "theta [0.35 1.  ]\n",
      "error [-0.65 -0.65 -0.65 -0.65]\n",
      "gradient [-0.65  -1.625]\n",
      "theta [0.415  1.1625]\n",
      "cost 0.21125000000000002\n",
      "===============2\n",
      "theta [0.415  1.1625]\n",
      "error [-0.4225 -0.26   -0.0975  0.065 ]\n",
      "gradient [-0.17875 -0.24375]\n",
      "theta [0.432875 1.186875]\n",
      "cost 0.03247968749999997\n",
      "===============3\n",
      "theta [0.432875 1.186875]\n",
      "error [-0.38025  -0.193375 -0.0065    0.180375]\n",
      "gradient [-0.0999375 -0.01625  ]\n",
      "theta [0.44286875 1.1885    ]\n",
      "cost 0.026820167968749982\n",
      "===============4\n",
      "theta [0.44286875 1.1885    ]\n",
      "error [-0.36863125 -0.18013125  0.00836875  0.19686875]\n",
      "gradient [-0.08588125  0.02092187]\n",
      "theta [0.45145687 1.18640781]\n",
      "cost 0.025895450800781233\n"
     ]
    }
   ],
   "source": [
    "descent(X,y,0.1, 5)"
   ]
  },
  {
   "cell_type": "code",
   "execution_count": 20,
   "id": "859c15b5",
   "metadata": {},
   "outputs": [
    {
     "data": {
      "text/plain": [
       "[<matplotlib.lines.Line2D at 0x23297054250>]"
      ]
     },
     "execution_count": 20,
     "metadata": {},
     "output_type": "execute_result"
    },
    {
     "data": {
      "image/png": "[encoded data removed]",
      "text/plain": [
       "<Figure size 432x288 with 1 Axes>"
      ]
     },
     "metadata": {
      "needs_background": "light"
     },
     "output_type": "display_data"
    }
   ],
   "source": [
    "plt.plot(range(10), c)"
   ]
  },
  {
   "cell_type": "code",
   "execution_count": 25,
   "id": "6c61b35b",
   "metadata": {},
   "outputs": [
    {
     "data": {
      "text/plain": [
       "(array([0.56256217, 1.14878221]),\n",
       " [6.75,\n",
       "  0.21125000000000002,\n",
       "  0.03247968749999997,\n",
       "  0.026820167968749982,\n",
       "  0.025895450800781233,\n",
       "  0.025122492113354482,\n",
       "  0.024375884135363,\n",
       "  0.023651553617656276,\n",
       "  0.022948749043162724,\n",
       "  0.022266828332838575,\n",
       "  0.021605170857585468,\n",
       "  0.020963174494777498,\n",
       "  0.02034025501558243,\n",
       "  0.01973584555154077,\n",
       "  0.0191493960786567,\n",
       "  0.018580372916864686,\n",
       "  0.01802825824437049,\n",
       "  0.017492549626423614,\n",
       "  0.016972759558092108,\n",
       "  0.01646841502062413])"
      ]
     },
     "execution_count": 25,
     "metadata": {},
     "output_type": "execute_result"
    }
   ],
   "source": [
    "descent(X,y,0.1, 20)"
   ]
  },
  {
   "cell_type": "code",
   "execution_count": 28,
   "id": "c9d13ebc",
   "metadata": {},
   "outputs": [
    {
     "data": {
      "text/plain": [
       "1.7"
      ]
     },
     "execution_count": 28,
     "metadata": {},
     "output_type": "execute_result"
    }
   ],
   "source": [
    "0.56 * 1 + 1.14* 1"
   ]
  },
  {
   "cell_type": "code",
   "execution_count": 38,
   "id": "c6c34e3a",
   "metadata": {},
   "outputs": [],
   "source": [
    "def descent_simple(X,y, alpha, epoch):\n",
    "    num_sample, num_features = X.shape\n",
    "    theta = np.zeros(num_features)\n",
    "    cost_hist = []\n",
    "    for i in range(epoch):\n",
    "        predictions = np.dot(X, theta)\n",
    "        error = predictions - y\n",
    "        \n",
    "        # error = array([-2., -3., -4., -5.]) at theta =0\n",
    "        gradient = (1/num_sample) * np.dot(X.T , error)\n",
    "        \n",
    "        theta = theta -  alpha * gradient\n",
    "        \n",
    "        cost  = np.sum(error ** 2) / (2 * num_sample)\n",
    "        \n",
    "        cost_hist.append(cost)\n",
    "        \n",
    "    return theta, cost_hist"
   ]
  },
  {
   "cell_type": "code",
   "execution_count": 40,
   "id": "3d634739",
   "metadata": {},
   "outputs": [],
   "source": [
    "coffe, cost = descent_simple(X,y,0.1, 1000)"
   ]
  },
  {
   "cell_type": "code",
   "execution_count": 41,
   "id": "d24d7506",
   "metadata": {},
   "outputs": [
    {
     "data": {
      "text/plain": [
       "array([0.99999983, 1.00000006])"
      ]
     },
     "execution_count": 41,
     "metadata": {},
     "output_type": "execute_result"
    }
   ],
   "source": [
    "coffe"
   ]
  },
  {
   "cell_type": "code",
   "execution_count": 43,
   "id": "b3801bdf",
   "metadata": {},
   "outputs": [
    {
     "data": {
      "text/plain": [
       "2.999999946738444"
      ]
     },
     "execution_count": 43,
     "metadata": {},
     "output_type": "execute_result"
    }
   ],
   "source": [
    "coffe[0] + coffe[1] * 2"
   ]
  },
  {
   "cell_type": "code",
   "execution_count": 42,
   "id": "df35eaab",
   "metadata": {},
   "outputs": [
    {
     "data": {
      "text/plain": [
       "array([2, 3, 4, 5])"
      ]
     },
     "execution_count": 42,
     "metadata": {},
     "output_type": "execute_result"
    }
   ],
   "source": [
    "y"
   ]
  },
  {
   "cell_type": "code",
   "execution_count": 48,
   "id": "20168b91",
   "metadata": {},
   "outputs": [
    {
     "data": {
      "text/plain": [
       "array([1.99999989, 2.99999995, 4.        , 5.00000006])"
      ]
     },
     "execution_count": 48,
     "metadata": {},
     "output_type": "execute_result"
    }
   ],
   "source": [
    "X @ coffe"
   ]
  },
  {
   "cell_type": "code",
   "execution_count": 49,
   "id": "3638e91c",
   "metadata": {},
   "outputs": [
    {
     "data": {
      "text/plain": [
       "array([[1, 1],\n",
       "       [1, 2],\n",
       "       [1, 3],\n",
       "       [1, 4]])"
      ]
     },
     "execution_count": 49,
     "metadata": {},
     "output_type": "execute_result"
    }
   ],
   "source": [
    "X"
   ]
  },
  {
   "cell_type": "markdown",
   "id": "54ce44f8",
   "metadata": {},
   "source": [
    "# Classification"
   ]
  },
  {
   "cell_type": "code",
   "execution_count": 2,
   "id": "a3158130",
   "metadata": {},
   "outputs": [],
   "source": [
    "import numpy as np"
   ]
  },
  {
   "cell_type": "code",
   "execution_count": 3,
   "id": "66cd7436",
   "metadata": {},
   "outputs": [
    {
     "name": "stdout",
     "output_type": "stream",
     "text": [
      "Random W: [[0.31432252]\n",
      " [0.48679343]\n",
      " [0.28947254]]\n"
     ]
    }
   ],
   "source": [
    "w = np.random.rand(3,1)\n",
    "print('Random W:', w)\n",
    "\n"
   ]
  },
  {
   "cell_type": "code",
   "execution_count": null,
   "id": "188fde1f",
   "metadata": {},
   "outputs": [],
   "source": [
    "error = []\n",
    "\n",
    "for i in range(10):\n",
    "    yp = sigmoid(np.dot(x,w))\n",
    "    error.append((np.sum(yp-ya)**2))\n",
    "    dw = np.dot(x.T, (yp-ya))\n",
    "    w = w - dw\n",
    "print('Trained W : ',w)"
   ]
  },
  {
   "cell_type": "code",
   "execution_count": null,
   "id": "9553714f",
   "metadata": {},
   "outputs": [],
   "source": []
  },
  {
   "cell_type": "code",
   "execution_count": null,
   "id": "7c4288e7",
   "metadata": {},
   "outputs": [],
   "source": []
  },
  {
   "cell_type": "markdown",
   "id": "06fd8caa",
   "metadata": {},
   "source": [
    "# Regression"
   ]
  },
  {
   "cell_type": "code",
   "execution_count": 5,
   "id": "119f2fe2",
   "metadata": {},
   "outputs": [
    {
     "data": {
      "text/plain": [
       "array([0, 0, 3, 0, 1, 2, 2, 4, 3, 1, 3, 0, 0, 4, 2, 0, 3, 4, 0, 0, 3, 0,\n",
       "       3, 1, 4, 0, 4, 0, 4, 0, 4, 0, 4, 3, 3, 1, 2, 0, 1, 4, 4, 4, 2, 3,\n",
       "       4, 0, 0, 1, 2, 4])"
      ]
     },
     "execution_count": 5,
     "metadata": {},
     "output_type": "execute_result"
    }
   ],
   "source": [
    "X = np.random.randint(0,5,50)\n",
    "X"
   ]
  },
  {
   "cell_type": "code",
   "execution_count": 6,
   "id": "eae422b4",
   "metadata": {},
   "outputs": [
    {
     "data": {
      "text/plain": [
       "array([0. , 0. , 1.5, 0. , 0.5, 1. , 1. , 2. , 1.5, 0.5, 1.5, 0. , 0. ,\n",
       "       2. , 1. , 0. , 1.5, 2. , 0. , 0. , 1.5, 0. , 1.5, 0.5, 2. , 0. ,\n",
       "       2. , 0. , 2. , 0. , 2. , 0. , 2. , 1.5, 1.5, 0.5, 1. , 0. , 0.5,\n",
       "       2. , 2. , 2. , 1. , 1.5, 2. , 0. , 0. , 0.5, 1. , 2. ])"
      ]
     },
     "execution_count": 6,
     "metadata": {},
     "output_type": "execute_result"
    }
   ],
   "source": [
    "y = 0.5*X + 0\n",
    "y"
   ]
  },
  {
   "cell_type": "code",
   "execution_count": 8,
   "id": "b3293a98",
   "metadata": {},
   "outputs": [
    {
     "data": {
      "text/plain": [
       "[<matplotlib.lines.Line2D at 0x199b6485340>]"
      ]
     },
     "execution_count": 8,
     "metadata": {},
     "output_type": "execute_result"
    },
    {
     "data": {
      "image/png": "[encoded data removed]",
      "text/plain": [
       "<Figure size 432x288 with 1 Axes>"
      ]
     },
     "metadata": {
      "needs_background": "light"
     },
     "output_type": "display_data"
    }
   ],
   "source": [
    "import matplotlib.pyplot as plt\n",
    "plt.plot(X,y)"
   ]
  },
  {
   "cell_type": "code",
   "execution_count": 11,
   "id": "b8481258",
   "metadata": {},
   "outputs": [],
   "source": [
    "X = X.reshape(50,1)\n",
    "ya = y.reshape(50,1)"
   ]
  },
  {
   "cell_type": "code",
   "execution_count": 21,
   "id": "08fb133d",
   "metadata": {},
   "outputs": [
    {
     "name": "stdout",
     "output_type": "stream",
     "text": [
      "Random W: [[0.46465747]]\n",
      "Trained W :  [[0.49999965]]\n"
     ]
    }
   ],
   "source": [
    "\n",
    "W = np.random.rand(1,1)\n",
    "print('Random W:', W)\n",
    "error = []\n",
    "\n",
    "for i in range(30):\n",
    "    yp = (np.dot(X,W))\n",
    "    error.append((np.sum(yp-ya)**2))\n",
    "    dw = np.dot(X.T, (yp-ya))\n",
    "    W = W - (0.001)* dw\n",
    "print('Trained W : ',W)"
   ]
  },
  {
   "cell_type": "code",
   "execution_count": 22,
   "id": "8629b72a",
   "metadata": {},
   "outputs": [
    {
     "data": {
      "text/plain": [
       "[11.752731148401006,\n",
       " 5.450458350113607,\n",
       " 2.527710014907032,\n",
       " 1.172253324223303,\n",
       " 0.5436453738951237,\n",
       " 0.2521215222429755,\n",
       " 0.11692412927692455,\n",
       " 0.05422485111759483,\n",
       " 0.025147371179145887,\n",
       " 0.011662370005411909,\n",
       " 0.005408552376079736,\n",
       " 0.0025082756584829005,\n",
       " 0.0011632404276536472,\n",
       " 0.000539465543969176,\n",
       " 0.00025018308013679343,\n",
       " 0.0001160251554272721,\n",
       " 5.38079421061067e-05,\n",
       " 2.4954025039063283e-05,\n",
       " 1.1572703606148354e-05,\n",
       " 5.366968597102063e-06,\n",
       " 2.4889907235590974e-06,\n",
       " 1.1542968269505247e-06,\n",
       " 5.353178507620977e-07,\n",
       " 2.4825954178712877e-07,\n",
       " 1.1513309336076123e-07,\n",
       " 5.339423850993217e-08,\n",
       " 2.4762165444682457e-08,\n",
       " 1.1483726608240245e-08,\n",
       " 5.325704536054801e-09,\n",
       " 2.469854061280667e-09]"
      ]
     },
     "execution_count": 22,
     "metadata": {},
     "output_type": "execute_result"
    }
   ],
   "source": [
    "error"
   ]
  },
  {
   "cell_type": "code",
   "execution_count": 24,
   "id": "5d60da8d",
   "metadata": {},
   "outputs": [
    {
     "data": {
      "text/plain": [
       "array([[2, 1, 0],\n",
       "       [2, 3, 1],\n",
       "       [1, 0, 0],\n",
       "       [3, 0, 3],\n",
       "       [0, 3, 2]])"
      ]
     },
     "execution_count": 24,
     "metadata": {},
     "output_type": "execute_result"
    }
   ],
   "source": [
    "X = np.random.randint(0,5,(50,3))\n",
    "X[:5]"
   ]
  },
  {
   "cell_type": "code",
   "execution_count": 26,
   "id": "a1e97cfe",
   "metadata": {},
   "outputs": [
    {
     "data": {
      "text/plain": [
       "array([ 1. , -2. ,  2.5,  6.5, -2. ,  8. ,  4.5, -2. ,  2. ,  6.5, -0.5,\n",
       "       -1. , -4.5, -1.5,  0. ,  2.5,  3. , -1. , -1.5, -6. ,  5.5, -4. ,\n",
       "        0.5, -1. , -3.5, -2. ,  2.5, -1. , -4. ,  0.5,  3. , -1. , -3. ,\n",
       "        4.5, -4. ,  0. , -3. , -1.5,  1. ,  0.5, -1. ,  4.5, -0.5, -4.5,\n",
       "        3. , -4. ,  3. ,  2.5,  3. ,  1.5])"
      ]
     },
     "execution_count": 26,
     "metadata": {},
     "output_type": "execute_result"
    }
   ],
   "source": [
    "y = 0.5*X[:,0]  - 2*X[:,1] + X[:,2] + 2\n",
    "y"
   ]
  },
  {
   "cell_type": "code",
   "execution_count": 28,
   "id": "ea64a17b",
   "metadata": {},
   "outputs": [],
   "source": [
    "X = X.reshape(50,3)\n",
    "ya = y.reshape(50,1)"
   ]
  },
  {
   "cell_type": "code",
   "execution_count": 35,
   "id": "c3a04f91",
   "metadata": {},
   "outputs": [
    {
     "name": "stdout",
     "output_type": "stream",
     "text": [
      "Random W and b [[0.23218894]\n",
      " [0.41940064]\n",
      " [0.80917336]] 0.1\n",
      "Trained W and b :  [[ 0.50005351]\n",
      " [-1.99993442]\n",
      " [ 1.00006906]] 1.999582171218795\n"
     ]
    }
   ],
   "source": [
    "W = np.random.rand(3,1)\n",
    "b = 0.1\n",
    "print('Random W and b', W ,b)\n",
    "error = []\n",
    "\n",
    "for i in range(1000):\n",
    "    yp = (np.dot(X,W)) + b\n",
    "    error.append((np.sum(yp-ya)**2))\n",
    "    dw = np.dot(X.T, (yp-ya))\n",
    "    db = np.sum(yp-ya)\n",
    "    W = W - (0.001)* dw\n",
    "    b = b - (0.001) * db\n",
    "print('Trained W and b : ',W, b)"
   ]
  },
  {
   "cell_type": "code",
   "execution_count": 36,
   "id": "7a905660",
   "metadata": {},
   "outputs": [
    {
     "data": {
      "text/plain": [
       "[15626.37654132289,\n",
       " 700.9477764854645,\n",
       " 29.90564562624593,\n",
       " 242.80571927548806,\n",
       " 344.3827192582858,\n",
       " 369.2445857230026,\n",
       " 366.22971312395293,\n",
       " 354.8789412108875,\n",
       " 341.75006378204176,\n",
       " 328.875730363099,\n",
       " 316.8134756873417,\n",
       " 305.6567945821121,\n",
       " 295.36110924583875,\n",
       " 285.84712389852155,\n",
       " 277.0326935117271,\n",
       " 268.84191898747434,\n",
       " 261.20709470798477,\n",
       " 254.06850189945297,\n",
       " 247.37363024284068,\n",
       " 241.07631775736726,\n",
       " 235.13595080951058,\n",
       " 229.51675666498937,\n",
       " 224.18718793576468,\n",
       " 219.11938942689875,\n",
       " 214.2887365345257,\n",
       " 209.67343515211198,\n",
       " 205.25417433355864,\n",
       " 201.01382423570482,\n",
       " 196.93717298810623,\n",
       " 193.01069709725198,\n",
       " 189.2223608007307,\n",
       " 185.561440466003,\n",
       " 182.01837069922988,\n",
       " 178.58460931015523,\n",
       " 175.25251868445199,\n",
       " 172.01526145785428,\n",
       " 168.86670867711538,\n",
       " 165.80135887996425,\n",
       " 162.81426673679985,\n",
       " 159.90098007679399,\n",
       " 157.057484275136,\n",
       " 154.28015311043373,\n",
       " 151.56570531511633,\n",
       " 148.91116613984525,\n",
       " 146.31383333784706,\n",
       " 143.77124704855245,\n",
       " 141.28116312378168,\n",
       " 138.84152949519822,\n",
       " 136.4504652301156,\n",
       " 134.10624196495687,\n",
       " 131.80726744255315,\n",
       " 129.5520709117928,\n",
       " 127.33929017643972,\n",
       " 125.16766010483055,\n",
       " 123.0360024340036,\n",
       " 120.94321672105777,\n",
       " 118.88827231149023,\n",
       " 116.87020120919777,\n",
       " 114.88809174601056,\n",
       " 112.9410829602879,\n",
       " 111.0283596043754,\n",
       " 109.14914770985426,\n",
       " 107.30271064754193,\n",
       " 105.48834562634954,\n",
       " 103.70538058141878,\n",
       " 101.95317140754747,\n",
       " 100.2310994988896,\n",
       " 98.53856956029622,\n",
       " 96.87500765958708,\n",
       " 95.23985949348257,\n",
       " 93.63258884301777,\n",
       " 92.05267619696663,\n",
       " 90.49961752424244,\n",
       " 88.97292317837012,\n",
       " 87.47211691904458,\n",
       " 85.99673503749027,\n",
       " 84.54632557380052,\n",
       " 83.1204476158288,\n",
       " 81.71867067033659,\n",
       " 80.34057409817628,\n",
       " 78.98574660622833,\n",
       " 77.65378578962104,\n",
       " 76.344297718511,\n",
       " 75.05689656435189,\n",
       " 73.79120426115341,\n",
       " 72.54685019775701,\n",
       " 71.32347093759448,\n",
       " 70.12070996282057,\n",
       " 68.9382174400477,\n",
       " 67.77565000525183,\n",
       " 66.63267056567695,\n",
       " 65.50894811683524,\n",
       " 64.40415757290977,\n",
       " 63.317979609068225,\n",
       " 62.25010051436823,\n",
       " 61.20021205408689,\n",
       " 60.16801134044972,\n",
       " 59.15320071084326,\n",
       " 58.1554876127205,\n",
       " 57.17458449447892,\n",
       " 56.21020870169727,\n",
       " 55.262082378175016,\n",
       " 54.32993237129293,\n",
       " 53.41349014126512,\n",
       " 52.51249167390519,\n",
       " 51.626677396577215,\n",
       " 50.755792097037116,\n",
       " 49.89958484490773,\n",
       " 49.057808915558944,\n",
       " 48.23022171619708,\n",
       " 47.41658471398415,\n",
       " 46.61666336603416,\n",
       " 45.830227051145016,\n",
       " 45.05704900315566,\n",
       " 44.29690624581195,\n",
       " 43.54957952905317,\n",
       " 42.8148532666372,\n",
       " 42.092515475025294,\n",
       " 41.38235771347047,\n",
       " 40.684175025244215,\n",
       " 39.99776587995776,\n",
       " 39.32293211692417,\n",
       " 38.659478889531364,\n",
       " 38.00721461057962,\n",
       " 37.36595089855927,\n",
       " 36.735502524834246,\n",
       " 36.115687361708396,\n",
       " 35.50632633135067,\n",
       " 34.90724335555329,\n",
       " 34.31826530630948,\n",
       " 33.73922195718835,\n",
       " 33.16994593549141,\n",
       " 32.61027267517293,\n",
       " 32.06004037051525,\n",
       " 31.519089930537795,\n",
       " 30.987264934133435,\n",
       " 30.46441158591655,\n",
       " 29.950378672770686,\n",
       " 29.445017521087514,\n",
       " 28.94818195468365,\n",
       " 28.459728253387322,\n",
       " 27.97951511228113,\n",
       " 27.507403601596103,\n",
       " 27.04325712724459,\n",
       " 26.5869413919822,\n",
       " 26.13832435719155,\n",
       " 25.697276205278193,\n",
       " 25.26366930266898,\n",
       " 24.83737816340541,\n",
       " 24.418279413325,\n",
       " 24.00625175481687,\n",
       " 23.60117593214975,\n",
       " 23.20293469735948,\n",
       " 22.811412776691167,\n",
       " 22.426496837583635,\n",
       " 22.04807545619562,\n",
       " 21.676039085456424,\n",
       " 21.310280023640686,\n",
       " 20.95069238345585,\n",
       " 20.59717206163804,\n",
       " 20.249616709041902,\n",
       " 19.90792570122646,\n",
       " 19.57200010952189,\n",
       " 19.241742672572588,\n",
       " 18.917057768350233,\n",
       " 18.597851386629042,\n",
       " 18.28403110191452,\n",
       " 17.975506046819852,\n",
       " 17.67218688588622,\n",
       " 17.373985789831814,\n",
       " 17.080816410233194,\n",
       " 16.792593854624265,\n",
       " 16.50923466200868,\n",
       " 16.230656778781967,\n",
       " 15.956779535052126,\n",
       " 15.687523621355227,\n",
       " 15.422811065761032,\n",
       " 15.162565211357908,\n",
       " 14.906710694114754,\n",
       " 14.655173421113545,\n",
       " 14.407880549143421,\n",
       " 14.16476046365501,\n",
       " 13.925742758065699,\n",
       " 13.690758213411302,\n",
       " 13.459738778339078,\n",
       " 13.232617549434575,\n",
       " 13.009328751879929,\n",
       " 12.78980772043588,\n",
       " 12.573990880741242,\n",
       " 12.361815730928926,\n",
       " 12.153220823547978,\n",
       " 11.948145747790589,\n",
       " 11.74653111201654,\n",
       " 11.548318526573423,\n",
       " 11.353450586901975,\n",
       " 11.161870856928818,\n",
       " 10.973523852735866,\n",
       " 10.788355026506178,\n",
       " 10.6063107507386,\n",
       " 10.42733830272822,\n",
       " 10.251385849308159,\n",
       " 10.078402431848703,\n",
       " 9.908337951507342,\n",
       " 9.741143154727835,\n",
       " 9.576769618984693,\n",
       " 9.415169738765371,\n",
       " 9.25629671179058,\n",
       " 9.100104525464918,\n",
       " 8.946547943557391,\n",
       " 8.795582493104977,\n",
       " 8.647164451538284,\n",
       " 8.501250834021361,\n",
       " 8.357799381008558,\n",
       " 8.216768546008565,\n",
       " 8.078117483554815,\n",
       " 7.941806037380206,\n",
       " 7.807794728788965,\n",
       " 7.676044745225854,\n",
       " 7.546517929038814,\n",
       " 7.419176766428901,\n",
       " 7.2939843765883285,\n",
       " 7.170904501020945,\n",
       " 7.049901493043053,\n",
       " 6.930940307460763,\n",
       " 6.813986490421869,\n",
       " 6.699006169438567,\n",
       " 6.585966043579361,\n",
       " 6.474833373824489,\n",
       " 6.3655759735861,\n",
       " 6.2581621993869225,\n",
       " 6.152560941696681,\n",
       " 6.048741615922702,\n",
       " 5.946674153553383,\n",
       " 5.846328993449884,\n",
       " 5.747677073285447,\n",
       " 5.650689821128944,\n",
       " 5.555339147170605,\n",
       " 5.46159743558662,\n",
       " 5.3694375365419,\n",
       " 5.27883275832722,\n",
       " 5.189756859628926,\n",
       " 5.102184041929579,\n",
       " 5.016088942036151,\n",
       " 4.931446624734915,\n",
       " 4.848232575569507,\n",
       " 4.766422693741624,\n",
       " 4.685993285130981,\n",
       " 4.606921055433231,\n",
       " 4.529183103413589,\n",
       " 4.452756914274219,\n",
       " 4.377620353133687,\n",
       " 4.303751658616295,\n",
       " 4.231129436549856,\n",
       " 4.159732653769098,\n",
       " 4.089540632024607,\n",
       " 4.020533041993922,\n",
       " 3.952689897393254,\n",
       " 3.885991549190023,\n",
       " 3.8204186799112883,\n",
       " 3.7559522980496642,\n",
       " 3.6925737325622805,\n",
       " 3.630264627464089,\n",
       " 3.5690069365110464,\n",
       " 3.508782917973761,\n",
       " 3.449575129499233,\n",
       " 3.391366423058606,\n",
       " 3.33413993998155,\n",
       " 3.2778791060729375,\n",
       " 3.2225676268134076,\n",
       " 3.1681894826388493,\n",
       " 3.1147289243021046,\n",
       " 3.0621704683109496,\n",
       " 3.0104988924435445,\n",
       " 2.9596992313405797,\n",
       " 2.9097567721699162,\n",
       " 2.860657050366084,\n",
       " 2.8123858454410886,\n",
       " 2.764929176865237,\n",
       " 2.7182733000185935,\n",
       " 2.6724047022101893,\n",
       " 2.6273100987639024,\n",
       " 2.5829764291715978,\n",
       " 2.53939085330995,\n",
       " 2.4965407477222445,\n",
       " 2.4544137019614687,\n",
       " 2.4129975149967957,\n",
       " 2.3722801916793896,\n",
       " 2.332249939268513,\n",
       " 2.2928951640158135,\n",
       " 2.254204467808039,\n",
       " 2.2161666448652815,\n",
       " 2.1787706784957632,\n",
       " 2.142005737905248,\n",
       " 2.105861175059985,\n",
       " 2.070326521602887,\n",
       " 2.0353914858216795,\n",
       " 2.0010459496679918,\n",
       " 1.9672799658270859,\n",
       " 1.9340837548367928,\n",
       " 1.901447702255466,\n",
       " 1.869362355876735,\n",
       " 1.8378184229924852,\n",
       " 1.8068067677012658,\n",
       " 1.7763184082623502,\n",
       " 1.7463445144942777,\n",
       " 1.7168764052177012,\n",
       " 1.6879055457407934,\n",
       " 1.65942354538749,\n",
       " 1.6314221550674806,\n",
       " 1.6038932648868436,\n",
       " 1.5768289017995782,\n",
       " 1.5502212272978484,\n",
       " 1.5240625351423738,\n",
       " 1.4983452491301208,\n",
       " 1.4730619209001405,\n",
       " 1.4482052277764446,\n",
       " 1.4237679706469502,\n",
       " 1.3997430718788093,\n",
       " 1.3761235732679797,\n",
       " 1.3529026340247496,\n",
       " 1.3300735287917067,\n",
       " 1.3076296456963084,\n",
       " 1.285564484435909,\n",
       " 1.2638716543949335,\n",
       " 1.242544872794242,\n",
       " 1.2215779628713843,\n",
       " 1.2009648520914382,\n",
       " 1.1806995703886602,\n",
       " 1.1607762484370836,\n",
       " 1.1411891159506071,\n",
       " 1.1219325000121638,\n",
       " 1.1030008234302642,\n",
       " 1.0843886031238834,\n",
       " 1.0660904485344527,\n",
       " 1.0481010600645777,\n",
       " 1.0304152275431915,\n",
       " 1.013027828716536,\n",
       " 0.9959338277644351,\n",
       " 0.9791282738422346,\n",
       " 0.9626062996464746,\n",
       " 0.946363120005473,\n",
       " 0.9303940304933337,\n",
       " 0.9146944060674085,\n",
       " 0.8992596997288039,\n",
       " 0.8840854412054288,\n",
       " 0.8691672356572301,\n",
       " 0.8545007624036038,\n",
       " 0.8400817736717576,\n",
       " 0.825906093366449,\n",
       " 0.8119696158605566,\n",
       " 0.7982683048061463,\n",
       " 0.7847981919651686,\n",
       " 0.7715553760603621,\n",
       " 0.7585360216451552,\n",
       " 0.7457363579930933,\n",
       " 0.7331526780054941,\n",
       " 0.7207813371378158,\n",
       " 0.7086187523443305,\n",
       " 0.6966614010401718,\n",
       " 0.6849058200810682,\n",
       " 0.6733486047605005,\n",
       " 0.6619864078235408,\n",
       " 0.6508159384973407,\n",
       " 0.6398339615381862,\n",
       " 0.6290372962943432,\n",
       " 0.61842281578494,\n",
       " 0.6079874457943396,\n",
       " 0.5977281639816634,\n",
       " 0.5876419990055177,\n",
       " 0.5777260296635874,\n",
       " 0.5679773840462244,\n",
       " 0.5583932387049005,\n",
       " 0.5489708178344248,\n",
       " 0.5397073924691934,\n",
       " 0.5306002796922831,\n",
       " 0.5216468418590707,\n",
       " 0.5128444858327755,\n",
       " 0.5041906622337744,\n",
       " 0.4956828647010712,\n",
       " 0.4873186291663873,\n",
       " 0.47909553314057685,\n",
       " 0.4710111950119379,\n",
       " 0.4630632733565298,\n",
       " 0.4552494662600154,\n",
       " 0.44756751065084965,\n",
       " 0.44001518164503284,\n",
       " 0.43259029190158804,\n",
       " 0.42529069098905337,\n",
       " 0.4181142647627307,\n",
       " 0.4110589347524691,\n",
       " 0.4041226575603902,\n",
       " 0.3973034242693479,\n",
       " 0.39059925986102073,\n",
       " 0.3840082226438274,\n",
       " 0.37752840369059826,\n",
       " 0.3711579262857867,\n",
       " 0.36489494538180844,\n",
       " 0.358737647064748,\n",
       " 0.352684248028966,\n",
       " 0.346732995060631,\n",
       " 0.3408821645298926,\n",
       " 0.3351300618917418,\n",
       " 0.32947502119521793,\n",
       " 0.3239154046009288,\n",
       " 0.31844960190657773,\n",
       " 0.31307603008074936,\n",
       " 0.30779313280434645,\n",
       " 0.30259938001986747,\n",
       " 0.29749326748825516,\n",
       " 0.29247331635318824,\n",
       " 0.28753807271290105,\n",
       " 0.28268610719897075,\n",
       " 0.27791601456233833,\n",
       " 0.27322641326635827,\n",
       " 0.268615945086751,\n",
       " 0.26408327471804494,\n",
       " 0.259627089386977,\n",
       " 0.255246098472249,\n",
       " 0.25093903313068666,\n",
       " 0.24670464592984254,\n",
       " 0.24254171048655446,\n",
       " 0.23844902111199395,\n",
       " 0.23442539246219654,\n",
       " 0.23046965919497744,\n",
       " 0.2265806756322844,\n",
       " 0.2227573154284528,\n",
       " 0.21899847124395663,\n",
       " 0.2153030544246955,\n",
       " 0.21166999468667874,\n",
       " 0.20809823980612188,\n",
       " 0.2045867553145844,\n",
       " 0.20113452419946626,\n",
       " 0.19774054660937404,\n",
       " 0.19440383956462584,\n",
       " 0.19112343667242357,\n",
       " 0.18789838784704968,\n",
       " 0.18472775903481248,\n",
       " 0.18161063194324836,\n",
       " 0.17854610377541416,\n",
       " 0.1755332869682455,\n",
       " 0.1725713089355928,\n",
       " 0.16965931181550872,\n",
       " 0.16679645222170872,\n",
       " 0.163981900999332,\n",
       " 0.16121484298488398,\n",
       " 0.15849447676998976,\n",
       " 0.15582001446943045,\n",
       " 0.15319068149290826,\n",
       " 0.1506057163206526,\n",
       " 0.14806437028291566,\n",
       " 0.14556590734310204,\n",
       " 0.1431096038846507,\n",
       " 0.140694748501444,\n",
       " 0.1383206417917393,\n",
       " 0.13598659615558298,\n",
       " 0.13369193559573933,\n",
       " 0.13143599552184135,\n",
       " 0.12921812255795534,\n",
       " 0.12703767435324603,\n",
       " 0.12489401939611831,\n",
       " 0.12278653683112851,\n",
       " 0.12071461627930347,\n",
       " 0.11867765766129247,\n",
       " 0.11667507102358562,\n",
       " 0.11470627636759533,\n",
       " 0.1127707034818361,\n",
       " 0.1108677917765544,\n",
       " 0.10899699012156448,\n",
       " 0.10715775668645651,\n",
       " 0.10534955878387035,\n",
       " 0.1035718727149983,\n",
       " 0.10182418361807466,\n",
       " 0.10010598531917635,\n",
       " 0.09841678018564644,\n",
       " 0.0967560789819812,\n",
       " 0.09512340072807896,\n",
       " 0.09351827256001495,\n",
       " 0.09194022959303041,\n",
       " 0.09038881478689409,\n",
       " 0.08886357881360306,\n",
       " 0.08736407992714902,\n",
       " 0.08588988383559094,\n",
       " 0.08444056357536905,\n",
       " 0.08301569938752847,\n",
       " 0.08161487859623884,\n",
       " 0.08023769548918938,\n",
       " 0.07888375120014239,\n",
       " 0.07755265359339947,\n",
       " 0.07624401715022627,\n",
       " 0.07495746285717923,\n",
       " 0.0736926180964069,\n",
       " 0.07244911653758719,\n",
       " 0.07122659803198494,\n",
       " 0.07002470850804461,\n",
       " 0.06884309986887284,\n",
       " 0.06768142989144536,\n",
       " 0.06653936212744864,\n",
       " 0.06541656580583906,\n",
       " 0.06431271573709837,\n",
       " 0.0632274922189689,\n",
       " 0.062160580943931495,\n",
       " 0.06111167290811717,\n",
       " 0.06008046432188324,\n",
       " 0.05906665652175102,\n",
       " 0.058069955883935764,\n",
       " 0.057090073739321325,\n",
       " 0.05612672628985939,\n",
       " 0.055179634526331324,\n",
       " 0.05424852414755852,\n",
       " 0.053333125480997334,\n",
       " 0.05243317340459012,\n",
       " 0.05154840726997807,\n",
       " 0.050678570827050816,\n",
       " 0.049823412149692485,\n",
       " 0.04898268356284552,\n",
       " 0.04815614157073191,\n",
       " 0.04734354678639781,\n",
       " 0.04654466386230648,\n",
       " 0.045759261422246664,\n",
       " 0.04498711199427506,\n",
       " 0.04422799194484436,\n",
       " 0.04348168141405307,\n",
       " 0.04274796425194573,\n",
       " 0.042026627955901036,\n",
       " 0.041317463609113654,\n",
       " 0.04062026582009922,\n",
       " 0.039934832663129465,\n",
       " 0.03926096561985034,\n",
       " 0.03859846952173695,\n",
       " 0.03794715249354915,\n",
       " 0.037306825897787665,\n",
       " 0.0366773042800632,\n",
       " 0.03605840531537154,\n",
       " 0.03544994975528037,\n",
       " 0.03485176137605063,\n",
       " 0.03426366692754607,\n",
       " 0.03368549608308669,\n",
       " 0.03311708139011795,\n",
       " 0.03255825822172203,\n",
       " 0.03200886472890139,\n",
       " 0.031468741793742615,\n",
       " 0.03093773298329044,\n",
       " 0.030415684504279828,\n",
       " 0.029902445158608477,\n",
       " 0.029397866299454754,\n",
       " 0.028901801788323137,\n",
       " 0.02841410795270886,\n",
       " 0.02793464354441527,\n",
       " 0.02746326969870221,\n",
       " 0.026999849894077624,\n",
       " 0.026544249912713053,\n",
       " 0.026096337801609724,\n",
       " 0.025655983834371874,\n",
       " 0.025223060473577773,\n",
       " 0.02479744233397931,\n",
       " 0.024379006146024642,\n",
       " 0.02396763072025863,\n",
       " 0.023563196912215666,\n",
       " 0.023165587587856536,\n",
       " 0.022774687589725336,\n",
       " 0.022390383703516467,\n",
       " 0.022012564625341353,\n",
       " 0.02164112092945209,\n",
       " 0.021275945036590166,\n",
       " 0.02091693118281004,\n",
       " 0.020563975388819485,\n",
       " 0.02021697542990899,\n",
       " 0.01987583080632574,\n",
       " 0.0195404427141531,\n",
       " 0.019210714016728563,\n",
       " 0.018886549216470705,\n",
       " 0.018567854427245623,\n",
       " 0.018254537347187138,\n",
       " 0.017946507231915175,\n",
       " 0.017643674868309096,\n",
       " 0.01734595254864497,\n",
       " 0.017053254045179038,\n",
       " 0.01676549458519589,\n",
       " 0.01648259082645464,\n",
       " 0.016204460833035825,\n",
       " 0.015931024051633876,\n",
       " 0.01566220128819508,\n",
       " 0.015397914685008795,\n",
       " 0.015138087698156222,\n",
       " 0.014882645075320604,\n",
       " 0.014631512834017311,\n",
       " 0.014384618240138168,\n",
       " 0.014141889786910037,\n",
       " 0.013903257174189596,\n",
       " 0.013668651288072542,\n",
       " 0.013438004180906344,\n",
       " 0.01321124905158473,\n",
       " 0.012988320226227848,\n",
       " 0.012769153139145211,\n",
       " 0.012553684314134216,\n",
       " 0.012341851346099489,\n",
       " 0.012133592882981966,\n",
       " 0.011928848608002625,\n",
       " 0.011727559222143065,\n",
       " 0.011529666427036178,\n",
       " 0.011335112908035032,\n",
       " 0.011143842317649354,\n",
       " 0.010955799259187514,\n",
       " 0.010770929270728188,\n",
       " 0.010589178809364226,\n",
       " 0.010410495235670926,\n",
       " 0.010234826798487612,\n",
       " 0.01006212261987018,\n",
       " 0.00989233268044436,\n",
       " 0.009725407804843619,\n",
       " 0.009561299647505128,\n",
       " 0.009399960678649892,\n",
       " 0.009241344170523708,\n",
       " 0.009085404183886923,\n",
       " 0.008932095554645848,\n",
       " 0.008781373880853106,\n",
       " 0.008633195509785014,\n",
       " 0.00848751752532136,\n",
       " 0.008344297735529943,\n",
       " 0.008203494660409812,\n",
       " 0.008065067519923396,\n",
       " 0.00792897622215006,\n",
       " 0.007795181351693465,\n",
       " 0.007663644158248891,\n",
       " 0.00753432654539724,\n",
       " 0.007407191059566479,\n",
       " 0.007282200879179152,\n",
       " 0.007159319803996643,\n",
       " 0.007038512244617222,\n",
       " 0.006919743212195585,\n",
       " 0.006802978308285274,\n",
       " 0.00668818371488771,\n",
       " 0.006575326184646666,\n",
       " 0.006464373031245139,\n",
       " 0.006355292119902146,\n",
       " 0.006248051858095662,\n",
       " 0.006142621186397417,\n",
       " 0.006038969569481149,\n",
       " 0.005937066987280254,\n",
       " 0.005836883926289861,\n",
       " 0.005738391371016041,\n",
       " 0.00564156079558772,\n",
       " 0.005546364155481127,\n",
       " 0.00545277387939697,\n",
       " 0.005360762861276515,\n",
       " 0.00527030445246222,\n",
       " 0.005181372453960613,\n",
       " 0.005093941108873872,\n",
       " 0.005007985094919725,\n",
       " 0.004923479517116662,\n",
       " 0.004840399900558663,\n",
       " 0.0047587221833488985,\n",
       " 0.004678422709589257,\n",
       " 0.004599478222575851,\n",
       " 0.004521865858037069,\n",
       " 0.004445563137515623,\n",
       " 0.0043705479618589204,\n",
       " 0.004296798604815353,\n",
       " 0.004224293706750482,\n",
       " 0.0041530122684625675,\n",
       " 0.004082933645079742,\n",
       " 0.0040140375401059615,\n",
       " 0.003946303999526026,\n",
       " 0.0038797134060338198,\n",
       " 0.0038142464733484783,\n",
       " 0.0037498842406368076,\n",
       " 0.0036866080669960633,\n",
       " 0.0036243996260899,\n",
       " 0.003563240900819017,\n",
       " 0.0035031141780986447,\n",
       " 0.0034440020437528987,\n",
       " 0.0033858873774483397,\n",
       " 0.0033287533477362238,\n",
       " 0.0032725834071949526,\n",
       " 0.003217361287622233,\n",
       " 0.0031630709953257945,\n",
       " 0.0031096968065014983,\n",
       " 0.003057223262662645,\n",
       " 0.0030056351661733828,\n",
       " 0.0029549175758518628,\n",
       " 0.0029050558026276177,\n",
       " 0.0028560354053047757,\n",
       " 0.002807842186360016,\n",
       " 0.0027604621878494326,\n",
       " 0.002713881687354129,\n",
       " 0.0026680871940148363,\n",
       " 0.002623065444610018,\n",
       " 0.0025788033997332766,\n",
       " 0.002535288240003476,\n",
       " 0.002492507362353709,\n",
       " 0.0024504483763850876,\n",
       " 0.002409099100777907,\n",
       " 0.002368447559762338,\n",
       " 0.002328481979646401,\n",
       " 0.0022891907854091,\n",
       " 0.0022505625973565477,\n",
       " 0.00221258622780286,\n",
       " 0.0021752506778612408,\n",
       " 0.002138545134233451,\n",
       " 0.00210245896608454,\n",
       " 0.0020669817219683244,\n",
       " 0.002032103126799316,\n",
       " 0.0019978130788809497,\n",
       " 0.001964101646963358,\n",
       " 0.0019309590673838315,\n",
       " 0.001898375741233784,\n",
       " 0.0018663422315773608,\n",
       " 0.0018348492607174797,\n",
       " 0.0018038877075141721,\n",
       " 0.0017734486047358416,\n",
       " 0.0017435231364681305,\n",
       " 0.0017141026355548268,\n",
       " 0.0016851785810911514,\n",
       " 0.0016567425959591157,\n",
       " 0.0016287864443965093,\n",
       " 0.001601302029608896,\n",
       " 0.0015742813914309416,\n",
       " 0.0015477167040200007,\n",
       " 0.0015216002735848225,\n",
       " 0.001495924536163989,\n",
       " 0.0014706820554306135,\n",
       " 0.0014458655205355042,\n",
       " 0.0014214677440001716,\n",
       " 0.0013974816596250105,\n",
       " 0.001373900320447109,\n",
       " 0.0013507168967322519,\n",
       " 0.001327924673982969,\n",
       " 0.0013055170510116395,\n",
       " 0.001283487538015661,\n",
       " 0.0012618297547054111,\n",
       " 0.0012405374284541876,\n",
       " 0.0012196043924734574,\n",
       " 0.0011990245840421947,\n",
       " 0.0011787920427396154,\n",
       " 0.001158900908722155,\n",
       " 0.0011393454210264612,\n",
       " 0.0011201199158999192,\n",
       " 0.0011012188251587158,\n",
       " 0.0010826366745848453,\n",
       " 0.0010643680823265102,\n",
       " 0.001046407757349088,\n",
       " 0.0010287504978975692,\n",
       " 0.001011391189991569,\n",
       " 0.0009943248059524426,\n",
       " 0.0009775464029300404,\n",
       " 0.0009610511214859908,\n",
       " 0.0009448341841789923,\n",
       " 0.0009288908941834156,\n",
       " 0.0009132166339287673,\n",
       " 0.0008978068637638271,\n",
       " 0.0008826571206343416,\n",
       " 0.0008677630168039983,\n",
       " 0.0008531202385736426,\n",
       " 0.0008387245450295782,\n",
       " 0.0008245717668268023,\n",
       " 0.0008106578049691704,\n",
       " 0.0007969786296303216,\n",
       " 0.0007835302789821207,\n",
       " 0.0007703088580514644,\n",
       " 0.0007573105375880192,\n",
       " 0.0007445315529607553,\n",
       " 0.0007319682030521338,\n",
       " 0.0007196168492131939,\n",
       " 0.0007074739141826308,\n",
       " 0.0006955358810680658,\n",
       " 0.0006837992923202545,\n",
       " 0.0006722607487338758,\n",
       " 0.000660916908460771,\n",
       " 0.0006497644860468286,\n",
       " 0.0006388002514703782,\n",
       " 0.0006280210292227899,\n",
       " 0.000617423697373708,\n",
       " 0.0006070051866744624,\n",
       " 0.0005967624796662039,\n",
       " 0.0005866926098075819,\n",
       " 0.000576792660617876,\n",
       " 0.0005670597648256907,\n",
       " 0.0005574911035431798,\n",
       " 0.0005480839054526875,\n",
       " 0.0005388354459965616,\n",
       " 0.0005297430465880084,\n",
       " 0.00052080407385107,\n",
       " 0.0005120159388321615,\n",
       " 0.0005033760962733361,\n",
       " 0.0004948820438629723,\n",
       " 0.0004865313215124782,\n",
       " 0.0004783215106475236,\n",
       " 0.00047025023350476735,\n",
       " 0.0004623151524400904,\n",
       " 0.00045451396926160265,\n",
       " 0.00044684442455146864,\n",
       " 0.00043930429702148196,\n",
       " 0.0004318914028640236,\n",
       " 0.00042460359512214976,\n",
       " 0.00041743876306524316,\n",
       " 0.0004103948315838815,\n",
       " 0.00040346976058028245,\n",
       " 0.0003966615443818005,\n",
       " 0.0003899682111608305,\n",
       " 0.00038338782236556476,\n",
       " 0.00037691847215028226,\n",
       " 0.00037055828683259327,\n",
       " 0.00036430542434468113,\n",
       " 0.00035815807370490516,\n",
       " 0.00035211445448582533,\n",
       " 0.00034617281630902304,\n",
       " 0.0003403314383283076,\n",
       " 0.0003345886287360891,\n",
       " 0.00032894272427396896,\n",
       " 0.0003233920897467815,\n",
       " 0.00031793511755387526,\n",
       " 0.0003125702272236902,\n",
       " 0.00030729586494919106,\n",
       " 0.0003021105031456379,\n",
       " 0.000297012640004468,\n",
       " 0.00029200079905796904,\n",
       " 0.0002870735287531795,\n",
       " 0.0002822294020310903,\n",
       " 0.00027746701591485796,\n",
       " 0.0002727849910968481,\n",
       " 0.00026818197154803385,\n",
       " 0.0002636566241210319,\n",
       " 0.0002592076381639843,\n",
       " 0.0002548337251396171,\n",
       " 0.0002505336182540852,\n",
       " 0.0002463060720917996,\n",
       " 0.0002421498622500401,\n",
       " 0.0002380637849884473,\n",
       " 0.00023404665687688873,\n",
       " 0.0002300973144578944,\n",
       " 0.00022621461390286984,\n",
       " 0.0002223974306848808,\n",
       " 0.00021864465925619493,\n",
       " 0.00021495521271954095,\n",
       " 0.00021132802252003347,\n",
       " 0.0002077620381348764,\n",
       " 0.00020425622676681758,\n",
       " 0.00020080957304565353,\n",
       " 0.00019742107873572685,\n",
       " 0.00019408976244519798,\n",
       " 0.0001908146593434036,\n",
       " 0.00018759482087832643,\n",
       " 0.00018442931450553525,\n",
       " 0.00018131722341726758,\n",
       " 0.00017825764627372423,\n",
       " 0.00017524969694666421,\n",
       " 0.00017229250425951717,\n",
       " 0.00016938521173618618,\n",
       " 0.00016652697735271933,\n",
       " 0.00016371697329432025,\n",
       " 0.00016095438571405593,\n",
       " 0.00015823841449883228,\n",
       " 0.00015556827303611135,\n",
       " 0.00015294318798707328,\n",
       " 0.00015036239906131087,\n",
       " 0.0001478251587997044,\n",
       " 0.00014533073235415916,\n",
       " 0.0001428783972780123,\n",
       " 0.00014046744331378008,\n",
       " 0.00013809717218944776,\n",
       " 0.00013576689741728027,\n",
       " 0.00013347594408988974,\n",
       " 0.0001312236486927201,\n",
       " 0.00012900935890548823,\n",
       " 0.00012683243341384088,\n",
       " 0.00012469224172655927,\n",
       " 0.0001225881639911898,\n",
       " 0.00012051959081550477,\n",
       " 0.00011848592308993593,\n",
       " 0.00011648657181379776,\n",
       " 0.0001145209579245959,\n",
       " 0.00011258851213330338,\n",
       " 0.00011068867475513272,\n",
       " 0.0001088208955509789,\n",
       " 0.0001069846335648369,\n",
       " 0.00010517935697081557,\n",
       " 0.00010340454291587289,\n",
       " 0.00010165967736959903,\n",
       " 9.994425497655418e-05,\n",
       " 9.825777890822918e-05,\n",
       " 9.659976071894236e-05,\n",
       " 9.496972020537852e-05,\n",
       " 9.336718526836193e-05,\n",
       " 9.179169177342327e-05,\n",
       " 9.024278341947292e-05,\n",
       " 8.872001160403375e-05,\n",
       " 8.72229352946285e-05,\n",
       " 8.575112090131011e-05,\n",
       " 8.430414214964116e-05,\n",
       " 8.288157996022776e-05,\n",
       " 8.148302232224489e-05,\n",
       " 8.010806417992042e-05,\n",
       " 7.87563073108936e-05,\n",
       " 7.7427360214318e-05,\n",
       " 7.612083799266186e-05,\n",
       " 7.483636224498761e-05,\n",
       " 7.357356095602284e-05,\n",
       " 7.233206838753954e-05,\n",
       " 7.111152497169372e-05,\n",
       " 6.991157720985266e-05,\n",
       " 6.873187756703021e-05,\n",
       " 6.757208437319843e-05,\n",
       " 6.643186172396115e-05,\n",
       " 6.531087938218637e-05,\n",
       " 6.420881268380791e-05,\n",
       " 6.312534244299532e-05,\n",
       " 6.206015486065811e-05,\n",
       " 6.1012941431344744e-05,\n",
       " 5.998339885623554e-05,\n",
       " 5.8971228955556535e-05,\n",
       " 5.7976138578047646e-05,\n",
       " 5.6997839522518496e-05,\n",
       " 5.603604844841747e-05,\n",
       " 5.509048679805303e-05,\n",
       " 5.416088071314796e-05,\n",
       " 5.324696095672152e-05,\n",
       " 5.234846283483748e-05,\n",
       " 5.146512612053044e-05,\n",
       " 5.0596694977869945e-05,\n",
       " 4.9742917886816195e-05,\n",
       " 4.8903547573862964e-05,\n",
       " 4.8078340935600846e-05,\n",
       " 4.726705897221602e-05,\n",
       " 4.6469466716180926e-05,\n",
       " 4.5685333165441863e-05,\n",
       " 4.49144312150772e-05,\n",
       " 4.415653759325657e-05,\n",
       " 4.341143279495563e-05,\n",
       " 4.267890101998414e-05,\n",
       " 4.195873010823092e-05,\n",
       " 4.125071148096795e-05,\n",
       " 4.055464007888963e-05,\n",
       " 3.9870314301652293e-05,\n",
       " 3.919753595189597e-05,\n",
       " 3.8536110176610136e-05,\n",
       " 3.788584541039095e-05,\n",
       " 3.724655332054016e-05,\n",
       " 3.6618048752529216e-05,\n",
       " 3.600014967554506e-05,\n",
       " 3.539267713093393e-05,\n",
       " 3.47954551792357e-05,\n",
       " 3.4208310851006274e-05,\n",
       " 3.3631074094482195e-05,\n",
       " 3.306357772701697e-05,\n",
       " 3.2505657388550125e-05,\n",
       " 3.195715149098546e-05,\n",
       " 3.14179011733935e-05,\n",
       " 3.0887750256270376e-05,\n",
       " 3.0366545193933737e-05,\n",
       " 2.9854135033325297e-05,\n",
       " 2.9350371367638154e-05,\n",
       " 2.8855108293604963e-05,\n",
       " 2.8368202371756732e-05,\n",
       " 2.788951258196663e-05,\n",
       " 2.7418900283693685e-05,\n",
       " 2.6956229175832988e-05,\n",
       " 2.6501365258025102e-05,\n",
       " 2.6054176789706157e-05,\n",
       " 2.56145342543825e-05,\n",
       " 2.5182310320888635e-05,\n",
       " 2.4757379806091485e-05,\n",
       " 2.4339619639834037e-05,\n",
       " 2.392890882860009e-05,\n",
       " 2.352512842032211e-05,\n",
       " 2.3128161470137465e-05,\n",
       " 2.2737893006359095e-05,\n",
       " 2.235420999817796e-05,\n",
       " 2.1977001321044832e-05,\n",
       " 2.1606157726199915e-05,\n",
       " 2.1241571808399728e-05,\n",
       " 2.0883137974469086e-05,\n",
       " 2.0530752412481906e-05,\n",
       " 2.0184313063627436e-05,\n",
       " 1.9843719590373755e-05,\n",
       " 1.9508873348357758e-05,\n",
       " 1.9179677357532372e-05,\n",
       " 1.8856036274942936e-05,\n",
       " 1.8537856366349573e-05,\n",
       " 1.822504547848171e-05,\n",
       " 1.791751301406621e-05,\n",
       " 1.761516990378912e-05,\n",
       " 1.7317928581565875e-05,\n",
       " 1.702570295917778e-05,\n",
       " 1.6738408400810902e-05,\n",
       " 1.6455961699079706e-05,\n",
       " 1.617828104986891e-05,\n",
       " 1.5905286030364837e-05,\n",
       " 1.5636897574683206e-05,\n",
       " 1.5373037950527388e-05,\n",
       " 1.5113630737956558e-05,\n",
       " 1.4858600805782108e-05,\n",
       " 1.460787429160976e-05,\n",
       " 1.4361378578427655e-05,\n",
       " 1.4119042275205248e-05,\n",
       " 1.3880795195199855e-05,\n",
       " 1.3646568336229037e-05,\n",
       " 1.3416293860568757e-05,\n",
       " 1.3189905074716491e-05,\n",
       " 1.2967336410986463e-05,\n",
       " 1.2748523408542633e-05]"
      ]
     },
     "execution_count": 36,
     "metadata": {},
     "output_type": "execute_result"
    }
   ],
   "source": [
    "error"
   ]
  },
  {
   "cell_type": "code",
   "execution_count": null,
   "id": "6b669165",
   "metadata": {},
   "outputs": [],
   "source": []
  }
 ],
 "metadata": {
  "kernelspec": {
   "display_name": "Python 3 (ipykernel)",
   "language": "python",
   "name": "python3"
  },
  "language_info": {
   "codemirror_mode": {
    "name": "ipython",
    "version": 3
   },
   "file_extension": ".py",
   "mimetype": "text/x-python",
   "name": "python",
   "nbconvert_exporter": "python",
   "pygments_lexer": "ipython3",
   "version": "3.9.7"
  }
 },
 "nbformat": 4,
 "nbformat_minor": 5
}
