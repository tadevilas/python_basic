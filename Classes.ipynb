{
 "cells": [
  {
   "cell_type": "code",
   "execution_count": 1,
   "id": "33150b29",
   "metadata": {},
   "outputs": [],
   "source": [
    "import logging"
   ]
  },
  {
   "cell_type": "code",
   "execution_count": 8,
   "id": "8a92c775",
   "metadata": {},
   "outputs": [],
   "source": [
    "logging.basicConfig(filename = 'text.log', level = logging.INFO, force = True )"
   ]
  },
  {
   "cell_type": "code",
   "execution_count": 9,
   "id": "1030c2d4",
   "metadata": {},
   "outputs": [],
   "source": [
    "# default it will print from warning\n",
    "logging.info('Printing the info')\n",
    "logging.warning('Printing the warning')\n",
    "logging.error('Printing the Error')\n",
    "logging.critical('Printing the Critical')"
   ]
  },
  {
   "cell_type": "code",
   "execution_count": 4,
   "id": "c9e7f063",
   "metadata": {},
   "outputs": [],
   "source": [
    "import os"
   ]
  },
  {
   "cell_type": "code",
   "execution_count": 5,
   "id": "5a83971b",
   "metadata": {},
   "outputs": [
    {
     "data": {
      "text/plain": [
       "<function nt.getcwd()>"
      ]
     },
     "execution_count": 5,
     "metadata": {},
     "output_type": "execute_result"
    }
   ],
   "source": [
    "os.getcwd"
   ]
  },
  {
   "cell_type": "code",
   "execution_count": 6,
   "id": "c86f91cf",
   "metadata": {},
   "outputs": [
    {
     "name": "stdout",
     "output_type": "stream",
     "text": [
      " Volume in drive C has no label.\n",
      " Volume Serial Number is B6B9-3AA9\n",
      "\n",
      " Directory of C:\\Users\\e105301\\Documents\\Vilas Machine learning\n",
      "\n",
      "02/21/2023  08:55 PM    <DIR>          .\n",
      "02/21/2023  08:55 PM    <DIR>          ..\n",
      "02/15/2023  04:36 PM    <DIR>          .ipynb_checkpoints\n",
      "11/23/2022  11:06 PM           346,293 Day_1_Basic.ipynb\n",
      "02/15/2023  04:37 PM            35,073 Exception_Handling.ipynb\n",
      "01/17/2023  09:47 PM         4,084,850 HackerRank.ipynb\n",
      "01/27/2023  09:32 AM           212,308 Python_Basic.ipynb\n",
      "02/08/2023  11:35 AM    <DIR>          SpiderCode\n",
      "02/21/2023  08:55 PM                 0 text.log\n",
      "12/31/2022  01:26 PM    <DIR>          TimeSeriesAnalysis\n",
      "01/30/2023  09:46 AM             5,674 Untitled.ipynb\n",
      "               6 File(s)      4,684,198 bytes\n",
      "               5 Dir(s)  210,144,497,664 bytes free\n"
     ]
    }
   ],
   "source": [
    "ls\n"
   ]
  },
  {
   "cell_type": "code",
   "execution_count": 11,
   "id": "1c769269",
   "metadata": {},
   "outputs": [],
   "source": [
    "loger = logging.getLogger('Vilas')\n",
    "logging.basicConfig(filename = 'text.txt', level = logging.INFO, force = True, filemode= 'w' )"
   ]
  },
  {
   "cell_type": "code",
   "execution_count": 12,
   "id": "d5f3565e",
   "metadata": {},
   "outputs": [],
   "source": [
    "# default it will print from warning\n",
    "loger.info('Printing the info')\n",
    "loger.warning('Printing the warning')\n",
    "loger.error('Printing the Error')\n",
    "loger.critical('Printing the Critical')"
   ]
  },
  {
   "cell_type": "code",
   "execution_count": 24,
   "id": "a52ff526",
   "metadata": {},
   "outputs": [],
   "source": [
    "myformate = '%(asctime)s - %(name)s - %(levelname)s - %(message)s'\n",
    "logging.basicConfig(filename = 'fun.txt', level = logging.INFO,format = myformate,force = True, filemode= 'w' )\n",
    "\n",
    "\n",
    "def division(x,y):\n",
    "    logging.info('Entering into the function')\n",
    "    try:\n",
    "        logging.warning('Entering into try')\n",
    "        div = x/y\n",
    "        logging.info('Sucessefully Executed')\n",
    "    except Exception as e:\n",
    "        logging.error('Error in execution')\n",
    "        logging.exception('Exception occured: ' + str(e))"
   ]
  },
  {
   "cell_type": "code",
   "execution_count": 25,
   "id": "8ff55fa6",
   "metadata": {},
   "outputs": [],
   "source": [
    "division(10,0)\n"
   ]
  },
  {
   "cell_type": "markdown",
   "id": "5ead9d65",
   "metadata": {},
   "source": [
    "# File handling"
   ]
  },
  {
   "cell_type": "code",
   "execution_count": 49,
   "id": "abc70c35",
   "metadata": {},
   "outputs": [],
   "source": [
    "file = open('fun.txt')"
   ]
  },
  {
   "cell_type": "code",
   "execution_count": 50,
   "id": "b7550a31",
   "metadata": {},
   "outputs": [
    {
     "name": "stdout",
     "output_type": "stream",
     "text": [
      "2023-02-21 21:37:07,110 - root - INFO - Entering into the function\n",
      "\n",
      "2023-02-21 21:37:07,111 - root - WARNING - Entering into try\n",
      "\n",
      "2023-02-21 21:37:07,111 - root - ERROR - Error in execution\n",
      "\n",
      "2023-02-21 21:37:07,111 - root - ERROR - Exception occured: division by zero\n",
      "\n",
      "Traceback (most recent call last):\n",
      "\n",
      "  File \"C:\\Users\\e105301\\AppData\\Local\\Temp/ipykernel_29600/1635484220.py\", line 9, in division\n",
      "\n",
      "    div = x/y\n",
      "\n",
      "ZeroDivisionError: division by zero\n",
      "\n"
     ]
    }
   ],
   "source": [
    "for i in file:\n",
    "    print(i)"
   ]
  },
  {
   "cell_type": "code",
   "execution_count": 28,
   "id": "aa6614c8",
   "metadata": {},
   "outputs": [],
   "source": [
    "file_1 = open('newtest.txt','w')"
   ]
  },
  {
   "cell_type": "code",
   "execution_count": 30,
   "id": "759ae474",
   "metadata": {},
   "outputs": [],
   "source": [
    "file_2 = open('newtest_append.txt','a')\n",
    "\n",
    "file_2.close()"
   ]
  },
  {
   "cell_type": "code",
   "execution_count": 37,
   "id": "1c7c45d3",
   "metadata": {},
   "outputs": [
    {
     "data": {
      "text/plain": [
       "['vdbvhbdvbd\\n']"
      ]
     },
     "execution_count": 37,
     "metadata": {},
     "output_type": "execute_result"
    }
   ],
   "source": [
    "file_3 = open('newtest_append.txt','r')\n",
    "file_3.readlines()"
   ]
  },
  {
   "cell_type": "code",
   "execution_count": 38,
   "id": "fe0f75ec",
   "metadata": {},
   "outputs": [
    {
     "data": {
      "text/plain": [
       "10"
      ]
     },
     "execution_count": 38,
     "metadata": {},
     "output_type": "execute_result"
    }
   ],
   "source": [
    "file_1.write('First line')"
   ]
  },
  {
   "cell_type": "code",
   "execution_count": 39,
   "id": "947f212b",
   "metadata": {},
   "outputs": [],
   "source": [
    "file_1.close()"
   ]
  },
  {
   "cell_type": "code",
   "execution_count": 43,
   "id": "b621692f",
   "metadata": {},
   "outputs": [],
   "source": [
    "file_1 = open('newtest.txt','a')"
   ]
  },
  {
   "cell_type": "code",
   "execution_count": 44,
   "id": "a99a118c",
   "metadata": {},
   "outputs": [
    {
     "data": {
      "text/plain": [
       "26"
      ]
     },
     "execution_count": 44,
     "metadata": {},
     "output_type": "execute_result"
    }
   ],
   "source": [
    "file_1.write('\\n Second line \\n third line')"
   ]
  },
  {
   "cell_type": "code",
   "execution_count": 45,
   "id": "173287cf",
   "metadata": {},
   "outputs": [],
   "source": [
    "file_1.close()"
   ]
  },
  {
   "cell_type": "code",
   "execution_count": 54,
   "id": "bc55cff5",
   "metadata": {},
   "outputs": [
    {
     "data": {
      "text/plain": [
       "''"
      ]
     },
     "execution_count": 54,
     "metadata": {},
     "output_type": "execute_result"
    }
   ],
   "source": [
    "file.readline()"
   ]
  },
  {
   "cell_type": "code",
   "execution_count": 60,
   "id": "30451d43",
   "metadata": {},
   "outputs": [
    {
     "name": "stdout",
     "output_type": "stream",
     "text": [
      "2023-02-21 21:37:07,110 - root - INFO - Entering into the function\n",
      "2023-02-21 21:37:07,111 - root - WARNING - Entering into try\n",
      "2023-02-21 21:37:07,111 - root - ERROR - Error in execution\n",
      "2023-02-21 21:37:07,111 - root - ERROR - Exception occured: division by zero\n",
      "Traceback (most recent call last):\n",
      "  File \"C:\\Users\\e105301\\AppData\\Local\\Temp/ipykernel_29600/1635484220.py\", line 9, in division\n",
      "    div = x/y\n",
      "ZeroDivisionError: division by zero\n",
      "\n"
     ]
    }
   ],
   "source": [
    "with open('fun.txt') as fp:\n",
    "    print(fp.read())"
   ]
  },
  {
   "cell_type": "code",
   "execution_count": 63,
   "id": "4055c457",
   "metadata": {},
   "outputs": [],
   "source": [
    "with open('My_new_test.txt', 'w') as fp:\n",
    "    fp.write(\"\"\"It has 67 neurons for each layer. There is a batch normalization after the first hidden layer, \n",
    "        followed by 1 neuron hidden layer. Next, the Dropout layer drops 15% of the neurons before the values are\n",
    "        passed to 3 more neuron hidden layers. Finally, the output layer has one neuron containing the probability value. \n",
    "        See Figure 4 for the illustration. Now that we have the optimal hyperparameters and layers with the estimated accuracy \n",
    "        of 0.7684, let’s fit it into the training dataset. Eventually, we get an accuracy of 0.7681 for the validation dataset. \n",
    "        The notebook for this article is made available here.\"\"\")"
   ]
  },
  {
   "cell_type": "code",
   "execution_count": 67,
   "id": "ef1ddee3",
   "metadata": {},
   "outputs": [
    {
     "name": "stdout",
     "output_type": "stream",
     "text": [
      "['It', 'has', '67', 'neurons', 'for', 'each', 'layer.', 'There', 'is', 'a', 'batch', 'normalization', 'after', 'the', 'first', 'hidden', 'layer,']\n",
      "['followed', 'by', '1', 'neuron', 'hidden', 'layer.', 'Next,', 'the', 'Dropout', 'layer', 'drops', '15%', 'of', 'the', 'neurons', 'before', 'the', 'values', 'are']\n",
      "['passed', 'to', '3', 'more', 'neuron', 'hidden', 'layers.', 'Finally,', 'the', 'output', 'layer', 'has', 'one', 'neuron', 'containing', 'the', 'probability', 'value.']\n",
      "['See', 'Figure', '4', 'for', 'the', 'illustration.', 'Now', 'that', 'we', 'have', 'the', 'optimal', 'hyperparameters', 'and', 'layers', 'with', 'the', 'estimated', 'accuracy']\n",
      "['of', '0.7684,', 'let’s', 'fit', 'it', 'into', 'the', 'training', 'dataset.', 'Eventually,', 'we', 'get', 'an', 'accuracy', 'of', '0.7681', 'for', 'the', 'validation', 'dataset.']\n",
      "['The', 'notebook', 'for', 'this', 'article', 'is', 'made', 'available', 'here.']\n"
     ]
    }
   ],
   "source": [
    "with open('My_new_test.txt') as fp:\n",
    "    data = (fp.readlines())\n",
    "    for line in data:\n",
    "        \n",
    "        print(line.split())"
   ]
  },
  {
   "cell_type": "code",
   "execution_count": 66,
   "id": "70cde549",
   "metadata": {},
   "outputs": [
    {
     "data": {
      "text/plain": [
       "['It has 67 neurons for each layer. There is a batch normalization after the first hidden layer, \\n',\n",
       " '        followed by 1 neuron hidden layer. Next, the Dropout layer drops 15% of the neurons before the values are\\n',\n",
       " '        passed to 3 more neuron hidden layers. Finally, the output layer has one neuron containing the probability value. \\n',\n",
       " '        See Figure 4 for the illustration. Now that we have the optimal hyperparameters and layers with the estimated accuracy \\n',\n",
       " '        of 0.7684, let’s fit it into the training dataset. Eventually, we get an accuracy of 0.7681 for the validation dataset. \\n',\n",
       " '        The notebook for this article is made available here.']"
      ]
     },
     "execution_count": 66,
     "metadata": {},
     "output_type": "execute_result"
    }
   ],
   "source": [
    "data"
   ]
  },
  {
   "cell_type": "markdown",
   "id": "fbd6fb75",
   "metadata": {},
   "source": [
    "# Class"
   ]
  },
  {
   "cell_type": "code",
   "execution_count": 68,
   "id": "0190188f",
   "metadata": {},
   "outputs": [],
   "source": [
    "# Python is an object oriented programming language.\n",
    "\n",
    "# Almost everything in Python is an object, with its properties and methods.\n",
    "\n",
    "# A Class is like an object constructor, or a \"blueprint\" for creating objects."
   ]
  },
  {
   "cell_type": "code",
   "execution_count": 69,
   "id": "a55829cc",
   "metadata": {},
   "outputs": [],
   "source": [
    "# creating class\n",
    "\n",
    "class Myclass():\n",
    "    x = 5"
   ]
  },
  {
   "cell_type": "code",
   "execution_count": 72,
   "id": "1af06a02",
   "metadata": {},
   "outputs": [
    {
     "name": "stdout",
     "output_type": "stream",
     "text": [
      "5\n"
     ]
    }
   ],
   "source": [
    "p1 = Myclass()\n",
    "print(p1.x)"
   ]
  },
  {
   "cell_type": "raw",
   "id": "355e3d23",
   "metadata": {},
   "source": [
    "1. how to define class and obj in python\n",
    "2. var in class\n",
    " instance var\n",
    " local var\n",
    " class var\n",
    "3. method in class\n",
    "   cunstructor: Constructors are generally used for instantiating an object. The task of constructors is to initialize(assign values) to the data members of the class.\n",
    "   when an object of class is created.In Python the __init__() method is called the constructor and is always called when an object is created.\n",
    "   All classes have a function called __init__(), which is always executed when the class is being initiated.\n",
    "   Use the __init__() function to assign values to object properties, or other operations that are necessary to do when the object is being created:  \n",
    "   \n",
    "   instance method\n",
    "   class method\n",
    "   static method\n",
    "    \n",
    "4. encapsualtion\n",
    "5. inheritance\n",
    "6. abstraction\n",
    "7. polymoriphism"
   ]
  },
  {
   "cell_type": "code",
   "execution_count": 74,
   "id": "8babb376",
   "metadata": {},
   "outputs": [],
   "source": [
    "# creating class with constructor\n",
    "\n",
    "\n",
    "class Person:\n",
    "    \n",
    "    def __init__(self, name, age):\n",
    "        self.name = name\n",
    "        self.age = age\n",
    "        \n",
    "# creating the class object\n",
    "p1 = Person('vilas', 29)"
   ]
  },
  {
   "cell_type": "code",
   "execution_count": 78,
   "id": "e90b1cd9",
   "metadata": {},
   "outputs": [
    {
     "name": "stdout",
     "output_type": "stream",
     "text": [
      "The name of p1 obj is vilas\n",
      "The age of p1 obj is 29\n"
     ]
    }
   ],
   "source": [
    "# printing the class obj output\n",
    "print(f'The name of p1 obj is {p1.name}')\n",
    "print(f'The age of p1 obj is {p1.age}')"
   ]
  },
  {
   "cell_type": "code",
   "execution_count": 79,
   "id": "1d44a855",
   "metadata": {},
   "outputs": [],
   "source": [
    "# example \n",
    "class Emp():\n",
    "    def __init__(self):\n",
    "        print('Hello Word')"
   ]
  },
  {
   "cell_type": "code",
   "execution_count": 80,
   "id": "5149cb0a",
   "metadata": {},
   "outputs": [
    {
     "name": "stdout",
     "output_type": "stream",
     "text": [
      "Hello Word\n"
     ]
    }
   ],
   "source": [
    "# it called by itself with init method\n",
    "emp = Emp()\n"
   ]
  },
  {
   "cell_type": "code",
   "execution_count": 92,
   "id": "690db649",
   "metadata": {},
   "outputs": [],
   "source": [
    "# example \n",
    "class Emp1():\n",
    "    def out():\n",
    "        print('Hello Word')"
   ]
  },
  {
   "cell_type": "code",
   "execution_count": 87,
   "id": "0b853e15",
   "metadata": {},
   "outputs": [],
   "source": [
    "# as we are not used the init here,thats why it will not pr\n",
    "emp1 = Emp1()"
   ]
  },
  {
   "cell_type": "code",
   "execution_count": 93,
   "id": "6b828cc7",
   "metadata": {},
   "outputs": [
    {
     "data": {
      "text/plain": [
       "<bound method Emp1.out of <__main__.Emp1 object at 0x000001F1E9345FA0>>"
      ]
     },
     "execution_count": 93,
     "metadata": {},
     "output_type": "execute_result"
    }
   ],
   "source": [
    "emp1.out"
   ]
  },
  {
   "cell_type": "code",
   "execution_count": 94,
   "id": "e9d75489",
   "metadata": {},
   "outputs": [],
   "source": [
    "class emp2:\n",
    "    def __init__(self):\n",
    "        print('Hello Word')\n",
    "    def test():\n",
    "        print('Python')\n",
    "        \n",
    "    def demo(self):\n",
    "        print('java')"
   ]
  },
  {
   "cell_type": "code",
   "execution_count": 95,
   "id": "d866ab4e",
   "metadata": {},
   "outputs": [
    {
     "name": "stdout",
     "output_type": "stream",
     "text": [
      "Hello Word\n"
     ]
    }
   ],
   "source": [
    "emp2 = emp2()"
   ]
  },
  {
   "cell_type": "code",
   "execution_count": 97,
   "id": "fe28c561",
   "metadata": {},
   "outputs": [
    {
     "name": "stdout",
     "output_type": "stream",
     "text": [
      "java\n"
     ]
    }
   ],
   "source": [
    "emp2.demo()"
   ]
  },
  {
   "cell_type": "code",
   "execution_count": 98,
   "id": "6885d652",
   "metadata": {},
   "outputs": [
    {
     "ename": "TypeError",
     "evalue": "test() takes 0 positional arguments but 1 was given",
     "output_type": "error",
     "traceback": [
      "\u001b[1;31m---------------------------------------------------------------------------\u001b[0m",
      "\u001b[1;31mTypeError\u001b[0m                                 Traceback (most recent call last)",
      "\u001b[1;32m~\\AppData\\Local\\Temp/ipykernel_29600/3786470605.py\u001b[0m in \u001b[0;36m<module>\u001b[1;34m\u001b[0m\n\u001b[1;32m----> 1\u001b[1;33m \u001b[0memp2\u001b[0m\u001b[1;33m.\u001b[0m\u001b[0mtest\u001b[0m\u001b[1;33m(\u001b[0m\u001b[1;33m)\u001b[0m\u001b[1;33m\u001b[0m\u001b[1;33m\u001b[0m\u001b[0m\n\u001b[0m",
      "\u001b[1;31mTypeError\u001b[0m: test() takes 0 positional arguments but 1 was given"
     ]
    }
   ],
   "source": [
    "emp2.test()"
   ]
  },
  {
   "cell_type": "raw",
   "id": "d110a8bc",
   "metadata": {},
   "source": [
    "#variable :\n",
    "#    local\n",
    "#    instance\n",
    "#    class variable\n",
    "\n",
    "# Special method\n",
    "# Dunder method\n",
    "# >>>>>>>>>  __init__()    construcort   called itself , initalization obj\n",
    "# >>>>>>>>> "
   ]
  },
  {
   "cell_type": "code",
   "execution_count": 108,
   "id": "83178410",
   "metadata": {},
   "outputs": [],
   "source": [
    "import math\n",
    "\n",
    "class Cir_air:\n",
    "    # class variable\n",
    "    def __init__(self, r):\n",
    "        # instance variable\n",
    "        self.red = r # local variable\n",
    "        print(self.red)\n",
    "        \n",
    "    def cal_area(self):\n",
    "        area = math.pi * self.red ** 2\n",
    "        return area\n",
    "    \n",
    "    def circum(self):\n",
    "        cir = 2 * math.pi * self.red\n",
    "        return cir\n",
    "    \n",
    "    def display(self):\n",
    "        print(f'Area of circle is : {area}')\n",
    "        print(f'Circumference of circle is : {cir}')\n",
    "        \n",
    "        \n",
    "        \n",
    "        "
   ]
  },
  {
   "cell_type": "code",
   "execution_count": 109,
   "id": "c7cf0a12",
   "metadata": {},
   "outputs": [
    {
     "name": "stdout",
     "output_type": "stream",
     "text": [
      "10\n"
     ]
    }
   ],
   "source": [
    "crl = Cir_air(10)\n"
   ]
  },
  {
   "cell_type": "code",
   "execution_count": 111,
   "id": "038d6e5a",
   "metadata": {},
   "outputs": [
    {
     "data": {
      "text/plain": [
       "62.83185307179586"
      ]
     },
     "execution_count": 111,
     "metadata": {},
     "output_type": "execute_result"
    }
   ],
   "source": [
    "crl.cal_area()"
   ]
  },
  {
   "cell_type": "code",
   "execution_count": 112,
   "id": "4c65e5e6",
   "metadata": {},
   "outputs": [
    {
     "data": {
      "text/plain": [
       "62.83185307179586"
      ]
     },
     "execution_count": 112,
     "metadata": {},
     "output_type": "execute_result"
    }
   ],
   "source": [
    "crl.circum()"
   ]
  },
  {
   "cell_type": "code",
   "execution_count": 114,
   "id": "1d9dc7bf",
   "metadata": {},
   "outputs": [
    {
     "ename": "NameError",
     "evalue": "name 'area' is not defined",
     "output_type": "error",
     "traceback": [
      "\u001b[1;31m---------------------------------------------------------------------------\u001b[0m",
      "\u001b[1;31mNameError\u001b[0m                                 Traceback (most recent call last)",
      "\u001b[1;32m~\\AppData\\Local\\Temp/ipykernel_29600/1642314496.py\u001b[0m in \u001b[0;36m<module>\u001b[1;34m\u001b[0m\n\u001b[1;32m----> 1\u001b[1;33m \u001b[0mcrl\u001b[0m\u001b[1;33m.\u001b[0m\u001b[0mdisplay\u001b[0m\u001b[1;33m(\u001b[0m\u001b[1;33m)\u001b[0m\u001b[1;33m\u001b[0m\u001b[1;33m\u001b[0m\u001b[0m\n\u001b[0m",
      "\u001b[1;32m~\\AppData\\Local\\Temp/ipykernel_29600/3044116549.py\u001b[0m in \u001b[0;36mdisplay\u001b[1;34m(self)\u001b[0m\n\u001b[0;32m     17\u001b[0m \u001b[1;33m\u001b[0m\u001b[0m\n\u001b[0;32m     18\u001b[0m     \u001b[1;32mdef\u001b[0m \u001b[0mdisplay\u001b[0m\u001b[1;33m(\u001b[0m\u001b[0mself\u001b[0m\u001b[1;33m)\u001b[0m\u001b[1;33m:\u001b[0m\u001b[1;33m\u001b[0m\u001b[1;33m\u001b[0m\u001b[0m\n\u001b[1;32m---> 19\u001b[1;33m         \u001b[0mprint\u001b[0m\u001b[1;33m(\u001b[0m\u001b[1;34mf'Area of circle is : {area}'\u001b[0m\u001b[1;33m)\u001b[0m\u001b[1;33m\u001b[0m\u001b[1;33m\u001b[0m\u001b[0m\n\u001b[0m\u001b[0;32m     20\u001b[0m         \u001b[0mprint\u001b[0m\u001b[1;33m(\u001b[0m\u001b[1;34mf'Circumference of circle is : {self.cir}'\u001b[0m\u001b[1;33m)\u001b[0m\u001b[1;33m\u001b[0m\u001b[1;33m\u001b[0m\u001b[0m\n\u001b[0;32m     21\u001b[0m \u001b[1;33m\u001b[0m\u001b[0m\n",
      "\u001b[1;31mNameError\u001b[0m: name 'area' is not defined"
     ]
    }
   ],
   "source": [
    "crl.display()"
   ]
  },
  {
   "cell_type": "code",
   "execution_count": 121,
   "id": "8e95d29c",
   "metadata": {},
   "outputs": [],
   "source": [
    "class Cir_air:\n",
    "    # class variable\n",
    "    def __init__(self, r):\n",
    "        # instance variable\n",
    "        self.red = r # local variable\n",
    "        print(self.red)\n",
    "        \n",
    "    def cal_area(self):\n",
    "        self.area = math.pi * self.red ** 2\n",
    "        return self.area\n",
    "    \n",
    "    def circum(self):\n",
    "        self.cir = 2 * math.pi * self.red\n",
    "        return self.cir\n",
    "    \n",
    "    def display(self):\n",
    "        print(f'Area of circle is : {self.area}')\n",
    "        print(f'Circumference of circle is : {self.cir}')"
   ]
  },
  {
   "cell_type": "code",
   "execution_count": 122,
   "id": "44d55b00",
   "metadata": {},
   "outputs": [
    {
     "name": "stdout",
     "output_type": "stream",
     "text": [
      "10\n"
     ]
    }
   ],
   "source": [
    "cir= Cir_air(10)"
   ]
  },
  {
   "cell_type": "code",
   "execution_count": 123,
   "id": "b2a0e21f",
   "metadata": {},
   "outputs": [
    {
     "data": {
      "text/plain": [
       "314.1592653589793"
      ]
     },
     "execution_count": 123,
     "metadata": {},
     "output_type": "execute_result"
    }
   ],
   "source": [
    "cir.cal_area()"
   ]
  },
  {
   "cell_type": "code",
   "execution_count": 124,
   "id": "6f38863d",
   "metadata": {},
   "outputs": [
    {
     "data": {
      "text/plain": [
       "62.83185307179586"
      ]
     },
     "execution_count": 124,
     "metadata": {},
     "output_type": "execute_result"
    }
   ],
   "source": [
    "cir.circum()"
   ]
  },
  {
   "cell_type": "code",
   "execution_count": 125,
   "id": "b39d22f5",
   "metadata": {},
   "outputs": [
    {
     "name": "stdout",
     "output_type": "stream",
     "text": [
      "Area of circle is : 314.1592653589793\n",
      "Circumference of circle is : 62.83185307179586\n"
     ]
    }
   ],
   "source": [
    "cir.display()"
   ]
  },
  {
   "cell_type": "code",
   "execution_count": 126,
   "id": "819bf5d0",
   "metadata": {},
   "outputs": [],
   "source": [
    "# class with class variable\n",
    "\n",
    "class Cir:\n",
    "    # class variable\n",
    "    pi = math.pi\n",
    "    \n",
    "    def __init__(self, r):\n",
    "        self.red = r  #local var\n",
    "        \n",
    "    def area(self):\n",
    "        return pi * self.red**2"
   ]
  },
  {
   "cell_type": "code",
   "execution_count": 127,
   "id": "d04854e6",
   "metadata": {},
   "outputs": [],
   "source": [
    "c1 = Cir(10)"
   ]
  },
  {
   "cell_type": "code",
   "execution_count": 129,
   "id": "a25ea880",
   "metadata": {},
   "outputs": [
    {
     "ename": "NameError",
     "evalue": "name 'pi' is not defined",
     "output_type": "error",
     "traceback": [
      "\u001b[1;31m---------------------------------------------------------------------------\u001b[0m",
      "\u001b[1;31mNameError\u001b[0m                                 Traceback (most recent call last)",
      "\u001b[1;32m~\\AppData\\Local\\Temp/ipykernel_29600/3807591725.py\u001b[0m in \u001b[0;36m<module>\u001b[1;34m\u001b[0m\n\u001b[1;32m----> 1\u001b[1;33m \u001b[0mc1\u001b[0m\u001b[1;33m.\u001b[0m\u001b[0marea\u001b[0m\u001b[1;33m(\u001b[0m\u001b[1;33m)\u001b[0m\u001b[1;33m\u001b[0m\u001b[1;33m\u001b[0m\u001b[0m\n\u001b[0m",
      "\u001b[1;32m~\\AppData\\Local\\Temp/ipykernel_29600/4198716268.py\u001b[0m in \u001b[0;36marea\u001b[1;34m(self)\u001b[0m\n\u001b[0;32m      9\u001b[0m \u001b[1;33m\u001b[0m\u001b[0m\n\u001b[0;32m     10\u001b[0m     \u001b[1;32mdef\u001b[0m \u001b[0marea\u001b[0m\u001b[1;33m(\u001b[0m\u001b[0mself\u001b[0m\u001b[1;33m)\u001b[0m\u001b[1;33m:\u001b[0m\u001b[1;33m\u001b[0m\u001b[1;33m\u001b[0m\u001b[0m\n\u001b[1;32m---> 11\u001b[1;33m         \u001b[1;32mreturn\u001b[0m \u001b[0mpi\u001b[0m \u001b[1;33m*\u001b[0m \u001b[0mself\u001b[0m\u001b[1;33m.\u001b[0m\u001b[0mred\u001b[0m\u001b[1;33m**\u001b[0m\u001b[1;36m2\u001b[0m\u001b[1;33m\u001b[0m\u001b[1;33m\u001b[0m\u001b[0m\n\u001b[0m",
      "\u001b[1;31mNameError\u001b[0m: name 'pi' is not defined"
     ]
    }
   ],
   "source": [
    "c1.area()"
   ]
  },
  {
   "cell_type": "code",
   "execution_count": 130,
   "id": "af1904e4",
   "metadata": {},
   "outputs": [],
   "source": [
    "# how to use the class variable\n",
    "\n",
    "class Cir:\n",
    "    # class variable\n",
    "    pi = math.pi\n",
    "    \n",
    "    def __init__(self, r):\n",
    "        self.red = r  #local var\n",
    "        \n",
    "    def area(self):\n",
    "        return Cir.pi * self.red**2 # use of class variable"
   ]
  },
  {
   "cell_type": "code",
   "execution_count": 131,
   "id": "c456ff82",
   "metadata": {},
   "outputs": [],
   "source": [
    "c2= Cir(10)"
   ]
  },
  {
   "cell_type": "code",
   "execution_count": 133,
   "id": "a69aabc8",
   "metadata": {},
   "outputs": [
    {
     "data": {
      "text/plain": [
       "314.1592653589793"
      ]
     },
     "execution_count": 133,
     "metadata": {},
     "output_type": "execute_result"
    }
   ],
   "source": [
    "c2.area()"
   ]
  },
  {
   "cell_type": "code",
   "execution_count": 134,
   "id": "3278edc6",
   "metadata": {},
   "outputs": [
    {
     "name": "stdout",
     "output_type": "stream",
     "text": [
      "Enter the raised amount: 5000\n"
     ]
    }
   ],
   "source": [
    "#Example\n",
    "\n",
    "class Emp:\n",
    "    raise_amount = int(input('Enter the raised amount: '))\n",
    "    \n",
    "    def __init__(self, name , age, sal):\n",
    "        self.name = name\n",
    "        self.age = age\n",
    "        self.sal = sal\n",
    "        \n",
    "        \n",
    "    def increase_sal(self):\n",
    "        self.increase_sal = self.sal  + Emp.raise_amount\n",
    "        \n",
    "    def display(self):\n",
    "        \n",
    "        print(self.name)\n",
    "        print(self.age)\n",
    "        print(self.increase_sal)"
   ]
  },
  {
   "cell_type": "code",
   "execution_count": 135,
   "id": "2937e247",
   "metadata": {},
   "outputs": [],
   "source": [
    "E1 = Emp('vilas', 28, 5000)"
   ]
  },
  {
   "cell_type": "code",
   "execution_count": 136,
   "id": "70608360",
   "metadata": {},
   "outputs": [
    {
     "data": {
      "text/plain": [
       "'vilas'"
      ]
     },
     "execution_count": 136,
     "metadata": {},
     "output_type": "execute_result"
    }
   ],
   "source": [
    "E1.name"
   ]
  },
  {
   "cell_type": "code",
   "execution_count": 137,
   "id": "64873ad7",
   "metadata": {},
   "outputs": [
    {
     "data": {
      "text/plain": [
       "28"
      ]
     },
     "execution_count": 137,
     "metadata": {},
     "output_type": "execute_result"
    }
   ],
   "source": [
    "E1.age"
   ]
  },
  {
   "cell_type": "code",
   "execution_count": 138,
   "id": "4711c41d",
   "metadata": {},
   "outputs": [],
   "source": [
    "E1.increase_sal()"
   ]
  },
  {
   "cell_type": "code",
   "execution_count": 139,
   "id": "a390539a",
   "metadata": {},
   "outputs": [
    {
     "name": "stdout",
     "output_type": "stream",
     "text": [
      "vilas\n",
      "28\n",
      "10000\n"
     ]
    }
   ],
   "source": [
    "E1.display()"
   ]
  },
  {
   "cell_type": "code",
   "execution_count": 167,
   "id": "f01fab3c",
   "metadata": {},
   "outputs": [],
   "source": [
    "# using decorator\n",
    "\n",
    "class Employee:\n",
    "    raise_amount = 0\n",
    "    \n",
    "    #decorator\n",
    "    @classmethod\n",
    "    def set_raise(cls):\n",
    "        cls.raise_amount = float(input('Enter the raised amount: '))\n",
    "    \n",
    "    def __init__(self,name , age, sal):\n",
    "        self.name = name\n",
    "        self.age = age\n",
    "        self.sal = sal\n",
    "        \n",
    "        \n",
    "    def increase_sal(self):\n",
    "        self.increase_sal = self.sal  + Employee.raise_amount\n",
    "        \n",
    "    def display(self):\n",
    "        \n",
    "        print(self.name)\n",
    "        print(self.age)\n",
    "        print(self.increase_sal)        "
   ]
  },
  {
   "cell_type": "code",
   "execution_count": 168,
   "id": "2b52b349",
   "metadata": {},
   "outputs": [],
   "source": [
    "employee1 = Employee('vilas', 28, 5000)"
   ]
  },
  {
   "cell_type": "code",
   "execution_count": 169,
   "id": "eca83f1e",
   "metadata": {},
   "outputs": [
    {
     "name": "stdout",
     "output_type": "stream",
     "text": [
      "Enter the raised amount: 505\n"
     ]
    }
   ],
   "source": [
    "employee1.set_raise()"
   ]
  },
  {
   "cell_type": "code",
   "execution_count": 170,
   "id": "56ee0f48",
   "metadata": {},
   "outputs": [
    {
     "name": "stdout",
     "output_type": "stream",
     "text": [
      "vilas\n",
      "28\n",
      "<bound method Employee.increase_sal of <__main__.Employee object at 0x000001F1E81CD100>>\n"
     ]
    }
   ],
   "source": [
    "employee1.display()"
   ]
  },
  {
   "cell_type": "code",
   "execution_count": 171,
   "id": "d5ff8185",
   "metadata": {},
   "outputs": [],
   "source": [
    "employee1.increase_sal()"
   ]
  },
  {
   "cell_type": "code",
   "execution_count": 172,
   "id": "f5956840",
   "metadata": {},
   "outputs": [
    {
     "name": "stdout",
     "output_type": "stream",
     "text": [
      "vilas\n",
      "28\n",
      "5505.0\n"
     ]
    }
   ],
   "source": [
    "employee1.display()"
   ]
  },
  {
   "cell_type": "code",
   "execution_count": 153,
   "id": "65099bc8",
   "metadata": {},
   "outputs": [
    {
     "data": {
      "text/plain": [
       "0"
      ]
     },
     "execution_count": 153,
     "metadata": {},
     "output_type": "execute_result"
    }
   ],
   "source": [
    "Employee.raise_amount"
   ]
  },
  {
   "cell_type": "code",
   "execution_count": 154,
   "id": "d08ebcc6",
   "metadata": {},
   "outputs": [
    {
     "data": {
      "text/plain": [
       "600.0"
      ]
     },
     "execution_count": 154,
     "metadata": {},
     "output_type": "execute_result"
    }
   ],
   "source": [
    "employee.raise_amount\n"
   ]
  },
  {
   "cell_type": "markdown",
   "id": "d39bc739",
   "metadata": {},
   "source": [
    "# static method\n"
   ]
  },
  {
   "cell_type": "code",
   "execution_count": 174,
   "id": "8fcded9d",
   "metadata": {},
   "outputs": [],
   "source": [
    "# we can call with cls name directly\n",
    "# utility method, info not saves as instant / class mwthod"
   ]
  },
  {
   "cell_type": "code",
   "execution_count": 175,
   "id": "7a762985",
   "metadata": {},
   "outputs": [],
   "source": [
    "class Math:\n",
    "    @staticmethod\n",
    "    def add_num(x,y):\n",
    "        return x+y\n",
    "    \n",
    "    @staticmethod\n",
    "    def mul_mun(x,y):\n",
    "        return x * y"
   ]
  },
  {
   "cell_type": "code",
   "execution_count": 176,
   "id": "548e740d",
   "metadata": {},
   "outputs": [
    {
     "data": {
      "text/plain": [
       "10"
      ]
     },
     "execution_count": 176,
     "metadata": {},
     "output_type": "execute_result"
    }
   ],
   "source": [
    "Math.add_num(5,5)"
   ]
  },
  {
   "cell_type": "code",
   "execution_count": 177,
   "id": "f0000d84",
   "metadata": {},
   "outputs": [],
   "source": [
    "class Demo():\n",
    "    def dis():\n",
    "        print('xx')"
   ]
  },
  {
   "cell_type": "code",
   "execution_count": 178,
   "id": "f38ea8bc",
   "metadata": {},
   "outputs": [
    {
     "name": "stdout",
     "output_type": "stream",
     "text": [
      "xx\n"
     ]
    }
   ],
   "source": [
    "# act as static method \n",
    "# no obj ref needed\n",
    "Demo.dis()"
   ]
  },
  {
   "cell_type": "code",
   "execution_count": 179,
   "id": "aeb83b1a",
   "metadata": {},
   "outputs": [],
   "source": [
    "# same as static method without constructor\n",
    "class Demo():\n",
    "    def dis(self):\n",
    "        print('xx')"
   ]
  },
  {
   "cell_type": "code",
   "execution_count": 181,
   "id": "86b643e1",
   "metadata": {},
   "outputs": [
    {
     "name": "stdout",
     "output_type": "stream",
     "text": [
      "xx\n"
     ]
    }
   ],
   "source": [
    "D= Demo()\n",
    "D.dis()"
   ]
  },
  {
   "cell_type": "code",
   "execution_count": 182,
   "id": "42411e16",
   "metadata": {},
   "outputs": [],
   "source": [
    "#Instant : most common type, able to access data and pro unique to each inst(obj)\n",
    "#static : utility method, cannot access anything else in the class . totally self contained code\n",
    "#class : can access limited method in the class. can modify class specific details"
   ]
  },
  {
   "cell_type": "markdown",
   "id": "c07883e5",
   "metadata": {},
   "source": [
    "# Encapsulation"
   ]
  },
  {
   "cell_type": "code",
   "execution_count": 183,
   "id": "b2b15b68",
   "metadata": {},
   "outputs": [],
   "source": [
    "# wrapping or binding data(features/ attribute / var) \n",
    "# class >>>>>>>>>>>>>> features and method\n",
    "## make var as a private var. \n",
    "## binding up data with method"
   ]
  },
  {
   "cell_type": "code",
   "execution_count": 184,
   "id": "039a98c0",
   "metadata": {},
   "outputs": [],
   "source": [
    "# Normal class\n",
    "class Emp:\n",
    "    def __init__(self, name, age, sal):\n",
    "        self.name = name\n",
    "        self.age = age\n",
    "        self.sal = sal\n",
    "        \n",
    "    def disp(self):\n",
    "        pass"
   ]
  },
  {
   "cell_type": "code",
   "execution_count": 185,
   "id": "812704d3",
   "metadata": {},
   "outputs": [],
   "source": [
    "e1 = Emp('vilas', 28, 50)"
   ]
  },
  {
   "cell_type": "code",
   "execution_count": 186,
   "id": "c46ba825",
   "metadata": {},
   "outputs": [
    {
     "data": {
      "text/plain": [
       "50"
      ]
     },
     "execution_count": 186,
     "metadata": {},
     "output_type": "execute_result"
    }
   ],
   "source": [
    "# Here we can access the class elements direclty\n",
    "e1.sal"
   ]
  },
  {
   "cell_type": "code",
   "execution_count": 187,
   "id": "5da1169e",
   "metadata": {},
   "outputs": [],
   "source": [
    "# with encap\n",
    "class Emp:\n",
    "    def __init__(self, name, age, sal):\n",
    "        self.name = name\n",
    "        self.age = age\n",
    "        self.__sal = sal\n",
    "        \n",
    "    def disp(self):\n",
    "        print(self.name, self.age, self.__sal)"
   ]
  },
  {
   "cell_type": "code",
   "execution_count": 188,
   "id": "ff6a8e82",
   "metadata": {},
   "outputs": [],
   "source": [
    "e1 = Emp('vilas', 28, 50)"
   ]
  },
  {
   "cell_type": "code",
   "execution_count": 192,
   "id": "8c9d5d8d",
   "metadata": {},
   "outputs": [
    {
     "ename": "AttributeError",
     "evalue": "'Emp' object has no attribute 'sal'",
     "output_type": "error",
     "traceback": [
      "\u001b[1;31m---------------------------------------------------------------------------\u001b[0m",
      "\u001b[1;31mAttributeError\u001b[0m                            Traceback (most recent call last)",
      "\u001b[1;32m~\\AppData\\Local\\Temp/ipykernel_29600/1181696308.py\u001b[0m in \u001b[0;36m<module>\u001b[1;34m\u001b[0m\n\u001b[0;32m      1\u001b[0m \u001b[1;31m# Here we can't access the class elements direclty\u001b[0m\u001b[1;33m\u001b[0m\u001b[1;33m\u001b[0m\u001b[0m\n\u001b[1;32m----> 2\u001b[1;33m \u001b[0me1\u001b[0m\u001b[1;33m.\u001b[0m\u001b[0msal\u001b[0m\u001b[1;33m\u001b[0m\u001b[1;33m\u001b[0m\u001b[0m\n\u001b[0m",
      "\u001b[1;31mAttributeError\u001b[0m: 'Emp' object has no attribute 'sal'"
     ]
    }
   ],
   "source": [
    "# Here we can't access the class elements direclty\n",
    "e1.sal"
   ]
  },
  {
   "cell_type": "code",
   "execution_count": 193,
   "id": "1a836af9",
   "metadata": {},
   "outputs": [
    {
     "name": "stdout",
     "output_type": "stream",
     "text": [
      "vilas 28 50\n"
     ]
    }
   ],
   "source": [
    "e1.disp()"
   ]
  },
  {
   "cell_type": "raw",
   "id": "096b55de",
   "metadata": {},
   "source": [
    "# var\n",
    "public var <var name>\n",
    "private:      __<var name>\n",
    "protacted :    _<var name>\n",
    "setattr()\n",
    "getattr()"
   ]
  },
  {
   "cell_type": "code",
   "execution_count": 194,
   "id": "11aca476",
   "metadata": {},
   "outputs": [],
   "source": [
    "# privat method\n",
    "# with encap\n",
    "class Emp:\n",
    "    def __init__(self, name, age, sal):\n",
    "        self.name = name\n",
    "        self.age = age\n",
    "        self.__sal = sal\n",
    "        \n",
    "    def _disp(self):\n",
    "        print(self.name, self.age, self.__sal)\n",
    "        \n",
    "    def show(self):\n",
    "        self._disp()"
   ]
  },
  {
   "cell_type": "code",
   "execution_count": 195,
   "id": "5ae8e82a",
   "metadata": {},
   "outputs": [],
   "source": [
    "obj3 = Emp('vilas', 28, 50)"
   ]
  },
  {
   "cell_type": "code",
   "execution_count": 197,
   "id": "95204751",
   "metadata": {},
   "outputs": [
    {
     "data": {
      "text/plain": [
       "'vilas'"
      ]
     },
     "execution_count": 197,
     "metadata": {},
     "output_type": "execute_result"
    }
   ],
   "source": [
    "obj3.name"
   ]
  },
  {
   "cell_type": "code",
   "execution_count": 198,
   "id": "3df42138",
   "metadata": {},
   "outputs": [
    {
     "ename": "AttributeError",
     "evalue": "'Emp' object has no attribute 'sal'",
     "output_type": "error",
     "traceback": [
      "\u001b[1;31m---------------------------------------------------------------------------\u001b[0m",
      "\u001b[1;31mAttributeError\u001b[0m                            Traceback (most recent call last)",
      "\u001b[1;32m~\\AppData\\Local\\Temp/ipykernel_29600/164343623.py\u001b[0m in \u001b[0;36m<module>\u001b[1;34m\u001b[0m\n\u001b[1;32m----> 1\u001b[1;33m \u001b[0mobj3\u001b[0m\u001b[1;33m.\u001b[0m\u001b[0msal\u001b[0m\u001b[1;33m\u001b[0m\u001b[1;33m\u001b[0m\u001b[0m\n\u001b[0m",
      "\u001b[1;31mAttributeError\u001b[0m: 'Emp' object has no attribute 'sal'"
     ]
    }
   ],
   "source": [
    "# private :: encapsualtion\n",
    "obj3.sal"
   ]
  },
  {
   "cell_type": "code",
   "execution_count": 201,
   "id": "83f4ef2d",
   "metadata": {},
   "outputs": [
    {
     "ename": "AttributeError",
     "evalue": "'Emp' object has no attribute 'disp'",
     "output_type": "error",
     "traceback": [
      "\u001b[1;31m---------------------------------------------------------------------------\u001b[0m",
      "\u001b[1;31mAttributeError\u001b[0m                            Traceback (most recent call last)",
      "\u001b[1;32m~\\AppData\\Local\\Temp/ipykernel_29600/2698455500.py\u001b[0m in \u001b[0;36m<module>\u001b[1;34m\u001b[0m\n\u001b[1;32m----> 1\u001b[1;33m \u001b[0mobj3\u001b[0m\u001b[1;33m.\u001b[0m\u001b[0mdisp\u001b[0m\u001b[1;33m(\u001b[0m\u001b[1;33m)\u001b[0m\u001b[1;33m\u001b[0m\u001b[1;33m\u001b[0m\u001b[0m\n\u001b[0m",
      "\u001b[1;31mAttributeError\u001b[0m: 'Emp' object has no attribute 'disp'"
     ]
    }
   ],
   "source": [
    "obj3.disp()"
   ]
  },
  {
   "cell_type": "code",
   "execution_count": 199,
   "id": "25cf7e39",
   "metadata": {},
   "outputs": [
    {
     "name": "stdout",
     "output_type": "stream",
     "text": [
      "vilas 28 50\n"
     ]
    }
   ],
   "source": [
    "# protected :: encapsulation\n",
    "obj3._disp()\n"
   ]
  },
  {
   "cell_type": "code",
   "execution_count": 200,
   "id": "e62ca6dc",
   "metadata": {},
   "outputs": [
    {
     "name": "stdout",
     "output_type": "stream",
     "text": [
      "vilas 28 50\n"
     ]
    }
   ],
   "source": [
    "obj3.show()"
   ]
  },
  {
   "cell_type": "markdown",
   "id": "6408e068",
   "metadata": {},
   "source": [
    "# inheritance"
   ]
  },
  {
   "cell_type": "raw",
   "id": "45e2b3d4",
   "metadata": {},
   "source": [
    "1 simple inh\n",
    "2 multi level inh\n",
    "3 multiple inh\n",
    "4 hirarchical inh\n",
    "5 hybrid inh\n",
    "\n",
    "obj class\n",
    "overriding>>"
   ]
  },
  {
   "cell_type": "raw",
   "id": "6aa82731",
   "metadata": {},
   "source": [
    "Inheritance allows us to define a class that inherits all the methods and properties from another class.\n",
    "\n",
    "Parent class is the class being inherited from, also called base class.\n",
    "\n",
    "Child class is the class that inherits from another class, also called derived class."
   ]
  },
  {
   "cell_type": "raw",
   "id": "2e4b9133",
   "metadata": {},
   "source": [
    "Use the super() Function\n",
    "Python also has a super() function that will make the child class inherit all the methods and properties from its parent    \n",
    "\n",
    "class Person:\n",
    "  def __init__(self, fname, lname):\n",
    "    self.firstname = fname\n",
    "    self.lastname = lname\n",
    "\n",
    "  def printname(self):\n",
    "    print(self.firstname, self.lastname)\n",
    "\n",
    "    \n",
    "Note: The child's __init__() function overrides the inheritance of the parent's __init__() function.\n",
    "\n",
    "To keep the inheritance of the parent's __init__() function, add a call to the parent's __init__() function:    \n",
    "\n",
    "class Student(Person):\n",
    "  def __init__(self, fname, lname):\n",
    "    Person.__init__(self, fname, lname)    \n",
    "\n",
    "Python also has a super() function that will make the child class inherit all the methods and properties from its parent:\n",
    "\n",
    "class Student(Person):\n",
    "  def __init__(self, fname, lname):\n",
    "    super().__init__(fname, lname)"
   ]
  },
  {
   "cell_type": "code",
   "execution_count": 203,
   "id": "d3e48501",
   "metadata": {},
   "outputs": [],
   "source": [
    "# simple inh\n",
    "class A:\n",
    "    pass\n",
    "\n",
    "class B(A):\n",
    "    pass\n"
   ]
  },
  {
   "cell_type": "code",
   "execution_count": 204,
   "id": "59c0de5b",
   "metadata": {},
   "outputs": [],
   "source": [
    "# mutli level\n",
    "class A:\n",
    "    pass\n",
    "class B(A):\n",
    "    pass\n",
    "class C(B):\n",
    "    pass\n"
   ]
  },
  {
   "cell_type": "code",
   "execution_count": 205,
   "id": "96799cee",
   "metadata": {},
   "outputs": [],
   "source": [
    "# multiple inh\n",
    "class A:\n",
    "    pass\n",
    "class B:\n",
    "    pass\n",
    "class C(A, B):\n",
    "    pass\n"
   ]
  },
  {
   "cell_type": "code",
   "execution_count": 206,
   "id": "369413b5",
   "metadata": {},
   "outputs": [],
   "source": [
    "# hybrid inh\n",
    "class A:\n",
    "    pass\n",
    "class B:\n",
    "    pass\n",
    "class C(A):\n",
    "    pass\n",
    "class D(B,C):\n",
    "    pass"
   ]
  },
  {
   "cell_type": "raw",
   "id": "0d207733",
   "metadata": {},
   "source": [
    "# introducing the reper func\n",
    "The Python repr() built-in function returns the printable representation of the specified object as a string. "
   ]
  },
  {
   "cell_type": "code",
   "execution_count": 207,
   "id": "b8871cd2",
   "metadata": {},
   "outputs": [],
   "source": [
    "class Exp:\n",
    "    def __init__(self):\n",
    "        print('Helllllo')\n",
    "    def __repr__(self):\n",
    "        return \"Printing from repr func\""
   ]
  },
  {
   "cell_type": "code",
   "execution_count": 208,
   "id": "ac583e98",
   "metadata": {},
   "outputs": [
    {
     "name": "stdout",
     "output_type": "stream",
     "text": [
      "Helllllo\n"
     ]
    }
   ],
   "source": [
    "# constructor auto call the while the class obj is initiated\n",
    "e2 = Exp()"
   ]
  },
  {
   "cell_type": "code",
   "execution_count": 209,
   "id": "9832552f",
   "metadata": {},
   "outputs": [
    {
     "name": "stdout",
     "output_type": "stream",
     "text": [
      "Printing from repr func\n"
     ]
    }
   ],
   "source": [
    "# this is a application of repr\n",
    "print(e2)"
   ]
  },
  {
   "cell_type": "code",
   "execution_count": 214,
   "id": "063be246",
   "metadata": {},
   "outputs": [
    {
     "data": {
      "text/plain": [
       "Printing from repr func"
      ]
     },
     "execution_count": 214,
     "metadata": {},
     "output_type": "execute_result"
    }
   ],
   "source": [
    "e2"
   ]
  },
  {
   "cell_type": "code",
   "execution_count": 210,
   "id": "e9077ff3",
   "metadata": {},
   "outputs": [],
   "source": [
    "class Exp:\n",
    "    def __init__(self):\n",
    "        print('Helllllo')"
   ]
  },
  {
   "cell_type": "code",
   "execution_count": 211,
   "id": "fd5cd512",
   "metadata": {},
   "outputs": [
    {
     "name": "stdout",
     "output_type": "stream",
     "text": [
      "Helllllo\n"
     ]
    }
   ],
   "source": [
    "e3 = Exp()"
   ]
  },
  {
   "cell_type": "code",
   "execution_count": 212,
   "id": "f8d33c8d",
   "metadata": {},
   "outputs": [
    {
     "name": "stdout",
     "output_type": "stream",
     "text": [
      "<__main__.Exp object at 0x000001F1E8DC1520>\n"
     ]
    }
   ],
   "source": [
    "# without repr func\n",
    "print(e3)"
   ]
  },
  {
   "cell_type": "code",
   "execution_count": 213,
   "id": "867fc316",
   "metadata": {},
   "outputs": [
    {
     "data": {
      "text/plain": [
       "<__main__.Exp at 0x1f1e8dc1520>"
      ]
     },
     "execution_count": 213,
     "metadata": {},
     "output_type": "execute_result"
    }
   ],
   "source": [
    "e3"
   ]
  },
  {
   "cell_type": "markdown",
   "id": "50083704",
   "metadata": {},
   "source": [
    "# 1 Simple Inheritance"
   ]
  },
  {
   "cell_type": "code",
   "execution_count": 215,
   "id": "61081877",
   "metadata": {},
   "outputs": [],
   "source": [
    "class Animal:\n",
    "    \n",
    "    def eat(self):\n",
    "        print('Yes it eats')\n",
    "    def sleep(self):\n",
    "        print('Yes it sleeps')\n",
    "        \n",
    "class Bird(Animal):\n",
    "    \n",
    "    def set_types(self, type):\n",
    "        \n",
    "        self.type = type\n",
    "    \n",
    "    def fly(self):\n",
    "        print('Yes it fly')\n",
    "    \n",
    "    def speak(self, sound):\n",
    "        print(f'It speak : {sound} {sound}')\n",
    "        \n",
    "    def __repr__(self):\n",
    "        return 'This is a ' + self.type"
   ]
  },
  {
   "cell_type": "code",
   "execution_count": 216,
   "id": "6dc18e30",
   "metadata": {},
   "outputs": [],
   "source": [
    "duck = Bird()"
   ]
  },
  {
   "cell_type": "code",
   "execution_count": 218,
   "id": "b695c88c",
   "metadata": {},
   "outputs": [
    {
     "name": "stdout",
     "output_type": "stream",
     "text": [
      "Yes it eats\n"
     ]
    }
   ],
   "source": [
    "duck.eat() # inherit from parent class "
   ]
  },
  {
   "cell_type": "code",
   "execution_count": 219,
   "id": "13f00e08",
   "metadata": {},
   "outputs": [
    {
     "name": "stdout",
     "output_type": "stream",
     "text": [
      "Yes it fly\n"
     ]
    }
   ],
   "source": [
    "duck.fly()"
   ]
  },
  {
   "cell_type": "code",
   "execution_count": 220,
   "id": "5127f3be",
   "metadata": {},
   "outputs": [],
   "source": [
    "duck.set_types('Duck')  # clild class"
   ]
  },
  {
   "cell_type": "code",
   "execution_count": 221,
   "id": "22739cf5",
   "metadata": {},
   "outputs": [
    {
     "data": {
      "text/plain": [
       "'Duck'"
      ]
     },
     "execution_count": 221,
     "metadata": {},
     "output_type": "execute_result"
    }
   ],
   "source": [
    "duck.type"
   ]
  },
  {
   "cell_type": "code",
   "execution_count": 222,
   "id": "bab05ba8",
   "metadata": {},
   "outputs": [
    {
     "name": "stdout",
     "output_type": "stream",
     "text": [
      "It speak : holloooo holloooo\n"
     ]
    }
   ],
   "source": [
    "duck.speak('holloooo')"
   ]
  },
  {
   "cell_type": "markdown",
   "id": "bd0b82c1",
   "metadata": {},
   "source": [
    "# 2. Multi level"
   ]
  },
  {
   "cell_type": "code",
   "execution_count": 223,
   "id": "c2d727b8",
   "metadata": {},
   "outputs": [],
   "source": [
    "class Person:\n",
    "    \n",
    "    def __init__(self, name, age):\n",
    "        self.name = name\n",
    "        self.age = age\n",
    "        \n",
    "        print('In person class')\n",
    "        \n",
    "class Emp(Person):\n",
    "    \n",
    "    def __init__(self, name, age, ids, sal):\n",
    "        self.ids = ids\n",
    "        self.sal = sal\n",
    "        \n",
    "        print('In Emp class')\n",
    "        \n",
    "class Manager(Emp):\n",
    "    \n",
    "    def __init__(self, name , age , ids, sal, bounous ):\n",
    "        self.bounous  = bounous\n",
    "        \n",
    "        print('In manager class')"
   ]
  },
  {
   "cell_type": "code",
   "execution_count": 224,
   "id": "b84fc5b0",
   "metadata": {},
   "outputs": [
    {
     "name": "stdout",
     "output_type": "stream",
     "text": [
      "In manager class\n"
     ]
    }
   ],
   "source": [
    "man= Manager('vilas', 28, '1A', 28000, 5000) "
   ]
  },
  {
   "cell_type": "code",
   "execution_count": 225,
   "id": "2b46b3d5",
   "metadata": {},
   "outputs": [
    {
     "ename": "AttributeError",
     "evalue": "'Manager' object has no attribute 'name'",
     "output_type": "error",
     "traceback": [
      "\u001b[1;31m---------------------------------------------------------------------------\u001b[0m",
      "\u001b[1;31mAttributeError\u001b[0m                            Traceback (most recent call last)",
      "\u001b[1;32m~\\AppData\\Local\\Temp/ipykernel_29600/2196224645.py\u001b[0m in \u001b[0;36m<module>\u001b[1;34m\u001b[0m\n\u001b[0;32m      1\u001b[0m \u001b[1;31m# with this techneuqe we can not access the var come from parent class\u001b[0m\u001b[1;33m\u001b[0m\u001b[1;33m\u001b[0m\u001b[0m\n\u001b[0;32m      2\u001b[0m \u001b[1;33m\u001b[0m\u001b[0m\n\u001b[1;32m----> 3\u001b[1;33m \u001b[0mman\u001b[0m\u001b[1;33m.\u001b[0m\u001b[0mname\u001b[0m\u001b[1;33m\u001b[0m\u001b[1;33m\u001b[0m\u001b[0m\n\u001b[0m",
      "\u001b[1;31mAttributeError\u001b[0m: 'Manager' object has no attribute 'name'"
     ]
    }
   ],
   "source": [
    "# with this techneuqe we can not access the var come from parent class\n",
    "\n",
    "man.name"
   ]
  },
  {
   "cell_type": "raw",
   "id": "3d6cbe34",
   "metadata": {},
   "source": [
    "# super method or with the help of class name\n",
    "Note: The child's __init__() function overrides the inheritance of the parent's __init__() function.\n",
    "\n",
    "To keep the inheritance of the parent's __init__() function, add a call to the parent's __init__() function:    \n",
    "\n",
    "class Student(Person):\n",
    "  def __init__(self, fname, lname):\n",
    "    Person.__init__(self, fname, lname)    \n",
    "\n",
    "Python also has a super() function that will make the child class inherit all the methods and properties from its parent:\n",
    "\n",
    "class Student(Person):\n",
    "  def __init__(self, fname, lname):\n",
    "    super().__init__(fname, lname)"
   ]
  },
  {
   "cell_type": "code",
   "execution_count": 226,
   "id": "d9e576af",
   "metadata": {},
   "outputs": [],
   "source": [
    "# With class parent __init__ method\n",
    "\n",
    "class Person:\n",
    "    \n",
    "    def __init__(self, name, age):\n",
    "        self.name = name\n",
    "        self.age = age\n",
    "        \n",
    "        print('In person class')\n",
    "        \n",
    "class Emp(Person):\n",
    "    \n",
    "    def __init__(self, name, age, ids, sal):\n",
    "        Person.__init__(self, name, age)\n",
    "        self.ids = ids\n",
    "        self.sal = sal\n",
    "        \n",
    "        print('In Emp class')\n",
    "        \n",
    "class Manager(Emp):\n",
    "    \n",
    "    def __init__(self, name , age , ids, sal, bounous ):\n",
    "        Emp.__init__(self, name, age, ids, sal)\n",
    "        self.bounous  = bounous\n",
    "        \n",
    "        print('In manager class')"
   ]
  },
  {
   "cell_type": "code",
   "execution_count": 227,
   "id": "6d7c5ab1",
   "metadata": {},
   "outputs": [
    {
     "name": "stdout",
     "output_type": "stream",
     "text": [
      "In person class\n",
      "In Emp class\n",
      "In manager class\n"
     ]
    }
   ],
   "source": [
    "man1 = Manager('vilas', 28, '1A', 28000, 5000)  "
   ]
  },
  {
   "cell_type": "code",
   "execution_count": 229,
   "id": "6a3af541",
   "metadata": {},
   "outputs": [
    {
     "data": {
      "text/plain": [
       "'vilas'"
      ]
     },
     "execution_count": 229,
     "metadata": {},
     "output_type": "execute_result"
    }
   ],
   "source": [
    "# now we can access the other class variables as well\n",
    "man1.name"
   ]
  },
  {
   "cell_type": "code",
   "execution_count": 234,
   "id": "484cc2b1",
   "metadata": {},
   "outputs": [],
   "source": [
    "# With Super method\n",
    "\n",
    "class Person:\n",
    "    \n",
    "    def __init__(self, name, age):\n",
    "        self.name = name\n",
    "        self.age = age\n",
    "        \n",
    "        print('In person class')\n",
    "        \n",
    "class Emp(Person):\n",
    "    \n",
    "    def __init__(self, name, age, ids, sal):\n",
    "        super().__init__(name, age)\n",
    "        self.ids = ids\n",
    "        self.sal = sal\n",
    "        \n",
    "        print('In Emp class')\n",
    "        \n",
    "class Manager(Emp):\n",
    "    \n",
    "    def __init__(self, name , age , ids, sal, bounous ):\n",
    "        super().__init__(name, age, ids, sal)\n",
    "        self.bounous  = bounous\n",
    "        \n",
    "        print('In manager class')"
   ]
  },
  {
   "cell_type": "code",
   "execution_count": 236,
   "id": "299db63b",
   "metadata": {},
   "outputs": [
    {
     "name": "stdout",
     "output_type": "stream",
     "text": [
      "In person class\n",
      "In Emp class\n",
      "In manager class\n"
     ]
    }
   ],
   "source": [
    "man3 = Manager('vilas', 28, '1A', 28000, 5000) "
   ]
  },
  {
   "cell_type": "code",
   "execution_count": 237,
   "id": "21193fe8",
   "metadata": {},
   "outputs": [
    {
     "data": {
      "text/plain": [
       "'vilas'"
      ]
     },
     "execution_count": 237,
     "metadata": {},
     "output_type": "execute_result"
    }
   ],
   "source": [
    "man3.name"
   ]
  },
  {
   "cell_type": "code",
   "execution_count": 238,
   "id": "7a20bbdf",
   "metadata": {},
   "outputs": [],
   "source": [
    "# with __repr__ method\n",
    "\n",
    "\n",
    "class Person:\n",
    "    \n",
    "    def __init__(self, name, age):\n",
    "        self.name = name\n",
    "        self.age = age\n",
    "        \n",
    "        print('In person class')\n",
    "        \n",
    "class Emp(Person):\n",
    "    \n",
    "    def __init__(self, name, age, ids, sal):\n",
    "        super().__init__(name, age)\n",
    "        self.ids = ids\n",
    "        self.sal = sal\n",
    "        \n",
    "        print('In Emp class')\n",
    "        \n",
    "class Manager(Emp):\n",
    "    \n",
    "    def __init__(self, name , age , ids, sal, bounous ):\n",
    "        super().__init__(name, age, ids, sal)\n",
    "        self.bounous  = bounous\n",
    "        \n",
    "        print('In manager class')\n",
    "        \n",
    "    def __repr__(self):\n",
    "        return \"Manager's bonus is \" + str(self.bounous)"
   ]
  },
  {
   "cell_type": "code",
   "execution_count": 239,
   "id": "ffb12cf0",
   "metadata": {},
   "outputs": [
    {
     "name": "stdout",
     "output_type": "stream",
     "text": [
      "In person class\n",
      "In Emp class\n",
      "In manager class\n"
     ]
    }
   ],
   "source": [
    "man4  = Manager('vilas', 28, '1A', 28000, 5000) "
   ]
  },
  {
   "cell_type": "code",
   "execution_count": 240,
   "id": "3e40b5f9",
   "metadata": {},
   "outputs": [
    {
     "data": {
      "text/plain": [
       "Manager's bonus is5000"
      ]
     },
     "execution_count": 240,
     "metadata": {},
     "output_type": "execute_result"
    }
   ],
   "source": [
    "man4"
   ]
  },
  {
   "cell_type": "code",
   "execution_count": 241,
   "id": "fe71bdf4",
   "metadata": {},
   "outputs": [],
   "source": [
    "#Overlaoding Not suppoert\n",
    "def test(a,b):\n",
    "    print('ab')\n",
    "def test(a,b,c):\n",
    "    print('abc')"
   ]
  },
  {
   "cell_type": "code",
   "execution_count": 242,
   "id": "3ae4ffd7",
   "metadata": {},
   "outputs": [
    {
     "name": "stdout",
     "output_type": "stream",
     "text": [
      "abc\n"
     ]
    }
   ],
   "source": [
    "test(1,2,2)"
   ]
  },
  {
   "cell_type": "code",
   "execution_count": 243,
   "id": "1ce2c50f",
   "metadata": {},
   "outputs": [
    {
     "ename": "TypeError",
     "evalue": "test() missing 1 required positional argument: 'c'",
     "output_type": "error",
     "traceback": [
      "\u001b[1;31m---------------------------------------------------------------------------\u001b[0m",
      "\u001b[1;31mTypeError\u001b[0m                                 Traceback (most recent call last)",
      "\u001b[1;32m~\\AppData\\Local\\Temp/ipykernel_29600/3407544882.py\u001b[0m in \u001b[0;36m<module>\u001b[1;34m\u001b[0m\n\u001b[1;32m----> 1\u001b[1;33m \u001b[0mtest\u001b[0m\u001b[1;33m(\u001b[0m\u001b[1;36m1\u001b[0m\u001b[1;33m,\u001b[0m\u001b[1;36m2\u001b[0m\u001b[1;33m)\u001b[0m\u001b[1;33m\u001b[0m\u001b[1;33m\u001b[0m\u001b[0m\n\u001b[0m",
      "\u001b[1;31mTypeError\u001b[0m: test() missing 1 required positional argument: 'c'"
     ]
    }
   ],
   "source": [
    "test(1,2) # it will take the lates one"
   ]
  },
  {
   "cell_type": "code",
   "execution_count": 244,
   "id": "3a211023",
   "metadata": {},
   "outputs": [],
   "source": [
    "#use *arges insted\n",
    "\n",
    "def test(*arge):\n",
    "    print('abcddd')"
   ]
  },
  {
   "cell_type": "code",
   "execution_count": 245,
   "id": "629db986",
   "metadata": {},
   "outputs": [
    {
     "name": "stdout",
     "output_type": "stream",
     "text": [
      "abcddd\n"
     ]
    }
   ],
   "source": [
    "test(1,2,2)"
   ]
  },
  {
   "cell_type": "code",
   "execution_count": 246,
   "id": "99f1299f",
   "metadata": {},
   "outputs": [
    {
     "name": "stdout",
     "output_type": "stream",
     "text": [
      "abcddd\n"
     ]
    }
   ],
   "source": [
    "test(1)"
   ]
  },
  {
   "cell_type": "markdown",
   "id": "997e8790",
   "metadata": {},
   "source": [
    "# 3 Hirarchical inheritance"
   ]
  },
  {
   "cell_type": "code",
   "execution_count": 247,
   "id": "cb372279",
   "metadata": {},
   "outputs": [],
   "source": [
    "class SchoolMember:\n",
    "    def __init__(self, name, age):\n",
    "        self.name = name\n",
    "        self.age = age\n",
    "        \n",
    "class Student(SchoolMember):\n",
    "    def __init__(self, name, age, rollnum, per):\n",
    "        super().__init__(name, age)\n",
    "        self.rollnum = rollnum\n",
    "        self.per = per\n",
    "        \n",
    "    def tell(self):\n",
    "        print(self.name, self.age, self.rollnum, self.per)\n",
    "        \n",
    "class Teacher(SchoolMember):\n",
    "    def __init__(self, name, age, sal):\n",
    "        super().__init__(name, age)\n",
    "        self.sal = sal\n",
    "        \n",
    "    \n",
    "        "
   ]
  },
  {
   "cell_type": "code",
   "execution_count": 248,
   "id": "c5884889",
   "metadata": {},
   "outputs": [],
   "source": [
    "vilas = Student('vilas', 28, 56, 98)\n"
   ]
  },
  {
   "cell_type": "code",
   "execution_count": 249,
   "id": "ba702bdf",
   "metadata": {},
   "outputs": [
    {
     "data": {
      "text/plain": [
       "98"
      ]
     },
     "execution_count": 249,
     "metadata": {},
     "output_type": "execute_result"
    }
   ],
   "source": [
    "vilas.per"
   ]
  },
  {
   "cell_type": "code",
   "execution_count": 250,
   "id": "d331e4be",
   "metadata": {},
   "outputs": [],
   "source": [
    "teacher1 = Teacher('vicky', 28, 5000)"
   ]
  },
  {
   "cell_type": "code",
   "execution_count": 252,
   "id": "adc4adce",
   "metadata": {},
   "outputs": [
    {
     "data": {
      "text/plain": [
       "'vicky'"
      ]
     },
     "execution_count": 252,
     "metadata": {},
     "output_type": "execute_result"
    }
   ],
   "source": [
    "teacher1.name"
   ]
  },
  {
   "cell_type": "markdown",
   "id": "326d3c53",
   "metadata": {},
   "source": [
    "# 4 multiple inheritance"
   ]
  },
  {
   "cell_type": "code",
   "execution_count": 253,
   "id": "57d4f648",
   "metadata": {},
   "outputs": [],
   "source": [
    "class A:\n",
    "    def __init__(self):\n",
    "        print('Class A')\n",
    "class B:\n",
    "    \n",
    "    def __init__(self):\n",
    "        print('Class B')\n",
    "        \n",
    "class C(A,B):\n",
    "    \n",
    "    def __init__(self):\n",
    "        print('Class C')"
   ]
  },
  {
   "cell_type": "code",
   "execution_count": 255,
   "id": "4a581c13",
   "metadata": {},
   "outputs": [
    {
     "name": "stdout",
     "output_type": "stream",
     "text": [
      "Class C\n"
     ]
    }
   ],
   "source": [
    "c = C()"
   ]
  },
  {
   "cell_type": "code",
   "execution_count": 256,
   "id": "ef553a97",
   "metadata": {},
   "outputs": [],
   "source": [
    "class A:\n",
    "    def __init__(self):\n",
    "        print('Class A')\n",
    "class B:\n",
    "    \n",
    "    def __init__(self):\n",
    "        print('Class B')\n",
    "        \n",
    "class C(A,B):\n",
    "    \n",
    "    def __init__(self):\n",
    "        pass"
   ]
  },
  {
   "cell_type": "code",
   "execution_count": 257,
   "id": "bfbe3ab4",
   "metadata": {},
   "outputs": [],
   "source": [
    "c = C()"
   ]
  },
  {
   "cell_type": "code",
   "execution_count": 258,
   "id": "f5a2208b",
   "metadata": {},
   "outputs": [],
   "source": [
    "class A:\n",
    "    def __init__(self):\n",
    "        print('Class A')\n",
    "class B:\n",
    "    \n",
    "    def __init__(self):\n",
    "        print('Class B')\n",
    "        \n",
    "class C(A,B):\n",
    "    pass"
   ]
  },
  {
   "cell_type": "code",
   "execution_count": 259,
   "id": "de03baf7",
   "metadata": {},
   "outputs": [
    {
     "name": "stdout",
     "output_type": "stream",
     "text": [
      "Class A\n"
     ]
    }
   ],
   "source": [
    "c = C()\n"
   ]
  },
  {
   "cell_type": "code",
   "execution_count": 260,
   "id": "68e21eb8",
   "metadata": {},
   "outputs": [],
   "source": [
    "class A:\n",
    "    def __init__(self):\n",
    "        print('Class A')\n",
    "class B:\n",
    "    \n",
    "    def __init__(self):\n",
    "        print('Class B')\n",
    "        \n",
    "class C(B,A):\n",
    "    pass"
   ]
  },
  {
   "cell_type": "code",
   "execution_count": 261,
   "id": "602c6924",
   "metadata": {},
   "outputs": [
    {
     "name": "stdout",
     "output_type": "stream",
     "text": [
      "Class B\n"
     ]
    }
   ],
   "source": [
    "c = C()"
   ]
  },
  {
   "cell_type": "code",
   "execution_count": 263,
   "id": "f02996ec",
   "metadata": {},
   "outputs": [
    {
     "name": "stdout",
     "output_type": "stream",
     "text": [
      "[<class '__main__.C'>, <class '__main__.B'>, <class '__main__.A'>, <class 'object'>]\n"
     ]
    }
   ],
   "source": [
    "# methode resolution order\n",
    "# MRO\n",
    "\n",
    "print(C.mro())"
   ]
  },
  {
   "cell_type": "code",
   "execution_count": 264,
   "id": "2e724e2b",
   "metadata": {},
   "outputs": [
    {
     "data": {
      "text/plain": [
       "['__class__',\n",
       " '__delattr__',\n",
       " '__dict__',\n",
       " '__dir__',\n",
       " '__doc__',\n",
       " '__eq__',\n",
       " '__format__',\n",
       " '__ge__',\n",
       " '__getattribute__',\n",
       " '__gt__',\n",
       " '__hash__',\n",
       " '__init__',\n",
       " '__init_subclass__',\n",
       " '__le__',\n",
       " '__lt__',\n",
       " '__module__',\n",
       " '__ne__',\n",
       " '__new__',\n",
       " '__reduce__',\n",
       " '__reduce_ex__',\n",
       " '__repr__',\n",
       " '__setattr__',\n",
       " '__sizeof__',\n",
       " '__str__',\n",
       " '__subclasshook__',\n",
       " '__weakref__']"
      ]
     },
     "execution_count": 264,
     "metadata": {},
     "output_type": "execute_result"
    }
   ],
   "source": [
    "dir(c)"
   ]
  },
  {
   "cell_type": "code",
   "execution_count": 265,
   "id": "4ac7bfcf",
   "metadata": {},
   "outputs": [],
   "source": [
    "# multiple inhe with super method\n",
    "class Person:\n",
    "    def __init__(self, name,age):\n",
    "        self.name = name\n",
    "        self.age = age\n",
    "class Student:\n",
    "    def __init__(self, name, age,rollno, per):\n",
    "        super().__init__(name, age)\n",
    "        self.rollno = rollno\n",
    "        self.per = per\n",
    "        \n",
    "class ScienceStud(Student,Person):\n",
    "\n",
    "    def __init__(self, name, age,rollno,per,stream):\n",
    "        super().__init__(name, age,rollno,per)\n",
    "        self.stream = stream\n",
    "        \n",
    "    def dis(self):\n",
    "        print(self.name, self.age, self.rollno, self.per, self.stream)\n",
    "        "
   ]
  },
  {
   "cell_type": "code",
   "execution_count": 266,
   "id": "11129bd6",
   "metadata": {},
   "outputs": [],
   "source": [
    "# multiple inhe with class name\n",
    "class Person:\n",
    "    def __init__(self, name,age):\n",
    "        self.name = name\n",
    "        self.age = age\n",
    "class Student:\n",
    "    def __init__(self,rollno, per):\n",
    "        \n",
    "        self.rollno = rollno\n",
    "        self.per = per\n",
    "        \n",
    "class ScienceStud(Student,Person):\n",
    "\n",
    "    def __init__(self,name,rollno,per, age,stream):\n",
    "        Person.__init__(self,name, age)\n",
    "        Student.__init__(self,rollno,per)\n",
    "        self.stream = stream\n",
    "        \n",
    "    def dis(self):\n",
    "        print(self.name, self.age, self.rollno, self.per, self.stream)\n",
    "        "
   ]
  },
  {
   "cell_type": "code",
   "execution_count": 267,
   "id": "a70d6a11",
   "metadata": {},
   "outputs": [],
   "source": [
    "per = Person('vilas', 25)"
   ]
  },
  {
   "cell_type": "code",
   "execution_count": 268,
   "id": "76970c78",
   "metadata": {},
   "outputs": [],
   "source": [
    "per1 = ScienceStud('vilas', 56, 100, 28, 'Mech')"
   ]
  },
  {
   "cell_type": "code",
   "execution_count": 269,
   "id": "f95e2dc8",
   "metadata": {},
   "outputs": [
    {
     "data": {
      "text/plain": [
       "'vilas'"
      ]
     },
     "execution_count": 269,
     "metadata": {},
     "output_type": "execute_result"
    }
   ],
   "source": [
    "per1.name"
   ]
  },
  {
   "cell_type": "code",
   "execution_count": 271,
   "id": "bed5ad63",
   "metadata": {},
   "outputs": [
    {
     "name": "stdout",
     "output_type": "stream",
     "text": [
      "vilas 28 56 100 Mech\n"
     ]
    }
   ],
   "source": [
    "per1.dis()"
   ]
  },
  {
   "cell_type": "code",
   "execution_count": 2,
   "id": "435bb7a9",
   "metadata": {},
   "outputs": [
    {
     "name": "stdout",
     "output_type": "stream",
     "text": [
      "[]\n"
     ]
    }
   ],
   "source": [
    "print(list())"
   ]
  },
  {
   "cell_type": "code",
   "execution_count": null,
   "id": "85c5c1b9",
   "metadata": {},
   "outputs": [],
   "source": []
  }
 ],
 "metadata": {
  "kernelspec": {
   "display_name": "Python 3 (ipykernel)",
   "language": "python",
   "name": "python3"
  },
  "language_info": {
   "codemirror_mode": {
    "name": "ipython",
    "version": 3
   },
   "file_extension": ".py",
   "mimetype": "text/x-python",
   "name": "python",
   "nbconvert_exporter": "python",
   "pygments_lexer": "ipython3",
   "version": "3.9.7"
  }
 },
 "nbformat": 4,
 "nbformat_minor": 5
}
