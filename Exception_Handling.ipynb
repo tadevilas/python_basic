{
 "cells": [
  {
   "cell_type": "markdown",
   "id": "7ae13508",
   "metadata": {},
   "source": [
    "# Exception Handling"
   ]
  },
  {
   "cell_type": "markdown",
   "id": "c0e50ecd",
   "metadata": {},
   "source": [
    "# Type of Error:\n",
    "    1. Static Error / Compile time error/ syntex error\n",
    "    2. run time error / exceptional"
   ]
  },
  {
   "cell_type": "code",
   "execution_count": 1,
   "id": "bde85b1b",
   "metadata": {},
   "outputs": [
    {
     "name": "stdout",
     "output_type": "stream",
     "text": [
      "Enter num 1:10\n",
      "Enter num 2:5\n",
      "Division is : 2.0\n"
     ]
    }
   ],
   "source": [
    "a = int(input('Enter num 1:'))\n",
    "b = int(input('Enter num 2:'))\n",
    "\n",
    "c = a/b\n",
    "\n",
    "print(f'Division is : {c}')"
   ]
  },
  {
   "cell_type": "code",
   "execution_count": 2,
   "id": "1340d4cb",
   "metadata": {},
   "outputs": [
    {
     "ename": "SyntaxError",
     "evalue": "invalid syntax (Temp/ipykernel_17436/2556146737.py, line 5)",
     "output_type": "error",
     "traceback": [
      "\u001b[1;36m  File \u001b[1;32m\"C:\\Users\\e105301\\AppData\\Local\\Temp/ipykernel_17436/2556146737.py\"\u001b[1;36m, line \u001b[1;32m5\u001b[0m\n\u001b[1;33m    c = a/\u001b[0m\n\u001b[1;37m          ^\u001b[0m\n\u001b[1;31mSyntaxError\u001b[0m\u001b[1;31m:\u001b[0m invalid syntax\n"
     ]
    }
   ],
   "source": [
    "# Error Occured while Compilation\n",
    "a = int(input('Enter num 1:'))\n",
    "b = int(input('Enter num 2:'))\n",
    "\n",
    "c = a/\n",
    "\n",
    "print(f'Division is : {c}')"
   ]
  },
  {
   "cell_type": "code",
   "execution_count": 4,
   "id": "150e791f",
   "metadata": {},
   "outputs": [
    {
     "name": "stdout",
     "output_type": "stream",
     "text": [
      "enter num 1:   10 \n",
      "enter num 2:   2\n"
     ]
    },
    {
     "ename": "NameError",
     "evalue": "name 'ab' is not defined",
     "output_type": "error",
     "traceback": [
      "\u001b[1;31m---------------------------------------------------------------------------\u001b[0m",
      "\u001b[1;31mNameError\u001b[0m                                 Traceback (most recent call last)",
      "\u001b[1;32m~\\AppData\\Local\\Temp/ipykernel_17436/1633777489.py\u001b[0m in \u001b[0;36m<module>\u001b[1;34m\u001b[0m\n\u001b[0;32m      3\u001b[0m \u001b[0mb\u001b[0m \u001b[1;33m=\u001b[0m \u001b[0mint\u001b[0m\u001b[1;33m(\u001b[0m\u001b[0minput\u001b[0m\u001b[1;33m(\u001b[0m\u001b[1;34m'enter num 2:   '\u001b[0m\u001b[1;33m)\u001b[0m\u001b[1;33m)\u001b[0m\u001b[1;33m\u001b[0m\u001b[1;33m\u001b[0m\u001b[0m\n\u001b[0;32m      4\u001b[0m \u001b[1;33m\u001b[0m\u001b[0m\n\u001b[1;32m----> 5\u001b[1;33m \u001b[0mc\u001b[0m \u001b[1;33m=\u001b[0m \u001b[0mab\u001b[0m\u001b[1;33m\u001b[0m\u001b[1;33m\u001b[0m\u001b[0m\n\u001b[0m\u001b[0;32m      6\u001b[0m \u001b[1;33m\u001b[0m\u001b[0m\n\u001b[0;32m      7\u001b[0m \u001b[0mprint\u001b[0m\u001b[1;33m(\u001b[0m\u001b[1;34mf'division is {c}'\u001b[0m\u001b[1;33m)\u001b[0m\u001b[1;33m\u001b[0m\u001b[1;33m\u001b[0m\u001b[0m\n",
      "\u001b[1;31mNameError\u001b[0m: name 'ab' is not defined"
     ]
    }
   ],
   "source": [
    "# Run time Error\n",
    "a = int(input('enter num 1:   '))\n",
    "b = int(input('enter num 2:   '))\n",
    "\n",
    "c = ab\n",
    "\n",
    "print(f'division is {c}')\n"
   ]
  },
  {
   "cell_type": "code",
   "execution_count": 5,
   "id": "b1457e1d",
   "metadata": {},
   "outputs": [
    {
     "name": "stdout",
     "output_type": "stream",
     "text": [
      "enter num 110\n",
      "enter num 20\n"
     ]
    },
    {
     "ename": "ZeroDivisionError",
     "evalue": "division by zero",
     "output_type": "error",
     "traceback": [
      "\u001b[1;31m---------------------------------------------------------------------------\u001b[0m",
      "\u001b[1;31mZeroDivisionError\u001b[0m                         Traceback (most recent call last)",
      "\u001b[1;32m~\\AppData\\Local\\Temp/ipykernel_17436/2491903370.py\u001b[0m in \u001b[0;36m<module>\u001b[1;34m\u001b[0m\n\u001b[0;32m      3\u001b[0m \u001b[0mb\u001b[0m \u001b[1;33m=\u001b[0m \u001b[0mint\u001b[0m\u001b[1;33m(\u001b[0m\u001b[0minput\u001b[0m\u001b[1;33m(\u001b[0m\u001b[1;34m'enter num 2'\u001b[0m\u001b[1;33m)\u001b[0m\u001b[1;33m)\u001b[0m\u001b[1;33m\u001b[0m\u001b[1;33m\u001b[0m\u001b[0m\n\u001b[0;32m      4\u001b[0m \u001b[1;33m\u001b[0m\u001b[0m\n\u001b[1;32m----> 5\u001b[1;33m \u001b[0mc\u001b[0m \u001b[1;33m=\u001b[0m \u001b[0ma\u001b[0m\u001b[1;33m/\u001b[0m\u001b[0mb\u001b[0m\u001b[1;33m\u001b[0m\u001b[1;33m\u001b[0m\u001b[0m\n\u001b[0m\u001b[0;32m      6\u001b[0m \u001b[1;33m\u001b[0m\u001b[0m\n\u001b[0;32m      7\u001b[0m \u001b[0mprint\u001b[0m\u001b[1;33m(\u001b[0m\u001b[1;34mf'division is {c}'\u001b[0m\u001b[1;33m)\u001b[0m\u001b[1;33m\u001b[0m\u001b[1;33m\u001b[0m\u001b[0m\n",
      "\u001b[1;31mZeroDivisionError\u001b[0m: division by zero"
     ]
    }
   ],
   "source": [
    "# b==0\n",
    "a = int(input('enter num 1:   '))\n",
    "b = int(input('enter num 2:   '))\n",
    "\n",
    "c = a/b\n",
    "\n",
    "print(f'division is {c}')"
   ]
  },
  {
   "cell_type": "code",
   "execution_count": 6,
   "id": "385b7813",
   "metadata": {},
   "outputs": [
    {
     "name": "stdout",
     "output_type": "stream",
     "text": [
      "enter num 1:   10\n",
      "enter num 2:   c\n"
     ]
    },
    {
     "ename": "ValueError",
     "evalue": "invalid literal for int() with base 10: 'c'",
     "output_type": "error",
     "traceback": [
      "\u001b[1;31m---------------------------------------------------------------------------\u001b[0m",
      "\u001b[1;31mValueError\u001b[0m                                Traceback (most recent call last)",
      "\u001b[1;32m~\\AppData\\Local\\Temp/ipykernel_17436/2601970765.py\u001b[0m in \u001b[0;36m<module>\u001b[1;34m\u001b[0m\n\u001b[0;32m      1\u001b[0m \u001b[1;31m#  b= 'a'\u001b[0m\u001b[1;33m\u001b[0m\u001b[1;33m\u001b[0m\u001b[0m\n\u001b[0;32m      2\u001b[0m \u001b[0ma\u001b[0m \u001b[1;33m=\u001b[0m \u001b[0mint\u001b[0m\u001b[1;33m(\u001b[0m\u001b[0minput\u001b[0m\u001b[1;33m(\u001b[0m\u001b[1;34m'enter num 1:   '\u001b[0m\u001b[1;33m)\u001b[0m\u001b[1;33m)\u001b[0m\u001b[1;33m\u001b[0m\u001b[1;33m\u001b[0m\u001b[0m\n\u001b[1;32m----> 3\u001b[1;33m \u001b[0mb\u001b[0m \u001b[1;33m=\u001b[0m \u001b[0mint\u001b[0m\u001b[1;33m(\u001b[0m\u001b[0minput\u001b[0m\u001b[1;33m(\u001b[0m\u001b[1;34m'enter num 2:   '\u001b[0m\u001b[1;33m)\u001b[0m\u001b[1;33m)\u001b[0m\u001b[1;33m\u001b[0m\u001b[1;33m\u001b[0m\u001b[0m\n\u001b[0m\u001b[0;32m      4\u001b[0m \u001b[1;33m\u001b[0m\u001b[0m\n\u001b[0;32m      5\u001b[0m \u001b[0mc\u001b[0m \u001b[1;33m=\u001b[0m \u001b[0ma\u001b[0m\u001b[1;33m/\u001b[0m\u001b[0mb\u001b[0m\u001b[1;33m\u001b[0m\u001b[1;33m\u001b[0m\u001b[0m\n",
      "\u001b[1;31mValueError\u001b[0m: invalid literal for int() with base 10: 'c'"
     ]
    }
   ],
   "source": [
    "#  b= 'a'\n",
    "a = int(input('enter num 1:   '))\n",
    "b = int(input('enter num 2:   '))\n",
    "\n",
    "c = a/b\n",
    "\n",
    "print(f'division is {c}')"
   ]
  },
  {
   "cell_type": "code",
   "execution_count": 7,
   "id": "5c85e79a",
   "metadata": {},
   "outputs": [
    {
     "ename": "NameError",
     "evalue": "name 'a1' is not defined",
     "output_type": "error",
     "traceback": [
      "\u001b[1;31m---------------------------------------------------------------------------\u001b[0m",
      "\u001b[1;31mNameError\u001b[0m                                 Traceback (most recent call last)",
      "\u001b[1;32m~\\AppData\\Local\\Temp/ipykernel_17436/3714371973.py\u001b[0m in \u001b[0;36m<module>\u001b[1;34m\u001b[0m\n\u001b[0;32m      1\u001b[0m \u001b[1;31m# few more error\u001b[0m\u001b[1;33m\u001b[0m\u001b[1;33m\u001b[0m\u001b[0m\n\u001b[0;32m      2\u001b[0m \u001b[0ma\u001b[0m \u001b[1;33m=\u001b[0m \u001b[1;36m10\u001b[0m\u001b[1;33m\u001b[0m\u001b[1;33m\u001b[0m\u001b[0m\n\u001b[1;32m----> 3\u001b[1;33m \u001b[0mb\u001b[0m \u001b[1;33m=\u001b[0m \u001b[0ma1\u001b[0m\u001b[1;33m\u001b[0m\u001b[1;33m\u001b[0m\u001b[0m\n\u001b[0m",
      "\u001b[1;31mNameError\u001b[0m: name 'a1' is not defined"
     ]
    }
   ],
   "source": [
    "# few more error\n",
    "a = 10\n",
    "b = a1"
   ]
  },
  {
   "cell_type": "code",
   "execution_count": 8,
   "id": "5af24757",
   "metadata": {},
   "outputs": [
    {
     "ename": "SyntaxError",
     "evalue": "invalid syntax (Temp/ipykernel_17436/1164126260.py, line 2)",
     "output_type": "error",
     "traceback": [
      "\u001b[1;36m  File \u001b[1;32m\"C:\\Users\\e105301\\AppData\\Local\\Temp/ipykernel_17436/1164126260.py\"\u001b[1;36m, line \u001b[1;32m2\u001b[0m\n\u001b[1;33m    b = 2a\u001b[0m\n\u001b[1;37m         ^\u001b[0m\n\u001b[1;31mSyntaxError\u001b[0m\u001b[1;31m:\u001b[0m invalid syntax\n"
     ]
    }
   ],
   "source": [
    "a = 10\n",
    "b = 2a"
   ]
  },
  {
   "cell_type": "code",
   "execution_count": 9,
   "id": "b1a78527",
   "metadata": {},
   "outputs": [],
   "source": [
    "a = 10\n",
    "b = 'a1'"
   ]
  },
  {
   "cell_type": "code",
   "execution_count": 10,
   "id": "26bac614",
   "metadata": {},
   "outputs": [
    {
     "ename": "TypeError",
     "evalue": "unsupported operand type(s) for /: 'int' and 'str'",
     "output_type": "error",
     "traceback": [
      "\u001b[1;31m---------------------------------------------------------------------------\u001b[0m",
      "\u001b[1;31mTypeError\u001b[0m                                 Traceback (most recent call last)",
      "\u001b[1;32m~\\AppData\\Local\\Temp/ipykernel_17436/2851675628.py\u001b[0m in \u001b[0;36m<module>\u001b[1;34m\u001b[0m\n\u001b[1;32m----> 1\u001b[1;33m \u001b[0mc\u001b[0m \u001b[1;33m=\u001b[0m \u001b[0ma\u001b[0m\u001b[1;33m/\u001b[0m\u001b[0mb\u001b[0m\u001b[1;33m\u001b[0m\u001b[1;33m\u001b[0m\u001b[0m\n\u001b[0m\u001b[0;32m      2\u001b[0m \u001b[1;33m\u001b[0m\u001b[0m\n\u001b[0;32m      3\u001b[0m \u001b[0mprint\u001b[0m\u001b[1;33m(\u001b[0m\u001b[1;34mf'division is {c}'\u001b[0m\u001b[1;33m)\u001b[0m\u001b[1;33m\u001b[0m\u001b[1;33m\u001b[0m\u001b[0m\n",
      "\u001b[1;31mTypeError\u001b[0m: unsupported operand type(s) for /: 'int' and 'str'"
     ]
    }
   ],
   "source": [
    "c = a/b\n",
    "\n",
    "print(f'division is {c}')"
   ]
  },
  {
   "cell_type": "raw",
   "id": "b61af796",
   "metadata": {},
   "source": [
    "###\n",
    "\n",
    "try:\n",
    "    pass\n",
    "except:\n",
    "    pass\n",
    "else:\n",
    "    pass\n",
    "raise:\n",
    "    pass\n",
    "finally:\n",
    "    pass\n",
    "\n",
    "###"
   ]
  },
  {
   "cell_type": "code",
   "execution_count": 11,
   "id": "bff80577",
   "metadata": {},
   "outputs": [
    {
     "name": "stdout",
     "output_type": "stream",
     "text": [
      "enter num 1:   10\n",
      "enter num 2:   0\n",
      "b should not be Zero\n"
     ]
    }
   ],
   "source": [
    "try:\n",
    "    a = int(input('enter num 1:   '))\n",
    "    b = int(input('enter num 2:   '))\n",
    "    \n",
    "    c = a/b\n",
    "    print(f'division is {c}')\n",
    "    \n",
    "    d = a + b\n",
    "    print(f'division is {d}')    \n",
    "except:\n",
    "    print('b should not be Zero')"
   ]
  },
  {
   "cell_type": "code",
   "execution_count": 13,
   "id": "3984ccf6",
   "metadata": {},
   "outputs": [
    {
     "name": "stdout",
     "output_type": "stream",
     "text": [
      "enter num 1:   10\n",
      "enter num 2:   5\n",
      "division is 2.0\n",
      "addition is 15\n"
     ]
    }
   ],
   "source": [
    "try:\n",
    "    a = int(input('enter num 1:   '))\n",
    "    b = int(input('enter num 2:   '))\n",
    "    \n",
    "    c = a/b\n",
    "    print(f'division is {c}')\n",
    "    \n",
    "    d = a + b\n",
    "    print(f'addition is {d}')    \n",
    "except ZeroDivisionError:\n",
    "    print('b should not be Zero')"
   ]
  },
  {
   "cell_type": "code",
   "execution_count": 14,
   "id": "8f983356",
   "metadata": {},
   "outputs": [
    {
     "name": "stdout",
     "output_type": "stream",
     "text": [
      "enter num 1:   10\n",
      "enter num 2:   0\n",
      "b should not be Zero\n"
     ]
    }
   ],
   "source": [
    "try:\n",
    "    a = int(input('enter num 1:   '))\n",
    "    b = int(input('enter num 2:   '))\n",
    "    \n",
    "    c = a/b\n",
    "    print(f'division is {c}')\n",
    "    \n",
    "    d = a + b\n",
    "    print(f'addition is {d}')    \n",
    "except ZeroDivisionError:\n",
    "    print('b should not be Zero')"
   ]
  },
  {
   "cell_type": "code",
   "execution_count": 15,
   "id": "d0a076e6",
   "metadata": {},
   "outputs": [
    {
     "name": "stdout",
     "output_type": "stream",
     "text": [
      "enter num 1:   10\n",
      "enter num 2:   a\n"
     ]
    },
    {
     "ename": "ValueError",
     "evalue": "invalid literal for int() with base 10: 'a'",
     "output_type": "error",
     "traceback": [
      "\u001b[1;31m---------------------------------------------------------------------------\u001b[0m",
      "\u001b[1;31mValueError\u001b[0m                                Traceback (most recent call last)",
      "\u001b[1;32m~\\AppData\\Local\\Temp/ipykernel_17436/3080211311.py\u001b[0m in \u001b[0;36m<module>\u001b[1;34m\u001b[0m\n\u001b[0;32m      1\u001b[0m \u001b[1;32mtry\u001b[0m\u001b[1;33m:\u001b[0m\u001b[1;33m\u001b[0m\u001b[1;33m\u001b[0m\u001b[0m\n\u001b[0;32m      2\u001b[0m     \u001b[0ma\u001b[0m \u001b[1;33m=\u001b[0m \u001b[0mint\u001b[0m\u001b[1;33m(\u001b[0m\u001b[0minput\u001b[0m\u001b[1;33m(\u001b[0m\u001b[1;34m'enter num 1:   '\u001b[0m\u001b[1;33m)\u001b[0m\u001b[1;33m)\u001b[0m\u001b[1;33m\u001b[0m\u001b[1;33m\u001b[0m\u001b[0m\n\u001b[1;32m----> 3\u001b[1;33m     \u001b[0mb\u001b[0m \u001b[1;33m=\u001b[0m \u001b[0mint\u001b[0m\u001b[1;33m(\u001b[0m\u001b[0minput\u001b[0m\u001b[1;33m(\u001b[0m\u001b[1;34m'enter num 2:   '\u001b[0m\u001b[1;33m)\u001b[0m\u001b[1;33m)\u001b[0m\u001b[1;33m\u001b[0m\u001b[1;33m\u001b[0m\u001b[0m\n\u001b[0m\u001b[0;32m      4\u001b[0m \u001b[1;33m\u001b[0m\u001b[0m\n\u001b[0;32m      5\u001b[0m     \u001b[0mc\u001b[0m \u001b[1;33m=\u001b[0m \u001b[0ma\u001b[0m\u001b[1;33m/\u001b[0m\u001b[0mb\u001b[0m\u001b[1;33m\u001b[0m\u001b[1;33m\u001b[0m\u001b[0m\n",
      "\u001b[1;31mValueError\u001b[0m: invalid literal for int() with base 10: 'a'"
     ]
    }
   ],
   "source": [
    "try:\n",
    "    a = int(input('enter num 1:   '))\n",
    "    b = int(input('enter num 2:   '))\n",
    "    \n",
    "    c = a/b\n",
    "    print(f'division is {c}')\n",
    "    \n",
    "    d = a + b\n",
    "    print(f'addition is {d}')    \n",
    "except ZeroDivisionError:\n",
    "    print('b should not be Zero')"
   ]
  },
  {
   "cell_type": "code",
   "execution_count": 16,
   "id": "d846656d",
   "metadata": {},
   "outputs": [
    {
     "name": "stdout",
     "output_type": "stream",
     "text": [
      "enter num 1:   10\n",
      "enter num 2:   v\n",
      "b should int\n"
     ]
    }
   ],
   "source": [
    "try:\n",
    "    a = int(input('enter num 1:   '))\n",
    "    b = int(input('enter num 2:   '))\n",
    "    \n",
    "    c = a/b\n",
    "    print(f'division is {c}')\n",
    "    \n",
    "    d = a + b\n",
    "    print(f'addition is {d}')    \n",
    "except :\n",
    "    print('b should be int')"
   ]
  },
  {
   "cell_type": "code",
   "execution_count": 18,
   "id": "ef03e0d5",
   "metadata": {},
   "outputs": [
    {
     "name": "stdout",
     "output_type": "stream",
     "text": [
      "enter num 1:   10\n",
      "enter num 2:   0\n",
      "b should be int\n"
     ]
    }
   ],
   "source": [
    "# it will give same error with any condition \n",
    "# bacause the Exception is the Parent class:\n",
    "try:\n",
    "    a = int(input('enter num 1:   '))\n",
    "    b = int(input('enter num 2:   '))\n",
    "    \n",
    "    c = a/b\n",
    "    print(f'division is {c}')\n",
    "    \n",
    "    d = a + b\n",
    "    print(f'addition is {d}')    \n",
    "except Exception:\n",
    "    print('b should be int')"
   ]
  },
  {
   "cell_type": "code",
   "execution_count": 20,
   "id": "8705c28f",
   "metadata": {},
   "outputs": [
    {
     "name": "stdout",
     "output_type": "stream",
     "text": [
      "enter num 110\n",
      "enter num 2v\n",
      "b should be int\n"
     ]
    }
   ],
   "source": [
    "try:\n",
    "    a = int(input('enter num 1'))\n",
    "    b = int(input('enter num 2'))\n",
    "\n",
    "    c = a/b\n",
    "\n",
    "    print(f'division is {c}')\n",
    "    d = a + b\n",
    "\n",
    "    print(f'division is {d}')\n",
    "    \n",
    "except ValueError:\n",
    "    print('b should be int')\n",
    "except ZeroDivisionError:\n",
    "    print('b should not be  zero')"
   ]
  },
  {
   "cell_type": "code",
   "execution_count": 21,
   "id": "b6f530d8",
   "metadata": {},
   "outputs": [
    {
     "name": "stdout",
     "output_type": "stream",
     "text": [
      "10.0\n",
      "Arithmatic error\n"
     ]
    }
   ],
   "source": [
    "import math\n",
    "\n",
    "try:\n",
    "    x = 10/1\n",
    "    print(x)\n",
    "except ZeroDivisionError:\n",
    "    print('Zero div error')\n",
    "try:       \n",
    "    ans = math.exp(20000)\n",
    "    print(ans)\n",
    "    \n",
    "except ArithmeticError:\n",
    "    print('Arithmatic error')"
   ]
  },
  {
   "cell_type": "code",
   "execution_count": 22,
   "id": "23e40437",
   "metadata": {},
   "outputs": [
    {
     "ename": "OverflowError",
     "evalue": "math range error",
     "output_type": "error",
     "traceback": [
      "\u001b[1;31m---------------------------------------------------------------------------\u001b[0m",
      "\u001b[1;31mOverflowError\u001b[0m                             Traceback (most recent call last)",
      "\u001b[1;32m~\\AppData\\Local\\Temp/ipykernel_17436/292638125.py\u001b[0m in \u001b[0;36m<module>\u001b[1;34m\u001b[0m\n\u001b[1;32m----> 1\u001b[1;33m \u001b[0mans\u001b[0m \u001b[1;33m=\u001b[0m \u001b[0mmath\u001b[0m\u001b[1;33m.\u001b[0m\u001b[0mexp\u001b[0m\u001b[1;33m(\u001b[0m\u001b[1;36m20000\u001b[0m\u001b[1;33m)\u001b[0m\u001b[1;33m\u001b[0m\u001b[1;33m\u001b[0m\u001b[0m\n\u001b[0m\u001b[0;32m      2\u001b[0m \u001b[0mprint\u001b[0m\u001b[1;33m(\u001b[0m\u001b[0mans\u001b[0m\u001b[1;33m)\u001b[0m\u001b[1;33m\u001b[0m\u001b[1;33m\u001b[0m\u001b[0m\n",
      "\u001b[1;31mOverflowError\u001b[0m: math range error"
     ]
    }
   ],
   "source": [
    "ans = math.exp(20000)\n",
    "print(ans)"
   ]
  },
  {
   "cell_type": "code",
   "execution_count": 24,
   "id": "3c245433",
   "metadata": {},
   "outputs": [
    {
     "name": "stdout",
     "output_type": "stream",
     "text": [
      "enter num 1:10\n",
      "enter num 2:20\n",
      "division is 0.5\n"
     ]
    }
   ],
   "source": [
    "try:\n",
    "    a = int(input('enter num 1:'))\n",
    "    b = int(input('enter num 2:'))\n",
    "    c = a/b\n",
    "    print(f'division is {c}')\n",
    "except ValueError:\n",
    "    print('b should be int')\n",
    "except ZeroDivisionError:\n",
    "    print('b should not be zero')"
   ]
  },
  {
   "cell_type": "code",
   "execution_count": 25,
   "id": "a5be68e3",
   "metadata": {},
   "outputs": [
    {
     "name": "stdout",
     "output_type": "stream",
     "text": [
      "enter num 1:10\n",
      "enter num 2:0\n",
      "b should not be zero\n",
      "enter num 1:10\n",
      "enter num 2:v\n",
      "b should be int\n",
      "enter num 1:10\n",
      "enter num 2:5\n",
      "division is 2.0\n"
     ]
    }
   ],
   "source": [
    "while True:\n",
    "    try:\n",
    "        a = int(input('enter num 1:'))\n",
    "        b = int(input('enter num 2:'))\n",
    "        c = a/b\n",
    "        print(f'division is {c}')\n",
    "        break\n",
    "    except ValueError:\n",
    "        print('b should be int')\n",
    "    except ZeroDivisionError:\n",
    "        print('b should not be zero')"
   ]
  },
  {
   "cell_type": "code",
   "execution_count": 26,
   "id": "88c92a89",
   "metadata": {},
   "outputs": [
    {
     "name": "stdout",
     "output_type": "stream",
     "text": [
      "enter num 110\n",
      "enter num 2v\n",
      "invalid literal for int() with base 10: 'v'\n",
      "enter num 110\n",
      "enter num 20\n",
      "division by zero\n",
      "enter num 110\n",
      "enter num 25\n",
      "division is 2.0\n"
     ]
    }
   ],
   "source": [
    "while True:\n",
    "    try:\n",
    "        a = int(input('enter num 1:'))\n",
    "        b = int(input('enter num 2:'))\n",
    "        c = a/b\n",
    "        print(f'division is {c}')\n",
    "        break\n",
    "    except (ValueError, ZeroDivisionError) as e:\n",
    "        print(e)\n",
    "   "
   ]
  },
  {
   "cell_type": "code",
   "execution_count": 27,
   "id": "a36260e9",
   "metadata": {},
   "outputs": [],
   "source": [
    "import sys"
   ]
  },
  {
   "cell_type": "code",
   "execution_count": 28,
   "id": "558d4911",
   "metadata": {},
   "outputs": [
    {
     "name": "stdout",
     "output_type": "stream",
     "text": [
      "enter num 1:10\n",
      "enter num 2:0\n",
      "<class 'ZeroDivisionError'>\n",
      "division by zero\n",
      "5\n",
      "enter num 1:10\n",
      "enter num 2:5\n",
      "division is 2.0\n"
     ]
    }
   ],
   "source": [
    "\n",
    "while True:\n",
    "    try:\n",
    "        a = int(input('enter num 1:'))\n",
    "        b = int(input('enter num 2:'))\n",
    "        c = a/b\n",
    "        print(f'division is {c}')\n",
    "        break\n",
    "    except:\n",
    "        a,b,c = sys.exc_info()\n",
    "        print(a)\n",
    "        print(b)\n",
    "        print(c.tb_lineno)"
   ]
  },
  {
   "cell_type": "raw",
   "id": "7a80fd72",
   "metadata": {},
   "source": [
    "try:\n",
    "    pass\n",
    "except:\n",
    "    pass\n",
    "finally:\n",
    "    pass"
   ]
  },
  {
   "cell_type": "code",
   "execution_count": 30,
   "id": "848cd33e",
   "metadata": {},
   "outputs": [
    {
     "name": "stdout",
     "output_type": "stream",
     "text": [
      "enter num 1:10\n",
      "enter num 2:5\n",
      "division is 2.0\n",
      "Finally\n"
     ]
    }
   ],
   "source": [
    "try:\n",
    "    a = int(input('enter num 1:'))\n",
    "    b = int(input('enter num 2:'))\n",
    "    c = a/b\n",
    "    print(f'division is {c}')\n",
    "except ValueError:\n",
    "    print('b should be int')\n",
    "except ZeroDivisionError:\n",
    "    print('b should not be zero')\n",
    "    \n",
    "finally:\n",
    "    print('Finally')"
   ]
  },
  {
   "cell_type": "code",
   "execution_count": 31,
   "id": "39ecd2b5",
   "metadata": {},
   "outputs": [
    {
     "name": "stdout",
     "output_type": "stream",
     "text": [
      "enter num 1:1\n",
      "enter num 2:v\n",
      "b should be int\n",
      "Finally\n"
     ]
    }
   ],
   "source": [
    "try:\n",
    "    a = int(input('enter num 1:'))\n",
    "    b = int(input('enter num 2:'))\n",
    "    c = a/b\n",
    "    print(f'division is {c}')\n",
    "except ValueError:\n",
    "    print('b should be int')\n",
    "except ZeroDivisionError:\n",
    "    print('b should not be zero')\n",
    "    \n",
    "finally:\n",
    "    print('Finally')"
   ]
  },
  {
   "cell_type": "code",
   "execution_count": 32,
   "id": "1d76c491",
   "metadata": {},
   "outputs": [
    {
     "name": "stdout",
     "output_type": "stream",
     "text": [
      "enter num 1:10\n",
      "enter num 2:m\n",
      "invalid literal for int() with base 10: 'm'\n",
      "enter num 1:10\n",
      "enter num 2:-1\n",
      "put correct value\n",
      "enter num 1:10\n",
      "enter num 2:5\n",
      "division is 2.0\n"
     ]
    }
   ],
   "source": [
    "# Raise\n",
    "\n",
    "while True:\n",
    "    try:\n",
    "        a = int(input('enter num 1:'))\n",
    "        b = int(input('enter num 2:'))\n",
    "        if a< 0 or b <0:\n",
    "            raise Exception('put correct value')\n",
    "        c = a/b\n",
    "        print(f'division is {c}')\n",
    "        break\n",
    "    except (ValueError, ZeroDivisionError,Exception) as e:\n",
    "        print(e)"
   ]
  },
  {
   "cell_type": "code",
   "execution_count": 33,
   "id": "f205ea57",
   "metadata": {},
   "outputs": [
    {
     "name": "stdout",
     "output_type": "stream",
     "text": [
      "enter num 1:10\n",
      "enter num 2:v\n",
      "b should be int\n",
      "enter num 1:10\n",
      "enter num 2:-1\n",
      "put correct value\n",
      "enter num 1:10\n",
      "enter num 2:0\n",
      "b should not be zero\n",
      "enter num 1:10\n",
      "enter num 2:5\n",
      "division is 2.0\n"
     ]
    }
   ],
   "source": [
    "while True:\n",
    "    try:\n",
    "        a = int(input('enter num 1:'))\n",
    "        b = int(input('enter num 2:'))\n",
    "        if a< 0 or b <0:\n",
    "            raise Exception('put correct value')\n",
    "        c = a/b\n",
    "        print(f'division is {c}')\n",
    "        break\n",
    "    except ValueError:\n",
    "        print('b should be int')\n",
    "    except ZeroDivisionError:\n",
    "        print('b should not be zero')\n",
    "    except Exception as e:\n",
    "        print(e)"
   ]
  },
  {
   "cell_type": "code",
   "execution_count": 50,
   "id": "0da785e2",
   "metadata": {},
   "outputs": [
    {
     "ename": "Exception",
     "evalue": "x is less than 10",
     "output_type": "error",
     "traceback": [
      "\u001b[1;31m---------------------------------------------------------------------------\u001b[0m",
      "\u001b[1;31mException\u001b[0m                                 Traceback (most recent call last)",
      "\u001b[1;32m~\\AppData\\Local\\Temp/ipykernel_17436/2872386622.py\u001b[0m in \u001b[0;36m<module>\u001b[1;34m\u001b[0m\n\u001b[0;32m      1\u001b[0m \u001b[0mx\u001b[0m\u001b[1;33m=\u001b[0m \u001b[1;36m5\u001b[0m\u001b[1;33m\u001b[0m\u001b[1;33m\u001b[0m\u001b[0m\n\u001b[0;32m      2\u001b[0m \u001b[1;32mif\u001b[0m \u001b[0mx\u001b[0m \u001b[1;33m<\u001b[0m \u001b[1;36m10\u001b[0m\u001b[1;33m:\u001b[0m\u001b[1;33m\u001b[0m\u001b[1;33m\u001b[0m\u001b[0m\n\u001b[1;32m----> 3\u001b[1;33m     \u001b[1;32mraise\u001b[0m \u001b[0mException\u001b[0m\u001b[1;33m(\u001b[0m\u001b[1;34m\"x is less than 10\"\u001b[0m\u001b[1;33m)\u001b[0m\u001b[1;33m\u001b[0m\u001b[1;33m\u001b[0m\u001b[0m\n\u001b[0m",
      "\u001b[1;31mException\u001b[0m: x is less than 10"
     ]
    }
   ],
   "source": [
    "x= 5\n",
    "if x < 10:\n",
    "    raise Exception(\"x is less than 10\")"
   ]
  },
  {
   "cell_type": "code",
   "execution_count": 48,
   "id": "6e3aa845",
   "metadata": {},
   "outputs": [
    {
     "data": {
      "text/plain": [
       "True"
      ]
     },
     "execution_count": 48,
     "metadata": {},
     "output_type": "execute_result"
    }
   ],
   "source": [
    "x < 10"
   ]
  },
  {
   "cell_type": "code",
   "execution_count": 36,
   "id": "b69d7da1",
   "metadata": {},
   "outputs": [
    {
     "name": "stdout",
     "output_type": "stream",
     "text": [
      "enter num 110\n",
      "enter num 20\n",
      "b should not be zero\n",
      "enter num 110\n",
      "enter num 2v\n",
      "b should be int\n",
      "enter num 110\n",
      "enter num 25\n",
      "division is 2.0\n"
     ]
    }
   ],
   "source": [
    "class CustomExp(Exception):\n",
    "    pass\n",
    "\n",
    "\n",
    "while True:\n",
    "    try:\n",
    "        a = int(input('enter num 1'))\n",
    "        b = int(input('enter num 2'))\n",
    "        if a< 0 or b <0:\n",
    "            raise CustomExp('put correct value')\n",
    "        c = a/b\n",
    "        print(f'division is {c}')\n",
    "        break\n",
    "    except ValueError:\n",
    "        print('b should be int')\n",
    "    except ZeroDivisionError:\n",
    "        print('b should not be zero')\n",
    "    except CustomExp as e:\n",
    "        print(e)"
   ]
  },
  {
   "cell_type": "code",
   "execution_count": 37,
   "id": "e0601099",
   "metadata": {},
   "outputs": [],
   "source": [
    "class Custome_Error(Exception):\n",
    "    'Raise when the input value is less than 18'\n",
    "    pass"
   ]
  },
  {
   "cell_type": "code",
   "execution_count": 42,
   "id": "2d77dd7e",
   "metadata": {},
   "outputs": [
    {
     "name": "stdout",
     "output_type": "stream",
     "text": [
      "Enter the No.:10\n",
      "Invalid age\n"
     ]
    }
   ],
   "source": [
    "try:\n",
    "    in_num = int(input('Enter the No.:'))\n",
    "    if in_num < 18:\n",
    "        raise Custome_Error\n",
    "    else:\n",
    "        print('Eligible for Vote')\n",
    "except Custome_Error:\n",
    "    print('Invalid age')"
   ]
  },
  {
   "cell_type": "code",
   "execution_count": 43,
   "id": "c1780883",
   "metadata": {},
   "outputs": [
    {
     "ename": "Exception",
     "evalue": "Sorry, no numbers below zero",
     "output_type": "error",
     "traceback": [
      "\u001b[1;31m---------------------------------------------------------------------------\u001b[0m",
      "\u001b[1;31mException\u001b[0m                                 Traceback (most recent call last)",
      "\u001b[1;32m~\\AppData\\Local\\Temp/ipykernel_17436/3386925827.py\u001b[0m in \u001b[0;36m<module>\u001b[1;34m\u001b[0m\n\u001b[0;32m      2\u001b[0m \u001b[1;33m\u001b[0m\u001b[0m\n\u001b[0;32m      3\u001b[0m \u001b[1;32mif\u001b[0m \u001b[0mx\u001b[0m \u001b[1;33m<\u001b[0m \u001b[1;36m0\u001b[0m\u001b[1;33m:\u001b[0m\u001b[1;33m\u001b[0m\u001b[1;33m\u001b[0m\u001b[0m\n\u001b[1;32m----> 4\u001b[1;33m   \u001b[1;32mraise\u001b[0m \u001b[0mException\u001b[0m\u001b[1;33m(\u001b[0m\u001b[1;34m\"Sorry, no numbers below zero\"\u001b[0m\u001b[1;33m)\u001b[0m\u001b[1;33m\u001b[0m\u001b[1;33m\u001b[0m\u001b[0m\n\u001b[0m",
      "\u001b[1;31mException\u001b[0m: Sorry, no numbers below zero"
     ]
    }
   ],
   "source": [
    "x = -1\n",
    "\n",
    "if x < 0:\n",
    "  raise Exception(\"Sorry, no numbers below zero\")"
   ]
  },
  {
   "cell_type": "code",
   "execution_count": 51,
   "id": "aa0309a2",
   "metadata": {},
   "outputs": [
    {
     "ename": "TypeError",
     "evalue": "Only integers are allowed",
     "output_type": "error",
     "traceback": [
      "\u001b[1;31m---------------------------------------------------------------------------\u001b[0m",
      "\u001b[1;31mTypeError\u001b[0m                                 Traceback (most recent call last)",
      "\u001b[1;32m~\\AppData\\Local\\Temp/ipykernel_17436/2407302476.py\u001b[0m in \u001b[0;36m<module>\u001b[1;34m\u001b[0m\n\u001b[0;32m      2\u001b[0m \u001b[1;33m\u001b[0m\u001b[0m\n\u001b[0;32m      3\u001b[0m \u001b[1;32mif\u001b[0m \u001b[1;32mnot\u001b[0m \u001b[0mtype\u001b[0m\u001b[1;33m(\u001b[0m\u001b[0mx\u001b[0m\u001b[1;33m)\u001b[0m \u001b[1;32mis\u001b[0m \u001b[0mint\u001b[0m\u001b[1;33m:\u001b[0m\u001b[1;33m\u001b[0m\u001b[1;33m\u001b[0m\u001b[0m\n\u001b[1;32m----> 4\u001b[1;33m   \u001b[1;32mraise\u001b[0m \u001b[0mTypeError\u001b[0m\u001b[1;33m(\u001b[0m\u001b[1;34m\"Only integers are allowed\"\u001b[0m\u001b[1;33m)\u001b[0m\u001b[1;33m\u001b[0m\u001b[1;33m\u001b[0m\u001b[0m\n\u001b[0m",
      "\u001b[1;31mTypeError\u001b[0m: Only integers are allowed"
     ]
    }
   ],
   "source": [
    "x = \"hello\"\n",
    "\n",
    "if not type(x) is int:\n",
    "  raise TypeError(\"Only integers are allowed\")"
   ]
  },
  {
   "cell_type": "code",
   "execution_count": 52,
   "id": "9d6cb850",
   "metadata": {},
   "outputs": [
    {
     "name": "stdout",
     "output_type": "stream",
     "text": [
      "Index Out of Bound.\n"
     ]
    }
   ],
   "source": [
    "try:\n",
    "    \n",
    "    even_numbers = [2,4,6,8]\n",
    "    print(even_numbers[5])\n",
    "\n",
    "except ZeroDivisionError:\n",
    "    print(\"Denominator cannot be 0.\")\n",
    "    \n",
    "except IndexError:\n",
    "    print(\"Index Out of Bound.\")"
   ]
  },
  {
   "cell_type": "code",
   "execution_count": 54,
   "id": "3087951a",
   "metadata": {},
   "outputs": [
    {
     "name": "stdout",
     "output_type": "stream",
     "text": [
      "Enter a number: 1\n",
      "Not an even number!\n"
     ]
    }
   ],
   "source": [
    "# program to print the reciprocal of even numbers\n",
    "\n",
    "try:\n",
    "    num = int(input(\"Enter a number: \"))\n",
    "    assert num % 2 == 0\n",
    "except:\n",
    "    print(\"Not an even number!\")\n",
    "else:\n",
    "    reciprocal = 1/num\n",
    "    print(reciprocal)"
   ]
  },
  {
   "cell_type": "code",
   "execution_count": 56,
   "id": "a8987bdf",
   "metadata": {},
   "outputs": [
    {
     "ename": "AssertionError",
     "evalue": "x should be 'hello'",
     "output_type": "error",
     "traceback": [
      "\u001b[1;31m---------------------------------------------------------------------------\u001b[0m",
      "\u001b[1;31mAssertionError\u001b[0m                            Traceback (most recent call last)",
      "\u001b[1;32m~\\AppData\\Local\\Temp/ipykernel_17436/252869123.py\u001b[0m in \u001b[0;36m<module>\u001b[1;34m\u001b[0m\n\u001b[0;32m      3\u001b[0m \u001b[1;33m\u001b[0m\u001b[0m\n\u001b[0;32m      4\u001b[0m \u001b[1;31m#if condition returns False, AssertionError is raised:\u001b[0m\u001b[1;33m\u001b[0m\u001b[1;33m\u001b[0m\u001b[0m\n\u001b[1;32m----> 5\u001b[1;33m \u001b[1;32massert\u001b[0m \u001b[0mx\u001b[0m \u001b[1;33m==\u001b[0m \u001b[1;34m\"goodbye\"\u001b[0m\u001b[1;33m,\u001b[0m \u001b[1;34m\"x should be 'hello'\"\u001b[0m\u001b[1;33m\u001b[0m\u001b[1;33m\u001b[0m\u001b[0m\n\u001b[0m",
      "\u001b[1;31mAssertionError\u001b[0m: x should be 'hello'"
     ]
    }
   ],
   "source": [
    "#assertion Error\n",
    "x = \"hello\"\n",
    "\n",
    "#if condition returns False, AssertionError is raised:\n",
    "assert x == \"goodbye\", \"x should be 'hello'\""
   ]
  },
  {
   "cell_type": "code",
   "execution_count": 57,
   "id": "4e1d3f98",
   "metadata": {},
   "outputs": [],
   "source": [
    "x = \"hello\"\n",
    "\n",
    "#if condition returns False, AssertionError is raised:\n",
    "assert x == \"hello\", \"x should be 'hello'\""
   ]
  },
  {
   "cell_type": "code",
   "execution_count": null,
   "id": "a1cb60a2",
   "metadata": {},
   "outputs": [],
   "source": []
  }
 ],
 "metadata": {
  "kernelspec": {
   "display_name": "Python 3 (ipykernel)",
   "language": "python",
   "name": "python3"
  },
  "language_info": {
   "codemirror_mode": {
    "name": "ipython",
    "version": 3
   },
   "file_extension": ".py",
   "mimetype": "text/x-python",
   "name": "python",
   "nbconvert_exporter": "python",
   "pygments_lexer": "ipython3",
   "version": "3.9.7"
  }
 },
 "nbformat": 4,
 "nbformat_minor": 5
}
